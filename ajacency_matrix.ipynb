{
 "cells": [
  {
   "cell_type": "code",
   "execution_count": 1,
   "metadata": {},
   "outputs": [
    {
     "data": {
      "text/plain": [
       "array([[-1.26981359e-02,  1.08580416e+00,  8.00099580e-03],\n",
       "       [ 2.15041600e-03, -6.03131760e-03,  1.97612040e-03],\n",
       "       [ 1.01173084e+00,  1.46375116e+00,  2.76574800e-04],\n",
       "       ...,\n",
       "       [ 2.51585406e+00, -1.15178377e+00,  5.27369256e-01],\n",
       "       [ 1.36988019e-02,  1.19943057e+00, -1.68019230e+00],\n",
       "       [ 1.26074533e+00, -1.24675365e+00, -1.90676716e+00]])"
      ]
     },
     "execution_count": 1,
     "metadata": {},
     "output_type": "execute_result"
    }
   ],
   "source": [
    "import pandas as pd\n",
    "import numpy as np\n",
    "from scipy.spatial import distance\n",
    "from tqdm import tqdm\n",
    "tqdm.pandas()\n",
    "\n",
    "s  = pd.read_csv('structures.csv')\n",
    "s[['x','y','z']].values"
   ]
  },
  {
   "cell_type": "code",
   "execution_count": 2,
   "metadata": {},
   "outputs": [
    {
     "name": "stderr",
     "output_type": "stream",
     "text": [
      "100%|██████████| 130775/130775 [02:13<00:00, 976.32it/s] \n"
     ]
    },
    {
     "data": {
      "text/plain": [
       "(29, 29)"
      ]
     },
     "execution_count": 2,
     "metadata": {},
     "output_type": "execute_result"
    }
   ],
   "source": [
    "#s = s[:100]\n",
    "df = s.groupby(['molecule_name'])\n",
    "def apply(row):\n",
    "    coords = row[['x','y','z']].values\n",
    "    distance_matrix = distance.pdist(coords, 'euclidean')\n",
    "    adjacency_matrix = distance.squareform(distance_matrix)\n",
    "    ext = np.zeros((29,29), dtype=np.float32)\n",
    "    ext[:adjacency_matrix.shape[0],:adjacency_matrix.shape[1]] = adjacency_matrix\n",
    "    return ext\n",
    "\n",
    "x=df.progress_apply(apply)\n",
    "x[0].shape"
   ]
  },
  {
   "cell_type": "code",
   "execution_count": null,
   "metadata": {},
   "outputs": [],
   "source": [
    "! head xyz/dsgdb9nsd_000001.xyz"
   ]
  },
  {
   "cell_type": "code",
   "execution_count": 11,
   "metadata": {},
   "outputs": [],
   "source": [
    "m = np.load('train.npz')['m']"
   ]
  },
  {
   "cell_type": "code",
   "execution_count": 12,
   "metadata": {},
   "outputs": [],
   "source": [
    "df = pd.DataFrame({'adjacency_matrix': x[m]})\n",
    "x_adjacency_matrix = df['adjacency_matrix'].values\n",
    "np.save('x_adjacency_matrix.npy', x_adjacency_matrix)"
   ]
  },
  {
   "cell_type": "code",
   "execution_count": 13,
   "metadata": {},
   "outputs": [
    {
     "name": "stdout",
     "output_type": "stream",
     "text": [
      "-rw-rw-r-- 1 pavel pavel 316M Jun 20 10:35 x_adjacency_matrix.npy\r\n"
     ]
    }
   ],
   "source": [
    "!ls -altrh x_adjacency_matrix.npy"
   ]
  },
  {
   "cell_type": "code",
   "execution_count": 14,
   "metadata": {},
   "outputs": [
    {
     "data": {
      "text/plain": [
       "(785836, 29, 29)"
      ]
     },
     "execution_count": 14,
     "metadata": {},
     "output_type": "execute_result"
    }
   ],
   "source": [
    "x_adjacency_matrix = np.load('x_adjacency_matrix.npy', allow_pickle=True)\n",
    "x_adjacency_matrix = np.array(x_adjacency_matrix.tolist())\n",
    "x_adjacency_matrix.shape"
   ]
  },
  {
   "cell_type": "code",
   "execution_count": null,
   "metadata": {},
   "outputs": [],
   "source": []
  }
 ],
 "metadata": {
  "kernelspec": {
   "display_name": "Python 3",
   "language": "python",
   "name": "python3"
  },
  "language_info": {
   "codemirror_mode": {
    "name": "ipython",
    "version": 3
   },
   "file_extension": ".py",
   "mimetype": "text/x-python",
   "name": "python",
   "nbconvert_exporter": "python",
   "pygments_lexer": "ipython3",
   "version": "3.6.8"
  }
 },
 "nbformat": 4,
 "nbformat_minor": 2
}
