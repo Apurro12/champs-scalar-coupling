{
 "cells": [
  {
   "cell_type": "code",
   "execution_count": 1,
   "metadata": {
    "ExecuteTime": {
     "end_time": "2019-08-21T07:07:57.813998Z",
     "start_time": "2019-08-21T07:07:57.079791Z"
    }
   },
   "outputs": [],
   "source": [
    "#%load_ext autoreload\n",
    "#%autoreload 2\n",
    "import os\n",
    "#os.environ[\"CUDA_VISIBLE_DEVICES\"]=\"0\"\n",
    "\n",
    "import pandas as pd\n",
    "import numpy as np\n",
    "from pathlib import Path\n",
    "\n",
    "import torch\n",
    "import torch.nn as nn\n",
    "import torch.nn.parallel\n",
    "import torch.utils.data\n",
    "from torch.autograd import Variable\n",
    "import numpy as np\n",
    "import torch.nn.functional as F"
   ]
  },
  {
   "cell_type": "code",
   "execution_count": 2,
   "metadata": {
    "ExecuteTime": {
     "end_time": "2019-08-21T07:07:58.045505Z",
     "start_time": "2019-08-21T07:07:58.004358Z"
    }
   },
   "outputs": [],
   "source": [
    "from torch.nn import Parameter\n",
    "\n",
    "def _load_from_state_dict(self, state_dict, prefix, local_metadata, strict,\n",
    "                          missing_keys, unexpected_keys, error_msgs):\n",
    "    r\"\"\"Copies parameters and buffers from :attr:`state_dict` into only\n",
    "    this module, but not its descendants. This is called on every submodule\n",
    "    in :meth:`~torch.nn.Module.load_state_dict`. Metadata saved for this\n",
    "    module in input :attr:`state_dict` is provided as :attr:`local_metadata`.\n",
    "    For state dicts without metadata, :attr:`local_metadata` is empty.\n",
    "    Subclasses can achieve class-specific backward compatible loading using\n",
    "    the version number at `local_metadata.get(\"version\", None)`.\n",
    "\n",
    "    .. note::\n",
    "        :attr:`state_dict` is not the same object as the input\n",
    "        :attr:`state_dict` to :meth:`~torch.nn.Module.load_state_dict`. So\n",
    "        it can be modified.\n",
    "\n",
    "    Arguments:\n",
    "        state_dict (dict): a dict containing parameters and\n",
    "            persistent buffers.\n",
    "        prefix (str): the prefix for parameters and buffers used in this\n",
    "            module\n",
    "        local_metadata (dict): a dict containing the metadata for this module.\n",
    "            See\n",
    "        strict (bool): whether to strictly enforce that the keys in\n",
    "            :attr:`state_dict` with :attr:`prefix` match the names of\n",
    "            parameters and buffers in this module\n",
    "        missing_keys (list of str): if ``strict=True``, add missing keys to\n",
    "            this list\n",
    "        unexpected_keys (list of str): if ``strict=True``, add unexpected\n",
    "            keys to this list\n",
    "        error_msgs (list of str): error messages should be added to this\n",
    "            list, and will be reported together in\n",
    "            :meth:`~torch.nn.Module.load_state_dict`\n",
    "    \"\"\"\n",
    "    for hook in self._load_state_dict_pre_hooks.values():\n",
    "        hook(state_dict, prefix, local_metadata, strict, missing_keys,\n",
    "             unexpected_keys, error_msgs)\n",
    "\n",
    "    local_name_params = itertools.chain(self._parameters.items(),\n",
    "                                        self._buffers.items())\n",
    "    local_state = {k: v.data for k, v in local_name_params if v is not None}\n",
    "\n",
    "    for name, param in local_state.items():\n",
    "        key = prefix + name\n",
    "        if key in state_dict:\n",
    "            input_param = state_dict[key]\n",
    "\n",
    "            # Backward compatibility: loading 1-dim tensor from 0.3.* to version 0.4+\n",
    "            if len(param.shape) == 0 and len(input_param.shape) == 1:\n",
    "                input_param = input_param[0]\n",
    "\n",
    "            if input_param.shape != param.shape:\n",
    "                # local shape should match the one in checkpoint\n",
    "                error_msgs.append(\n",
    "                    'size mismatch for {}: copying a param with shape {} from checkpoint, '\n",
    "                    'the shape in current model is {}.'.format(\n",
    "                        key, input_param.shape, param.shape))\n",
    "                #if not strict:\n",
    "                #    continue\n",
    "\n",
    "            if isinstance(input_param, Parameter):\n",
    "                # backwards compatibility for serialized parameters\n",
    "                input_param = input_param.data\n",
    "\n",
    "            try:\n",
    "                if False:\n",
    "                    input_param = input_param[torch.randperm(input_param.size()[0])]\n",
    "                param.copy_(input_param)\n",
    "            except Exception:\n",
    "                error_msgs.append(\n",
    "                    'While copying the parameter named \"{}\", '\n",
    "                    'whose dimensions in the model are {} and '\n",
    "                    'whose dimensions in the checkpoint are {}.'.format(\n",
    "                        key, param.size(), input_param.size()))\n",
    "                # PG load partially\n",
    "\n",
    "                if len(input_param.size()) == 3:\n",
    "                    error_msgs.append(\n",
    "                        'Partially copying the parameter named \"{}\", '\n",
    "                        'whose dimensions in the model are {} and '\n",
    "                        'whose dimensions in the checkpoint are {}. - trying {}'\n",
    "                        .format(\n",
    "                            key, param.size(), input_param.size(),\n",
    "                            param[:input_param.size()[0], :input_param.size(\n",
    "                            )[1], :input_param.size()[2]].shape))\n",
    "                else:\n",
    "                    error_msgs.append(\n",
    "                        'Partially copying the parameter named \"{}\", '\n",
    "                        'whose dimensions in the model are {} and '\n",
    "                        'whose dimensions in the checkpoint are {}. - trying {}'\n",
    "                        .format(key, param.size(), input_param.size(),\n",
    "                                param[:input_param.size()[0]].shape))\n",
    "\n",
    "                try:\n",
    "                    new_input_param = torch.empty_like(param)\n",
    "                    new_input_param = torch.nn.init.normal_(new_input_param,\n",
    "                                                            mean=input_param.mean(),\n",
    "                                                            std=input_param.std())\n",
    "\n",
    "                    if len(input_param.size()) == 3:\n",
    "                        new_input_param[:input_param.size()[0], :input_param.\n",
    "                                        size()[1], :input_param.size(\n",
    "                                        )[2]] = input_param\n",
    "                    else:\n",
    "                        new_input_param[:input_param.size()[0]] = input_param\n",
    "                    param.copy_(new_input_param)\n",
    "                except Exception as e:\n",
    "                    assert e\n",
    "                    error_msgs.append(\n",
    "                        'Failed to load weights partially {}'.format(e))\n",
    "        elif strict:\n",
    "            missing_keys.append(key)\n",
    "\n",
    "    if strict:\n",
    "        for key in state_dict.keys():\n",
    "            if key.startswith(prefix):\n",
    "                input_name = key[len(prefix):]\n",
    "                input_name = input_name.split(\n",
    "                    '.', 1)[0]  # get the name of param/buffer/child\n",
    "                if input_name not in self._modules and input_name not in local_state:\n",
    "                    unexpected_keys.append(key)\n",
    "\n",
    "def load_state_dict(self, state_dict, strict=True):\n",
    "    r\"\"\"Copies parameters and buffers from :attr:`state_dict` into\n",
    "    this module and its descendants. If :attr:`strict` is ``True``, then\n",
    "    the keys of :attr:`state_dict` must exactly match the keys returned\n",
    "    by this module's :meth:`~torch.nn.Module.state_dict` function.\n",
    "\n",
    "    Arguments:\n",
    "        state_dict (dict): a dict containing parameters and\n",
    "            persistent buffers.\n",
    "        strict (bool, optional): whether to strictly enforce that the keys\n",
    "            in :attr:`state_dict` match the keys returned by this module's\n",
    "            :meth:`~torch.nn.Module.state_dict` function. Default: ``True``\n",
    "\n",
    "    Returns:\n",
    "        ``NamedTuple`` with ``missing_keys`` and ``unexpected_keys`` fields:\n",
    "            * **missing_keys** is a list of str containing the missing keys\n",
    "            * **unexpected_keys** is a list of str containing the unexpected keys\n",
    "    \"\"\"\n",
    "    missing_keys = []\n",
    "    unexpected_keys = []\n",
    "    error_msgs = []\n",
    "\n",
    "    # copy state_dict so _load_from_state_dict can modify it\n",
    "    metadata = getattr(state_dict, '_metadata', None)\n",
    "    state_dict = state_dict.copy()\n",
    "    if metadata is not None:\n",
    "        state_dict._metadata = metadata\n",
    "\n",
    "    def load(module, prefix=''):\n",
    "        local_metadata = {} if metadata is None else metadata.get(\n",
    "            prefix[:-1], {})\n",
    "        module._load_from_state_dict(state_dict, prefix, local_metadata, True,\n",
    "                                     missing_keys, unexpected_keys, error_msgs)\n",
    "        for name, child in module._modules.items():\n",
    "            if child is not None:\n",
    "                load(child, prefix + name + '.')\n",
    "                \n",
    "    load(self)\n",
    "\n",
    "    if strict:\n",
    "        if len(unexpected_keys) > 0:\n",
    "            error_msgs.insert(\n",
    "                0, 'Unexpected key(s) in state_dict: {}. '.format(', '.join(\n",
    "                    '\"{}\"'.format(k) for k in unexpected_keys)))\n",
    "        if len(missing_keys) > 0:\n",
    "            error_msgs.insert(\n",
    "                0, 'Missing key(s) in state_dict: {}. '.format(', '.join(\n",
    "                    '\"{}\"'.format(k) for k in missing_keys)))\n",
    "\n",
    "    if strict and len(error_msgs) > 0:\n",
    "        raise RuntimeError(\n",
    "            'Error(s) in loading state_dict for {}:\\n\\t{}'.format(\n",
    "                self.__class__.__name__, \"\\n\\t\".join(error_msgs)))\n",
    "    return None"
   ]
  },
  {
   "cell_type": "code",
   "execution_count": 3,
   "metadata": {
    "ExecuteTime": {
     "end_time": "2019-08-21T07:07:58.505216Z",
     "start_time": "2019-08-21T07:07:58.500338Z"
    }
   },
   "outputs": [],
   "source": [
    "nn.Module._load_from_state_dict = _load_from_state_dict\n",
    "nn.Module.load_state_dict = load_state_dict\n"
   ]
  },
  {
   "cell_type": "code",
   "execution_count": 4,
   "metadata": {
    "ExecuteTime": {
     "end_time": "2019-08-21T07:08:00.292261Z",
     "start_time": "2019-08-21T07:07:59.087469Z"
    }
   },
   "outputs": [],
   "source": [
    "from fastai import *\n",
    "from fastai.basic_train import *\n",
    "from fastai.basic_data import *\n",
    "from fastai.data_block import *\n",
    "from fastai.torch_core import *\n",
    "from fastai.train import *\n",
    "from fastai.callback import *\n",
    "from fastai.callbacks import *\n",
    "from fastai.distributed import *\n",
    "from fastai.layers import *"
   ]
  },
  {
   "cell_type": "code",
   "execution_count": 5,
   "metadata": {
    "ExecuteTime": {
     "end_time": "2019-08-21T07:08:00.327355Z",
     "start_time": "2019-08-21T07:08:00.294564Z"
    }
   },
   "outputs": [],
   "source": [
    "fname_ext = lambda fname,ext: f'{str(fname)[:-4]}{ext}{str(fname)[-4:]}'\n",
    "\n",
    "def preprocess(fname, type_index=None, ext=''):\n",
    "    t  = pd.read_csv(fname_ext(fname,ext))\n",
    "    s  = pd.read_csv('structures.csv')\n",
    "    \n",
    "    has_y = 'scalar_coupling_constant' in t.columns\n",
    "\n",
    "    if has_y:\n",
    "        # atom-atom level\n",
    "        # molecule_name,atom_index_0,atom_index_1,type,fc,sd,pso,dso\n",
    "        scalar_couplings = pd.read_csv(f'scalar_coupling_contributions{ext}.csv') # fc,sd,pso,dso\n",
    "\n",
    "        # atom level\n",
    "        # molecule_name,atom_index,XX,YX,ZX,XY,YY,ZY,XZ,YZ,ZZ\n",
    "        magnetic_shielding = pd.read_csv('magnetic_shielding_tensors.csv')\n",
    "        # molecule_name,atom_index,mulliken_charge\n",
    "        mulliken_charges = pd.read_csv('mulliken_charges.csv')\n",
    "\n",
    "        # molecule level\n",
    "        # molecule_name,X,Y,Z\n",
    "        dipole_moments = pd.read_csv('dipole_moments.csv')\n",
    "        # molecule_name,potential_energy\n",
    "        potential_energy = pd.read_csv('potential_energy.csv')\n",
    "\n",
    "    t['molecule_index'] = pd.factorize(t['molecule_name'])[0] + t['id'].min()\n",
    "    # make sure we use the same indexes in train/test (test needs to provide type_index)\n",
    "    if type_index is not None:\n",
    "        t['type_idx'] = t['type'].apply(lambda x: type_index.index(x) ) # pd.factorize(pd.concat([pd.Series(type_index),t['type']]))[0][len(type_index):]\n",
    "    else:\n",
    "        t['type_idx'] = pd.factorize(t['type'])[0]\n",
    "\n",
    "    s['atom_idx'] = s['atom'].apply(lambda x: atoms.index(x) )\n",
    "\n",
    "    max_items = len(t.groupby(['molecule_name', 'atom_index_0']))# if has_y else 422550\n",
    "    max_atoms = int(s.atom_index.max() + 1)\n",
    "\n",
    "    if has_y:\n",
    "        contributions = ['fc','sd','pso','dso']\n",
    "        magnetic_tensors = ['XX','YX','ZX','XY','YY','ZY','XZ','YZ','ZZ']\n",
    "        XYZ = ['X','Y','Z']\n",
    "    xyz = ['x', 'y', 'z']\n",
    "    \n",
    "    x_xyz   = np.zeros((max_items,len(xyz),  max_atoms), dtype=np.float32)\n",
    "    x_type  = np.zeros((max_items,1,         max_atoms), dtype=np.int8)\n",
    "    x_ext   = np.zeros((max_items,1,         max_atoms), dtype=np.bool_)\n",
    "    x_atom  = np.empty((max_items,1,         max_atoms), dtype=np.int8)\n",
    "    x_atom[:] = -1\n",
    "\n",
    "    if has_y:\n",
    "        y_scalar   = np.zeros((max_items,len(contributions)   ,max_atoms), dtype=np.float32)\n",
    "        y_magnetic = np.zeros((max_items,len(magnetic_tensors),max_atoms), dtype=np.float32)\n",
    "        y_mulliken = np.zeros((max_items,1                    ,max_atoms), dtype=np.float32)\n",
    "\n",
    "        y_dipole   = np.zeros((max_items,len(XYZ)), dtype=np.float32)\n",
    "        y_potential= np.zeros((max_items,1       ), dtype=np.float32)\n",
    "\n",
    "        y_magnetic[...] = np.nan\n",
    "        y_mulliken[...] = np.nan\n",
    "    else:\n",
    "        xt_ids = np.zeros((max_items, max_atoms), dtype=np.int32)\n",
    "\n",
    "    m = np.zeros((max_items,), dtype=np.int32)\n",
    "    i = j = 0\n",
    "    \n",
    "    for (m_name, m_index) ,m_group in tqdm(t.groupby(['molecule_name', 'molecule_index'])):\n",
    "        ss = s[s.molecule_name==m_name]\n",
    "        n_atoms = len(ss)\n",
    "        if has_y:\n",
    "            magnetic = magnetic_shielding[\n",
    "                    (magnetic_shielding['molecule_name']==m_name)][magnetic_tensors].values.T\n",
    "\n",
    "            mulliken = mulliken_charges[\n",
    "                    (mulliken_charges['molecule_name']==m_name)]['mulliken_charge'].values.T\n",
    "\n",
    "            scs = scalar_couplings[scalar_couplings['molecule_name']==m_name]\n",
    "            \n",
    "            y_dipole[j,:]= dipole_moments[dipole_moments['molecule_name']==m_name][XYZ].values\n",
    "            y_potential[j,:]=potential_energy[\n",
    "                potential_energy['molecule_name']==m_name]['potential_energy'].values\n",
    "        \n",
    "        for a_name,a_group in m_group.groupby('atom_index_0'):\n",
    "            \n",
    "            ref_a = ss[ss['atom_index']==a_name]\n",
    "            \n",
    "            x_xyz[i] = 0.\n",
    "            x_type[i] = -1\n",
    "            x_ext[i] =  True\n",
    "            \n",
    "            x_xyz[i,:,:n_atoms] = (ss[xyz].values-ref_a[xyz].values).T  # xyz \n",
    "            x_type[i,0,a_group['atom_index_1']] = a_group['type_idx']  # type \n",
    "            x_ext[i,0,a_group['atom_index_1']] = a_group['ext']  # ext \n",
    "            x_atom[i,:,:n_atoms] = ss['atom_idx'].T                \n",
    "\n",
    "            if has_y:\n",
    "                y_scalar[i,:,a_group['atom_index_1']] = scs[scs['atom_index_0']==a_name][contributions]\n",
    "                y_magnetic[i,:,:n_atoms] = magnetic\n",
    "                y_mulliken[i,:,:n_atoms] = mulliken\n",
    "            else:\n",
    "                xt_ids[i,a_group['atom_index_1']] = a_group['id']  \n",
    "\n",
    "            m[i] = m_index\n",
    "            i+=1\n",
    "        j += 1\n",
    "    assert i == max_items\n",
    "    print(i,max_items)\n",
    "    if has_y:\n",
    "        return x_xyz,x_type,x_ext,x_atom, m, y_scalar, y_magnetic, y_mulliken, y_dipole, y_potential\n",
    "    else:\n",
    "        return x_xyz,x_type,x_ext,x_atom, m, xt_ids"
   ]
  },
  {
   "cell_type": "markdown",
   "metadata": {},
   "source": [
    "Define where you want to use original training set '' or extended ''"
   ]
  },
  {
   "cell_type": "code",
   "execution_count": 6,
   "metadata": {
    "ExecuteTime": {
     "end_time": "2019-08-21T07:08:00.936631Z",
     "start_time": "2019-08-21T07:08:00.933152Z"
    }
   },
   "outputs": [],
   "source": [
    "ext = '_ext' # or ''"
   ]
  },
  {
   "cell_type": "markdown",
   "metadata": {},
   "source": [
    "Load preprocessed or preprocess and save for later"
   ]
  },
  {
   "cell_type": "code",
   "execution_count": 7,
   "metadata": {
    "ExecuteTime": {
     "end_time": "2019-08-21T07:08:06.885588Z",
     "start_time": "2019-08-21T07:08:02.172282Z"
    }
   },
   "outputs": [],
   "source": [
    "train_fname = Path('train.npz')\n",
    "types = ['1JHC', '2JHH', '1JHN', '2JHN', '2JHC', '3JHH', '3JHC', '3JHN'] \n",
    "atoms = 'CFHNO'\n",
    "\n",
    "try:\n",
    "    npzfile = np.load(fname_ext(train_fname, ext))\n",
    "    x_xyz   = npzfile['x_xyz']\n",
    "    x_type  = npzfile['x_type']\n",
    "    x_ext   = npzfile['x_ext']\n",
    "    x_atom  = npzfile['x_atom']\n",
    "\n",
    "    y_scalar    = npzfile['y_scalar']\n",
    "    y_magnetic  = npzfile['y_magnetic']\n",
    "    y_mulliken  = npzfile['y_mulliken']\n",
    "    y_dipole    = npzfile['y_dipole']\n",
    "    y_potential = npzfile['y_potential']\n",
    "    m = npzfile['m']\n",
    "    max_items, max_atoms = x_xyz.shape[0], x_xyz.shape[-1]\n",
    "except:\n",
    "    x_xyz,x_type,x_ext,x_atom, m, y_scalar, y_magnetic, y_mulliken, y_dipole, y_potential = \\\n",
    "        preprocess(train_fname.with_suffix('.csv'), type_index=types, ext=ext)\n",
    "    np.savez(fname_ext(train_fname, ext), \n",
    "             x_xyz=x_xyz,\n",
    "             x_type=x_type,\n",
    "             x_ext=x_ext,\n",
    "             x_atom=x_atom,\n",
    "             y_scalar=y_scalar,\n",
    "             y_magnetic=y_magnetic,\n",
    "             y_mulliken=y_mulliken,\n",
    "             y_dipole=y_dipole,\n",
    "             y_potential=y_potential,\n",
    "             m=m)\n",
    "n_types = int(x_type[~np.isnan(x_type)].max() + 1)"
   ]
  },
  {
   "cell_type": "code",
   "execution_count": 8,
   "metadata": {
    "ExecuteTime": {
     "end_time": "2019-08-21T07:08:06.893663Z",
     "start_time": "2019-08-21T07:08:06.887859Z"
    }
   },
   "outputs": [],
   "source": [
    "use_memmap = True\n",
    "try:\n",
    "    load_fn = np.load if not use_memmap else partial(np.lib.format.open_memmap, mode='r')\n",
    "    x_coulombmat = load_fn(f'x_coulombmat32{ext}.npy')\n",
    "except:\n",
    "    x_coulombmat = np.load(f'x_coulombmat{ext}.npy', allow_pickle=True)\n",
    "    x_coulombmat = np.array(x_coulombmat.tolist()).astype(np.float32)\n",
    "    np.save(f'x_coulombmat32{ext}.npy', x_coulombmat)"
   ]
  },
  {
   "cell_type": "code",
   "execution_count": 9,
   "metadata": {
    "ExecuteTime": {
     "end_time": "2019-08-21T07:08:06.903219Z",
     "start_time": "2019-08-21T07:08:06.897551Z"
    }
   },
   "outputs": [],
   "source": [
    "x_qm9_mulliken = load_fn(f'x_qm9_mulliken{ext}.npy')"
   ]
  },
  {
   "cell_type": "code",
   "execution_count": 10,
   "metadata": {
    "ExecuteTime": {
     "end_time": "2019-08-21T07:08:06.918715Z",
     "start_time": "2019-08-21T07:08:06.907431Z"
    }
   },
   "outputs": [
    {
     "data": {
      "text/plain": [
       "[(1405126, 3, 29),\n",
       " (1405126, 1, 29),\n",
       " (1405126, 1, 29),\n",
       " (1405126, 1, 29),\n",
       " (1405126, 1, 29),\n",
       " (1405126, 4, 29),\n",
       " (1405126, 9, 29),\n",
       " (1405126, 1, 29),\n",
       " (1405126, 3),\n",
       " (1405126, 1),\n",
       " (1405126,)]"
      ]
     },
     "execution_count": 10,
     "metadata": {},
     "output_type": "execute_result"
    }
   ],
   "source": [
    "[v.shape for v in [x_xyz,x_type,x_ext,x_atom,x_qm9_mulliken, \n",
    "                   y_scalar, y_magnetic, y_mulliken, y_dipole, y_potential, m]]"
   ]
  },
  {
   "cell_type": "code",
   "execution_count": 11,
   "metadata": {
    "ExecuteTime": {
     "end_time": "2019-08-21T07:08:07.976967Z",
     "start_time": "2019-08-21T07:08:06.921049Z"
    }
   },
   "outputs": [],
   "source": [
    "x_xyz_mean, x_xyz_std = Tensor(x_xyz.mean(axis=(0,2),keepdims=True)), Tensor(x_xyz.std(axis=(0,2),keepdims=True))"
   ]
  },
  {
   "cell_type": "code",
   "execution_count": 12,
   "metadata": {
    "ExecuteTime": {
     "end_time": "2019-08-21T07:08:08.128674Z",
     "start_time": "2019-08-21T07:08:07.979085Z"
    }
   },
   "outputs": [],
   "source": [
    "x_qm9_mulliken_mean = Tensor(x_qm9_mulliken.mean(axis=(0,2),keepdims=True))\n",
    "x_qm9_mulliken_std  = Tensor(x_qm9_mulliken.std( axis=(0,2),keepdims=True))"
   ]
  },
  {
   "cell_type": "code",
   "execution_count": 13,
   "metadata": {
    "ExecuteTime": {
     "end_time": "2019-08-21T07:08:08.134896Z",
     "start_time": "2019-08-21T07:08:08.130840Z"
    }
   },
   "outputs": [
    {
     "data": {
      "text/plain": [
       "torch.Size([1, 3, 1])"
      ]
     },
     "execution_count": 13,
     "metadata": {},
     "output_type": "execute_result"
    }
   ],
   "source": [
    "x_xyz_std.shape"
   ]
  },
  {
   "cell_type": "markdown",
   "metadata": {},
   "source": [
    "Fastai classes (this should should be done into its own `application` but who has time?"
   ]
  },
  {
   "cell_type": "code",
   "execution_count": 14,
   "metadata": {
    "ExecuteTime": {
     "end_time": "2019-08-21T07:08:08.154545Z",
     "start_time": "2019-08-21T07:08:08.137914Z"
    }
   },
   "outputs": [],
   "source": [
    "class MoleculeItem(ItemBase):\n",
    "    def __init__(self,i,xyz,type,ext,atom,qm9_mulliken,coulomb): \n",
    "        self.i,self.xyz,self.type,self.ext, self.atom,self.qm9_mulliken,self.coulomb = \\\n",
    "            i,xyz,type,ext,atom,qm9_mulliken,coulomb\n",
    "        self.data = [Tensor(xyz), LongTensor((type)), \n",
    "                     Tensor(ext), LongTensor((atom)),Tensor(qm9_mulliken), Tensor(coulomb)]\n",
    "    def __str__(self):\n",
    "        # TODO: count n_atoms correctly. \n",
    "        n_atoms = np.count_nonzero(np.sum(np.absolute(self.xyz), axis=0))+1\n",
    "        n_couplings = np.sum((self.type!=-1))\n",
    "        return f'{self.i} {n_atoms} atoms {n_couplings} couplings'\n",
    "    \n",
    "    def apply_tfms(self, tfms:Collection, **kwargs):\n",
    "        x = self.clone()\n",
    "        for t in tfms:\n",
    "            if t: x.data = t(x.data)\n",
    "        return x\n",
    "    \n",
    "    def clone(self):\n",
    "        return self.__class__(self.i,self.xyz,self.type,self.ext,self.atom,self.qm9_mulliken,self.coulomb)\n",
    "    \n",
    "class ScalarCouplingItem(ItemBase):\n",
    "    def __init__(self,scalar,magnetic,mulliken,dipole,potential,**kwargs): \n",
    "        self.scalar,self.magnetic,self.mulliken,self.dipole,self.potential = \\\n",
    "            scalar,magnetic,mulliken,dipole,potential\n",
    "        self.data = (Tensor(scalar), Tensor(magnetic), Tensor(dipole), Tensor(potential))\n",
    "    def __str__(self):\n",
    "        res, spacer, n_couplings = '', '', 0\n",
    "        for s in self.data[0].sum(dim=0):\n",
    "            if s==0.: spacer = ' * '\n",
    "            else: \n",
    "                res += f'{spacer}{s:.4f}'\n",
    "                spacer = ' '\n",
    "                n_couplings +=1\n",
    "        return f'{n_couplings}: {res}'\n",
    "    def __hash__(self): return hash(str(self))"
   ]
  },
  {
   "cell_type": "code",
   "execution_count": 15,
   "metadata": {
    "ExecuteTime": {
     "end_time": "2019-08-21T07:08:08.173029Z",
     "start_time": "2019-08-21T07:08:08.156697Z"
    }
   },
   "outputs": [],
   "source": [
    "class LMAEMaskedLoss(Module):\n",
    "    def __init__(self,\n",
    "                 contrib_w=0., magnetic_w=0., dipole_w=0., potential_w=0., \n",
    "                 types_w = [1]*n_types, return_all=False, proxy_log=torch.log, exclude_ext=False):\n",
    "        self.contrib_w,self.magnetic_w,self.dipole_w,self.potential_w = contrib_w,magnetic_w,dipole_w,potential_w\n",
    "        self.types_w = types_w\n",
    "        self.return_all = return_all\n",
    "        self.proxy_log = proxy_log\n",
    "        self.exclude_ext = exclude_ext\n",
    "    \n",
    "    def forward(self, input_outputs, t_scalar, t_magnetic, t_dipole, t_potential):    \n",
    "        type, ext, p_scalar, p_magnetic, p_dipole, p_potential = input_outputs\n",
    "        loss = 0.\n",
    "        n = 0\n",
    "        j_loss = [0] * n_types\n",
    "        for t in range(n_types):\n",
    "            mask = (type == t).squeeze(1) if not self.exclude_ext else ((type == t) & (ext == 0)).squeeze(1)\n",
    "            if mask.sum() > 0:\n",
    "                _output,_target = p_scalar.transpose(1,2)[mask], t_scalar.transpose(1,2)[mask] # scalars at the end\n",
    "                # LMAE scalar\n",
    "                s_loss = self.proxy_log((_output.sum(dim=-1) - _target.sum(dim=-1)).abs().mean()+1e-9)\n",
    "                loss += self.types_w[t] * s_loss\n",
    "                j_loss[t] += s_loss\n",
    "                # LMAE scalar contributions\n",
    "                for i_contrib in range(_output.shape[-1]):\n",
    "                    loss += self.contrib_w * \\\n",
    "                        self.proxy_log((_output[...,i_contrib] - _target[...,i_contrib]).abs().mean()+1e-9)\n",
    "                n+=1\n",
    "        loss /= n\n",
    "        \n",
    "        if self.magnetic_w > 0:\n",
    "            mask = ~torch.isnan(t_magnetic)\n",
    "            loss += self.magnetic_w * MSELossFlat()(p_magnetic[mask], t_magnetic[mask])\n",
    "            \n",
    "        if self.dipole_w    > 0: loss += self.dipole_w    * MSELossFlat()(p_dipole,    t_dipole)\n",
    "        if self.potential_w > 0: loss += self.potential_w * MSELossFlat()(p_potential, t_potential)\n",
    "\n",
    "        return loss if not self.return_all else (loss, *j_loss)"
   ]
  },
  {
   "cell_type": "code",
   "execution_count": 16,
   "metadata": {
    "ExecuteTime": {
     "end_time": "2019-08-21T07:08:08.180480Z",
     "start_time": "2019-08-21T07:08:08.175332Z"
    }
   },
   "outputs": [],
   "source": [
    "class ScalarCouplingList(ItemList):\n",
    "    def __init__(self, items:Iterator, **kwargs):\n",
    "        super().__init__(items, **kwargs)\n",
    "        self.loss_func = LMAEMaskedLoss\n",
    "\n",
    "    def get(self, i):\n",
    "        o = super().get(i)\n",
    "        return ScalarCouplingItem(*o)\n",
    "\n",
    "    def reconstruct(self,t): return 0; # TODO for viz !!!! ScalarCouplingItem(t.numpy())"
   ]
  },
  {
   "cell_type": "markdown",
   "metadata": {},
   "source": [
    "Quaterions allow us to rotate 3d points randoming with a nice uniform distribution of 3 numbers hece we use them, however it's still to be seen if are useful here"
   ]
  },
  {
   "cell_type": "code",
   "execution_count": 17,
   "metadata": {
    "ExecuteTime": {
     "end_time": "2019-08-21T07:08:08.741879Z",
     "start_time": "2019-08-21T07:08:08.701767Z"
    }
   },
   "outputs": [],
   "source": [
    "#https://github.com/facebookresearch/QuaterNet/blob/master/common/quaternion.py\n",
    "def qrot(q, v):\n",
    "    \"\"\"\n",
    "    Rotate vector(s) v about the rotation described by quaternion(s) q.\n",
    "    Expects a tensor of shape (*, 4) for q and a tensor of shape (*, 3) for v,\n",
    "    where * denotes any number of dimensions.\n",
    "    Returns a tensor of shape (*, 3).\n",
    "    \"\"\"\n",
    "    assert q.shape[-1] == 4\n",
    "    assert v.shape[-1] == 3\n",
    "    assert q.shape[:-1] == v.shape[:-1]\n",
    "    \n",
    "    original_shape = list(v.shape)\n",
    "    q = q.view(-1, 4)\n",
    "    v = v.view(-1, 3)\n",
    "    \n",
    "    qvec = q[:, 1:]\n",
    "    uv = torch.cross(qvec, v, dim=1)\n",
    "    uuv = torch.cross(qvec, uv, dim=1)\n",
    "    return (v + 2 * (q[:, :1] * uv + uuv)).view(original_shape)\n",
    "\n",
    "def random_rotation(data):\n",
    "    x_xyz = data[0].transpose(0,1)\n",
    "    r = torch.rand(3)\n",
    "    sq1_v1,sqv1,v2_2pi,v3_2pi = torch.sqrt(1-r[:1]),torch.sqrt(r[:1]),2*math.pi*r[1:2],2*math.pi*r[2:3]\n",
    "    q = torch.cat([sq1_v1*torch.sin(v2_2pi), sq1_v1*torch.cos(v2_2pi), \n",
    "                   sqv1  *torch.sin(v3_2pi), sqv1  *torch.cos(v3_2pi)], dim=0).unsqueeze(0)\n",
    "    x_xyz = qrot(q.expand(x_xyz.shape[0],-1), x_xyz).squeeze(0).transpose(0,1)\n",
    "    return (x_xyz, *data[1:])\n",
    "\n",
    "def normalize(data):\n",
    "    sq = False\n",
    "    if data[0].ndim < 3:\n",
    "        data[0].unsqueeze_(0)\n",
    "        data[4].unsqueeze_(0)\n",
    "        sq = True\n",
    "    x_xyz      = (data[0] - x_xyz_mean)          / x_xyz_std\n",
    "    x_mulliken = (data[4] - x_qm9_mulliken_mean) / x_qm9_mulliken_std\n",
    "    if sq:\n",
    "        x_xyz.squeeze_(0)\n",
    "        x_mulliken.squeeze_(0)\n",
    "    return (x_xyz, data[1],data[2],data[3],x_mulliken,data[5])\n",
    "\n",
    "def canonize(data):\n",
    "    xyz,type,ext,atom,mulliken,coulomb = data\n",
    "    mask = (atom == -1).squeeze(0)\n",
    "    mask_atoms = ~mask.unsqueeze(0)\n",
    "    n_atoms = mask_atoms.sum()\n",
    "    i = torch.nonzero(type.squeeze(0) == -1)[0] # pick first one w/o j-coupling\n",
    "    xyz[:,mask], type[:,mask],ext[:,mask],atom[:,mask],mulliken[:,mask] = \\\n",
    "        0,-1,1,-1,0\n",
    "#        xyz[:,i],type[:,i],   ext[:,i],   atom[:,i],   mulliken[:,i]\n",
    "    return (xyz,type,ext,atom,mulliken,coulomb, mask_atoms, n_atoms)\n",
    "\n",
    "def canonize2(data):\n",
    "    xyz,type,ext,atom,mulliken = data\n",
    "    mask = (atom == -1).squeeze(0)\n",
    "    i_max_atom = torch.nonzero(atom != -1).max() + 1\n",
    "    #mask_atoms = torch.ones((max_atoms,   max_atoms), dtype=torch.uint8)\n",
    "    #zeros      = torch.zeros((i_max_atom, i_max_atom), dtype=torch.uint8)\n",
    "    #mask_atoms[:zeros.shape[0],:zeros.shape[1]] = zeros\n",
    "\n",
    "    mask_atoms = torch.ones ((max_atoms, ), dtype=torch.uint8)\n",
    "    zeros      = torch.zeros((i_max_atom,), dtype=torch.uint8)\n",
    "    mask_atoms[:zeros.shape[0],] = zeros\n",
    "    #mask_atoms[(type==-1).squeeze(0),:] = 1\n",
    "    n_atoms = i_max_atom\n",
    "    xyz[:,mask], type[:,mask],ext[:,mask],atom[:,mask],mulliken[:,mask] = 0,-1,1,-1,0\n",
    "    return (xyz,type,ext,atom,mulliken, mask_atoms, n_atoms)\n",
    "\n",
    "def canonize_and_shuffle(data):\n",
    "    xyz,type,ext,atom,mulliken,coulomb = data\n",
    "    mask = (atom == -1).squeeze(0)\n",
    "    mask_atoms = ~mask.unsqueeze(0)\n",
    "    n_atoms = mask_atoms.sum()\n",
    "    i = torch.nonzero(type.squeeze(0) == -1)[0] # pick first one w/o j-coupling\n",
    "    xyz[:,mask], type[:,mask],ext[:,mask],atom[:,mask],mulliken[:,mask] = \\\n",
    "        0,-1,1,-1,0\n",
    "    \n",
    "    perm = torch.randperm(n_atoms)\n",
    "    xyz[:,~mask] = xyz[:,~mask][:,perm]\n",
    "    type[:,~mask] = type[:,~mask][:,perm]\n",
    "    ext[:,~mask] = ext[:,~mask][:,perm]\n",
    "    atom[:,~mask] = atom[:,~mask][:,perm]\n",
    "    mulliken[:,~mask] = mulliken[:,~mask][:,perm]\n",
    "    \n",
    "    return (xyz,type,ext,atom,mulliken,coulomb, mask_atoms, n_atoms)\n",
    "    "
   ]
  },
  {
   "cell_type": "markdown",
   "metadata": {},
   "source": [
    "Build `data` bunch etc. for fastai"
   ]
  },
  {
   "cell_type": "code",
   "execution_count": 18,
   "metadata": {
    "ExecuteTime": {
     "end_time": "2019-08-21T07:09:39.036577Z",
     "start_time": "2019-08-21T07:08:09.472732Z"
    }
   },
   "outputs": [],
   "source": [
    "data = ItemList(items=(MoleculeItem(i,*v) for i,v in \n",
    "                       enumerate(zip(x_xyz,x_type,x_ext,x_atom,x_qm9_mulliken,x_coulombmat))),\n",
    "                label_cls=ScalarCouplingItem)"
   ]
  },
  {
   "cell_type": "code",
   "execution_count": 19,
   "metadata": {
    "ExecuteTime": {
     "end_time": "2019-08-21T07:09:39.382881Z",
     "start_time": "2019-08-21T07:09:39.038932Z"
    }
   },
   "outputs": [],
   "source": [
    "from sklearn.model_selection import train_test_split\n",
    "_, idx_valid_split = train_test_split(range(m.max()+1), test_size=0.1, random_state=13)\n",
    "idx_valid_split = np.argwhere(np.isin(m, idx_valid_split)).flatten()"
   ]
  },
  {
   "cell_type": "code",
   "execution_count": 20,
   "metadata": {
    "ExecuteTime": {
     "end_time": "2019-08-21T07:09:39.510729Z",
     "start_time": "2019-08-21T07:09:39.386530Z"
    },
    "pixiedust": {
     "displayParams": {}
    }
   },
   "outputs": [],
   "source": [
    "data = data.split_by_idx(idx_valid_split)"
   ]
  },
  {
   "cell_type": "code",
   "execution_count": 21,
   "metadata": {
    "ExecuteTime": {
     "end_time": "2019-08-21T07:09:43.325254Z",
     "start_time": "2019-08-21T07:09:39.513153Z"
    }
   },
   "outputs": [],
   "source": [
    "data = data.label_from_func(\n",
    "    func=lambda o: (y_scalar[o.i], y_magnetic[o.i], y_mulliken[o.i], y_dipole[o.i], y_potential[o.i]),\n",
    "    label_cls=ScalarCouplingList)"
   ]
  },
  {
   "cell_type": "code",
   "execution_count": 22,
   "metadata": {
    "ExecuteTime": {
     "end_time": "2019-08-21T07:09:43.332071Z",
     "start_time": "2019-08-21T07:09:43.327422Z"
    }
   },
   "outputs": [],
   "source": [
    "if False:\n",
    "    try:\n",
    "        xt_coulombmat = load_fn(f'xt_coulombmat32{ext}.npy')\n",
    "    except:\n",
    "        xt_coulombmat = np.load(f'xt_coulombmat{ext}.npy', allow_pickle=True)\n",
    "        xt_coulombmat = np.array(xt_coulombmat.tolist()).astype(np.float32)\n",
    "        np.save(f'xt_coulombmat32{ext}.npy', xt_coulombmat)"
   ]
  },
  {
   "cell_type": "code",
   "execution_count": 23,
   "metadata": {
    "ExecuteTime": {
     "end_time": "2019-08-21T07:09:43.341296Z",
     "start_time": "2019-08-21T07:09:43.334359Z"
    }
   },
   "outputs": [
    {
     "name": "stdout",
     "output_type": "stream",
     "text": [
      "[<function normalize at 0x7f217c840ea0>, <function canonize at 0x7f2116a8d048>] [<function normalize at 0x7f217c840ea0>, <function canonize at 0x7f2116a8d048>]\n"
     ]
    }
   ],
   "source": [
    "tfms = [normalize, canonize]\n",
    "tta_tfms = list(tfms)\n",
    "#tta_tfms.insert(0,random_rotation)\n",
    "#tta_tfms[-1] = canonize_and_shuffle\n",
    "print(tta_tfms, tfms)\n",
    "data = data.transform((tta_tfms, tfms))"
   ]
  },
  {
   "cell_type": "code",
   "execution_count": 24,
   "metadata": {
    "ExecuteTime": {
     "end_time": "2019-08-21T07:09:43.448717Z",
     "start_time": "2019-08-21T07:09:43.343268Z"
    }
   },
   "outputs": [],
   "source": [
    "data=data.databunch(num_workers=4)"
   ]
  },
  {
   "cell_type": "code",
   "execution_count": 25,
   "metadata": {
    "ExecuteTime": {
     "end_time": "2019-08-21T07:09:57.398635Z",
     "start_time": "2019-08-21T07:09:43.452521Z"
    }
   },
   "outputs": [
    {
     "data": {
      "text/plain": [
       "LabelList (707619 items)\n",
       "x: ItemList\n",
       "1 5 atoms 4 couplings,2 5 atoms 4 couplings,3 5 atoms 4 couplings,4 5 atoms 4 couplings,6 4 atoms 3 couplings\n",
       "y: ScalarCouplingList\n",
       "4: 84.8076 * -11.2569 -11.2549 -11.2543,4: 84.8074 -11.2569 * -11.2542 -11.2548,4: 84.8093 -11.2549 -11.2542 * -11.2543,4: 84.8095 -11.2543 -11.2548 -11.2543,3: 32.6888 * -11.1867 -11.1757\n",
       "Path: ."
      ]
     },
     "execution_count": 25,
     "metadata": {},
     "output_type": "execute_result"
    }
   ],
   "source": [
    "data.train_ds.filter_by_func(lambda item, _: len(item.data[2].cpu().numpy()[item.data[2].cpu().numpy()==0]) == 0)"
   ]
  },
  {
   "cell_type": "markdown",
   "metadata": {},
   "source": [
    "# Model\n",
    "Whole model here, self-contained (needs some cleanup)"
   ]
  },
  {
   "cell_type": "code",
   "execution_count": 26,
   "metadata": {
    "ExecuteTime": {
     "end_time": "2019-08-21T07:09:57.417306Z",
     "start_time": "2019-08-21T07:09:57.400925Z"
    }
   },
   "outputs": [],
   "source": [
    "class LMAEMetric(LearnerCallback):\n",
    "    _order=-20 # Needs to run before the recorder\n",
    "    def __init__(self, learn, val_only=True):\n",
    "        super().__init__(learn)\n",
    "        self.val_only=val_only\n",
    "        self.metric = LMAEMaskedLoss(return_all=True, exclude_ext=True)\n",
    "\n",
    "    def on_train_begin(self, **kwargs):\n",
    "        if not self.val_only: self.learn.recorder.add_metric_names(['tLMAE'])\n",
    "        self.learn.recorder.add_metric_names(['👉🏻LMAE👈🏻'] + [f'lmae{i}' for i in range(n_types)])\n",
    "            \n",
    "    def on_batch_end(self, train, last_output, last_target, **kwargs):\n",
    "        if self.val_only and train: return \n",
    "        preds,targs = self.preds[int(train)], self.targs[int(train)] # 0 val 1 train\n",
    "        if preds is None:\n",
    "            targs, preds = listify(last_target), listify(last_output)\n",
    "            targs,preds = [t.detach() for t in targs],[t.detach() for t in preds]\n",
    "        else:\n",
    "            for i,(o,t) in enumerate(zip(last_output, last_target)):\n",
    "                preds[i] = torch.cat([preds[i], o.detach()], dim=0)\n",
    "                targs[i] = torch.cat([targs[i], t.detach()], dim=0)\n",
    "        self.preds[int(train)], self.targs[int(train)] = preds,targs\n",
    "        \n",
    "    def on_epoch_begin(self, **kwargs):\n",
    "        self.targs, self.preds = [None, None], [None, None]\n",
    "\n",
    "    def on_epoch_end(self, last_metrics, **kwargs):\n",
    "        mets = []\n",
    "        if self.preds[1]: mets.append(self.metric.forward(self.preds[1], *self.targs[1])[0]) # just tLMAE\n",
    "        if self.preds[0]: mets.extend(self.metric.forward(self.preds[0], *self.targs[0]))\n",
    "        return add_metrics(last_metrics, mets) if mets else None"
   ]
  },
  {
   "cell_type": "code",
   "execution_count": 27,
   "metadata": {
    "ExecuteTime": {
     "end_time": "2019-08-21T07:09:57.474842Z",
     "start_time": "2019-08-21T07:09:57.419864Z"
    }
   },
   "outputs": [],
   "source": [
    "Activation = Enum('Activation', 'ReLU Swish GeLU')\n",
    "\n",
    "class PositionalEncoding(Module):\n",
    "    \"Implement the PE function.\"\n",
    "    def __init__(self, d_model, dropout, max_len=5000):\n",
    "        super(PositionalEncoding, self).__init__()\n",
    "        self.dropout = nn.Dropout(p=dropout)\n",
    "        \n",
    "        # Compute the positional encodings once in log space.\n",
    "        pe = torch.zeros(max_len, d_model)\n",
    "        \n",
    "        position = torch.arange(0., max_len).unsqueeze(1)\n",
    "        div_term = torch.exp(torch.arange(0., d_model, 2) * -(math.log(10000.0) / d_model))\n",
    "\n",
    "        pe[:, 0::2] = torch.sin(position * div_term)\n",
    "        pe[:, 1::2] = torch.cos(position * div_term)[:, :-1]\n",
    "        pe = pe.unsqueeze(0)\n",
    "        self.register_buffer('pe', pe)\n",
    "        print(pe.size())\n",
    "        \n",
    "    def forward(self, x):\n",
    "        x = x.transpose(2, 1)\n",
    "        x = x + Variable(self.pe[:, :x.size(1)], \n",
    "                         requires_grad=False)\n",
    "        return self.dropout(x).transpose(2, 1)\n",
    "    \n",
    "class GeLU(Module):\n",
    "    def forward(self, x): return 0.5 * x * (1 + torch.tanh(math.sqrt(2 / math.pi) * (x + 0.044715 * torch.pow(x, 3))))\n",
    "\n",
    "class Swish(Module):\n",
    "    def forward(self, x): return x * torch.sigmoid(x)\n",
    "\n",
    "_activ_func = {Activation.ReLU:nn.ReLU(inplace=True), Activation.GeLU:GeLU(), Activation.Swish: Swish()}\n",
    "\n",
    "def feed_forward(d_model:int, d_ff:int, ff_p:float=0., act:Activation=Activation.ReLU, double_drop:bool=True):\n",
    "    layers = [nn.Linear(d_model, d_ff), _activ_func[act]]\n",
    "    if double_drop: layers.append(nn.Dropout(ff_p))\n",
    "    return SequentialEx(*layers, nn.Linear(d_ff, d_model), nn.Dropout(ff_p), MergeLayer(), nn.LayerNorm(d_model))\n",
    "\n",
    "class MultiHeadAttention(Module):\n",
    "    \"MutiHeadAttention.\"\n",
    "    def __init__(self, n_heads:int, d_model:int, d_head:int=None, resid_p:float=0., attn_p:float=0., bias:bool=False,\n",
    "                 scale:bool=True):\n",
    "        d_head = ifnone(d_head, d_model//n_heads)\n",
    "        self.n_heads,self.d_head,self.scale = n_heads,d_head,scale\n",
    "\n",
    "        self.attention1 = nn.Linear(d_model, n_heads * d_head, bias=bias)\n",
    "        self.attention2 = nn.Linear(d_model, n_heads * d_head, bias=bias)\n",
    "        self.attention3 = nn.Linear(d_model, n_heads * d_head, bias=bias)\n",
    "        self.attention4 = nn.Linear(d_model, d_model, bias=bias)\n",
    "        self.out = nn.Linear(n_heads * d_head, d_model, bias=bias)\n",
    "        self.drop_att,self.drop_res = nn.Dropout(attn_p),nn.Dropout(resid_p)\n",
    "        self.ln = nn.LayerNorm(d_model)\n",
    "\n",
    "    def forward(self, x:Tensor, mask:Tensor=None, **kwargs):\n",
    "        return self.ln(x + self.drop_res(self.out(self._apply_attention(x, mask=mask, **kwargs))))\n",
    "\n",
    "    def _apply_attention(self, x:Tensor, mask:Tensor=None):\n",
    "        if False:\n",
    "            if mask is not None:\n",
    "                x= x.masked_fill(mask[:,:,0].squeeze(1).unsqueeze(-1).repeat(1, 1, x.size(2)),  0.)\n",
    "        bs,x_len = x.size(0),x.size(1)\n",
    "        wq,wk,wv = self.attention1(x), self.attention2(x), self.attention3(x)\n",
    "        wq,wk,wv = map(lambda x:x.view(bs, x.size(1), self.n_heads, self.d_head), (wq,wk,wv))\n",
    "        wq,wk,wv = wq.permute(0, 2, 1, 3),wk.permute(0, 2, 3, 1),wv.permute(0, 2, 1, 3)\n",
    "        attn_score = torch.matmul(wq, wk)\n",
    "        if self.scale: attn_score.div_(self.d_head ** 0.5)\n",
    "        if mask is not None:\n",
    "            attn_score = attn_score.float().masked_fill(mask,  -1.0E9).type_as(attn_score)\n",
    "        attn_prob = self.drop_att(F.softmax(attn_score, dim=-1))\n",
    "        attn_vec = torch.matmul(attn_prob, wv)\n",
    "        return self.attention4(attn_vec.permute(0, 2, 1, 3).contiguous().contiguous().view(bs, x_len, -1))\n",
    "\n",
    "    def _attention_einsum(self, x, mask=None):\n",
    "        # Permute and matmul is a little bit faster but this implementation is more readable\n",
    "        bs,x_len = x.size(0),x.size(1)\n",
    "        wq,wk,wv = torch.chunk(self.attention(x), 3, dim=-1)\n",
    "        wq,wk,wv = map(lambda x:x.view(bs, x.size(1), self.n_heads, self.d_head), (wq,wk,wv))\n",
    "        attn_score = torch.einsum('bind,bjnd->bijn', (wq, wk))\n",
    "        if self.scale: attn_score.mul_(1/(self.d_head ** 0.5))\n",
    "        if mask is not None:\n",
    "            attn_score = attn_score.float().masked_fill(mask, -float('-inf')).type_as(attn_score)\n",
    "        attn_prob = self.drop_att(F.softmax(attn_score, dim=2))\n",
    "        attn_vec = torch.einsum('bijn,bjnd->bind', (attn_prob, wv))\n",
    "        return attn_vec.contiguous().view(bs, x_len, -1)\n",
    "\n",
    "\n",
    "class DecoderLayer(Module):\n",
    "    \"Basic block of a Transformer model.\"\n",
    "    #Can't use Sequential directly cause more than one input...\n",
    "    def __init__(self, n_heads:int, d_model:int, d_head:int, d_inner:int, resid_p:float=0., attn_p:float=0., ff_p:float=0.,\n",
    "                 bias:bool=True, scale:bool=True, act:Activation=Activation.ReLU, double_drop:bool=True,\n",
    "                 attn_cls:Callable=MultiHeadAttention):\n",
    "        self.mhra = attn_cls(n_heads, d_model, d_head, resid_p=resid_p, attn_p=attn_p, bias=bias, scale=scale)\n",
    "        self.ff   = feed_forward(d_model, d_inner, ff_p=ff_p, act=act, double_drop=double_drop)\n",
    "\n",
    "    def forward(self, x:Tensor, mask:Tensor=None, **kwargs): return self.ff(self.mhra(x, mask=mask, **kwargs))\n",
    "\n",
    "class Transformer(Module):\n",
    "    \"Transformer model: https://arxiv.org/abs/1706.03762.\"\n",
    "    def __init__(self, n_layers:int, n_heads:int, d_model:int, d_head:int, d_inner:int,\n",
    "                 resid_p:float=0., attn_p:float=0., ff_p:float=0., embed_p:float=0., bias:bool=True, scale:bool=True,\n",
    "                 act:Activation=Activation.ReLU, double_drop:bool=True, attn_cls:Callable=MultiHeadAttention,\n",
    "                 learned_pos_enc:bool=True, mask:bool=True):\n",
    "        self.mask = mask\n",
    "        #self.encoder = nn.Embedding(vocab_sz, d_model)\n",
    "        #self.pos_enc = nn.Embedding(ctx_len, d_model) if learned_pos_enc else PositionalEncoding(d_model)\n",
    "        #self.pos_enc = PositionalEncoding(29, 0.1)\n",
    "        self.drop_emb = nn.Dropout(embed_p)\n",
    "        self.layers = nn.ModuleList([DecoderLayer(n_heads, d_model, d_head, d_inner, resid_p=resid_p, attn_p=attn_p,\n",
    "                      ff_p=ff_p, bias=bias, scale=scale, act=act, double_drop=double_drop,\n",
    "                      attn_cls=attn_cls) for k in range(n_layers)])\n",
    "\n",
    "    def reset(self): pass\n",
    "\n",
    "    def forward(self, x, mask):\n",
    "        #bs, x_len = x.size()\n",
    "        #pos = torch.arange(0, x_len, device=x.device, dtype=x.dtype)\n",
    "        inp = self.drop_emb(x)# + self.pos_enc(pos)[None]) #.mul_(self.d_model ** 0.5)\n",
    "        #if False:\n",
    "        #    inp += self.pos_enc(x)[None]\n",
    "        #mask = None #torch.triu(x.new_ones(x_len, x_len), diagonal=1).byte()[None,None] if self.mask else None\n",
    "        #[None,:,:None] for einsum implementation of attention\n",
    "        for layer in self.layers: inp = layer(inp, mask=mask)\n",
    "        return inp #For the LinearDecoder\n"
   ]
  },
  {
   "cell_type": "code",
   "execution_count": 28,
   "metadata": {
    "ExecuteTime": {
     "end_time": "2019-08-21T07:09:57.506854Z",
     "start_time": "2019-08-21T07:09:57.477036Z"
    }
   },
   "outputs": [],
   "source": [
    "class MultiHeadAttentionOld(Module):\n",
    "    \"MutiHeadAttention.\"\n",
    "    def __init__(self, n_heads:int, d_model:int, d_head:int=None, resid_p:float=0., attn_p:float=0., bias:bool=True,\n",
    "                 scale:bool=True):\n",
    "        d_head = ifnone(d_head, d_model//n_heads)\n",
    "        self.n_heads,self.d_head,self.scale = n_heads,d_head,scale\n",
    "        self.attention = nn.Linear(d_model, 3 * n_heads * d_head, bias=bias)\n",
    "        self.out = nn.Linear(n_heads * d_head, d_model, bias=bias)\n",
    "        self.drop_att,self.drop_res = nn.Dropout(attn_p),nn.Dropout(resid_p)\n",
    "        self.ln = nn.LayerNorm(d_model)\n",
    "\n",
    "    def forward(self, x:Tensor, mask:Tensor=None, **kwargs):\n",
    "        return self.ln(x + self.drop_res(self.out(self._apply_attention(x, mask=mask, **kwargs))))\n",
    "\n",
    "    def _apply_attention(self, x:Tensor, mask:Tensor=None):\n",
    "        bs,x_len = x.size(0),x.size(1)\n",
    "        wq,wk,wv = torch.chunk(self.attention(x), 3, dim=-1)\n",
    "        wq,wk,wv = map(lambda x:x.view(bs, x.size(1), self.n_heads, self.d_head), (wq,wk,wv))\n",
    "        wq,wk,wv = wq.permute(0, 2, 1, 3),wk.permute(0, 2, 3, 1),wv.permute(0, 2, 1, 3)\n",
    "        attn_score = torch.matmul(wq, wk)\n",
    "        if self.scale: attn_score.div_(self.d_head ** 0.5)\n",
    "        if mask is not None:\n",
    "            attn_score = attn_score.float().masked_fill(mask,  -1.0E9).type_as(attn_score)\n",
    "        attn_prob = self.drop_att(F.softmax(attn_score, dim=-1))\n",
    "        attn_vec = torch.matmul(attn_prob, wv)\n",
    "        return attn_vec.permute(0, 2, 1, 3).contiguous().contiguous().view(bs, x_len, -1)\n",
    "    \n",
    "class AtomTransformerOld(Module):\n",
    "    def __init__(self,  n_heads,d_model, d_head=None, **kwargs):\n",
    "        \n",
    "        self.d_model = d_model\n",
    "        d_head = ifnone(d_head, d_model//n_heads)\n",
    "        self.transformer = Transformer(n_heads=n_heads,d_model=d_model, d_head=d_head, **kwargs)\n",
    "        \n",
    "        #self.scalar    = nn.Conv1d(d_model+ n_types + 1, 4, 1)\n",
    "        self.scalar    = nn.Conv1d(d_model, 4, 1)\n",
    "        self.magnetic  = nn.Conv1d(d_model, 9, 1)\n",
    "        self.dipole    = nn.Linear(d_model*max_atoms, 3)\n",
    "        self.potential = nn.Linear(d_model*max_atoms, 1)\n",
    "        \n",
    "        self.n_atom_embedding = d_model//2\n",
    "        self.n_type_embedding = d_model - self.n_atom_embedding - 6\n",
    "        self.type_embedding = nn.Embedding(len(types)+1,self.n_type_embedding)\n",
    "        self.atom_embedding = nn.Embedding(len(atoms)+1,self.n_atom_embedding)\n",
    "    \n",
    "        #n_pos_encoder = d_model - n_type_embedding - n_atom_embedding\n",
    "        #self.pos_encoder = nn.Sequential(\n",
    "        #    nn.Conv1d(3+1+1,n_pos_encoder, 1), nn.ReLU(), nn.BatchNorm1d(n_pos_encoder),\n",
    "        #)\n",
    "        \n",
    "    def forward(self,xyz,type,ext,atom,mulliken,coulomb, mask_atoms, n_atoms):\n",
    "        bs, _, n_pts = xyz.shape        \n",
    "        t = self.type_embedding((type+1).squeeze(1)) #* math.sqrt(self.n_atom_embedding) #.transpose(1,2)\n",
    "        a = self.atom_embedding((atom+1).squeeze(1)) #* math.sqrt(self.n_type_embedding) #.transpose(1,2)\n",
    "        \n",
    "        x = torch.cat([xyz, mulliken, ext, mask_atoms.float()], dim=1) #* math.sqrt(self.d_model)        \n",
    "        #x = self.pos_encoder(x).transpose(1,2)\n",
    "\n",
    "        x = torch.cat([x.transpose(1,2), t, a], dim=-1) \n",
    "\n",
    "        mask = (coulomb == 0).unsqueeze(1)\n",
    "        #mask = torch.triu(x.new_ones(max_atoms, max_atoms), diagonal=1).byte()[None,:,:,None]#[None,None] \n",
    "        #print(mask.shape, mask)\n",
    "        x = self.transformer(x, mask).transpose(1,2).contiguous()\n",
    "        \n",
    "        #t_one_hot = torch.zeros(bs,n_types+1,n_pts,device=type.device,dtype=x.dtype).scatter_(1,type+1, 1.)\n",
    "        #scalar    = self.scalar(torch.cat([x, t_one_hot], dim=1))\n",
    "        scalar    = self.scalar(x)\n",
    "        \n",
    "        magnetic  = self.magnetic(x) \n",
    "        dipole    = self.dipole(x.view(bs,-1))\n",
    "        potential = self.potential(x.view(bs,-1))\n",
    "                \n",
    "        return type,ext,scalar,magnetic,dipole,potential\n",
    "    \n",
    "    def reset(self): pass\n",
    "    "
   ]
  },
  {
   "cell_type": "code",
   "execution_count": 29,
   "metadata": {
    "ExecuteTime": {
     "end_time": "2019-08-21T07:09:57.577747Z",
     "start_time": "2019-08-21T07:09:57.509279Z"
    }
   },
   "outputs": [],
   "source": [
    "class AtomTransformer(Module):\n",
    "    def __init__(self,  n_heads,d_model, d_head=None, **kwargs):\n",
    "        \n",
    "        self.d_model = d_model\n",
    "        d_head = ifnone(d_head, d_model//n_heads)\n",
    "        self.transformer = Transformer(n_heads=n_heads,d_model=d_model, d_head=d_head, **kwargs)\n",
    "        \n",
    "        self.scalar    = nn.Conv1d(d_model+ n_types + 1, 4, 1)\n",
    "        self.magnetic  = nn.Conv1d(d_model, 9, 1)\n",
    "        self.dipole    = nn.Linear(d_model*max_atoms, 3)\n",
    "        self.potential = nn.Linear(d_model*max_atoms, 1)\n",
    "        \n",
    "        self.n_atom_embedding = d_model//2\n",
    "        self.n_type_embedding = d_model - self.n_atom_embedding - 3 # -3 best model\n",
    "        self.type_embedding = nn.Embedding(len(types)+1,self.n_type_embedding)\n",
    "        self.atom_embedding = nn.Embedding(len(atoms)+1,self.n_atom_embedding)\n",
    "    \n",
    "        #n_pos_encoder = d_model - n_type_embedding - n_atom_embedding\n",
    "        #self.pos_encoder = nn.Sequential(\n",
    "        #    nn.Conv1d(3+1+1,n_pos_encoder, 1), nn.ReLU(), nn.BatchNorm1d(n_pos_encoder),\n",
    "        #)\n",
    "        \n",
    "    def forward(self,xyz,type,ext,atom,mulliken,coulomb, mask_atoms, n_atoms):\n",
    "        bs, _, n_pts = xyz.shape        \n",
    "        t = self.type_embedding((type+1).squeeze(1)) #* math.sqrt(self.n_atom_embedding) #.transpose(1,2)\n",
    "        a = self.atom_embedding((atom+1).squeeze(1)) #* math.sqrt(self.n_type_embedding) #.transpose(1,2)\n",
    "        \n",
    "        #x = torch.cat([xyz, mulliken, ext, mask_atoms.float()], dim=1) #* math.sqrt(self.d_model)               \n",
    "        #x = torch.cat([xyz, ext, mask_atoms.float()], dim=1) #* math.sqrt(self.d_model)               \n",
    "        x = xyz \n",
    "        #x = self.pos_encoder(x).transpose(1,2)\n",
    "\n",
    "        x = torch.cat([x.transpose(1,2), t, a], dim=-1) \n",
    "\n",
    "        mask = (coulomb == 0).unsqueeze(1)\n",
    "        #mask = torch.triu(x.new_ones(max_atoms, max_atoms), diagonal=1).byte()[None,:,:,None]#[None,None] \n",
    "        #print(mask.shape, mask)\n",
    "        x = self.transformer(x, mask).transpose(1,2).contiguous()\n",
    "        t_one_hot = torch.zeros(bs,n_types+1,n_pts,device=type.device,dtype=x.dtype).scatter_(1,type+1, 1.)\n",
    "        \n",
    "        scalar    = self.scalar(torch.cat([x, t_one_hot], dim=1))\n",
    "        magnetic  = self.magnetic(x) \n",
    "        dipole    = self.dipole(x.view(bs,-1))\n",
    "        potential = self.potential(x.view(bs,-1))\n",
    "                \n",
    "        return type,ext,scalar,magnetic,dipole,potential\n",
    "    \n",
    "    def reset(self): pass\n",
    "    \n",
    "    \n",
    "class AtomTransformer2(Module):\n",
    "    def __init__(self,  n_heads,d_model, d_head=None, **kwargs):\n",
    "        \n",
    "        self.d_model = d_model\n",
    "        d_head = ifnone(d_head, d_model//n_heads)\n",
    "        self.transformer = Transformer(n_heads=n_heads,d_model=d_model, d_head=d_head, **kwargs)\n",
    "        \n",
    "        self.scalar    = nn.Conv1d(d_model+ n_types + 1, 4, 1)\n",
    "        self.magnetic  = nn.Conv1d(d_model, 9, 1)\n",
    "        self.dipole    = nn.Linear(d_model*max_atoms, 3)\n",
    "        self.potential = nn.Linear(d_model*max_atoms, 1)\n",
    "        \n",
    "        self.n_atom_embedding = d_model//2\n",
    "        self.n_type_embedding = d_model - self.n_atom_embedding - 6 # -3 best model\n",
    "        self.type_embedding = nn.Embedding(len(types)+1,self.n_type_embedding)\n",
    "        self.atom_embedding = nn.Embedding(len(atoms)+1,self.n_atom_embedding)\n",
    "    \n",
    "        #n_pos_encoder = d_model - n_type_embedding - n_atom_embedding\n",
    "        #self.pos_encoder = nn.Sequential(\n",
    "        #    nn.Conv1d(3+1+1,n_pos_encoder, 1), nn.ReLU(), nn.BatchNorm1d(n_pos_encoder),\n",
    "        #)\n",
    "        \n",
    "    def forward(self,xyz,type,ext,atom,mulliken,coulomb, mask_atoms, n_atoms):\n",
    "        bs, _, n_pts = xyz.shape        \n",
    "        t = self.type_embedding((type+1).squeeze(1)) #* math.sqrt(self.n_atom_embedding) #.transpose(1,2)\n",
    "        a = self.atom_embedding((atom+1).squeeze(1)) #* math.sqrt(self.n_type_embedding) #.transpose(1,2)\n",
    "        \n",
    "        x = torch.cat([xyz, mulliken, ext, mask_atoms.float()], dim=1) #* math.sqrt(self.d_model)               \n",
    "        #x = torch.cat([xyz, ext, mask_atoms.float()], dim=1) #* math.sqrt(self.d_model)               \n",
    "        #x = xyz \n",
    "        #x = self.pos_encoder(x).transpose(1,2)\n",
    "\n",
    "        x = torch.cat([x.transpose(1,2), t, a], dim=-1) \n",
    "\n",
    "        mask = (coulomb == 0).unsqueeze(1)\n",
    "        #mask = torch.triu(x.new_ones(max_atoms, max_atoms), diagonal=1).byte()[None,:,:,None]#[None,None] \n",
    "        #print(mask.shape, mask)\n",
    "        x = self.transformer(x, mask).transpose(1,2).contiguous()\n",
    "        t_one_hot = torch.zeros(bs,n_types+1,n_pts,device=type.device,dtype=x.dtype).scatter_(1,type+1, 1.)\n",
    "        \n",
    "        scalar    = self.scalar(torch.cat([x, t_one_hot], dim=1))\n",
    "        magnetic  = self.magnetic(x) \n",
    "        dipole    = self.dipole(x.view(bs,-1))\n",
    "        potential = self.potential(x.view(bs,-1))\n",
    "                \n",
    "        return type,ext,scalar,magnetic,dipole,potential\n",
    "    \n",
    "    def reset(self): pass\n",
    "    \n",
    "\n",
    "class MultiHeadAttention3(Module):\n",
    "    \"MutiHeadAttention.\"\n",
    "    def __init__(self, n_heads:int, d_model:int, d_head:int=None, resid_p:float=0., attn_p:float=0., bias:bool=False,\n",
    "                 scale:bool=False):\n",
    "        d_head = ifnone(d_head, d_model//n_heads)\n",
    "        self.n_heads,self.d_head,self.scale = n_heads,d_head,scale\n",
    "\n",
    "        self.attention1 = nn.Linear(d_model, n_heads * d_head, bias=bias)\n",
    "        self.attention2 = nn.Linear(d_model, n_heads * d_head, bias=bias)\n",
    "        self.attention3 = nn.Linear(d_model, n_heads * d_head, bias=bias)\n",
    "        self.attention4 = nn.Linear(d_model, d_model, bias=bias)\n",
    "        self.out = nn.Linear(n_heads * d_head, d_model, bias=bias)\n",
    "        self.drop_att,self.drop_res = nn.Dropout(attn_p),nn.Dropout(resid_p)\n",
    "        self.ln = nn.LayerNorm(d_model)\n",
    "        \n",
    "        self.scale=False\n",
    "\n",
    "    def forward(self, x:Tensor, mask:Tensor=None, **kwargs):\n",
    "        return self.ln(x + self.drop_res(self.out(self._apply_attention(x, mask=mask, **kwargs))))\n",
    "\n",
    "    def _apply_attention(self, x:Tensor, mask:Tensor=None):\n",
    "        if False:\n",
    "            if mask is not None:\n",
    "                x= x.masked_fill(mask[:,:,0].squeeze(1).unsqueeze(-1).repeat(1, 1, x.size(2)),  0.)\n",
    "        bs,x_len = x.size(0),x.size(1)\n",
    "        wq,wk,wv = self.attention1(x), self.attention2(x), self.attention3(x)\n",
    "        wq,wk,wv = map(lambda x:x.view(bs, x.size(1), self.n_heads, self.d_head), (wq,wk,wv))\n",
    "        wq,wk,wv = wq.permute(0, 2, 1, 3),wk.permute(0, 2, 3, 1),wv.permute(0, 2, 1, 3)\n",
    "        attn_score = torch.matmul(wq, wk)\n",
    "        if self.scale: attn_score.div_(self.d_head ** 0.5)\n",
    "        if mask is not None:\n",
    "            attn_score = attn_score.float().masked_fill(mask,  -1.0E9).type_as(attn_score)\n",
    "        attn_prob = self.drop_att(F.softmax(attn_score, dim=-1))\n",
    "        attn_vec = torch.matmul(attn_prob, wv)\n",
    "        return self.attention4(attn_vec.permute(0, 2, 1, 3).contiguous().contiguous().view(bs, x_len, -1))\n",
    "\n",
    "    def _attention_einsum(self, x, mask=None):\n",
    "        # Permute and matmul is a little bit faster but this implementation is more readable\n",
    "        bs,x_len = x.size(0),x.size(1)\n",
    "        wq,wk,wv = torch.chunk(self.attention(x), 3, dim=-1)\n",
    "        wq,wk,wv = map(lambda x:x.view(bs, x.size(1), self.n_heads, self.d_head), (wq,wk,wv))\n",
    "        attn_score = torch.einsum('bind,bjnd->bijn', (wq, wk))\n",
    "        if self.scale: attn_score.mul_(1/(self.d_head ** 0.5))\n",
    "        if mask is not None:\n",
    "            attn_score = attn_score.float().masked_fill(mask, -float('-inf')).type_as(attn_score)\n",
    "        attn_prob = self.drop_att(F.softmax(attn_score, dim=2))\n",
    "        attn_vec = torch.einsum('bijn,bjnd->bind', (attn_prob, wv))\n",
    "        return attn_vec.contiguous().view(bs, x_len, -1)\n",
    "\n",
    "    \n",
    "class AtomTransformer3(Module):\n",
    "    def __init__(self,  n_heads,d_model, d_head=None, **kwargs):\n",
    "        \n",
    "        self.d_model = d_model\n",
    "        d_head = ifnone(d_head, d_model//n_heads)\n",
    "        self.transformer = Transformer(n_heads=n_heads,d_model=d_model, d_head=d_head, **kwargs)\n",
    "        \n",
    "        self.scalar    = nn.Conv1d(d_model+ n_types + 1, 4, 1)\n",
    "        self.magnetic  = nn.Conv1d(d_model, 9, 1)\n",
    "        self.dipole    = nn.Linear(d_model*max_atoms, 3)\n",
    "        self.potential = nn.Linear(d_model*max_atoms, 1)\n",
    "        \n",
    "        self.n_atom_embedding = d_model//2\n",
    "        self.n_type_embedding = d_model - self.n_atom_embedding - 3 # -3 best model\n",
    "        self.type_embedding = nn.Embedding(len(types)+1,self.n_type_embedding)\n",
    "        self.atom_embedding = nn.Embedding(len(atoms)+1,self.n_atom_embedding)\n",
    "        \n",
    "        self.dropout = nn.Dropout(0.05)\n",
    "    \n",
    "        #n_pos_encoder = d_model - n_type_embedding - n_atom_embedding\n",
    "        #self.pos_encoder = nn.Sequential(\n",
    "        #    nn.Conv1d(3+1+1,n_pos_encoder, 1), nn.ReLU(), nn.BatchNorm1d(n_pos_encoder),\n",
    "        #)\n",
    "        \n",
    "    def forward(self,xyz,type,ext,atom,mulliken,coulomb, mask_atoms, n_atoms):\n",
    "        bs, _, n_pts = xyz.shape        \n",
    "        t = self.type_embedding((type+1).squeeze(1)) #* math.sqrt(self.n_atom_embedding) #.transpose(1,2)\n",
    "        a = self.atom_embedding((atom+1).squeeze(1)) #* math.sqrt(self.n_type_embedding) #.transpose(1,2)\n",
    "        \n",
    "        #x = torch.cat([xyz, mulliken, ext, mask_atoms.float()], dim=1) #* math.sqrt(self.d_model)               \n",
    "        #x = torch.cat([xyz, ext, mask_atoms.float()], dim=1) #* math.sqrt(self.d_model)               \n",
    "        x = xyz \n",
    "        #x = self.pos_encoder(x).transpose(1,2)\n",
    "\n",
    "        x = torch.cat([x.transpose(1,2), t, a], dim=-1) \n",
    "\n",
    "        mask = (coulomb == 0).unsqueeze(1)\n",
    "        #mask = torch.triu(x.new_ones(max_atoms, max_atoms), diagonal=1).byte()[None,:,:,None]#[None,None] \n",
    "        #print(mask.shape, mask)\n",
    "        x = self.transformer(x, mask).transpose(1,2).contiguous()\n",
    "        x = self.dropout(x)\n",
    "        t_one_hot = torch.zeros(bs,n_types+1,n_pts,device=type.device,dtype=x.dtype).scatter_(1,type+1, 1.)\n",
    "        \n",
    "        scalar    = self.scalar(torch.cat([x, t_one_hot], dim=1))\n",
    "        magnetic  = self.magnetic(x) \n",
    "        dipole    = self.dipole(x.view(bs,-1))\n",
    "        potential = self.potential(x.view(bs,-1))\n",
    "                \n",
    "        return type,ext,scalar,magnetic,dipole,potential\n",
    "    \n",
    "    def reset(self): pass\n",
    "    "
   ]
  },
  {
   "cell_type": "markdown",
   "metadata": {},
   "source": [
    "This callback allows to insert multiple stateful (not averaged) metrics in one pass. Addditionally we could add metrics for train if we want to."
   ]
  },
  {
   "cell_type": "markdown",
   "metadata": {},
   "source": [
    "Model instantiation: where's all your TPUs/GPUs when you need a decent hyperparam sweep?"
   ]
  },
  {
   "cell_type": "code",
   "execution_count": 30,
   "metadata": {
    "ExecuteTime": {
     "end_time": "2019-08-21T07:09:57.591713Z",
     "start_time": "2019-08-21T07:09:57.579881Z"
    }
   },
   "outputs": [],
   "source": [
    "from fastai.callbacks import *\n",
    "#from fastai.callbacks import SaveModelCallback\n",
    "class SaveModelCustomCallback(TrackerCallback):\n",
    "    \"A `TrackerCallback` that saves the model when monitored quantity is best.\"\n",
    "    def __init__(self, learn:Learner, monitor:str='valid_loss', mode:str='auto', every:str='improvement', name:str='bestmodel'):\n",
    "        super().__init__(learn, monitor=monitor, mode=mode)\n",
    "        self.every,self.name = every,name\n",
    "        if self.every not in ['improvement', 'epoch']:\n",
    "            warn(f'SaveModel every {self.every} is invalid, falling back to \"improvement\".')\n",
    "            self.every = 'improvement'\n",
    "                 \n",
    "    def jump_to_epoch(self, epoch:int)->None:\n",
    "        try: \n",
    "            self.learn.load(f'{self.name}_{epoch-1}', purge=False)\n",
    "            print(f\"Loaded {self.name}_{epoch-1}\")\n",
    "        except: print(f'Model {self.name}_{epoch-1} not found.')\n",
    "\n",
    "    def on_epoch_end(self, epoch:int, **kwargs:Any)->None:\n",
    "        \"Compare the value monitored to its best score and maybe save the model.\"\n",
    "        if self.every==\"epoch\": self.learn.save(f'{self.name}_{epoch}')\n",
    "        else: #every=\"improvement\"\n",
    "            current = self.get_monitor_value()\n",
    "            if current is not None and self.operator(current, self.best):\n",
    "                print(f'Better model found at epoch {epoch} with {self.monitor} value: {current}.')\n",
    "                self.best = current\n",
    "                self.learn.save(f'{self.name}_{epoch}_{self.best}')\n",
    "\n",
    "    def on_train_end(self, **kwargs):\n",
    "        \"Load the best model.\"\n",
    "        if False and self.every==\"improvement\" and (self.learn.path/f'{self.learn.model_dir}/{self.name}.pth').is_file():\n",
    "            self.learn.load(f'{self.name}', purge=False)\n",
    "            \n",
    "\n"
   ]
  },
  {
   "cell_type": "code",
   "execution_count": 31,
   "metadata": {
    "ExecuteTime": {
     "end_time": "2019-08-21T07:10:05.253878Z",
     "start_time": "2019-08-21T07:09:57.593985Z"
    }
   },
   "outputs": [
    {
     "name": "stderr",
     "output_type": "stream",
     "text": [
      "/opt/conda/lib/python3.7/site-packages/ipykernel_launcher.py:25: UserWarning: nn.init.xavier_uniform is now deprecated in favor of nn.init.xavier_uniform_.\n"
     ]
    }
   ],
   "source": [
    "net, learner = None,None\n",
    "gc.collect()\n",
    "torch.cuda.empty_cache()\n",
    "\n",
    "net = AtomTransformer(n_layers=6, n_heads=16,d_model=1024,d_inner=4096, act=Activation.Swish, attn_cls=MultiHeadAttention3)\n",
    "#net = AtomTransformer3(n_layers=6, n_heads=16,d_model=1024,d_inner=4096, attn_cls=MultiHeadAttention3)\n",
    "#net = AtomTransformer(n_layers=6, n_heads=16,d_model=2048,d_inner=2048)\n",
    "#net = AtomTransformer(n_layers=6, n_heads=8, d_model=512,d_inner=2048)\n",
    "\n",
    "#net = AtomTransformerOld(n_layers=6, n_heads=8,d_model=512,d_inner=2048, attn_cls=MultiHeadAttentionOld)\n",
    "\n",
    "#net = AtomTransformer2(n_layers=6, n_heads=12,d_model=768,d_inner=3072)\n",
    "\n",
    "\n",
    "#net = AtomTransformer(n_layers=6, n_heads=12,d_model=768,d_inner=3072)\n",
    "\n",
    "#net = AtomTransformer(n_layers=6, n_heads=16,d_model=1024,d_inner=4096, attn_cls=MultiHeadAttentionOld)\n",
    "\n",
    "learner = Learner(data,net, loss_func=LMAEMaskedLoss(),)\n",
    "\n",
    "learner.callbacks.append(LMAEMetric(learner))\n",
    "\n",
    "for p in learner.model.parameters():\n",
    "    if p.dim() > 1:\n",
    "        nn.init.xavier_uniform(p)\n",
    "        \n",
    "\n",
    "learner.callbacks.append(SaveModelCustomCallback(learner, monitor='👉🏻LMAE👈🏻', mode='min'))"
   ]
  },
  {
   "cell_type": "code",
   "execution_count": null,
   "metadata": {
    "ExecuteTime": {
     "end_time": "2019-08-19T13:53:26.675699Z",
     "start_time": "2019-08-19T13:53:24.807346Z"
    }
   },
   "outputs": [],
   "source": [
    "learner.summary()"
   ]
  },
  {
   "cell_type": "code",
   "execution_count": 32,
   "metadata": {
    "ExecuteTime": {
     "end_time": "2019-08-21T07:10:05.260156Z",
     "start_time": "2019-08-21T07:10:05.256594Z"
    }
   },
   "outputs": [],
   "source": [
    "#sub_fname = \"loss-5.9943val-2.7766\" # uncomment or set None to skip loading trained net\n",
    "#sub_fname = \"loss-5.7552val-2.9950\"\n",
    "#sub_fname = \"loss-5.9943val-2.7766\"\n",
    "#sub_fname = \"loss-4.9516val-3.0042\"\n",
    "#sub_fname = \"loss-4.0414val-2.7287\"\n",
    "#sub_fname = \"loss-4.9044val-2.5880\"\n",
    "\n",
    "#sub_fname = \"loss-5.0862val-3.0047\"\n",
    "\n",
    "#sub_fname = 'loss-4.9516val-2.8229'\n",
    "#sub_fname = 'bestmodel_62_-2.2235493659973145'\n",
    "#sub_fname = 'loss-5.6540val-3.0131'\n",
    "#sub_fname = 'bestmodel_6_-0.6834144592285156'\n",
    "\n",
    "sub_fname = 'loss-5.1336val-3.0759'"
   ]
  },
  {
   "cell_type": "code",
   "execution_count": 33,
   "metadata": {
    "ExecuteTime": {
     "end_time": "2019-08-21T07:10:14.843978Z",
     "start_time": "2019-08-21T07:10:05.262953Z"
    }
   },
   "outputs": [
    {
     "name": "stderr",
     "output_type": "stream",
     "text": [
      "/opt/conda/lib/python3.7/site-packages/torch/serialization.py:256: UserWarning: Couldn't retrieve source code for container of type Swish. It won't be checked for correctness upon loading.\n",
      "  \"type \" + obj.__name__ + \". It won't be checked \"\n",
      "/opt/conda/lib/python3.7/site-packages/torch/serialization.py:256: UserWarning: Couldn't retrieve source code for container of type LMAEMaskedLoss. It won't be checked for correctness upon loading.\n",
      "  \"type \" + obj.__name__ + \". It won't be checked \"\n",
      "/opt/conda/lib/python3.7/site-packages/torch/serialization.py:256: UserWarning: Couldn't retrieve source code for container of type AtomTransformer. It won't be checked for correctness upon loading.\n",
      "  \"type \" + obj.__name__ + \". It won't be checked \"\n",
      "/opt/conda/lib/python3.7/site-packages/torch/serialization.py:256: UserWarning: Couldn't retrieve source code for container of type Transformer. It won't be checked for correctness upon loading.\n",
      "  \"type \" + obj.__name__ + \". It won't be checked \"\n",
      "/opt/conda/lib/python3.7/site-packages/torch/serialization.py:256: UserWarning: Couldn't retrieve source code for container of type DecoderLayer. It won't be checked for correctness upon loading.\n",
      "  \"type \" + obj.__name__ + \". It won't be checked \"\n",
      "/opt/conda/lib/python3.7/site-packages/torch/serialization.py:256: UserWarning: Couldn't retrieve source code for container of type MultiHeadAttention3. It won't be checked for correctness upon loading.\n",
      "  \"type \" + obj.__name__ + \". It won't be checked \"\n"
     ]
    },
    {
     "name": "stdout",
     "output_type": "stream",
     "text": [
      "Attempting to load: loss-5.1336val-3.0759... Loaded\n"
     ]
    }
   ],
   "source": [
    "try:\n",
    "    print(f\"Attempting to load: {sub_fname}... \", end=\"\")\n",
    "    learner.load(sub_fname, strict=False,with_opt=False)\n",
    "    print(\"Loaded\")\n",
    "except Exception as e:\n",
    "    print(\"NOT loaded! \", e)"
   ]
  },
  {
   "cell_type": "code",
   "execution_count": null,
   "metadata": {
    "ExecuteTime": {
     "end_time": "2019-08-19T06:40:14.614754Z",
     "start_time": "2019-08-19T06:40:14.609905Z"
    }
   },
   "outputs": [],
   "source": [
    "if False:\n",
    "    for name, param in learner.model.named_parameters():\n",
    "\n",
    "        if 'transformer.layers.5.mhra.attention4' not in name:\n",
    "            #param.requires_grad = False\n",
    "            pass\n",
    "        else:\n",
    "            print(name)\n",
    "            try:\n",
    "                nn.init.xavier_uniform_(param)\n",
    "            except:\n",
    "                pass"
   ]
  },
  {
   "cell_type": "code",
   "execution_count": 34,
   "metadata": {
    "ExecuteTime": {
     "end_time": "2019-08-21T07:10:14.850348Z",
     "start_time": "2019-08-21T07:10:14.845980Z"
    }
   },
   "outputs": [],
   "source": [
    "learner = learner.to_parallel() #b/c it NaNs loss (probably would need to change fp16 settings)\n",
    "data.batch_size = int(4096//2)\n",
    "data.batch_size = data.batch_size // 2"
   ]
  },
  {
   "cell_type": "markdown",
   "metadata": {},
   "source": [
    "Real loss func. Need to test different auxiliary tasks weights: `magnetic_w`, `dipole_w`, `potential`, weights of indivial `lmae`s: `types_w` and maybe `input_transform_w` and `feature_transform_w`"
   ]
  },
  {
   "cell_type": "code",
   "execution_count": null,
   "metadata": {
    "ExecuteTime": {
     "end_time": "2019-08-17T06:02:27.635352Z",
     "start_time": "2019-08-17T06:02:27.626543Z"
    }
   },
   "outputs": [],
   "source": []
  },
  {
   "cell_type": "code",
   "execution_count": 35,
   "metadata": {
    "ExecuteTime": {
     "end_time": "2019-08-21T07:10:14.859833Z",
     "start_time": "2019-08-21T07:10:14.853950Z"
    }
   },
   "outputs": [],
   "source": [
    "learner.loss_func = LMAEMaskedLoss(magnetic_w=0, dipole_w=0, potential_w=0, \n",
    "                                  types_w = [1] + [1] * (n_types-1))"
   ]
  },
  {
   "cell_type": "code",
   "execution_count": null,
   "metadata": {
    "ExecuteTime": {
     "end_time": "2019-08-19T13:55:31.203434Z",
     "start_time": "2019-08-19T13:53:36.687673Z"
    }
   },
   "outputs": [],
   "source": [
    "#learner.data.batch_size = 512\n",
    "#learner.opt_func = RAdam\n",
    "learner.lr_find()\n",
    "learner.recorder.plot(suggestion=True)"
   ]
  },
  {
   "cell_type": "code",
   "execution_count": 36,
   "metadata": {
    "ExecuteTime": {
     "end_time": "2019-08-21T07:10:14.866252Z",
     "start_time": "2019-08-21T07:10:14.862018Z"
    }
   },
   "outputs": [
    {
     "data": {
      "text/plain": [
       "[functools.partial(<class 'fastai.basic_train.Recorder'>, add_time=True, silent=False),\n",
       " fastai.train.ShowGraph]"
      ]
     },
     "execution_count": 36,
     "metadata": {},
     "output_type": "execute_result"
    }
   ],
   "source": [
    "learner.callback_fns.append(ShowGraph)\n",
    "learner.callback_fns"
   ]
  },
  {
   "cell_type": "code",
   "execution_count": 37,
   "metadata": {
    "ExecuteTime": {
     "end_time": "2019-08-22T04:02:34.996637Z",
     "start_time": "2019-08-21T07:10:14.868420Z"
    },
    "scrolled": true
   },
   "outputs": [
    {
     "data": {
      "text/html": [
       "<table border=\"1\" class=\"dataframe\">\n",
       "  <thead>\n",
       "    <tr style=\"text-align: left;\">\n",
       "      <th>epoch</th>\n",
       "      <th>train_loss</th>\n",
       "      <th>valid_loss</th>\n",
       "      <th>👉🏻LMAE👈🏻</th>\n",
       "      <th>lmae0</th>\n",
       "      <th>lmae1</th>\n",
       "      <th>lmae2</th>\n",
       "      <th>lmae3</th>\n",
       "      <th>lmae4</th>\n",
       "      <th>lmae5</th>\n",
       "      <th>lmae6</th>\n",
       "      <th>lmae7</th>\n",
       "      <th>time</th>\n",
       "    </tr>\n",
       "  </thead>\n",
       "  <tbody>\n",
       "    <tr>\n",
       "      <td>0</td>\n",
       "      <td>-0.650085</td>\n",
       "      <td>0.268234</td>\n",
       "      <td>-0.705121</td>\n",
       "      <td>0.429066</td>\n",
       "      <td>-1.026537</td>\n",
       "      <td>-0.225323</td>\n",
       "      <td>-1.361138</td>\n",
       "      <td>-0.588950</td>\n",
       "      <td>-1.018699</td>\n",
       "      <td>-0.350435</td>\n",
       "      <td>-1.498949</td>\n",
       "      <td>12:38</td>\n",
       "    </tr>\n",
       "    <tr>\n",
       "      <td>1</td>\n",
       "      <td>-1.320330</td>\n",
       "      <td>-0.153019</td>\n",
       "      <td>-1.323210</td>\n",
       "      <td>-0.105215</td>\n",
       "      <td>-1.637285</td>\n",
       "      <td>-0.782808</td>\n",
       "      <td>-2.056758</td>\n",
       "      <td>-1.181769</td>\n",
       "      <td>-1.685077</td>\n",
       "      <td>-0.969499</td>\n",
       "      <td>-2.167265</td>\n",
       "      <td>12:27</td>\n",
       "    </tr>\n",
       "    <tr>\n",
       "      <td>2</td>\n",
       "      <td>-1.840242</td>\n",
       "      <td>-0.587554</td>\n",
       "      <td>-1.795123</td>\n",
       "      <td>-0.521111</td>\n",
       "      <td>-2.124432</td>\n",
       "      <td>-1.314622</td>\n",
       "      <td>-2.526842</td>\n",
       "      <td>-1.613438</td>\n",
       "      <td>-2.161358</td>\n",
       "      <td>-1.448759</td>\n",
       "      <td>-2.650423</td>\n",
       "      <td>12:27</td>\n",
       "    </tr>\n",
       "    <tr>\n",
       "      <td>3</td>\n",
       "      <td>-2.310243</td>\n",
       "      <td>-1.043920</td>\n",
       "      <td>-2.167900</td>\n",
       "      <td>-0.902789</td>\n",
       "      <td>-2.531996</td>\n",
       "      <td>-1.684945</td>\n",
       "      <td>-2.898998</td>\n",
       "      <td>-1.968956</td>\n",
       "      <td>-2.527604</td>\n",
       "      <td>-1.825251</td>\n",
       "      <td>-3.002660</td>\n",
       "      <td>12:27</td>\n",
       "    </tr>\n",
       "    <tr>\n",
       "      <td>4</td>\n",
       "      <td>-2.641222</td>\n",
       "      <td>-1.284396</td>\n",
       "      <td>-2.402605</td>\n",
       "      <td>-1.174579</td>\n",
       "      <td>-2.814358</td>\n",
       "      <td>-1.869336</td>\n",
       "      <td>-3.078862</td>\n",
       "      <td>-2.216432</td>\n",
       "      <td>-2.794554</td>\n",
       "      <td>-2.075564</td>\n",
       "      <td>-3.197155</td>\n",
       "      <td>12:27</td>\n",
       "    </tr>\n",
       "    <tr>\n",
       "      <td>5</td>\n",
       "      <td>-2.876425</td>\n",
       "      <td>-1.454012</td>\n",
       "      <td>-2.549597</td>\n",
       "      <td>-1.361519</td>\n",
       "      <td>-2.987005</td>\n",
       "      <td>-1.923141</td>\n",
       "      <td>-3.180894</td>\n",
       "      <td>-2.391074</td>\n",
       "      <td>-2.967406</td>\n",
       "      <td>-2.253295</td>\n",
       "      <td>-3.332441</td>\n",
       "      <td>12:27</td>\n",
       "    </tr>\n",
       "    <tr>\n",
       "      <td>6</td>\n",
       "      <td>-3.059107</td>\n",
       "      <td>-1.587858</td>\n",
       "      <td>-2.655442</td>\n",
       "      <td>-1.504803</td>\n",
       "      <td>-3.100995</td>\n",
       "      <td>-1.986578</td>\n",
       "      <td>-3.243901</td>\n",
       "      <td>-2.526033</td>\n",
       "      <td>-3.095936</td>\n",
       "      <td>-2.380922</td>\n",
       "      <td>-3.404372</td>\n",
       "      <td>12:35</td>\n",
       "    </tr>\n",
       "    <tr>\n",
       "      <td>7</td>\n",
       "      <td>-3.206979</td>\n",
       "      <td>-1.687191</td>\n",
       "      <td>-2.726086</td>\n",
       "      <td>-1.604485</td>\n",
       "      <td>-3.158880</td>\n",
       "      <td>-2.018987</td>\n",
       "      <td>-3.287165</td>\n",
       "      <td>-2.614941</td>\n",
       "      <td>-3.193945</td>\n",
       "      <td>-2.485233</td>\n",
       "      <td>-3.445055</td>\n",
       "      <td>12:34</td>\n",
       "    </tr>\n",
       "    <tr>\n",
       "      <td>8</td>\n",
       "      <td>-3.304430</td>\n",
       "      <td>-1.764387</td>\n",
       "      <td>-2.777749</td>\n",
       "      <td>-1.623570</td>\n",
       "      <td>-3.236325</td>\n",
       "      <td>-2.022996</td>\n",
       "      <td>-3.299871</td>\n",
       "      <td>-2.708492</td>\n",
       "      <td>-3.280038</td>\n",
       "      <td>-2.565427</td>\n",
       "      <td>-3.485267</td>\n",
       "      <td>12:27</td>\n",
       "    </tr>\n",
       "    <tr>\n",
       "      <td>9</td>\n",
       "      <td>-3.386584</td>\n",
       "      <td>-1.810611</td>\n",
       "      <td>-2.810676</td>\n",
       "      <td>-1.699714</td>\n",
       "      <td>-3.267415</td>\n",
       "      <td>-2.019683</td>\n",
       "      <td>-3.303373</td>\n",
       "      <td>-2.748103</td>\n",
       "      <td>-3.323637</td>\n",
       "      <td>-2.625761</td>\n",
       "      <td>-3.497724</td>\n",
       "      <td>12:27</td>\n",
       "    </tr>\n",
       "    <tr>\n",
       "      <td>10</td>\n",
       "      <td>-3.444306</td>\n",
       "      <td>-1.867551</td>\n",
       "      <td>-2.850676</td>\n",
       "      <td>-1.738285</td>\n",
       "      <td>-3.319921</td>\n",
       "      <td>-2.012721</td>\n",
       "      <td>-3.337436</td>\n",
       "      <td>-2.811087</td>\n",
       "      <td>-3.375735</td>\n",
       "      <td>-2.677244</td>\n",
       "      <td>-3.532978</td>\n",
       "      <td>12:30</td>\n",
       "    </tr>\n",
       "    <tr>\n",
       "      <td>11</td>\n",
       "      <td>-3.489206</td>\n",
       "      <td>-1.896355</td>\n",
       "      <td>-2.857552</td>\n",
       "      <td>-1.769063</td>\n",
       "      <td>-3.337538</td>\n",
       "      <td>-2.031072</td>\n",
       "      <td>-3.310394</td>\n",
       "      <td>-2.821293</td>\n",
       "      <td>-3.364460</td>\n",
       "      <td>-2.692542</td>\n",
       "      <td>-3.534050</td>\n",
       "      <td>12:27</td>\n",
       "    </tr>\n",
       "    <tr>\n",
       "      <td>12</td>\n",
       "      <td>-3.499989</td>\n",
       "      <td>-1.929470</td>\n",
       "      <td>-2.867845</td>\n",
       "      <td>-1.793485</td>\n",
       "      <td>-3.310571</td>\n",
       "      <td>-2.050848</td>\n",
       "      <td>-3.314702</td>\n",
       "      <td>-2.817557</td>\n",
       "      <td>-3.425488</td>\n",
       "      <td>-2.716832</td>\n",
       "      <td>-3.513273</td>\n",
       "      <td>12:27</td>\n",
       "    </tr>\n",
       "    <tr>\n",
       "      <td>13</td>\n",
       "      <td>-3.519192</td>\n",
       "      <td>-1.960830</td>\n",
       "      <td>-2.877803</td>\n",
       "      <td>-1.850227</td>\n",
       "      <td>-3.366865</td>\n",
       "      <td>-1.971725</td>\n",
       "      <td>-3.333966</td>\n",
       "      <td>-2.864923</td>\n",
       "      <td>-3.411178</td>\n",
       "      <td>-2.694710</td>\n",
       "      <td>-3.528833</td>\n",
       "      <td>12:27</td>\n",
       "    </tr>\n",
       "    <tr>\n",
       "      <td>14</td>\n",
       "      <td>-3.487725</td>\n",
       "      <td>-1.940445</td>\n",
       "      <td>-2.798288</td>\n",
       "      <td>-1.836998</td>\n",
       "      <td>-3.342755</td>\n",
       "      <td>-1.965186</td>\n",
       "      <td>-3.128039</td>\n",
       "      <td>-2.817390</td>\n",
       "      <td>-3.305719</td>\n",
       "      <td>-2.677399</td>\n",
       "      <td>-3.312821</td>\n",
       "      <td>12:28</td>\n",
       "    </tr>\n",
       "    <tr>\n",
       "      <td>15</td>\n",
       "      <td>-3.464804</td>\n",
       "      <td>-2.000024</td>\n",
       "      <td>-2.862508</td>\n",
       "      <td>-1.833496</td>\n",
       "      <td>-3.357370</td>\n",
       "      <td>-1.933907</td>\n",
       "      <td>-3.287025</td>\n",
       "      <td>-2.867517</td>\n",
       "      <td>-3.423412</td>\n",
       "      <td>-2.759615</td>\n",
       "      <td>-3.437722</td>\n",
       "      <td>12:31</td>\n",
       "    </tr>\n",
       "    <tr>\n",
       "      <td>16</td>\n",
       "      <td>-3.445168</td>\n",
       "      <td>-2.028027</td>\n",
       "      <td>-2.845572</td>\n",
       "      <td>-1.783636</td>\n",
       "      <td>-3.330091</td>\n",
       "      <td>-1.983915</td>\n",
       "      <td>-3.259535</td>\n",
       "      <td>-2.760275</td>\n",
       "      <td>-3.445368</td>\n",
       "      <td>-2.755906</td>\n",
       "      <td>-3.445846</td>\n",
       "      <td>12:31</td>\n",
       "    </tr>\n",
       "    <tr>\n",
       "      <td>17</td>\n",
       "      <td>-3.458226</td>\n",
       "      <td>-2.017805</td>\n",
       "      <td>-2.817158</td>\n",
       "      <td>-1.820557</td>\n",
       "      <td>-3.152232</td>\n",
       "      <td>-1.884819</td>\n",
       "      <td>-3.265573</td>\n",
       "      <td>-2.890528</td>\n",
       "      <td>-3.363409</td>\n",
       "      <td>-2.728442</td>\n",
       "      <td>-3.431708</td>\n",
       "      <td>12:28</td>\n",
       "    </tr>\n",
       "    <tr>\n",
       "      <td>18</td>\n",
       "      <td>-3.412384</td>\n",
       "      <td>-2.050156</td>\n",
       "      <td>-2.848690</td>\n",
       "      <td>-1.814255</td>\n",
       "      <td>-3.359175</td>\n",
       "      <td>-1.911371</td>\n",
       "      <td>-3.242720</td>\n",
       "      <td>-2.795967</td>\n",
       "      <td>-3.434720</td>\n",
       "      <td>-2.759994</td>\n",
       "      <td>-3.471320</td>\n",
       "      <td>12:28</td>\n",
       "    </tr>\n",
       "    <tr>\n",
       "      <td>19</td>\n",
       "      <td>-3.343129</td>\n",
       "      <td>-2.034252</td>\n",
       "      <td>-2.811886</td>\n",
       "      <td>-1.842275</td>\n",
       "      <td>-3.141573</td>\n",
       "      <td>-1.954134</td>\n",
       "      <td>-3.248128</td>\n",
       "      <td>-2.835589</td>\n",
       "      <td>-3.355724</td>\n",
       "      <td>-2.687073</td>\n",
       "      <td>-3.430591</td>\n",
       "      <td>12:28</td>\n",
       "    </tr>\n",
       "    <tr>\n",
       "      <td>20</td>\n",
       "      <td>-3.351302</td>\n",
       "      <td>-2.063538</td>\n",
       "      <td>-2.824665</td>\n",
       "      <td>-1.790421</td>\n",
       "      <td>-3.307520</td>\n",
       "      <td>-1.941173</td>\n",
       "      <td>-3.228210</td>\n",
       "      <td>-2.793293</td>\n",
       "      <td>-3.346204</td>\n",
       "      <td>-2.740246</td>\n",
       "      <td>-3.450255</td>\n",
       "      <td>12:28</td>\n",
       "    </tr>\n",
       "    <tr>\n",
       "      <td>21</td>\n",
       "      <td>-3.237459</td>\n",
       "      <td>-2.064743</td>\n",
       "      <td>-2.803886</td>\n",
       "      <td>-1.805267</td>\n",
       "      <td>-3.223701</td>\n",
       "      <td>-1.863101</td>\n",
       "      <td>-3.218206</td>\n",
       "      <td>-2.786693</td>\n",
       "      <td>-3.382546</td>\n",
       "      <td>-2.705460</td>\n",
       "      <td>-3.446115</td>\n",
       "      <td>12:28</td>\n",
       "    </tr>\n",
       "    <tr>\n",
       "      <td>22</td>\n",
       "      <td>-3.164763</td>\n",
       "      <td>-2.069253</td>\n",
       "      <td>-2.766177</td>\n",
       "      <td>-1.756283</td>\n",
       "      <td>-3.329130</td>\n",
       "      <td>-1.895368</td>\n",
       "      <td>-3.117216</td>\n",
       "      <td>-2.747301</td>\n",
       "      <td>-3.232710</td>\n",
       "      <td>-2.672768</td>\n",
       "      <td>-3.378643</td>\n",
       "      <td>12:34</td>\n",
       "    </tr>\n",
       "    <tr>\n",
       "      <td>23</td>\n",
       "      <td>-3.160513</td>\n",
       "      <td>-2.055409</td>\n",
       "      <td>-2.782896</td>\n",
       "      <td>-1.711270</td>\n",
       "      <td>-3.300180</td>\n",
       "      <td>-1.871123</td>\n",
       "      <td>-3.153274</td>\n",
       "      <td>-2.838870</td>\n",
       "      <td>-3.269076</td>\n",
       "      <td>-2.726340</td>\n",
       "      <td>-3.393037</td>\n",
       "      <td>12:32</td>\n",
       "    </tr>\n",
       "    <tr>\n",
       "      <td>24</td>\n",
       "      <td>-3.210240</td>\n",
       "      <td>-2.093782</td>\n",
       "      <td>-2.809981</td>\n",
       "      <td>-1.668123</td>\n",
       "      <td>-3.329302</td>\n",
       "      <td>-1.869982</td>\n",
       "      <td>-3.241162</td>\n",
       "      <td>-2.843121</td>\n",
       "      <td>-3.344531</td>\n",
       "      <td>-2.729764</td>\n",
       "      <td>-3.453860</td>\n",
       "      <td>12:28</td>\n",
       "    </tr>\n",
       "    <tr>\n",
       "      <td>25</td>\n",
       "      <td>-3.127729</td>\n",
       "      <td>-2.078707</td>\n",
       "      <td>-2.787987</td>\n",
       "      <td>-1.774742</td>\n",
       "      <td>-3.276894</td>\n",
       "      <td>-1.830856</td>\n",
       "      <td>-3.133900</td>\n",
       "      <td>-2.791815</td>\n",
       "      <td>-3.342003</td>\n",
       "      <td>-2.707289</td>\n",
       "      <td>-3.446400</td>\n",
       "      <td>12:36</td>\n",
       "    </tr>\n",
       "    <tr>\n",
       "      <td>26</td>\n",
       "      <td>-3.141766</td>\n",
       "      <td>-2.085640</td>\n",
       "      <td>-2.785851</td>\n",
       "      <td>-1.760827</td>\n",
       "      <td>-3.274420</td>\n",
       "      <td>-1.791642</td>\n",
       "      <td>-3.177035</td>\n",
       "      <td>-2.839633</td>\n",
       "      <td>-3.322378</td>\n",
       "      <td>-2.709611</td>\n",
       "      <td>-3.411265</td>\n",
       "      <td>12:27</td>\n",
       "    </tr>\n",
       "    <tr>\n",
       "      <td>27</td>\n",
       "      <td>-3.092192</td>\n",
       "      <td>-2.066799</td>\n",
       "      <td>-2.774765</td>\n",
       "      <td>-1.695970</td>\n",
       "      <td>-3.264575</td>\n",
       "      <td>-1.805289</td>\n",
       "      <td>-3.187671</td>\n",
       "      <td>-2.814044</td>\n",
       "      <td>-3.259650</td>\n",
       "      <td>-2.740820</td>\n",
       "      <td>-3.430099</td>\n",
       "      <td>12:27</td>\n",
       "    </tr>\n",
       "    <tr>\n",
       "      <td>28</td>\n",
       "      <td>-3.163697</td>\n",
       "      <td>-2.088429</td>\n",
       "      <td>-2.783459</td>\n",
       "      <td>-1.772633</td>\n",
       "      <td>-3.294293</td>\n",
       "      <td>-1.743357</td>\n",
       "      <td>-3.167962</td>\n",
       "      <td>-2.796744</td>\n",
       "      <td>-3.338549</td>\n",
       "      <td>-2.702241</td>\n",
       "      <td>-3.451893</td>\n",
       "      <td>12:28</td>\n",
       "    </tr>\n",
       "    <tr>\n",
       "      <td>29</td>\n",
       "      <td>-3.176292</td>\n",
       "      <td>-2.015987</td>\n",
       "      <td>-2.713537</td>\n",
       "      <td>-1.606563</td>\n",
       "      <td>-2.881264</td>\n",
       "      <td>-1.745545</td>\n",
       "      <td>-3.186462</td>\n",
       "      <td>-2.755812</td>\n",
       "      <td>-3.354295</td>\n",
       "      <td>-2.741915</td>\n",
       "      <td>-3.436439</td>\n",
       "      <td>12:29</td>\n",
       "    </tr>\n",
       "    <tr>\n",
       "      <td>30</td>\n",
       "      <td>-3.177197</td>\n",
       "      <td>-1.937096</td>\n",
       "      <td>-2.630157</td>\n",
       "      <td>-1.691728</td>\n",
       "      <td>-3.254515</td>\n",
       "      <td>-1.802323</td>\n",
       "      <td>-3.028023</td>\n",
       "      <td>-2.593140</td>\n",
       "      <td>-2.915926</td>\n",
       "      <td>-2.554638</td>\n",
       "      <td>-3.200962</td>\n",
       "      <td>12:29</td>\n",
       "    </tr>\n",
       "    <tr>\n",
       "      <td>31</td>\n",
       "      <td>-3.139456</td>\n",
       "      <td>-2.038105</td>\n",
       "      <td>-2.798920</td>\n",
       "      <td>-1.717761</td>\n",
       "      <td>-3.294391</td>\n",
       "      <td>-1.901020</td>\n",
       "      <td>-3.182204</td>\n",
       "      <td>-2.819519</td>\n",
       "      <td>-3.319420</td>\n",
       "      <td>-2.727487</td>\n",
       "      <td>-3.429558</td>\n",
       "      <td>12:31</td>\n",
       "    </tr>\n",
       "    <tr>\n",
       "      <td>32</td>\n",
       "      <td>-3.171949</td>\n",
       "      <td>-1.910705</td>\n",
       "      <td>-2.596102</td>\n",
       "      <td>-1.607929</td>\n",
       "      <td>-2.994866</td>\n",
       "      <td>-1.750592</td>\n",
       "      <td>-2.943316</td>\n",
       "      <td>-2.683864</td>\n",
       "      <td>-2.976689</td>\n",
       "      <td>-2.549622</td>\n",
       "      <td>-3.261939</td>\n",
       "      <td>12:28</td>\n",
       "    </tr>\n",
       "    <tr>\n",
       "      <td>33</td>\n",
       "      <td>-3.228152</td>\n",
       "      <td>-1.962005</td>\n",
       "      <td>-2.761360</td>\n",
       "      <td>-1.809436</td>\n",
       "      <td>-3.264984</td>\n",
       "      <td>-1.809466</td>\n",
       "      <td>-3.091808</td>\n",
       "      <td>-2.847956</td>\n",
       "      <td>-3.229425</td>\n",
       "      <td>-2.733860</td>\n",
       "      <td>-3.303944</td>\n",
       "      <td>12:28</td>\n",
       "    </tr>\n",
       "    <tr>\n",
       "      <td>34</td>\n",
       "      <td>-3.147719</td>\n",
       "      <td>-1.887742</td>\n",
       "      <td>-2.635842</td>\n",
       "      <td>-1.747478</td>\n",
       "      <td>-3.304718</td>\n",
       "      <td>-1.862511</td>\n",
       "      <td>-2.940475</td>\n",
       "      <td>-2.645490</td>\n",
       "      <td>-2.990165</td>\n",
       "      <td>-2.463295</td>\n",
       "      <td>-3.132605</td>\n",
       "      <td>12:28</td>\n",
       "    </tr>\n",
       "    <tr>\n",
       "      <td>35</td>\n",
       "      <td>-3.139464</td>\n",
       "      <td>-1.992420</td>\n",
       "      <td>-2.817410</td>\n",
       "      <td>-1.778980</td>\n",
       "      <td>-3.317533</td>\n",
       "      <td>-1.883473</td>\n",
       "      <td>-3.169337</td>\n",
       "      <td>-2.857880</td>\n",
       "      <td>-3.328075</td>\n",
       "      <td>-2.751866</td>\n",
       "      <td>-3.452132</td>\n",
       "      <td>12:28</td>\n",
       "    </tr>\n",
       "    <tr>\n",
       "      <td>36</td>\n",
       "      <td>-3.249229</td>\n",
       "      <td>-1.893037</td>\n",
       "      <td>-2.775184</td>\n",
       "      <td>-1.701231</td>\n",
       "      <td>-3.103789</td>\n",
       "      <td>-1.886310</td>\n",
       "      <td>-3.219863</td>\n",
       "      <td>-2.850557</td>\n",
       "      <td>-3.260884</td>\n",
       "      <td>-2.751870</td>\n",
       "      <td>-3.426968</td>\n",
       "      <td>12:29</td>\n",
       "    </tr>\n",
       "    <tr>\n",
       "      <td>37</td>\n",
       "      <td>-3.121488</td>\n",
       "      <td>-1.841099</td>\n",
       "      <td>-2.663369</td>\n",
       "      <td>-1.562303</td>\n",
       "      <td>-2.927084</td>\n",
       "      <td>-1.806518</td>\n",
       "      <td>-3.050282</td>\n",
       "      <td>-2.691190</td>\n",
       "      <td>-3.251837</td>\n",
       "      <td>-2.717694</td>\n",
       "      <td>-3.300041</td>\n",
       "      <td>12:31</td>\n",
       "    </tr>\n",
       "    <tr>\n",
       "      <td>38</td>\n",
       "      <td>-3.219503</td>\n",
       "      <td>-1.900978</td>\n",
       "      <td>-2.799711</td>\n",
       "      <td>-1.807998</td>\n",
       "      <td>-3.319814</td>\n",
       "      <td>-1.796680</td>\n",
       "      <td>-3.179893</td>\n",
       "      <td>-2.840433</td>\n",
       "      <td>-3.325093</td>\n",
       "      <td>-2.741397</td>\n",
       "      <td>-3.386385</td>\n",
       "      <td>12:28</td>\n",
       "    </tr>\n",
       "    <tr>\n",
       "      <td>39</td>\n",
       "      <td>-3.272352</td>\n",
       "      <td>-1.896468</td>\n",
       "      <td>-2.788155</td>\n",
       "      <td>-1.819390</td>\n",
       "      <td>-3.239618</td>\n",
       "      <td>-1.762892</td>\n",
       "      <td>-3.166113</td>\n",
       "      <td>-2.826747</td>\n",
       "      <td>-3.342119</td>\n",
       "      <td>-2.781192</td>\n",
       "      <td>-3.367167</td>\n",
       "      <td>12:28</td>\n",
       "    </tr>\n",
       "    <tr>\n",
       "      <td>40</td>\n",
       "      <td>-3.329073</td>\n",
       "      <td>-1.924645</td>\n",
       "      <td>-2.830786</td>\n",
       "      <td>-1.776280</td>\n",
       "      <td>-3.332780</td>\n",
       "      <td>-1.902129</td>\n",
       "      <td>-3.202505</td>\n",
       "      <td>-2.855915</td>\n",
       "      <td>-3.369836</td>\n",
       "      <td>-2.779830</td>\n",
       "      <td>-3.427010</td>\n",
       "      <td>12:28</td>\n",
       "    </tr>\n",
       "    <tr>\n",
       "      <td>41</td>\n",
       "      <td>-3.213372</td>\n",
       "      <td>-1.830377</td>\n",
       "      <td>-2.756594</td>\n",
       "      <td>-1.844536</td>\n",
       "      <td>-3.336858</td>\n",
       "      <td>-1.837211</td>\n",
       "      <td>-3.057280</td>\n",
       "      <td>-2.801262</td>\n",
       "      <td>-3.162429</td>\n",
       "      <td>-2.755917</td>\n",
       "      <td>-3.257258</td>\n",
       "      <td>12:28</td>\n",
       "    </tr>\n",
       "    <tr>\n",
       "      <td>42</td>\n",
       "      <td>-3.340483</td>\n",
       "      <td>-1.840725</td>\n",
       "      <td>-2.808941</td>\n",
       "      <td>-1.748216</td>\n",
       "      <td>-3.325004</td>\n",
       "      <td>-1.893123</td>\n",
       "      <td>-3.158227</td>\n",
       "      <td>-2.794654</td>\n",
       "      <td>-3.330564</td>\n",
       "      <td>-2.786243</td>\n",
       "      <td>-3.435500</td>\n",
       "      <td>12:29</td>\n",
       "    </tr>\n",
       "    <tr>\n",
       "      <td>43</td>\n",
       "      <td>-3.339972</td>\n",
       "      <td>-1.811768</td>\n",
       "      <td>-2.806399</td>\n",
       "      <td>-1.774103</td>\n",
       "      <td>-3.139799</td>\n",
       "      <td>-1.872172</td>\n",
       "      <td>-3.223146</td>\n",
       "      <td>-2.786636</td>\n",
       "      <td>-3.410779</td>\n",
       "      <td>-2.803956</td>\n",
       "      <td>-3.440596</td>\n",
       "      <td>12:28</td>\n",
       "    </tr>\n",
       "    <tr>\n",
       "      <td>44</td>\n",
       "      <td>-3.348368</td>\n",
       "      <td>-1.799011</td>\n",
       "      <td>-2.840617</td>\n",
       "      <td>-1.846324</td>\n",
       "      <td>-3.246102</td>\n",
       "      <td>-1.877222</td>\n",
       "      <td>-3.209002</td>\n",
       "      <td>-2.877877</td>\n",
       "      <td>-3.381806</td>\n",
       "      <td>-2.796337</td>\n",
       "      <td>-3.490265</td>\n",
       "      <td>12:30</td>\n",
       "    </tr>\n",
       "    <tr>\n",
       "      <td>45</td>\n",
       "      <td>-3.310093</td>\n",
       "      <td>-1.792340</td>\n",
       "      <td>-2.817311</td>\n",
       "      <td>-1.835073</td>\n",
       "      <td>-3.324832</td>\n",
       "      <td>-1.908356</td>\n",
       "      <td>-3.157735</td>\n",
       "      <td>-2.780047</td>\n",
       "      <td>-3.363503</td>\n",
       "      <td>-2.800516</td>\n",
       "      <td>-3.368425</td>\n",
       "      <td>12:30</td>\n",
       "    </tr>\n",
       "    <tr>\n",
       "      <td>46</td>\n",
       "      <td>-3.399657</td>\n",
       "      <td>-1.753969</td>\n",
       "      <td>-2.742448</td>\n",
       "      <td>-1.858387</td>\n",
       "      <td>-3.339482</td>\n",
       "      <td>-1.818865</td>\n",
       "      <td>-3.079922</td>\n",
       "      <td>-2.650846</td>\n",
       "      <td>-3.204516</td>\n",
       "      <td>-2.728161</td>\n",
       "      <td>-3.259407</td>\n",
       "      <td>12:32</td>\n",
       "    </tr>\n",
       "    <tr>\n",
       "      <td>47</td>\n",
       "      <td>-3.466339</td>\n",
       "      <td>-1.759028</td>\n",
       "      <td>-2.829581</td>\n",
       "      <td>-1.876222</td>\n",
       "      <td>-3.327596</td>\n",
       "      <td>-1.855186</td>\n",
       "      <td>-3.219882</td>\n",
       "      <td>-2.816363</td>\n",
       "      <td>-3.325026</td>\n",
       "      <td>-2.770747</td>\n",
       "      <td>-3.445619</td>\n",
       "      <td>12:29</td>\n",
       "    </tr>\n",
       "    <tr>\n",
       "      <td>48</td>\n",
       "      <td>-3.490265</td>\n",
       "      <td>-1.738104</td>\n",
       "      <td>-2.876696</td>\n",
       "      <td>-1.894604</td>\n",
       "      <td>-3.265938</td>\n",
       "      <td>-1.907266</td>\n",
       "      <td>-3.266754</td>\n",
       "      <td>-2.929971</td>\n",
       "      <td>-3.428025</td>\n",
       "      <td>-2.828660</td>\n",
       "      <td>-3.492347</td>\n",
       "      <td>12:29</td>\n",
       "    </tr>\n",
       "    <tr>\n",
       "      <td>49</td>\n",
       "      <td>-3.489744</td>\n",
       "      <td>-1.754275</td>\n",
       "      <td>-2.886464</td>\n",
       "      <td>-1.887102</td>\n",
       "      <td>-3.325634</td>\n",
       "      <td>-1.920575</td>\n",
       "      <td>-3.281574</td>\n",
       "      <td>-2.916275</td>\n",
       "      <td>-3.414219</td>\n",
       "      <td>-2.837280</td>\n",
       "      <td>-3.509051</td>\n",
       "      <td>12:29</td>\n",
       "    </tr>\n",
       "    <tr>\n",
       "      <td>50</td>\n",
       "      <td>-3.502257</td>\n",
       "      <td>-1.703888</td>\n",
       "      <td>-2.854031</td>\n",
       "      <td>-1.875612</td>\n",
       "      <td>-3.170431</td>\n",
       "      <td>-1.980490</td>\n",
       "      <td>-3.253356</td>\n",
       "      <td>-2.856163</td>\n",
       "      <td>-3.421826</td>\n",
       "      <td>-2.824337</td>\n",
       "      <td>-3.450031</td>\n",
       "      <td>12:29</td>\n",
       "    </tr>\n",
       "    <tr>\n",
       "      <td>51</td>\n",
       "      <td>-3.542900</td>\n",
       "      <td>-1.721982</td>\n",
       "      <td>-2.865678</td>\n",
       "      <td>-1.796743</td>\n",
       "      <td>-3.235643</td>\n",
       "      <td>-1.902861</td>\n",
       "      <td>-3.279247</td>\n",
       "      <td>-2.921484</td>\n",
       "      <td>-3.463464</td>\n",
       "      <td>-2.819147</td>\n",
       "      <td>-3.506837</td>\n",
       "      <td>12:30</td>\n",
       "    </tr>\n",
       "    <tr>\n",
       "      <td>52</td>\n",
       "      <td>-3.583556</td>\n",
       "      <td>-1.730031</td>\n",
       "      <td>-2.913922</td>\n",
       "      <td>-1.873073</td>\n",
       "      <td>-3.373825</td>\n",
       "      <td>-1.945944</td>\n",
       "      <td>-3.314374</td>\n",
       "      <td>-2.962432</td>\n",
       "      <td>-3.462838</td>\n",
       "      <td>-2.858554</td>\n",
       "      <td>-3.520336</td>\n",
       "      <td>12:32</td>\n",
       "    </tr>\n",
       "    <tr>\n",
       "      <td>53</td>\n",
       "      <td>-3.559725</td>\n",
       "      <td>-1.692293</td>\n",
       "      <td>-2.908951</td>\n",
       "      <td>-1.919415</td>\n",
       "      <td>-3.276784</td>\n",
       "      <td>-1.958667</td>\n",
       "      <td>-3.308927</td>\n",
       "      <td>-2.952279</td>\n",
       "      <td>-3.479685</td>\n",
       "      <td>-2.864595</td>\n",
       "      <td>-3.511259</td>\n",
       "      <td>12:29</td>\n",
       "    </tr>\n",
       "    <tr>\n",
       "      <td>54</td>\n",
       "      <td>-3.631315</td>\n",
       "      <td>-1.678685</td>\n",
       "      <td>-2.925769</td>\n",
       "      <td>-1.920894</td>\n",
       "      <td>-3.370215</td>\n",
       "      <td>-1.973664</td>\n",
       "      <td>-3.326053</td>\n",
       "      <td>-2.955334</td>\n",
       "      <td>-3.448717</td>\n",
       "      <td>-2.868976</td>\n",
       "      <td>-3.542300</td>\n",
       "      <td>12:29</td>\n",
       "    </tr>\n",
       "    <tr>\n",
       "      <td>55</td>\n",
       "      <td>-3.571294</td>\n",
       "      <td>-1.634302</td>\n",
       "      <td>-2.894363</td>\n",
       "      <td>-1.936670</td>\n",
       "      <td>-3.320845</td>\n",
       "      <td>-1.927207</td>\n",
       "      <td>-3.273186</td>\n",
       "      <td>-2.968686</td>\n",
       "      <td>-3.360959</td>\n",
       "      <td>-2.842563</td>\n",
       "      <td>-3.524782</td>\n",
       "      <td>12:29</td>\n",
       "    </tr>\n",
       "    <tr>\n",
       "      <td>56</td>\n",
       "      <td>-3.627441</td>\n",
       "      <td>-1.616213</td>\n",
       "      <td>-2.876076</td>\n",
       "      <td>-1.926409</td>\n",
       "      <td>-3.104955</td>\n",
       "      <td>-1.952690</td>\n",
       "      <td>-3.305999</td>\n",
       "      <td>-2.967444</td>\n",
       "      <td>-3.414642</td>\n",
       "      <td>-2.873399</td>\n",
       "      <td>-3.463068</td>\n",
       "      <td>12:29</td>\n",
       "    </tr>\n",
       "    <tr>\n",
       "      <td>57</td>\n",
       "      <td>-3.656431</td>\n",
       "      <td>-1.653797</td>\n",
       "      <td>-2.921710</td>\n",
       "      <td>-1.923687</td>\n",
       "      <td>-3.395827</td>\n",
       "      <td>-1.999578</td>\n",
       "      <td>-3.266299</td>\n",
       "      <td>-2.953745</td>\n",
       "      <td>-3.429950</td>\n",
       "      <td>-2.884490</td>\n",
       "      <td>-3.520105</td>\n",
       "      <td>12:29</td>\n",
       "    </tr>\n",
       "    <tr>\n",
       "      <td>58</td>\n",
       "      <td>-3.718271</td>\n",
       "      <td>-1.638532</td>\n",
       "      <td>-2.932962</td>\n",
       "      <td>-1.939604</td>\n",
       "      <td>-3.362216</td>\n",
       "      <td>-1.980212</td>\n",
       "      <td>-3.319722</td>\n",
       "      <td>-2.985546</td>\n",
       "      <td>-3.490839</td>\n",
       "      <td>-2.890718</td>\n",
       "      <td>-3.494841</td>\n",
       "      <td>12:30</td>\n",
       "    </tr>\n",
       "    <tr>\n",
       "      <td>59</td>\n",
       "      <td>-3.746056</td>\n",
       "      <td>-1.633836</td>\n",
       "      <td>-2.950973</td>\n",
       "      <td>-1.946792</td>\n",
       "      <td>-3.329613</td>\n",
       "      <td>-1.990345</td>\n",
       "      <td>-3.353819</td>\n",
       "      <td>-3.007166</td>\n",
       "      <td>-3.502253</td>\n",
       "      <td>-2.899863</td>\n",
       "      <td>-3.577932</td>\n",
       "      <td>12:33</td>\n",
       "    </tr>\n",
       "    <tr>\n",
       "      <td>60</td>\n",
       "      <td>-3.712306</td>\n",
       "      <td>-1.639567</td>\n",
       "      <td>-2.962525</td>\n",
       "      <td>-1.937554</td>\n",
       "      <td>-3.428010</td>\n",
       "      <td>-1.997845</td>\n",
       "      <td>-3.363761</td>\n",
       "      <td>-3.013035</td>\n",
       "      <td>-3.478865</td>\n",
       "      <td>-2.902278</td>\n",
       "      <td>-3.578849</td>\n",
       "      <td>12:30</td>\n",
       "    </tr>\n",
       "    <tr>\n",
       "      <td>61</td>\n",
       "      <td>-3.842843</td>\n",
       "      <td>-1.619483</td>\n",
       "      <td>-2.977187</td>\n",
       "      <td>-1.973525</td>\n",
       "      <td>-3.439997</td>\n",
       "      <td>-2.022503</td>\n",
       "      <td>-3.347767</td>\n",
       "      <td>-3.021249</td>\n",
       "      <td>-3.521806</td>\n",
       "      <td>-2.914439</td>\n",
       "      <td>-3.576208</td>\n",
       "      <td>12:30</td>\n",
       "    </tr>\n",
       "    <tr>\n",
       "      <td>62</td>\n",
       "      <td>-3.869351</td>\n",
       "      <td>-1.611783</td>\n",
       "      <td>-2.972554</td>\n",
       "      <td>-1.914640</td>\n",
       "      <td>-3.447049</td>\n",
       "      <td>-1.992403</td>\n",
       "      <td>-3.363608</td>\n",
       "      <td>-3.021599</td>\n",
       "      <td>-3.534320</td>\n",
       "      <td>-2.919512</td>\n",
       "      <td>-3.587300</td>\n",
       "      <td>12:30</td>\n",
       "    </tr>\n",
       "    <tr>\n",
       "      <td>63</td>\n",
       "      <td>-3.893465</td>\n",
       "      <td>-1.617588</td>\n",
       "      <td>-2.978981</td>\n",
       "      <td>-1.948298</td>\n",
       "      <td>-3.396764</td>\n",
       "      <td>-2.024611</td>\n",
       "      <td>-3.374999</td>\n",
       "      <td>-3.030678</td>\n",
       "      <td>-3.532060</td>\n",
       "      <td>-2.929588</td>\n",
       "      <td>-3.594857</td>\n",
       "      <td>12:30</td>\n",
       "    </tr>\n",
       "    <tr>\n",
       "      <td>64</td>\n",
       "      <td>-3.898270</td>\n",
       "      <td>-1.611976</td>\n",
       "      <td>-2.991067</td>\n",
       "      <td>-1.977883</td>\n",
       "      <td>-3.457116</td>\n",
       "      <td>-1.987274</td>\n",
       "      <td>-3.375498</td>\n",
       "      <td>-3.037046</td>\n",
       "      <td>-3.556921</td>\n",
       "      <td>-2.936868</td>\n",
       "      <td>-3.599930</td>\n",
       "      <td>12:29</td>\n",
       "    </tr>\n",
       "    <tr>\n",
       "      <td>65</td>\n",
       "      <td>-3.898580</td>\n",
       "      <td>-1.571624</td>\n",
       "      <td>-2.970848</td>\n",
       "      <td>-1.988353</td>\n",
       "      <td>-3.378608</td>\n",
       "      <td>-2.010909</td>\n",
       "      <td>-3.359985</td>\n",
       "      <td>-3.012499</td>\n",
       "      <td>-3.529353</td>\n",
       "      <td>-2.911340</td>\n",
       "      <td>-3.575739</td>\n",
       "      <td>12:31</td>\n",
       "    </tr>\n",
       "    <tr>\n",
       "      <td>66</td>\n",
       "      <td>-4.005558</td>\n",
       "      <td>-1.616361</td>\n",
       "      <td>-3.006209</td>\n",
       "      <td>-2.002428</td>\n",
       "      <td>-3.464646</td>\n",
       "      <td>-2.017365</td>\n",
       "      <td>-3.401979</td>\n",
       "      <td>-3.051515</td>\n",
       "      <td>-3.558794</td>\n",
       "      <td>-2.944007</td>\n",
       "      <td>-3.608934</td>\n",
       "      <td>12:33</td>\n",
       "    </tr>\n",
       "    <tr>\n",
       "      <td>67</td>\n",
       "      <td>-4.036263</td>\n",
       "      <td>-1.608069</td>\n",
       "      <td>-3.012711</td>\n",
       "      <td>-2.007730</td>\n",
       "      <td>-3.463183</td>\n",
       "      <td>-2.043525</td>\n",
       "      <td>-3.396518</td>\n",
       "      <td>-3.054740</td>\n",
       "      <td>-3.571333</td>\n",
       "      <td>-2.945946</td>\n",
       "      <td>-3.618716</td>\n",
       "      <td>12:29</td>\n",
       "    </tr>\n",
       "    <tr>\n",
       "      <td>68</td>\n",
       "      <td>-4.078130</td>\n",
       "      <td>-1.609163</td>\n",
       "      <td>-3.012678</td>\n",
       "      <td>-2.013031</td>\n",
       "      <td>-3.473961</td>\n",
       "      <td>-2.040138</td>\n",
       "      <td>-3.383319</td>\n",
       "      <td>-3.053451</td>\n",
       "      <td>-3.573479</td>\n",
       "      <td>-2.950715</td>\n",
       "      <td>-3.613330</td>\n",
       "      <td>12:30</td>\n",
       "    </tr>\n",
       "    <tr>\n",
       "      <td>69</td>\n",
       "      <td>-4.092477</td>\n",
       "      <td>-1.596826</td>\n",
       "      <td>-3.017941</td>\n",
       "      <td>-2.016626</td>\n",
       "      <td>-3.473653</td>\n",
       "      <td>-2.042833</td>\n",
       "      <td>-3.411094</td>\n",
       "      <td>-3.056778</td>\n",
       "      <td>-3.580570</td>\n",
       "      <td>-2.947563</td>\n",
       "      <td>-3.614414</td>\n",
       "      <td>12:30</td>\n",
       "    </tr>\n",
       "    <tr>\n",
       "      <td>70</td>\n",
       "      <td>-4.151673</td>\n",
       "      <td>-1.591869</td>\n",
       "      <td>-3.008406</td>\n",
       "      <td>-1.970997</td>\n",
       "      <td>-3.480281</td>\n",
       "      <td>-2.045509</td>\n",
       "      <td>-3.403064</td>\n",
       "      <td>-3.059761</td>\n",
       "      <td>-3.546188</td>\n",
       "      <td>-2.949283</td>\n",
       "      <td>-3.612161</td>\n",
       "      <td>12:30</td>\n",
       "    </tr>\n",
       "    <tr>\n",
       "      <td>71</td>\n",
       "      <td>-4.193089</td>\n",
       "      <td>-1.602375</td>\n",
       "      <td>-3.028134</td>\n",
       "      <td>-2.024166</td>\n",
       "      <td>-3.495639</td>\n",
       "      <td>-2.044017</td>\n",
       "      <td>-3.416701</td>\n",
       "      <td>-3.072504</td>\n",
       "      <td>-3.589833</td>\n",
       "      <td>-2.962430</td>\n",
       "      <td>-3.619781</td>\n",
       "      <td>12:30</td>\n",
       "    </tr>\n",
       "    <tr>\n",
       "      <td>72</td>\n",
       "      <td>-4.244223</td>\n",
       "      <td>-1.587534</td>\n",
       "      <td>-3.032436</td>\n",
       "      <td>-2.031603</td>\n",
       "      <td>-3.498099</td>\n",
       "      <td>-2.055502</td>\n",
       "      <td>-3.422073</td>\n",
       "      <td>-3.076313</td>\n",
       "      <td>-3.592085</td>\n",
       "      <td>-2.965343</td>\n",
       "      <td>-3.618470</td>\n",
       "      <td>12:30</td>\n",
       "    </tr>\n",
       "    <tr>\n",
       "      <td>73</td>\n",
       "      <td>-4.278635</td>\n",
       "      <td>-1.601379</td>\n",
       "      <td>-3.034764</td>\n",
       "      <td>-2.029794</td>\n",
       "      <td>-3.494840</td>\n",
       "      <td>-2.062302</td>\n",
       "      <td>-3.420378</td>\n",
       "      <td>-3.074492</td>\n",
       "      <td>-3.595644</td>\n",
       "      <td>-2.967007</td>\n",
       "      <td>-3.633657</td>\n",
       "      <td>12:30</td>\n",
       "    </tr>\n",
       "    <tr>\n",
       "      <td>74</td>\n",
       "      <td>-4.319149</td>\n",
       "      <td>-1.609061</td>\n",
       "      <td>-3.041935</td>\n",
       "      <td>-2.039691</td>\n",
       "      <td>-3.506125</td>\n",
       "      <td>-2.066687</td>\n",
       "      <td>-3.419063</td>\n",
       "      <td>-3.080236</td>\n",
       "      <td>-3.607745</td>\n",
       "      <td>-2.975937</td>\n",
       "      <td>-3.639993</td>\n",
       "      <td>12:31</td>\n",
       "    </tr>\n",
       "    <tr>\n",
       "      <td>75</td>\n",
       "      <td>-4.361453</td>\n",
       "      <td>-1.608571</td>\n",
       "      <td>-3.043407</td>\n",
       "      <td>-2.042050</td>\n",
       "      <td>-3.497346</td>\n",
       "      <td>-2.074656</td>\n",
       "      <td>-3.435176</td>\n",
       "      <td>-3.078202</td>\n",
       "      <td>-3.609142</td>\n",
       "      <td>-2.975298</td>\n",
       "      <td>-3.635384</td>\n",
       "      <td>12:32</td>\n",
       "    </tr>\n",
       "    <tr>\n",
       "      <td>76</td>\n",
       "      <td>-4.400022</td>\n",
       "      <td>-1.609531</td>\n",
       "      <td>-3.041469</td>\n",
       "      <td>-2.043293</td>\n",
       "      <td>-3.492312</td>\n",
       "      <td>-2.070811</td>\n",
       "      <td>-3.435292</td>\n",
       "      <td>-3.086622</td>\n",
       "      <td>-3.598307</td>\n",
       "      <td>-2.976857</td>\n",
       "      <td>-3.628258</td>\n",
       "      <td>12:38</td>\n",
       "    </tr>\n",
       "    <tr>\n",
       "      <td>77</td>\n",
       "      <td>-4.438190</td>\n",
       "      <td>-1.594609</td>\n",
       "      <td>-3.048404</td>\n",
       "      <td>-2.046410</td>\n",
       "      <td>-3.511636</td>\n",
       "      <td>-2.060552</td>\n",
       "      <td>-3.439398</td>\n",
       "      <td>-3.089961</td>\n",
       "      <td>-3.607532</td>\n",
       "      <td>-2.979923</td>\n",
       "      <td>-3.651819</td>\n",
       "      <td>12:30</td>\n",
       "    </tr>\n",
       "    <tr>\n",
       "      <td>78</td>\n",
       "      <td>-4.511066</td>\n",
       "      <td>-1.607212</td>\n",
       "      <td>-3.053166</td>\n",
       "      <td>-2.049394</td>\n",
       "      <td>-3.513953</td>\n",
       "      <td>-2.068851</td>\n",
       "      <td>-3.448069</td>\n",
       "      <td>-3.095446</td>\n",
       "      <td>-3.616243</td>\n",
       "      <td>-2.980892</td>\n",
       "      <td>-3.652477</td>\n",
       "      <td>12:30</td>\n",
       "    </tr>\n",
       "    <tr>\n",
       "      <td>79</td>\n",
       "      <td>-4.541018</td>\n",
       "      <td>-1.611876</td>\n",
       "      <td>-3.055950</td>\n",
       "      <td>-2.052495</td>\n",
       "      <td>-3.510919</td>\n",
       "      <td>-2.091451</td>\n",
       "      <td>-3.444430</td>\n",
       "      <td>-3.096859</td>\n",
       "      <td>-3.612201</td>\n",
       "      <td>-2.987233</td>\n",
       "      <td>-3.652013</td>\n",
       "      <td>12:30</td>\n",
       "    </tr>\n",
       "    <tr>\n",
       "      <td>80</td>\n",
       "      <td>-4.600343</td>\n",
       "      <td>-1.610420</td>\n",
       "      <td>-3.060839</td>\n",
       "      <td>-2.054861</td>\n",
       "      <td>-3.511350</td>\n",
       "      <td>-2.096162</td>\n",
       "      <td>-3.453397</td>\n",
       "      <td>-3.098014</td>\n",
       "      <td>-3.623340</td>\n",
       "      <td>-2.990574</td>\n",
       "      <td>-3.659013</td>\n",
       "      <td>12:30</td>\n",
       "    </tr>\n",
       "    <tr>\n",
       "      <td>81</td>\n",
       "      <td>-4.661496</td>\n",
       "      <td>-1.614354</td>\n",
       "      <td>-3.063280</td>\n",
       "      <td>-2.058413</td>\n",
       "      <td>-3.518051</td>\n",
       "      <td>-2.090681</td>\n",
       "      <td>-3.459196</td>\n",
       "      <td>-3.100144</td>\n",
       "      <td>-3.626975</td>\n",
       "      <td>-2.990358</td>\n",
       "      <td>-3.662424</td>\n",
       "      <td>12:30</td>\n",
       "    </tr>\n",
       "    <tr>\n",
       "      <td>82</td>\n",
       "      <td>-4.705292</td>\n",
       "      <td>-1.613852</td>\n",
       "      <td>-3.065279</td>\n",
       "      <td>-2.060926</td>\n",
       "      <td>-3.523131</td>\n",
       "      <td>-2.093857</td>\n",
       "      <td>-3.458174</td>\n",
       "      <td>-3.102769</td>\n",
       "      <td>-3.625679</td>\n",
       "      <td>-2.993565</td>\n",
       "      <td>-3.664128</td>\n",
       "      <td>12:31</td>\n",
       "    </tr>\n",
       "    <tr>\n",
       "      <td>83</td>\n",
       "      <td>-4.749657</td>\n",
       "      <td>-1.608339</td>\n",
       "      <td>-3.064816</td>\n",
       "      <td>-2.064069</td>\n",
       "      <td>-3.522461</td>\n",
       "      <td>-2.095773</td>\n",
       "      <td>-3.454772</td>\n",
       "      <td>-3.103279</td>\n",
       "      <td>-3.626349</td>\n",
       "      <td>-2.992733</td>\n",
       "      <td>-3.659091</td>\n",
       "      <td>12:33</td>\n",
       "    </tr>\n",
       "    <tr>\n",
       "      <td>84</td>\n",
       "      <td>-4.801617</td>\n",
       "      <td>-1.609588</td>\n",
       "      <td>-3.068866</td>\n",
       "      <td>-2.064883</td>\n",
       "      <td>-3.523209</td>\n",
       "      <td>-2.096193</td>\n",
       "      <td>-3.463708</td>\n",
       "      <td>-3.106626</td>\n",
       "      <td>-3.632847</td>\n",
       "      <td>-2.996814</td>\n",
       "      <td>-3.666652</td>\n",
       "      <td>12:30</td>\n",
       "    </tr>\n",
       "    <tr>\n",
       "      <td>85</td>\n",
       "      <td>-4.860649</td>\n",
       "      <td>-1.617827</td>\n",
       "      <td>-3.070986</td>\n",
       "      <td>-2.064620</td>\n",
       "      <td>-3.525773</td>\n",
       "      <td>-2.097606</td>\n",
       "      <td>-3.467463</td>\n",
       "      <td>-3.107895</td>\n",
       "      <td>-3.634995</td>\n",
       "      <td>-2.998213</td>\n",
       "      <td>-3.671325</td>\n",
       "      <td>12:30</td>\n",
       "    </tr>\n",
       "    <tr>\n",
       "      <td>86</td>\n",
       "      <td>-4.918277</td>\n",
       "      <td>-1.613509</td>\n",
       "      <td>-3.070141</td>\n",
       "      <td>-2.064759</td>\n",
       "      <td>-3.522986</td>\n",
       "      <td>-2.094243</td>\n",
       "      <td>-3.465539</td>\n",
       "      <td>-3.108289</td>\n",
       "      <td>-3.637873</td>\n",
       "      <td>-2.999038</td>\n",
       "      <td>-3.668399</td>\n",
       "      <td>12:29</td>\n",
       "    </tr>\n",
       "    <tr>\n",
       "      <td>87</td>\n",
       "      <td>-4.975526</td>\n",
       "      <td>-1.615061</td>\n",
       "      <td>-3.072755</td>\n",
       "      <td>-2.067755</td>\n",
       "      <td>-3.526502</td>\n",
       "      <td>-2.102132</td>\n",
       "      <td>-3.467963</td>\n",
       "      <td>-3.110346</td>\n",
       "      <td>-3.638254</td>\n",
       "      <td>-2.998886</td>\n",
       "      <td>-3.670205</td>\n",
       "      <td>12:29</td>\n",
       "    </tr>\n",
       "    <tr>\n",
       "      <td>88</td>\n",
       "      <td>-5.021191</td>\n",
       "      <td>-1.618050</td>\n",
       "      <td>-3.074177</td>\n",
       "      <td>-2.068995</td>\n",
       "      <td>-3.527819</td>\n",
       "      <td>-2.100919</td>\n",
       "      <td>-3.472034</td>\n",
       "      <td>-3.110304</td>\n",
       "      <td>-3.639778</td>\n",
       "      <td>-3.000263</td>\n",
       "      <td>-3.673303</td>\n",
       "      <td>12:29</td>\n",
       "    </tr>\n",
       "    <tr>\n",
       "      <td>89</td>\n",
       "      <td>-5.076118</td>\n",
       "      <td>-1.619973</td>\n",
       "      <td>-3.074846</td>\n",
       "      <td>-2.067928</td>\n",
       "      <td>-3.529006</td>\n",
       "      <td>-2.103474</td>\n",
       "      <td>-3.471045</td>\n",
       "      <td>-3.111302</td>\n",
       "      <td>-3.640637</td>\n",
       "      <td>-3.001116</td>\n",
       "      <td>-3.674258</td>\n",
       "      <td>12:29</td>\n",
       "    </tr>\n",
       "    <tr>\n",
       "      <td>90</td>\n",
       "      <td>-5.140903</td>\n",
       "      <td>-1.618941</td>\n",
       "      <td>-3.075440</td>\n",
       "      <td>-2.070067</td>\n",
       "      <td>-3.529682</td>\n",
       "      <td>-2.104544</td>\n",
       "      <td>-3.471400</td>\n",
       "      <td>-3.111599</td>\n",
       "      <td>-3.641468</td>\n",
       "      <td>-3.001530</td>\n",
       "      <td>-3.673231</td>\n",
       "      <td>12:30</td>\n",
       "    </tr>\n",
       "    <tr>\n",
       "      <td>91</td>\n",
       "      <td>-5.185982</td>\n",
       "      <td>-1.620771</td>\n",
       "      <td>-3.076010</td>\n",
       "      <td>-2.070218</td>\n",
       "      <td>-3.529535</td>\n",
       "      <td>-2.103898</td>\n",
       "      <td>-3.473041</td>\n",
       "      <td>-3.112500</td>\n",
       "      <td>-3.642952</td>\n",
       "      <td>-3.001945</td>\n",
       "      <td>-3.673995</td>\n",
       "      <td>12:37</td>\n",
       "    </tr>\n",
       "    <tr>\n",
       "      <td>92</td>\n",
       "      <td>-5.243320</td>\n",
       "      <td>-1.620209</td>\n",
       "      <td>-3.076522</td>\n",
       "      <td>-2.071163</td>\n",
       "      <td>-3.530092</td>\n",
       "      <td>-2.106032</td>\n",
       "      <td>-3.473256</td>\n",
       "      <td>-3.112893</td>\n",
       "      <td>-3.642667</td>\n",
       "      <td>-3.002152</td>\n",
       "      <td>-3.673925</td>\n",
       "      <td>12:29</td>\n",
       "    </tr>\n",
       "    <tr>\n",
       "      <td>93</td>\n",
       "      <td>-5.303634</td>\n",
       "      <td>-1.621791</td>\n",
       "      <td>-3.076847</td>\n",
       "      <td>-2.071275</td>\n",
       "      <td>-3.530788</td>\n",
       "      <td>-2.107151</td>\n",
       "      <td>-3.473526</td>\n",
       "      <td>-3.112496</td>\n",
       "      <td>-3.642775</td>\n",
       "      <td>-3.002452</td>\n",
       "      <td>-3.674312</td>\n",
       "      <td>12:30</td>\n",
       "    </tr>\n",
       "    <tr>\n",
       "      <td>94</td>\n",
       "      <td>-5.358404</td>\n",
       "      <td>-1.623026</td>\n",
       "      <td>-3.077152</td>\n",
       "      <td>-2.071560</td>\n",
       "      <td>-3.530058</td>\n",
       "      <td>-2.108162</td>\n",
       "      <td>-3.473269</td>\n",
       "      <td>-3.112952</td>\n",
       "      <td>-3.643491</td>\n",
       "      <td>-3.002637</td>\n",
       "      <td>-3.675084</td>\n",
       "      <td>12:29</td>\n",
       "    </tr>\n",
       "    <tr>\n",
       "      <td>95</td>\n",
       "      <td>-5.406138</td>\n",
       "      <td>-1.623446</td>\n",
       "      <td>-3.077490</td>\n",
       "      <td>-2.071453</td>\n",
       "      <td>-3.530785</td>\n",
       "      <td>-2.107550</td>\n",
       "      <td>-3.474570</td>\n",
       "      <td>-3.113194</td>\n",
       "      <td>-3.643801</td>\n",
       "      <td>-3.002754</td>\n",
       "      <td>-3.675815</td>\n",
       "      <td>12:29</td>\n",
       "    </tr>\n",
       "    <tr>\n",
       "      <td>96</td>\n",
       "      <td>-5.457385</td>\n",
       "      <td>-1.622525</td>\n",
       "      <td>-3.077376</td>\n",
       "      <td>-2.071296</td>\n",
       "      <td>-3.530665</td>\n",
       "      <td>-2.107439</td>\n",
       "      <td>-3.474467</td>\n",
       "      <td>-3.113189</td>\n",
       "      <td>-3.643654</td>\n",
       "      <td>-3.002819</td>\n",
       "      <td>-3.675478</td>\n",
       "      <td>12:31</td>\n",
       "    </tr>\n",
       "    <tr>\n",
       "      <td>97</td>\n",
       "      <td>-5.499749</td>\n",
       "      <td>-1.621993</td>\n",
       "      <td>-3.077589</td>\n",
       "      <td>-2.071520</td>\n",
       "      <td>-3.530960</td>\n",
       "      <td>-2.108084</td>\n",
       "      <td>-3.474547</td>\n",
       "      <td>-3.113327</td>\n",
       "      <td>-3.643754</td>\n",
       "      <td>-3.002855</td>\n",
       "      <td>-3.675668</td>\n",
       "      <td>12:34</td>\n",
       "    </tr>\n",
       "    <tr>\n",
       "      <td>98</td>\n",
       "      <td>-5.531496</td>\n",
       "      <td>-1.622250</td>\n",
       "      <td>-3.077601</td>\n",
       "      <td>-2.071604</td>\n",
       "      <td>-3.530884</td>\n",
       "      <td>-2.108058</td>\n",
       "      <td>-3.474670</td>\n",
       "      <td>-3.113365</td>\n",
       "      <td>-3.643795</td>\n",
       "      <td>-3.002848</td>\n",
       "      <td>-3.675587</td>\n",
       "      <td>12:29</td>\n",
       "    </tr>\n",
       "    <tr>\n",
       "      <td>99</td>\n",
       "      <td>-5.543544</td>\n",
       "      <td>-1.622291</td>\n",
       "      <td>-3.077605</td>\n",
       "      <td>-2.071607</td>\n",
       "      <td>-3.530945</td>\n",
       "      <td>-2.107988</td>\n",
       "      <td>-3.474673</td>\n",
       "      <td>-3.113374</td>\n",
       "      <td>-3.643807</td>\n",
       "      <td>-3.002836</td>\n",
       "      <td>-3.675613</td>\n",
       "      <td>12:29</td>\n",
       "    </tr>\n",
       "  </tbody>\n",
       "</table>"
      ],
      "text/plain": [
       "<IPython.core.display.HTML object>"
      ]
     },
     "metadata": {},
     "output_type": "display_data"
    },
    {
     "name": "stdout",
     "output_type": "stream",
     "text": [
      "Better model found at epoch 0 with 👉🏻LMAE👈🏻 value: -0.7051208019256592.\n"
     ]
    },
    {
     "data": {
      "image/png": "[encoded data removed]",
      "text/plain": [
       "<Figure size 432x288 with 1 Axes>"
      ]
     },
     "metadata": {},
     "output_type": "display_data"
    },
    {
     "name": "stdout",
     "output_type": "stream",
     "text": [
      "Better model found at epoch 1 with 👉🏻LMAE👈🏻 value: -1.323209524154663.\n",
      "Better model found at epoch 2 with 👉🏻LMAE👈🏻 value: -1.7951232194900513.\n",
      "Better model found at epoch 3 with 👉🏻LMAE👈🏻 value: -2.1678998470306396.\n",
      "Better model found at epoch 4 with 👉🏻LMAE👈🏻 value: -2.4026050567626953.\n",
      "Better model found at epoch 5 with 👉🏻LMAE👈🏻 value: -2.5495967864990234.\n",
      "Better model found at epoch 6 with 👉🏻LMAE👈🏻 value: -2.655442237854004.\n",
      "Better model found at epoch 7 with 👉🏻LMAE👈🏻 value: -2.726086378097534.\n",
      "Better model found at epoch 8 with 👉🏻LMAE👈🏻 value: -2.7777485847473145.\n",
      "Better model found at epoch 9 with 👉🏻LMAE👈🏻 value: -2.810676336288452.\n",
      "Better model found at epoch 10 with 👉🏻LMAE👈🏻 value: -2.8506760597229004.\n",
      "Better model found at epoch 11 with 👉🏻LMAE👈🏻 value: -2.8575515747070312.\n",
      "Better model found at epoch 12 with 👉🏻LMAE👈🏻 value: -2.867844581604004.\n",
      "Better model found at epoch 13 with 👉🏻LMAE👈🏻 value: -2.877803325653076.\n",
      "Better model found at epoch 49 with 👉🏻LMAE👈🏻 value: -2.8864636421203613.\n",
      "Better model found at epoch 52 with 👉🏻LMAE👈🏻 value: -2.9139223098754883.\n",
      "Better model found at epoch 54 with 👉🏻LMAE👈🏻 value: -2.925769329071045.\n",
      "Better model found at epoch 58 with 👉🏻LMAE👈🏻 value: -2.932962417602539.\n",
      "Better model found at epoch 59 with 👉🏻LMAE👈🏻 value: -2.9509732723236084.\n",
      "Better model found at epoch 60 with 👉🏻LMAE👈🏻 value: -2.962524652481079.\n",
      "Better model found at epoch 61 with 👉🏻LMAE👈🏻 value: -2.977186679840088.\n",
      "Better model found at epoch 63 with 👉🏻LMAE👈🏻 value: -2.9789814949035645.\n",
      "Better model found at epoch 64 with 👉🏻LMAE👈🏻 value: -2.9910671710968018.\n",
      "Better model found at epoch 66 with 👉🏻LMAE👈🏻 value: -3.006208658218384.\n",
      "Better model found at epoch 67 with 👉🏻LMAE👈🏻 value: -3.0127112865448.\n",
      "Better model found at epoch 69 with 👉🏻LMAE👈🏻 value: -3.017941474914551.\n",
      "Better model found at epoch 71 with 👉🏻LMAE👈🏻 value: -3.0281338691711426.\n",
      "Better model found at epoch 72 with 👉🏻LMAE👈🏻 value: -3.032435894012451.\n",
      "Better model found at epoch 73 with 👉🏻LMAE👈🏻 value: -3.034764289855957.\n",
      "Better model found at epoch 74 with 👉🏻LMAE👈🏻 value: -3.0419347286224365.\n",
      "Better model found at epoch 75 with 👉🏻LMAE👈🏻 value: -3.0434067249298096.\n",
      "Better model found at epoch 77 with 👉🏻LMAE👈🏻 value: -3.0484039783477783.\n",
      "Better model found at epoch 78 with 👉🏻LMAE👈🏻 value: -3.053165912628174.\n",
      "Better model found at epoch 79 with 👉🏻LMAE👈🏻 value: -3.055950403213501.\n",
      "Better model found at epoch 80 with 👉🏻LMAE👈🏻 value: -3.0608386993408203.\n",
      "Better model found at epoch 81 with 👉🏻LMAE👈🏻 value: -3.0632803440093994.\n",
      "Better model found at epoch 82 with 👉🏻LMAE👈🏻 value: -3.0652785301208496.\n",
      "Better model found at epoch 84 with 👉🏻LMAE👈🏻 value: -3.06886625289917.\n",
      "Better model found at epoch 85 with 👉🏻LMAE👈🏻 value: -3.070986270904541.\n",
      "Better model found at epoch 87 with 👉🏻LMAE👈🏻 value: -3.0727553367614746.\n",
      "Better model found at epoch 88 with 👉🏻LMAE👈🏻 value: -3.0741770267486572.\n",
      "Better model found at epoch 89 with 👉🏻LMAE👈🏻 value: -3.074845790863037.\n",
      "Better model found at epoch 90 with 👉🏻LMAE👈🏻 value: -3.0754401683807373.\n",
      "Better model found at epoch 91 with 👉🏻LMAE👈🏻 value: -3.0760104656219482.\n",
      "Better model found at epoch 92 with 👉🏻LMAE👈🏻 value: -3.0765221118927.\n",
      "Better model found at epoch 93 with 👉🏻LMAE👈🏻 value: -3.0768470764160156.\n",
      "Better model found at epoch 94 with 👉🏻LMAE👈🏻 value: -3.0771517753601074.\n",
      "Better model found at epoch 95 with 👉🏻LMAE👈🏻 value: -3.0774903297424316.\n",
      "Better model found at epoch 97 with 👉🏻LMAE👈🏻 value: -3.0775890350341797.\n",
      "Better model found at epoch 98 with 👉🏻LMAE👈🏻 value: -3.077601432800293.\n",
      "Better model found at epoch 99 with 👉🏻LMAE👈🏻 value: -3.0776054859161377.\n"
     ]
    }
   ],
   "source": [
    "gc.collect()\n",
    "torch.cuda.empty_cache()\n",
    "#learner.data.batch_size = 512*2\n",
    "#learner.data.batch_size = 512\n",
    "#learner.opt_func = RAdam\n",
    "#learner.opt_func = partial(torch.optim.Adam, betas=(0.9,0.99), eps=1e-2)\n",
    "learner.fit_one_cycle(100, 1.0E-04)#, moms=(0.75,0.70))\n"
   ]
  },
  {
   "cell_type": "code",
   "execution_count": 38,
   "metadata": {
    "ExecuteTime": {
     "end_time": "2019-08-22T04:02:35.468046Z",
     "start_time": "2019-08-22T04:02:35.005553Z"
    }
   },
   "outputs": [
    {
     "data": {
      "image/png": "[encoded data removed]",
      "text/plain": [
       "<Figure size 864x288 with 2 Axes>"
      ]
     },
     "metadata": {
      "needs_background": "light"
     },
     "output_type": "display_data"
    }
   ],
   "source": [
    "learner.recorder.plot_lr(show_moms=True)"
   ]
  },
  {
   "cell_type": "code",
   "execution_count": 39,
   "metadata": {
    "ExecuteTime": {
     "end_time": "2019-08-22T04:02:36.224792Z",
     "start_time": "2019-08-22T04:02:35.470288Z"
    }
   },
   "outputs": [
    {
     "data": {
      "image/png": "[encoded data removed]",
      "text/plain": [
       "<Figure size 432x288 with 1 Axes>"
      ]
     },
     "metadata": {
      "needs_background": "light"
     },
     "output_type": "display_data"
    }
   ],
   "source": [
    "learner.recorder.plot_losses()"
   ]
  },
  {
   "cell_type": "code",
   "execution_count": 40,
   "metadata": {
    "ExecuteTime": {
     "end_time": "2019-08-22T04:02:37.934562Z",
     "start_time": "2019-08-22T04:02:36.226915Z"
    }
   },
   "outputs": [
    {
     "name": "stderr",
     "output_type": "stream",
     "text": [
      "/opt/conda/lib/python3.7/site-packages/matplotlib/backends/backend_agg.py:211: RuntimeWarning: Glyph 128073 missing from current font.\n",
      "  font.set_text(s, 0.0, flags=flags)\n",
      "/opt/conda/lib/python3.7/site-packages/matplotlib/backends/backend_agg.py:211: RuntimeWarning: Glyph 127995 missing from current font.\n",
      "  font.set_text(s, 0.0, flags=flags)\n",
      "/opt/conda/lib/python3.7/site-packages/matplotlib/backends/backend_agg.py:211: RuntimeWarning: Glyph 128072 missing from current font.\n",
      "  font.set_text(s, 0.0, flags=flags)\n",
      "/opt/conda/lib/python3.7/site-packages/matplotlib/backends/backend_agg.py:180: RuntimeWarning: Glyph 128073 missing from current font.\n",
      "  font.set_text(s, 0, flags=flags)\n",
      "/opt/conda/lib/python3.7/site-packages/matplotlib/backends/backend_agg.py:180: RuntimeWarning: Glyph 127995 missing from current font.\n",
      "  font.set_text(s, 0, flags=flags)\n",
      "/opt/conda/lib/python3.7/site-packages/matplotlib/backends/backend_agg.py:180: RuntimeWarning: Glyph 128072 missing from current font.\n",
      "  font.set_text(s, 0, flags=flags)\n"
     ]
    },
    {
     "data": {
      "image/png": "[encoded data removed]",
      "text/plain": [
       "<Figure size 432x2592 with 9 Axes>"
      ]
     },
     "metadata": {
      "needs_background": "light"
     },
     "output_type": "display_data"
    }
   ],
   "source": [
    "learner.recorder.plot_metrics()"
   ]
  },
  {
   "cell_type": "code",
   "execution_count": null,
   "metadata": {},
   "outputs": [],
   "source": [
    "learner.fit_one_cycle(500, 2e-2)"
   ]
  },
  {
   "cell_type": "code",
   "execution_count": null,
   "metadata": {
    "ExecuteTime": {
     "end_time": "2019-08-15T11:15:02.866857Z",
     "start_time": "2019-08-15T11:15:02.810887Z"
    }
   },
   "outputs": [],
   "source": [
    "learner.recorder"
   ]
  },
  {
   "cell_type": "markdown",
   "metadata": {},
   "source": [
    "## Optional Fine tune regular fit "
   ]
  },
  {
   "cell_type": "code",
   "execution_count": null,
   "metadata": {
    "ExecuteTime": {
     "end_time": "2019-08-21T06:37:06.107163Z",
     "start_time": "2019-08-21T06:37:06.103534Z"
    }
   },
   "outputs": [],
   "source": [
    "learner.callbacks.append(\n",
    "    ReduceLROnPlateauCallback(learner, monitor='train_loss', mode='min', factor=0.2, patience=0))"
   ]
  },
  {
   "cell_type": "code",
   "execution_count": null,
   "metadata": {
    "ExecuteTime": {
     "end_time": "2019-08-21T07:03:49.373544Z",
     "start_time": "2019-08-21T06:37:06.109477Z"
    },
    "scrolled": true
   },
   "outputs": [],
   "source": [
    "#learner.opt_func = RAdam\n",
    "learner.fit(100, 1.0E-06)# , moms=(0.75,0.70))"
   ]
  },
  {
   "cell_type": "code",
   "execution_count": null,
   "metadata": {},
   "outputs": [],
   "source": [
    "learner.fit_one_cycle(300, 5e-4)#, moms=(0.75,0.70))"
   ]
  },
  {
   "cell_type": "code",
   "execution_count": null,
   "metadata": {
    "ExecuteTime": {
     "end_time": "2019-08-10T11:24:45.530739Z",
     "start_time": "2019-08-10T11:24:44.737186Z"
    }
   },
   "outputs": [],
   "source": [
    "learner.recorder.plot_lr(show_moms=True)"
   ]
  },
  {
   "cell_type": "code",
   "execution_count": null,
   "metadata": {
    "ExecuteTime": {
     "end_time": "2019-08-16T16:57:30.084191Z",
     "start_time": "2019-08-16T16:57:29.686756Z"
    }
   },
   "outputs": [],
   "source": [
    "learner.recorder.plot_losses()"
   ]
  },
  {
   "cell_type": "code",
   "execution_count": null,
   "metadata": {
    "ExecuteTime": {
     "end_time": "2019-08-16T16:57:43.396559Z",
     "start_time": "2019-08-16T16:57:41.386234Z"
    }
   },
   "outputs": [],
   "source": [
    "learner.recorder.plot_metrics()"
   ]
  },
  {
   "cell_type": "code",
   "execution_count": null,
   "metadata": {},
   "outputs": [],
   "source": [
    "learner.fit(10,1e-4)"
   ]
  },
  {
   "cell_type": "markdown",
   "metadata": {},
   "source": [
    "# Validate"
   ]
  },
  {
   "cell_type": "code",
   "execution_count": 41,
   "metadata": {
    "ExecuteTime": {
     "end_time": "2019-08-22T04:04:24.821143Z",
     "start_time": "2019-08-22T04:02:37.936699Z"
    }
   },
   "outputs": [
    {
     "name": "stdout",
     "output_type": "stream",
     "text": [
      "[-1.6222907, tensor(-3.0776, device='cuda:0'), tensor(-2.0716, device='cuda:0'), tensor(-3.5309, device='cuda:0'), tensor(-2.1080, device='cuda:0'), tensor(-3.4747, device='cuda:0'), tensor(-3.1134, device='cuda:0'), tensor(-3.6438, device='cuda:0'), tensor(-3.0028, device='cuda:0'), tensor(-3.6756, device='cuda:0')]\n"
     ]
    }
   ],
   "source": [
    "learner.to_fp32()\n",
    "\n",
    "val = learner.validate()\n",
    "print(val)\n",
    "val = val[1]"
   ]
  },
  {
   "cell_type": "code",
   "execution_count": 42,
   "metadata": {
    "ExecuteTime": {
     "end_time": "2019-08-22T04:04:25.377768Z",
     "start_time": "2019-08-22T04:04:24.824619Z"
    }
   },
   "outputs": [
    {
     "name": "stdout",
     "output_type": "stream",
     "text": [
      "loss-5.5435val-3.0776\n"
     ]
    }
   ],
   "source": [
    "try:\n",
    "    sub_fname = f'loss{learner.recorder.losses[-1]:.04f}val{val:.04f}'\n",
    "except:\n",
    "    sub_fname = f'val{val:.04f}'\n",
    "learner.save(sub_fname)\n",
    "print(sub_fname)"
   ]
  },
  {
   "cell_type": "code",
   "execution_count": null,
   "metadata": {
    "ExecuteTime": {
     "end_time": "2019-08-15T11:17:05.906378Z",
     "start_time": "2019-08-15T11:17:04.743742Z"
    }
   },
   "outputs": [],
   "source": []
  },
  {
   "cell_type": "code",
   "execution_count": 43,
   "metadata": {
    "ExecuteTime": {
     "end_time": "2019-08-22T04:04:28.706685Z",
     "start_time": "2019-08-22T04:04:25.380053Z"
    }
   },
   "outputs": [
    {
     "data": {
      "text/plain": [
       "31281"
      ]
     },
     "execution_count": 43,
     "metadata": {},
     "output_type": "execute_result"
    }
   ],
   "source": [
    "import gc\n",
    "gc.collect()"
   ]
  },
  {
   "cell_type": "markdown",
   "metadata": {},
   "source": [
    "# Inference\n",
    "\n",
    "Make sure `tranforms` are activated to test set otherwise TTA > 1 will be as TTA =1"
   ]
  },
  {
   "cell_type": "code",
   "execution_count": 44,
   "metadata": {
    "ExecuteTime": {
     "end_time": "2019-08-22T04:04:31.819188Z",
     "start_time": "2019-08-22T04:04:28.710310Z"
    }
   },
   "outputs": [],
   "source": [
    "test_fname = Path('test.npz')\n",
    "try:\n",
    "    npzfile  = np.load(fname_ext(test_fname, ext))\n",
    "    xt_xyz   = npzfile['x_xyz']\n",
    "    xt_type  = npzfile['x_type']\n",
    "    xt_ext   = npzfile['x_ext']\n",
    "    xt_atom  = npzfile['x_atom']\n",
    "    mt = npzfile['m']\n",
    "    xt_ids = npzfile['x_ids']\n",
    "except:\n",
    "    xt_xyz,xt_type,xt_ext,xt_atom,mt,xt_ids = \\\n",
    "        preprocess(test_fname.with_suffix('.csv'), type_index=types,ext=ext)\n",
    "    np.savez(fname_ext('_'+test_fname, ext), \n",
    "             x_xyz  = xt_xyz,\n",
    "             x_type = xt_type,\n",
    "             x_ext  = xt_ext,\n",
    "             x_atom = xt_atom,\n",
    "             m=mt,\n",
    "             x_ids=xt_ids)"
   ]
  },
  {
   "cell_type": "code",
   "execution_count": 45,
   "metadata": {
    "ExecuteTime": {
     "end_time": "2019-08-22T04:04:31.828848Z",
     "start_time": "2019-08-22T04:04:31.821804Z"
    }
   },
   "outputs": [],
   "source": [
    "if True:\n",
    "    try:\n",
    "        xt_coulombmat = load_fn(f'xt_coulombmat32{ext}.npy')\n",
    "    except:\n",
    "        xt_coulombmat = np.load(f'xt_coulombmat{ext}.npy', allow_pickle=True)\n",
    "        xt_coulombmat = np.array(xt_coulombmat.tolist()).astype(np.float32)\n",
    "        np.save(f'xt_coulombmat32{ext}.npy', xt_coulombmat)"
   ]
  },
  {
   "cell_type": "code",
   "execution_count": 46,
   "metadata": {
    "ExecuteTime": {
     "end_time": "2019-08-22T04:04:31.836268Z",
     "start_time": "2019-08-22T04:04:31.831225Z"
    }
   },
   "outputs": [],
   "source": [
    "xt_qm9_mulliken = load_fn(f'xt_qm9_mulliken{ext}.npy')"
   ]
  },
  {
   "cell_type": "code",
   "execution_count": 47,
   "metadata": {
    "ExecuteTime": {
     "end_time": "2019-08-22T04:04:31.845025Z",
     "start_time": "2019-08-22T04:04:31.839597Z"
    }
   },
   "outputs": [
    {
     "data": {
      "text/plain": [
       "'xt_qm9_mulliken_ext.npy'"
      ]
     },
     "execution_count": 47,
     "metadata": {},
     "output_type": "execute_result"
    }
   ],
   "source": [
    "f'xt_qm9_mulliken{ext}.npy'"
   ]
  },
  {
   "cell_type": "code",
   "execution_count": 48,
   "metadata": {
    "ExecuteTime": {
     "end_time": "2019-08-22T04:04:31.853998Z",
     "start_time": "2019-08-22T04:04:31.847850Z"
    }
   },
   "outputs": [
    {
     "data": {
      "text/plain": [
       "[(756113, 3, 29),\n",
       " (756113, 1, 29),\n",
       " (756113, 1, 29),\n",
       " (756113, 1, 29),\n",
       " (756113, 1, 29),\n",
       " (756113, 29),\n",
       " (756113,)]"
      ]
     },
     "execution_count": 48,
     "metadata": {},
     "output_type": "execute_result"
    }
   ],
   "source": [
    "[v.shape for v in [xt_xyz,xt_type,xt_ext,xt_atom, xt_qm9_mulliken,xt_ids, mt]]"
   ]
  },
  {
   "cell_type": "code",
   "execution_count": 49,
   "metadata": {
    "ExecuteTime": {
     "end_time": "2019-08-22T04:05:16.460912Z",
     "start_time": "2019-08-22T04:04:31.857274Z"
    }
   },
   "outputs": [],
   "source": [
    "TTA_N = 1\n",
    "\n",
    "learner.data.add_test(ItemList(items=(MoleculeItem(i,*v) for i,v in \n",
    "                              enumerate(zip(xt_xyz,xt_type,xt_ext,xt_atom,xt_qm9_mulliken,xt_coulombmat)))))\n",
    "learner.data.test_ds.tfms = tta_tfms if TTA_N > 1 else tfms"
   ]
  },
  {
   "cell_type": "code",
   "execution_count": 50,
   "metadata": {
    "ExecuteTime": {
     "end_time": "2019-08-22T04:05:20.998584Z",
     "start_time": "2019-08-22T04:05:16.462953Z"
    }
   },
   "outputs": [
    {
     "data": {
      "text/plain": [
       "0"
      ]
     },
     "execution_count": 50,
     "metadata": {},
     "output_type": "execute_result"
    }
   ],
   "source": [
    "import gc\n",
    "del xt_xyz,xt_type,xt_ext,xt_atom, xt_qm9_mulliken, mt\n",
    "gc.collect()"
   ]
  },
  {
   "cell_type": "code",
   "execution_count": null,
   "metadata": {
    "ExecuteTime": {
     "end_time": "2019-07-16T06:05:22.050993Z",
     "start_time": "2019-07-16T06:05:22.048033Z"
    }
   },
   "outputs": [],
   "source": [
    "learner.model = nn.DataParallel(learner.model)\n",
    "#data.batch_size = int(4096*2)"
   ]
  },
  {
   "cell_type": "code",
   "execution_count": 51,
   "metadata": {
    "ExecuteTime": {
     "end_time": "2019-08-22T04:15:18.567603Z",
     "start_time": "2019-08-22T04:05:21.002873Z"
    }
   },
   "outputs": [
    {
     "data": {
      "text/html": [],
      "text/plain": [
       "<IPython.core.display.HTML object>"
      ]
     },
     "metadata": {},
     "output_type": "display_data"
    },
    {
     "data": {
      "text/html": [
       "<div>\n",
       "<style scoped>\n",
       "    .dataframe tbody tr th:only-of-type {\n",
       "        vertical-align: middle;\n",
       "    }\n",
       "\n",
       "    .dataframe tbody tr th {\n",
       "        vertical-align: top;\n",
       "    }\n",
       "\n",
       "    .dataframe thead th {\n",
       "        text-align: right;\n",
       "    }\n",
       "</style>\n",
       "<table border=\"1\" class=\"dataframe\">\n",
       "  <thead>\n",
       "    <tr style=\"text-align: right;\">\n",
       "      <th></th>\n",
       "      <th>id</th>\n",
       "      <th>scalar_coupling_constant</th>\n",
       "    </tr>\n",
       "  </thead>\n",
       "  <tbody>\n",
       "    <tr>\n",
       "      <th>0</th>\n",
       "      <td>4658147</td>\n",
       "      <td>20.745644</td>\n",
       "    </tr>\n",
       "    <tr>\n",
       "      <th>1</th>\n",
       "      <td>4658148</td>\n",
       "      <td>195.215378</td>\n",
       "    </tr>\n",
       "    <tr>\n",
       "      <th>2</th>\n",
       "      <td>4658149</td>\n",
       "      <td>4.923062</td>\n",
       "    </tr>\n",
       "    <tr>\n",
       "      <th>3</th>\n",
       "      <td>4658150</td>\n",
       "      <td>195.263107</td>\n",
       "    </tr>\n",
       "    <tr>\n",
       "      <th>4</th>\n",
       "      <td>4658151</td>\n",
       "      <td>19.442461</td>\n",
       "    </tr>\n",
       "  </tbody>\n",
       "</table>\n",
       "</div>"
      ],
      "text/plain": [
       "        id  scalar_coupling_constant\n",
       "0  4658147                 20.745644\n",
       "1  4658148                195.215378\n",
       "2  4658149                  4.923062\n",
       "3  4658150                195.263107\n",
       "4  4658151                 19.442461"
      ]
     },
     "execution_count": 51,
     "metadata": {},
     "output_type": "execute_result"
    }
   ],
   "source": [
    "sub = defaultdict(int)\n",
    "xt_ids_not_extended = (xt_ids!=0) & (xt_ids<=7163688) # TODO\n",
    "ids = xt_ids[xt_ids_not_extended]\n",
    "\n",
    "mb = master_bar(range(TTA_N))\n",
    "for tta in mb:\n",
    "    test_preds = np.zeros((0, 29), dtype=np.float32)\n",
    "\n",
    "    for batch_idx, batch in progress_bar(\n",
    "        enumerate(learner.dl(DatasetType.Test)), total=len(learner.dl(DatasetType.Test)), parent=mb):\n",
    "        _, _, preds_,_,_,_ = learner.pred_batch(ds_type=DatasetType.Test, batch=batch)\n",
    "        preds_ = preds_.sum(dim=1)\n",
    "        test_preds = np.concatenate([test_preds, preds_.data.cpu().numpy()], axis = 0)\n",
    "\n",
    "    preds = test_preds[xt_ids_not_extended]\n",
    "    for k in range(len(ids)):\n",
    "        sub[int(ids[k])] += preds[k]\n",
    "    \n",
    "for k in range(len(ids)):\n",
    "    sub[int(ids[k])] = sub[int(ids[k])]/TTA_N\n",
    "\n",
    "sub_df = pd.DataFrame(sub.items(), columns=['id', 'scalar_coupling_constant'])\n",
    "sub_df.head()"
   ]
  },
  {
   "cell_type": "markdown",
   "metadata": {},
   "source": [
    "# Submit to Kaggle"
   ]
  },
  {
   "cell_type": "code",
   "execution_count": 52,
   "metadata": {
    "ExecuteTime": {
     "end_time": "2019-08-22T04:15:18.574126Z",
     "start_time": "2019-08-22T04:15:18.570283Z"
    }
   },
   "outputs": [
    {
     "data": {
      "text/plain": [
       "'loss-5.5435val-3.0776'"
      ]
     },
     "execution_count": 52,
     "metadata": {},
     "output_type": "execute_result"
    }
   ],
   "source": [
    "#sub_fname = 'loss-4.9044val-2.5880'\n",
    "#sub_fname='loss-4.9516val-2.8229'\n",
    "sub_fname"
   ]
  },
  {
   "cell_type": "code",
   "execution_count": 53,
   "metadata": {
    "ExecuteTime": {
     "end_time": "2019-08-22T04:15:30.623395Z",
     "start_time": "2019-08-22T04:15:18.576178Z"
    }
   },
   "outputs": [],
   "source": [
    "sub_df.to_csv(sub_fname, index=False)"
   ]
  },
  {
   "cell_type": "code",
   "execution_count": 54,
   "metadata": {
    "ExecuteTime": {
     "end_time": "2019-08-22T04:15:30.627519Z",
     "start_time": "2019-08-22T04:15:30.625165Z"
    }
   },
   "outputs": [],
   "source": [
    "comp = 'champs-scalar-coupling'"
   ]
  },
  {
   "cell_type": "code",
   "execution_count": 55,
   "metadata": {
    "ExecuteTime": {
     "end_time": "2019-08-22T04:15:30.637246Z",
     "start_time": "2019-08-22T04:15:30.629439Z"
    },
    "scrolled": true
   },
   "outputs": [
    {
     "data": {
      "text/html": [
       "<div>\n",
       "<style scoped>\n",
       "    .dataframe tbody tr th:only-of-type {\n",
       "        vertical-align: middle;\n",
       "    }\n",
       "\n",
       "    .dataframe tbody tr th {\n",
       "        vertical-align: top;\n",
       "    }\n",
       "\n",
       "    .dataframe thead th {\n",
       "        text-align: right;\n",
       "    }\n",
       "</style>\n",
       "<table border=\"1\" class=\"dataframe\">\n",
       "  <thead>\n",
       "    <tr style=\"text-align: right;\">\n",
       "      <th></th>\n",
       "      <th>id</th>\n",
       "      <th>scalar_coupling_constant</th>\n",
       "    </tr>\n",
       "  </thead>\n",
       "  <tbody>\n",
       "    <tr>\n",
       "      <th>2505537</th>\n",
       "      <td>7163684</td>\n",
       "      <td>0.766681</td>\n",
       "    </tr>\n",
       "    <tr>\n",
       "      <th>2505538</th>\n",
       "      <td>7163685</td>\n",
       "      <td>4.254200</td>\n",
       "    </tr>\n",
       "    <tr>\n",
       "      <th>2505539</th>\n",
       "      <td>7163686</td>\n",
       "      <td>1.888533</td>\n",
       "    </tr>\n",
       "    <tr>\n",
       "      <th>2505540</th>\n",
       "      <td>7163687</td>\n",
       "      <td>3.987130</td>\n",
       "    </tr>\n",
       "    <tr>\n",
       "      <th>2505541</th>\n",
       "      <td>7163688</td>\n",
       "      <td>120.244774</td>\n",
       "    </tr>\n",
       "  </tbody>\n",
       "</table>\n",
       "</div>"
      ],
      "text/plain": [
       "              id  scalar_coupling_constant\n",
       "2505537  7163684                  0.766681\n",
       "2505538  7163685                  4.254200\n",
       "2505539  7163686                  1.888533\n",
       "2505540  7163687                  3.987130\n",
       "2505541  7163688                120.244774"
      ]
     },
     "execution_count": 55,
     "metadata": {},
     "output_type": "execute_result"
    }
   ],
   "source": [
    "sub_df.tail()"
   ]
  },
  {
   "cell_type": "code",
   "execution_count": 56,
   "metadata": {
    "ExecuteTime": {
     "end_time": "2019-08-22T04:15:30.641280Z",
     "start_time": "2019-08-22T04:15:30.638915Z"
    }
   },
   "outputs": [],
   "source": [
    "TTA_N=1\n",
    "ext='_ext'"
   ]
  },
  {
   "cell_type": "code",
   "execution_count": 57,
   "metadata": {
    "ExecuteTime": {
     "end_time": "2019-08-22T04:15:36.479873Z",
     "start_time": "2019-08-22T04:15:30.643049Z"
    }
   },
   "outputs": [
    {
     "name": "stdout",
     "output_type": "stream",
     "text": [
      "100%|██████████████████████████████████████| 64.0M/64.0M [00:02<00:00, 22.7MB/s]\n",
      "Successfully submitted to Predicting Molecular Properties"
     ]
    }
   ],
   "source": [
    "!kaggle competitions submit -c {comp} -f {sub_fname} -m 'no QM9 no ext no max_atoms tta {TTA_N} {ext} transformer + attn no scale + 1024'"
   ]
  },
  {
   "cell_type": "code",
   "execution_count": 58,
   "metadata": {
    "ExecuteTime": {
     "end_time": "2019-08-22T04:16:38.160399Z",
     "start_time": "2019-08-22T04:15:36.484624Z"
    }
   },
   "outputs": [],
   "source": [
    "import time\n",
    "time.sleep(60)\n",
    "!kaggle competitions submissions -c {comp} -v > submissions-{comp}.csv"
   ]
  },
  {
   "cell_type": "code",
   "execution_count": 59,
   "metadata": {
    "ExecuteTime": {
     "end_time": "2019-08-22T04:16:38.185176Z",
     "start_time": "2019-08-22T04:16:38.165403Z"
    }
   },
   "outputs": [
    {
     "data": {
      "text/plain": [
       "-3.09"
      ]
     },
     "execution_count": 59,
     "metadata": {},
     "output_type": "execute_result"
    }
   ],
   "source": [
    "submissions = pd.read_csv(f'submissions-{comp}.csv')\n",
    "submissions.iloc[0].publicScore"
   ]
  },
  {
   "cell_type": "markdown",
   "metadata": {},
   "source": [
    "# L2 data"
   ]
  },
  {
   "cell_type": "code",
   "execution_count": 60,
   "metadata": {
    "ExecuteTime": {
     "end_time": "2019-08-22T04:18:27.789169Z",
     "start_time": "2019-08-22T04:16:38.187802Z"
    }
   },
   "outputs": [
    {
     "data": {
      "text/html": [],
      "text/plain": [
       "<IPython.core.display.HTML object>"
      ]
     },
     "metadata": {},
     "output_type": "display_data"
    },
    {
     "data": {
      "text/html": [
       "<div>\n",
       "<style scoped>\n",
       "    .dataframe tbody tr th:only-of-type {\n",
       "        vertical-align: middle;\n",
       "    }\n",
       "\n",
       "    .dataframe tbody tr th {\n",
       "        vertical-align: top;\n",
       "    }\n",
       "\n",
       "    .dataframe thead th {\n",
       "        text-align: right;\n",
       "    }\n",
       "</style>\n",
       "<table border=\"1\" class=\"dataframe\">\n",
       "  <thead>\n",
       "    <tr style=\"text-align: right;\">\n",
       "      <th></th>\n",
       "      <th>id</th>\n",
       "      <th>scalar_coupling_constant</th>\n",
       "    </tr>\n",
       "  </thead>\n",
       "  <tbody>\n",
       "    <tr>\n",
       "      <th>0</th>\n",
       "      <td>0</td>\n",
       "      <td>83.465378</td>\n",
       "    </tr>\n",
       "    <tr>\n",
       "      <th>1</th>\n",
       "      <td>1</td>\n",
       "      <td>-2.165577</td>\n",
       "    </tr>\n",
       "    <tr>\n",
       "      <th>2</th>\n",
       "      <td>2</td>\n",
       "      <td>-11.567150</td>\n",
       "    </tr>\n",
       "    <tr>\n",
       "      <th>3</th>\n",
       "      <td>3</td>\n",
       "      <td>-11.573649</td>\n",
       "    </tr>\n",
       "    <tr>\n",
       "      <th>4</th>\n",
       "      <td>4</td>\n",
       "      <td>3.244716</td>\n",
       "    </tr>\n",
       "  </tbody>\n",
       "</table>\n",
       "</div>"
      ],
      "text/plain": [
       "   id  scalar_coupling_constant\n",
       "0   0                 83.465378\n",
       "1   1                 -2.165577\n",
       "2   2                -11.567150\n",
       "3   3                -11.573649\n",
       "4   4                  3.244716"
      ]
     },
     "execution_count": 60,
     "metadata": {},
     "output_type": "execute_result"
    }
   ],
   "source": [
    "learner.data.valid_dl = data.valid_dl.new(shuffle=False)\n",
    "TTA_N =1                                          \n",
    "sub = defaultdict(int)\n",
    "targets = defaultdict(int)\n",
    "targets_types = defaultdict(int)\n",
    "\n",
    "mb = master_bar(range(TTA_N))\n",
    "for tta in mb:\n",
    "    test_preds = np.zeros((0, 29), dtype=np.float32)\n",
    "    test_exts = np.zeros((0, 29), dtype=np.float32)\n",
    "    test_types = np.zeros((0, 29), dtype=np.float32)\n",
    "    test_targets = np.zeros((0, 29), dtype=np.float32)\n",
    "\n",
    "    for batch_idx, batch in progress_bar(\n",
    "        enumerate(learner.dl(DatasetType.Valid)), total=len(learner.dl(DatasetType.Valid)), parent=mb):\n",
    "\n",
    "        types_, ext_, preds_,_,_,_ = learner.pred_batch(ds_type=DatasetType.Valid, batch=batch)\n",
    "        preds_ = preds_.sum(dim=1)\n",
    "        test_preds = np.concatenate([test_preds, preds_.data.cpu().numpy()], axis = 0)\n",
    "\n",
    "        targets_ = batch[1][0].sum(dim=1)\n",
    "        test_targets = np.concatenate([test_targets, targets_.data.cpu().numpy()], axis = 0)\n",
    "        \n",
    "        test_types = np.concatenate([test_types, types_.data.cpu().numpy().squeeze(1)], axis = 0)\n",
    "        test_exts = np.concatenate([test_exts, ext_.data.cpu().numpy().squeeze(1)], axis = 0)\n",
    "    \n",
    "    test_preds = test_preds.flatten()\n",
    "    test_types = test_types.flatten()\n",
    "    test_targets = test_targets.flatten()\n",
    "    test_exts = test_exts.flatten()\n",
    "    \n",
    "    mask = (test_types != -1) & (test_exts == 0) #.squeeze(1)\n",
    "    preds = test_preds[mask]\n",
    "    test_targets = test_targets[mask]\n",
    "    test_types = test_types[mask]\n",
    "    for k in range(len(preds)):\n",
    "        sub[k] += preds[k]\n",
    "        targets[k] = test_targets[k]\n",
    "        targets_types[k] = test_types[k]\n",
    "    \n",
    "for k in range(len(sub.keys())):\n",
    "    sub[k] = sub[k]/TTA_N\n",
    "\n",
    "sub_df = pd.DataFrame(sub.items(), columns=['id', 'scalar_coupling_constant'])\n",
    "sub_df.head()"
   ]
  },
  {
   "cell_type": "code",
   "execution_count": 61,
   "metadata": {
    "ExecuteTime": {
     "end_time": "2019-08-22T04:18:28.131394Z",
     "start_time": "2019-08-22T04:18:27.791589Z"
    }
   },
   "outputs": [
    {
     "data": {
      "text/html": [
       "<div>\n",
       "<style scoped>\n",
       "    .dataframe tbody tr th:only-of-type {\n",
       "        vertical-align: middle;\n",
       "    }\n",
       "\n",
       "    .dataframe tbody tr th {\n",
       "        vertical-align: top;\n",
       "    }\n",
       "\n",
       "    .dataframe thead th {\n",
       "        text-align: right;\n",
       "    }\n",
       "</style>\n",
       "<table border=\"1\" class=\"dataframe\">\n",
       "  <thead>\n",
       "    <tr style=\"text-align: right;\">\n",
       "      <th></th>\n",
       "      <th>id</th>\n",
       "      <th>scalar_coupling_constant</th>\n",
       "    </tr>\n",
       "  </thead>\n",
       "  <tbody>\n",
       "    <tr>\n",
       "      <th>0</th>\n",
       "      <td>0</td>\n",
       "      <td>83.542984</td>\n",
       "    </tr>\n",
       "    <tr>\n",
       "      <th>1</th>\n",
       "      <td>1</td>\n",
       "      <td>-2.378307</td>\n",
       "    </tr>\n",
       "    <tr>\n",
       "      <th>2</th>\n",
       "      <td>2</td>\n",
       "      <td>-11.700430</td>\n",
       "    </tr>\n",
       "    <tr>\n",
       "      <th>3</th>\n",
       "      <td>3</td>\n",
       "      <td>-11.697890</td>\n",
       "    </tr>\n",
       "    <tr>\n",
       "      <th>4</th>\n",
       "      <td>4</td>\n",
       "      <td>3.252806</td>\n",
       "    </tr>\n",
       "  </tbody>\n",
       "</table>\n",
       "</div>"
      ],
      "text/plain": [
       "   id  scalar_coupling_constant\n",
       "0   0                 83.542984\n",
       "1   1                 -2.378307\n",
       "2   2                -11.700430\n",
       "3   3                -11.697890\n",
       "4   4                  3.252806"
      ]
     },
     "execution_count": 61,
     "metadata": {},
     "output_type": "execute_result"
    }
   ],
   "source": [
    "sub_targets = pd.DataFrame(targets.items(), columns=['id', 'scalar_coupling_constant'])\n",
    "sub_targets.head()"
   ]
  },
  {
   "cell_type": "code",
   "execution_count": null,
   "metadata": {
    "ExecuteTime": {
     "end_time": "2019-08-21T03:24:10.360866Z",
     "start_time": "2019-08-21T03:24:10.024618Z"
    }
   },
   "outputs": [],
   "source": [
    "sub_targets = pd.DataFrame(targets.items(), columns=['id', 'scalar_coupling_constant'])\n",
    "sub_targets.head()"
   ]
  },
  {
   "cell_type": "code",
   "execution_count": null,
   "metadata": {
    "ExecuteTime": {
     "end_time": "2019-08-21T03:24:10.685807Z",
     "start_time": "2019-08-21T03:24:10.363096Z"
    }
   },
   "outputs": [],
   "source": [
    "sub_targets_types = pd.DataFrame(targets_types.items(), columns=['id', 'type'])\n",
    "sub_targets_types.head()\n"
   ]
  },
  {
   "cell_type": "code",
   "execution_count": null,
   "metadata": {
    "ExecuteTime": {
     "end_time": "2019-08-05T21:42:00.805651Z",
     "start_time": "2019-08-05T21:41:59.063328Z"
    }
   },
   "outputs": [],
   "source": [
    "sub_targets_types.to_csv('validation_types', index=False)"
   ]
  },
  {
   "cell_type": "code",
   "execution_count": 62,
   "metadata": {
    "ExecuteTime": {
     "end_time": "2019-08-22T04:18:28.140915Z",
     "start_time": "2019-08-22T04:18:28.133365Z"
    }
   },
   "outputs": [
    {
     "data": {
      "text/html": [
       "<div>\n",
       "<style scoped>\n",
       "    .dataframe tbody tr th:only-of-type {\n",
       "        vertical-align: middle;\n",
       "    }\n",
       "\n",
       "    .dataframe tbody tr th {\n",
       "        vertical-align: top;\n",
       "    }\n",
       "\n",
       "    .dataframe thead th {\n",
       "        text-align: right;\n",
       "    }\n",
       "</style>\n",
       "<table border=\"1\" class=\"dataframe\">\n",
       "  <thead>\n",
       "    <tr style=\"text-align: right;\">\n",
       "      <th></th>\n",
       "      <th>id</th>\n",
       "      <th>scalar_coupling_constant</th>\n",
       "    </tr>\n",
       "  </thead>\n",
       "  <tbody>\n",
       "    <tr>\n",
       "      <th>463719</th>\n",
       "      <td>463719</td>\n",
       "      <td>8.198810</td>\n",
       "    </tr>\n",
       "    <tr>\n",
       "      <th>463720</th>\n",
       "      <td>463720</td>\n",
       "      <td>1.412409</td>\n",
       "    </tr>\n",
       "    <tr>\n",
       "      <th>463721</th>\n",
       "      <td>463721</td>\n",
       "      <td>4.848869</td>\n",
       "    </tr>\n",
       "    <tr>\n",
       "      <th>463722</th>\n",
       "      <td>463722</td>\n",
       "      <td>96.559143</td>\n",
       "    </tr>\n",
       "    <tr>\n",
       "      <th>463723</th>\n",
       "      <td>463723</td>\n",
       "      <td>-1.487482</td>\n",
       "    </tr>\n",
       "  </tbody>\n",
       "</table>\n",
       "</div>"
      ],
      "text/plain": [
       "            id  scalar_coupling_constant\n",
       "463719  463719                  8.198810\n",
       "463720  463720                  1.412409\n",
       "463721  463721                  4.848869\n",
       "463722  463722                 96.559143\n",
       "463723  463723                 -1.487482"
      ]
     },
     "execution_count": 62,
     "metadata": {},
     "output_type": "execute_result"
    }
   ],
   "source": [
    "sub_df.tail()"
   ]
  },
  {
   "cell_type": "code",
   "execution_count": null,
   "metadata": {
    "ExecuteTime": {
     "end_time": "2019-08-21T03:24:10.704696Z",
     "start_time": "2019-08-21T03:24:10.697572Z"
    }
   },
   "outputs": [],
   "source": [
    "sub_targets.tail()"
   ]
  },
  {
   "cell_type": "code",
   "execution_count": null,
   "metadata": {
    "ExecuteTime": {
     "end_time": "2019-08-03T20:07:20.048256Z",
     "start_time": "2019-08-03T20:07:20.041023Z"
    }
   },
   "outputs": [],
   "source": [
    "mask"
   ]
  },
  {
   "cell_type": "code",
   "execution_count": null,
   "metadata": {
    "ExecuteTime": {
     "end_time": "2019-08-03T20:09:32.533038Z",
     "start_time": "2019-08-03T20:09:30.294063Z"
    }
   },
   "outputs": [],
   "source": [
    "sub_targets.to_csv('validation_targets', index=False)"
   ]
  },
  {
   "cell_type": "code",
   "execution_count": 63,
   "metadata": {
    "ExecuteTime": {
     "end_time": "2019-08-22T04:18:30.367097Z",
     "start_time": "2019-08-22T04:18:28.142838Z"
    }
   },
   "outputs": [],
   "source": [
    "sub_df.to_csv(sub_fname + '_val', index=False)"
   ]
  },
  {
   "cell_type": "code",
   "execution_count": 64,
   "metadata": {
    "ExecuteTime": {
     "end_time": "2019-08-22T04:18:30.373398Z",
     "start_time": "2019-08-22T04:18:30.369096Z"
    }
   },
   "outputs": [
    {
     "data": {
      "text/plain": [
       "'loss-5.5435val-3.0776_val'"
      ]
     },
     "execution_count": 64,
     "metadata": {},
     "output_type": "execute_result"
    }
   ],
   "source": [
    "sub_fname + '_val'"
   ]
  },
  {
   "cell_type": "code",
   "execution_count": null,
   "metadata": {
    "ExecuteTime": {
     "end_time": "2019-08-05T21:00:08.361139Z",
     "start_time": "2019-08-05T21:00:07.258433Z"
    }
   },
   "outputs": [],
   "source": [
    "!head loss-4.9516val-3.0042_val"
   ]
  },
  {
   "cell_type": "code",
   "execution_count": null,
   "metadata": {
    "ExecuteTime": {
     "end_time": "2019-08-03T20:11:05.245077Z",
     "start_time": "2019-08-03T20:11:04.340447Z"
    }
   },
   "outputs": [],
   "source": [
    "!head loss-5.7552val-2.9950_val"
   ]
  },
  {
   "cell_type": "code",
   "execution_count": null,
   "metadata": {
    "ExecuteTime": {
     "end_time": "2019-08-03T20:11:18.206277Z",
     "start_time": "2019-08-03T20:11:17.307404Z"
    }
   },
   "outputs": [],
   "source": [
    "!head validation_targets"
   ]
  },
  {
   "cell_type": "code",
   "execution_count": null,
   "metadata": {},
   "outputs": [],
   "source": []
  }
 ],
 "metadata": {
  "kernelspec": {
   "display_name": "Python 3",
   "language": "python",
   "name": "python3"
  },
  "language_info": {
   "codemirror_mode": {
    "name": "ipython",
    "version": 3
   },
   "file_extension": ".py",
   "mimetype": "text/x-python",
   "name": "python",
   "nbconvert_exporter": "python",
   "pygments_lexer": "ipython3",
   "version": "3.7.1"
  }
 },
 "nbformat": 4,
 "nbformat_minor": 2
}
