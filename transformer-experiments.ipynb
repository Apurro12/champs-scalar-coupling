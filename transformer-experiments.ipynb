{
 "cells": [
  {
   "cell_type": "code",
   "execution_count": 1,
   "metadata": {
    "ExecuteTime": {
     "end_time": "2019-08-17T05:52:17.964441Z",
     "start_time": "2019-08-17T05:52:16.849220Z"
    }
   },
   "outputs": [],
   "source": [
    "#%load_ext autoreload\n",
    "#%autoreload 2\n",
    "import os\n",
    "#os.environ[\"CUDA_VISIBLE_DEVICES\"]=\"0\"\n",
    "\n",
    "import pandas as pd\n",
    "import numpy as np\n",
    "from pathlib import Path\n",
    "\n",
    "import torch\n",
    "import torch.nn as nn\n",
    "import torch.nn.parallel\n",
    "import torch.utils.data\n",
    "from torch.autograd import Variable\n",
    "import numpy as np\n",
    "import torch.nn.functional as F"
   ]
  },
  {
   "cell_type": "code",
   "execution_count": 2,
   "metadata": {
    "ExecuteTime": {
     "end_time": "2019-08-17T05:52:18.010031Z",
     "start_time": "2019-08-17T05:52:17.966971Z"
    }
   },
   "outputs": [],
   "source": [
    "from torch.nn import Parameter\n",
    "\n",
    "def _load_from_state_dict(self, state_dict, prefix, local_metadata, strict,\n",
    "                          missing_keys, unexpected_keys, error_msgs):\n",
    "    r\"\"\"Copies parameters and buffers from :attr:`state_dict` into only\n",
    "    this module, but not its descendants. This is called on every submodule\n",
    "    in :meth:`~torch.nn.Module.load_state_dict`. Metadata saved for this\n",
    "    module in input :attr:`state_dict` is provided as :attr:`local_metadata`.\n",
    "    For state dicts without metadata, :attr:`local_metadata` is empty.\n",
    "    Subclasses can achieve class-specific backward compatible loading using\n",
    "    the version number at `local_metadata.get(\"version\", None)`.\n",
    "\n",
    "    .. note::\n",
    "        :attr:`state_dict` is not the same object as the input\n",
    "        :attr:`state_dict` to :meth:`~torch.nn.Module.load_state_dict`. So\n",
    "        it can be modified.\n",
    "\n",
    "    Arguments:\n",
    "        state_dict (dict): a dict containing parameters and\n",
    "            persistent buffers.\n",
    "        prefix (str): the prefix for parameters and buffers used in this\n",
    "            module\n",
    "        local_metadata (dict): a dict containing the metadata for this module.\n",
    "            See\n",
    "        strict (bool): whether to strictly enforce that the keys in\n",
    "            :attr:`state_dict` with :attr:`prefix` match the names of\n",
    "            parameters and buffers in this module\n",
    "        missing_keys (list of str): if ``strict=True``, add missing keys to\n",
    "            this list\n",
    "        unexpected_keys (list of str): if ``strict=True``, add unexpected\n",
    "            keys to this list\n",
    "        error_msgs (list of str): error messages should be added to this\n",
    "            list, and will be reported together in\n",
    "            :meth:`~torch.nn.Module.load_state_dict`\n",
    "    \"\"\"\n",
    "    for hook in self._load_state_dict_pre_hooks.values():\n",
    "        hook(state_dict, prefix, local_metadata, strict, missing_keys,\n",
    "             unexpected_keys, error_msgs)\n",
    "\n",
    "    local_name_params = itertools.chain(self._parameters.items(),\n",
    "                                        self._buffers.items())\n",
    "    local_state = {k: v.data for k, v in local_name_params if v is not None}\n",
    "\n",
    "    for name, param in local_state.items():\n",
    "        key = prefix + name\n",
    "        if key in state_dict:\n",
    "            input_param = state_dict[key]\n",
    "\n",
    "            # Backward compatibility: loading 1-dim tensor from 0.3.* to version 0.4+\n",
    "            if len(param.shape) == 0 and len(input_param.shape) == 1:\n",
    "                input_param = input_param[0]\n",
    "\n",
    "            if input_param.shape != param.shape:\n",
    "                # local shape should match the one in checkpoint\n",
    "                error_msgs.append(\n",
    "                    'size mismatch for {}: copying a param with shape {} from checkpoint, '\n",
    "                    'the shape in current model is {}.'.format(\n",
    "                        key, input_param.shape, param.shape))\n",
    "                #if not strict:\n",
    "                #    continue\n",
    "\n",
    "            if isinstance(input_param, Parameter):\n",
    "                # backwards compatibility for serialized parameters\n",
    "                input_param = input_param.data\n",
    "\n",
    "            try:\n",
    "                if False:\n",
    "                    input_param = input_param[torch.randperm(input_param.size()[0])]\n",
    "                param.copy_(input_param)\n",
    "            except Exception:\n",
    "                error_msgs.append(\n",
    "                    'While copying the parameter named \"{}\", '\n",
    "                    'whose dimensions in the model are {} and '\n",
    "                    'whose dimensions in the checkpoint are {}.'.format(\n",
    "                        key, param.size(), input_param.size()))\n",
    "                # PG load partially\n",
    "\n",
    "                if len(input_param.size()) == 3:\n",
    "                    error_msgs.append(\n",
    "                        'Partially copying the parameter named \"{}\", '\n",
    "                        'whose dimensions in the model are {} and '\n",
    "                        'whose dimensions in the checkpoint are {}. - trying {}'\n",
    "                        .format(\n",
    "                            key, param.size(), input_param.size(),\n",
    "                            param[:input_param.size()[0], :input_param.size(\n",
    "                            )[1], :input_param.size()[2]].shape))\n",
    "                else:\n",
    "                    error_msgs.append(\n",
    "                        'Partially copying the parameter named \"{}\", '\n",
    "                        'whose dimensions in the model are {} and '\n",
    "                        'whose dimensions in the checkpoint are {}. - trying {}'\n",
    "                        .format(key, param.size(), input_param.size(),\n",
    "                                param[:input_param.size()[0]].shape))\n",
    "\n",
    "                try:\n",
    "                    new_input_param = torch.empty_like(param)\n",
    "                    new_input_param = torch.nn.init.normal_(new_input_param,\n",
    "                                                            mean=input_param.mean(),\n",
    "                                                            std=input_param.std())\n",
    "\n",
    "                    if len(input_param.size()) == 3:\n",
    "                        new_input_param[:input_param.size()[0], :input_param.\n",
    "                                        size()[1], :input_param.size(\n",
    "                                        )[2]] = input_param\n",
    "                    else:\n",
    "                        new_input_param[:input_param.size()[0]] = input_param\n",
    "                    param.copy_(new_input_param)\n",
    "                except Exception as e:\n",
    "                    assert e\n",
    "                    error_msgs.append(\n",
    "                        'Failed to load weights partially {}'.format(e))\n",
    "        elif strict:\n",
    "            missing_keys.append(key)\n",
    "\n",
    "    if strict:\n",
    "        for key in state_dict.keys():\n",
    "            if key.startswith(prefix):\n",
    "                input_name = key[len(prefix):]\n",
    "                input_name = input_name.split(\n",
    "                    '.', 1)[0]  # get the name of param/buffer/child\n",
    "                if input_name not in self._modules and input_name not in local_state:\n",
    "                    unexpected_keys.append(key)\n",
    "\n",
    "def load_state_dict(self, state_dict, strict=True):\n",
    "    r\"\"\"Copies parameters and buffers from :attr:`state_dict` into\n",
    "    this module and its descendants. If :attr:`strict` is ``True``, then\n",
    "    the keys of :attr:`state_dict` must exactly match the keys returned\n",
    "    by this module's :meth:`~torch.nn.Module.state_dict` function.\n",
    "\n",
    "    Arguments:\n",
    "        state_dict (dict): a dict containing parameters and\n",
    "            persistent buffers.\n",
    "        strict (bool, optional): whether to strictly enforce that the keys\n",
    "            in :attr:`state_dict` match the keys returned by this module's\n",
    "            :meth:`~torch.nn.Module.state_dict` function. Default: ``True``\n",
    "\n",
    "    Returns:\n",
    "        ``NamedTuple`` with ``missing_keys`` and ``unexpected_keys`` fields:\n",
    "            * **missing_keys** is a list of str containing the missing keys\n",
    "            * **unexpected_keys** is a list of str containing the unexpected keys\n",
    "    \"\"\"\n",
    "    missing_keys = []\n",
    "    unexpected_keys = []\n",
    "    error_msgs = []\n",
    "\n",
    "    # copy state_dict so _load_from_state_dict can modify it\n",
    "    metadata = getattr(state_dict, '_metadata', None)\n",
    "    state_dict = state_dict.copy()\n",
    "    if metadata is not None:\n",
    "        state_dict._metadata = metadata\n",
    "\n",
    "    def load(module, prefix=''):\n",
    "        local_metadata = {} if metadata is None else metadata.get(\n",
    "            prefix[:-1], {})\n",
    "        module._load_from_state_dict(state_dict, prefix, local_metadata, True,\n",
    "                                     missing_keys, unexpected_keys, error_msgs)\n",
    "        for name, child in module._modules.items():\n",
    "            if child is not None:\n",
    "                load(child, prefix + name + '.')\n",
    "                \n",
    "    load(self)\n",
    "\n",
    "    if strict:\n",
    "        if len(unexpected_keys) > 0:\n",
    "            error_msgs.insert(\n",
    "                0, 'Unexpected key(s) in state_dict: {}. '.format(', '.join(\n",
    "                    '\"{}\"'.format(k) for k in unexpected_keys)))\n",
    "        if len(missing_keys) > 0:\n",
    "            error_msgs.insert(\n",
    "                0, 'Missing key(s) in state_dict: {}. '.format(', '.join(\n",
    "                    '\"{}\"'.format(k) for k in missing_keys)))\n",
    "\n",
    "    if strict and len(error_msgs) > 0:\n",
    "        raise RuntimeError(\n",
    "            'Error(s) in loading state_dict for {}:\\n\\t{}'.format(\n",
    "                self.__class__.__name__, \"\\n\\t\".join(error_msgs)))\n",
    "    return None"
   ]
  },
  {
   "cell_type": "code",
   "execution_count": 3,
   "metadata": {
    "ExecuteTime": {
     "end_time": "2019-08-17T05:52:18.476421Z",
     "start_time": "2019-08-17T05:52:18.471002Z"
    }
   },
   "outputs": [],
   "source": [
    "nn.Module._load_from_state_dict = _load_from_state_dict\n",
    "nn.Module.load_state_dict = load_state_dict"
   ]
  },
  {
   "cell_type": "code",
   "execution_count": 4,
   "metadata": {
    "ExecuteTime": {
     "end_time": "2019-08-17T05:52:20.539514Z",
     "start_time": "2019-08-17T05:52:19.078633Z"
    }
   },
   "outputs": [],
   "source": [
    "from fastai import *\n",
    "from fastai.basic_train import *\n",
    "from fastai.basic_data import *\n",
    "from fastai.data_block import *\n",
    "from fastai.torch_core import *\n",
    "from fastai.train import *\n",
    "from fastai.callback import *\n",
    "from fastai.callbacks import *\n",
    "from fastai.distributed import *\n",
    "from fastai.layers import *"
   ]
  },
  {
   "cell_type": "code",
   "execution_count": 5,
   "metadata": {
    "ExecuteTime": {
     "end_time": "2019-08-17T05:52:20.574566Z",
     "start_time": "2019-08-17T05:52:20.541975Z"
    }
   },
   "outputs": [],
   "source": [
    "fname_ext = lambda fname,ext: f'{str(fname)[:-4]}{ext}{str(fname)[-4:]}'\n",
    "\n",
    "def preprocess(fname, type_index=None, ext=''):\n",
    "    t  = pd.read_csv(fname_ext(fname,ext))\n",
    "    s  = pd.read_csv('structures.csv')\n",
    "    \n",
    "    has_y = 'scalar_coupling_constant' in t.columns\n",
    "\n",
    "    if has_y:\n",
    "        # atom-atom level\n",
    "        # molecule_name,atom_index_0,atom_index_1,type,fc,sd,pso,dso\n",
    "        scalar_couplings = pd.read_csv(f'scalar_coupling_contributions{ext}.csv') # fc,sd,pso,dso\n",
    "\n",
    "        # atom level\n",
    "        # molecule_name,atom_index,XX,YX,ZX,XY,YY,ZY,XZ,YZ,ZZ\n",
    "        magnetic_shielding = pd.read_csv('magnetic_shielding_tensors.csv')\n",
    "        # molecule_name,atom_index,mulliken_charge\n",
    "        mulliken_charges = pd.read_csv('mulliken_charges.csv')\n",
    "\n",
    "        # molecule level\n",
    "        # molecule_name,X,Y,Z\n",
    "        dipole_moments = pd.read_csv('dipole_moments.csv')\n",
    "        # molecule_name,potential_energy\n",
    "        potential_energy = pd.read_csv('potential_energy.csv')\n",
    "\n",
    "    t['molecule_index'] = pd.factorize(t['molecule_name'])[0] + t['id'].min()\n",
    "    # make sure we use the same indexes in train/test (test needs to provide type_index)\n",
    "    if type_index is not None:\n",
    "        t['type_idx'] = t['type'].apply(lambda x: type_index.index(x) ) # pd.factorize(pd.concat([pd.Series(type_index),t['type']]))[0][len(type_index):]\n",
    "    else:\n",
    "        t['type_idx'] = pd.factorize(t['type'])[0]\n",
    "\n",
    "    s['atom_idx'] = s['atom'].apply(lambda x: atoms.index(x) )\n",
    "\n",
    "    max_items = len(t.groupby(['molecule_name', 'atom_index_0']))# if has_y else 422550\n",
    "    max_atoms = int(s.atom_index.max() + 1)\n",
    "\n",
    "    if has_y:\n",
    "        contributions = ['fc','sd','pso','dso']\n",
    "        magnetic_tensors = ['XX','YX','ZX','XY','YY','ZY','XZ','YZ','ZZ']\n",
    "        XYZ = ['X','Y','Z']\n",
    "    xyz = ['x', 'y', 'z']\n",
    "    \n",
    "    x_xyz   = np.zeros((max_items,len(xyz),  max_atoms), dtype=np.float32)\n",
    "    x_type  = np.zeros((max_items,1,         max_atoms), dtype=np.int8)\n",
    "    x_ext   = np.zeros((max_items,1,         max_atoms), dtype=np.bool_)\n",
    "    x_atom  = np.empty((max_items,1,         max_atoms), dtype=np.int8)\n",
    "    x_atom[:] = -1\n",
    "\n",
    "    if has_y:\n",
    "        y_scalar   = np.zeros((max_items,len(contributions)   ,max_atoms), dtype=np.float32)\n",
    "        y_magnetic = np.zeros((max_items,len(magnetic_tensors),max_atoms), dtype=np.float32)\n",
    "        y_mulliken = np.zeros((max_items,1                    ,max_atoms), dtype=np.float32)\n",
    "\n",
    "        y_dipole   = np.zeros((max_items,len(XYZ)), dtype=np.float32)\n",
    "        y_potential= np.zeros((max_items,1       ), dtype=np.float32)\n",
    "\n",
    "        y_magnetic[...] = np.nan\n",
    "        y_mulliken[...] = np.nan\n",
    "    else:\n",
    "        xt_ids = np.zeros((max_items, max_atoms), dtype=np.int32)\n",
    "\n",
    "    m = np.zeros((max_items,), dtype=np.int32)\n",
    "    i = j = 0\n",
    "    \n",
    "    for (m_name, m_index) ,m_group in tqdm(t.groupby(['molecule_name', 'molecule_index'])):\n",
    "        ss = s[s.molecule_name==m_name]\n",
    "        n_atoms = len(ss)\n",
    "        if has_y:\n",
    "            magnetic = magnetic_shielding[\n",
    "                    (magnetic_shielding['molecule_name']==m_name)][magnetic_tensors].values.T\n",
    "\n",
    "            mulliken = mulliken_charges[\n",
    "                    (mulliken_charges['molecule_name']==m_name)]['mulliken_charge'].values.T\n",
    "\n",
    "            scs = scalar_couplings[scalar_couplings['molecule_name']==m_name]\n",
    "            \n",
    "            y_dipole[j,:]= dipole_moments[dipole_moments['molecule_name']==m_name][XYZ].values\n",
    "            y_potential[j,:]=potential_energy[\n",
    "                potential_energy['molecule_name']==m_name]['potential_energy'].values\n",
    "        \n",
    "        for a_name,a_group in m_group.groupby('atom_index_0'):\n",
    "            \n",
    "            ref_a = ss[ss['atom_index']==a_name]\n",
    "            \n",
    "            x_xyz[i] = 0.\n",
    "            x_type[i] = -1\n",
    "            x_ext[i] =  True\n",
    "            \n",
    "            x_xyz[i,:,:n_atoms] = (ss[xyz].values-ref_a[xyz].values).T  # xyz \n",
    "            x_type[i,0,a_group['atom_index_1']] = a_group['type_idx']  # type \n",
    "            x_ext[i,0,a_group['atom_index_1']] = a_group['ext']  # ext \n",
    "            x_atom[i,:,:n_atoms] = ss['atom_idx'].T                \n",
    "\n",
    "            if has_y:\n",
    "                y_scalar[i,:,a_group['atom_index_1']] = scs[scs['atom_index_0']==a_name][contributions]\n",
    "                y_magnetic[i,:,:n_atoms] = magnetic\n",
    "                y_mulliken[i,:,:n_atoms] = mulliken\n",
    "            else:\n",
    "                xt_ids[i,a_group['atom_index_1']] = a_group['id']  \n",
    "\n",
    "            m[i] = m_index\n",
    "            i+=1\n",
    "        j += 1\n",
    "    assert i == max_items\n",
    "    print(i,max_items)\n",
    "    if has_y:\n",
    "        return x_xyz,x_type,x_ext,x_atom, m, y_scalar, y_magnetic, y_mulliken, y_dipole, y_potential\n",
    "    else:\n",
    "        return x_xyz,x_type,x_ext,x_atom, m, xt_ids"
   ]
  },
  {
   "cell_type": "markdown",
   "metadata": {},
   "source": [
    "Define where you want to use original training set '' or extended ''"
   ]
  },
  {
   "cell_type": "code",
   "execution_count": 6,
   "metadata": {
    "ExecuteTime": {
     "end_time": "2019-08-17T05:52:20.988397Z",
     "start_time": "2019-08-17T05:52:20.983967Z"
    }
   },
   "outputs": [],
   "source": [
    "ext = '_ext' # or ''"
   ]
  },
  {
   "cell_type": "markdown",
   "metadata": {},
   "source": [
    "Load preprocessed or preprocess and save for later"
   ]
  },
  {
   "cell_type": "code",
   "execution_count": 7,
   "metadata": {
    "ExecuteTime": {
     "end_time": "2019-08-17T05:52:27.166794Z",
     "start_time": "2019-08-17T05:52:21.788230Z"
    }
   },
   "outputs": [],
   "source": [
    "train_fname = Path('train.npz')\n",
    "types = ['1JHC', '2JHH', '1JHN', '2JHN', '2JHC', '3JHH', '3JHC', '3JHN'] \n",
    "atoms = 'CFHNO'\n",
    "\n",
    "try:\n",
    "    npzfile = np.load(fname_ext(train_fname, ext))\n",
    "    x_xyz   = npzfile['x_xyz']\n",
    "    x_type  = npzfile['x_type']\n",
    "    x_ext   = npzfile['x_ext']\n",
    "    x_atom  = npzfile['x_atom']\n",
    "\n",
    "    y_scalar    = npzfile['y_scalar']\n",
    "    y_magnetic  = npzfile['y_magnetic']\n",
    "    y_mulliken  = npzfile['y_mulliken']\n",
    "    y_dipole    = npzfile['y_dipole']\n",
    "    y_potential = npzfile['y_potential']\n",
    "    m = npzfile['m']\n",
    "    max_items, max_atoms = x_xyz.shape[0], x_xyz.shape[-1]\n",
    "except:\n",
    "    x_xyz,x_type,x_ext,x_atom, m, y_scalar, y_magnetic, y_mulliken, y_dipole, y_potential = \\\n",
    "        preprocess(train_fname.with_suffix('.csv'), type_index=types, ext=ext)\n",
    "    np.savez(fname_ext(train_fname, ext), \n",
    "             x_xyz=x_xyz,\n",
    "             x_type=x_type,\n",
    "             x_ext=x_ext,\n",
    "             x_atom=x_atom,\n",
    "             y_scalar=y_scalar,\n",
    "             y_magnetic=y_magnetic,\n",
    "             y_mulliken=y_mulliken,\n",
    "             y_dipole=y_dipole,\n",
    "             y_potential=y_potential,\n",
    "             m=m)\n",
    "n_types = int(x_type[~np.isnan(x_type)].max() + 1)"
   ]
  },
  {
   "cell_type": "code",
   "execution_count": 8,
   "metadata": {
    "ExecuteTime": {
     "end_time": "2019-08-17T05:52:27.175502Z",
     "start_time": "2019-08-17T05:52:27.169303Z"
    }
   },
   "outputs": [],
   "source": [
    "use_memmap = True\n",
    "try:\n",
    "    load_fn = np.load if not use_memmap else partial(np.lib.format.open_memmap, mode='r')\n",
    "    x_coulombmat = load_fn(f'x_coulombmat32{ext}.npy')\n",
    "except:\n",
    "    x_coulombmat = np.load(f'x_coulombmat{ext}.npy', allow_pickle=True)\n",
    "    x_coulombmat = np.array(x_coulombmat.tolist()).astype(np.float32)\n",
    "    np.save(f'x_coulombmat32{ext}.npy', x_coulombmat)"
   ]
  },
  {
   "cell_type": "code",
   "execution_count": 9,
   "metadata": {
    "ExecuteTime": {
     "end_time": "2019-08-17T05:52:27.181672Z",
     "start_time": "2019-08-17T05:52:27.178034Z"
    }
   },
   "outputs": [],
   "source": [
    "x_qm9_mulliken = load_fn(f'x_qm9_mulliken{ext}.npy')"
   ]
  },
  {
   "cell_type": "code",
   "execution_count": 10,
   "metadata": {
    "ExecuteTime": {
     "end_time": "2019-08-17T05:52:27.190706Z",
     "start_time": "2019-08-17T05:52:27.183892Z"
    }
   },
   "outputs": [
    {
     "data": {
      "text/plain": [
       "[(1405126, 3, 29),\n",
       " (1405126, 1, 29),\n",
       " (1405126, 1, 29),\n",
       " (1405126, 1, 29),\n",
       " (1405126, 1, 29),\n",
       " (1405126, 4, 29),\n",
       " (1405126, 9, 29),\n",
       " (1405126, 1, 29),\n",
       " (1405126, 3),\n",
       " (1405126, 1),\n",
       " (1405126,)]"
      ]
     },
     "execution_count": 10,
     "metadata": {},
     "output_type": "execute_result"
    }
   ],
   "source": [
    "[v.shape for v in [x_xyz,x_type,x_ext,x_atom,x_qm9_mulliken, \n",
    "                   y_scalar, y_magnetic, y_mulliken, y_dipole, y_potential, m]]"
   ]
  },
  {
   "cell_type": "code",
   "execution_count": 11,
   "metadata": {
    "ExecuteTime": {
     "end_time": "2019-08-17T05:52:28.235567Z",
     "start_time": "2019-08-17T05:52:27.192796Z"
    }
   },
   "outputs": [],
   "source": [
    "x_xyz_mean, x_xyz_std = Tensor(x_xyz.mean(axis=(0,2),keepdims=True)), Tensor(x_xyz.std(axis=(0,2),keepdims=True))"
   ]
  },
  {
   "cell_type": "code",
   "execution_count": 12,
   "metadata": {
    "ExecuteTime": {
     "end_time": "2019-08-17T05:52:28.385150Z",
     "start_time": "2019-08-17T05:52:28.237875Z"
    }
   },
   "outputs": [],
   "source": [
    "x_qm9_mulliken_mean = Tensor(x_qm9_mulliken.mean(axis=(0,2),keepdims=True))\n",
    "x_qm9_mulliken_std  = Tensor(x_qm9_mulliken.std( axis=(0,2),keepdims=True))"
   ]
  },
  {
   "cell_type": "code",
   "execution_count": 13,
   "metadata": {
    "ExecuteTime": {
     "end_time": "2019-08-17T05:52:28.391201Z",
     "start_time": "2019-08-17T05:52:28.387293Z"
    }
   },
   "outputs": [
    {
     "data": {
      "text/plain": [
       "torch.Size([1, 3, 1])"
      ]
     },
     "execution_count": 13,
     "metadata": {},
     "output_type": "execute_result"
    }
   ],
   "source": [
    "x_xyz_std.shape"
   ]
  },
  {
   "cell_type": "markdown",
   "metadata": {},
   "source": [
    "Fastai classes (this should should be done into its own `application` but who has time?"
   ]
  },
  {
   "cell_type": "code",
   "execution_count": 14,
   "metadata": {
    "ExecuteTime": {
     "end_time": "2019-08-17T05:52:28.410293Z",
     "start_time": "2019-08-17T05:52:28.393816Z"
    }
   },
   "outputs": [],
   "source": [
    "class MoleculeItem(ItemBase):\n",
    "    def __init__(self,i,xyz,type,ext,atom,qm9_mulliken,coulomb): \n",
    "        self.i,self.xyz,self.type,self.ext, self.atom,self.qm9_mulliken,self.coulomb = \\\n",
    "            i,xyz,type,ext,atom,qm9_mulliken,coulomb\n",
    "        self.data = [Tensor(xyz), LongTensor((type)), \n",
    "                     Tensor(ext), LongTensor((atom)),Tensor(qm9_mulliken), Tensor(coulomb)]\n",
    "    def __str__(self):\n",
    "        # TODO: count n_atoms correctly. \n",
    "        n_atoms = np.count_nonzero(np.sum(np.absolute(self.xyz), axis=0))+1\n",
    "        n_couplings = np.sum((self.type!=-1))\n",
    "        return f'{self.i} {n_atoms} atoms {n_couplings} couplings'\n",
    "    \n",
    "    def apply_tfms(self, tfms:Collection, **kwargs):\n",
    "        x = self.clone()\n",
    "        for t in tfms:\n",
    "            if t: x.data = t(x.data)\n",
    "        return x\n",
    "    \n",
    "    def clone(self):\n",
    "        return self.__class__(self.i,self.xyz,self.type,self.ext,self.atom,self.qm9_mulliken,self.coulomb)\n",
    "    \n",
    "class ScalarCouplingItem(ItemBase):\n",
    "    def __init__(self,scalar,magnetic,mulliken,dipole,potential,**kwargs): \n",
    "        self.scalar,self.magnetic,self.mulliken,self.dipole,self.potential = \\\n",
    "            scalar,magnetic,mulliken,dipole,potential\n",
    "        self.data = (Tensor(scalar), Tensor(magnetic), Tensor(dipole), Tensor(potential))\n",
    "    def __str__(self):\n",
    "        res, spacer, n_couplings = '', '', 0\n",
    "        for s in self.data[0].sum(dim=0):\n",
    "            if s==0.: spacer = ' * '\n",
    "            else: \n",
    "                res += f'{spacer}{s:.4f}'\n",
    "                spacer = ' '\n",
    "                n_couplings +=1\n",
    "        return f'{n_couplings}: {res}'\n",
    "    def __hash__(self): return hash(str(self))"
   ]
  },
  {
   "cell_type": "code",
   "execution_count": 15,
   "metadata": {
    "ExecuteTime": {
     "end_time": "2019-08-17T05:52:33.790862Z",
     "start_time": "2019-08-17T05:52:33.763867Z"
    }
   },
   "outputs": [],
   "source": [
    "class LMAEMaskedLoss(Module):\n",
    "    def __init__(self,\n",
    "                 contrib_w=0., magnetic_w=0., dipole_w=0., potential_w=0., \n",
    "                 types_w = [1]*n_types, return_all=False, proxy_log=torch.log, exclude_ext=False):\n",
    "        self.contrib_w,self.magnetic_w,self.dipole_w,self.potential_w = contrib_w,magnetic_w,dipole_w,potential_w\n",
    "        self.types_w = types_w\n",
    "        self.return_all = return_all\n",
    "        self.proxy_log = proxy_log\n",
    "        self.exclude_ext = exclude_ext\n",
    "    \n",
    "    def forward(self, input_outputs, t_scalar, t_magnetic, t_dipole, t_potential):    \n",
    "        type, ext, p_scalar, p_magnetic, p_dipole, p_potential = input_outputs\n",
    "        loss = 0.\n",
    "        n = 0\n",
    "        j_loss = [0] * n_types\n",
    "        for t in range(n_types):\n",
    "            mask = (type == t).squeeze(1) if not self.exclude_ext else ((type == t) & (ext == 0)).squeeze(1)\n",
    "            if mask.sum() > 0:\n",
    "                _output,_target = p_scalar.transpose(1,2)[mask], t_scalar.transpose(1,2)[mask] # scalars at the end\n",
    "                # LMAE scalar\n",
    "                s_loss = self.proxy_log((_output.sum(dim=-1) - _target.sum(dim=-1)).abs().mean()+1e-9)\n",
    "                loss += self.types_w[t] * s_loss\n",
    "                j_loss[t] += s_loss\n",
    "                # LMAE scalar contributions\n",
    "                for i_contrib in range(_output.shape[-1]):\n",
    "                    loss += self.contrib_w * \\\n",
    "                        self.proxy_log((_output[...,i_contrib] - _target[...,i_contrib]).abs().mean()+1e-9)\n",
    "                n+=1\n",
    "        loss /= n\n",
    "        \n",
    "        if self.magnetic_w > 0:\n",
    "            mask = ~torch.isnan(t_magnetic)\n",
    "            loss += self.magnetic_w * MSELossFlat()(p_magnetic[mask], t_magnetic[mask])\n",
    "            \n",
    "        if self.dipole_w    > 0: loss += self.dipole_w    * MSELossFlat()(p_dipole,    t_dipole)\n",
    "        if self.potential_w > 0: loss += self.potential_w * MSELossFlat()(p_potential, t_potential)\n",
    "\n",
    "        return loss if not self.return_all else (loss, *j_loss)"
   ]
  },
  {
   "cell_type": "code",
   "execution_count": 16,
   "metadata": {
    "ExecuteTime": {
     "end_time": "2019-08-17T05:52:35.266640Z",
     "start_time": "2019-08-17T05:52:35.257110Z"
    }
   },
   "outputs": [],
   "source": [
    "class ScalarCouplingList(ItemList):\n",
    "    def __init__(self, items:Iterator, **kwargs):\n",
    "        super().__init__(items, **kwargs)\n",
    "        self.loss_func = LMAEMaskedLoss\n",
    "\n",
    "    def get(self, i):\n",
    "        o = super().get(i)\n",
    "        return ScalarCouplingItem(*o)\n",
    "\n",
    "    def reconstruct(self,t): return 0; # TODO for viz !!!! ScalarCouplingItem(t.numpy())"
   ]
  },
  {
   "cell_type": "markdown",
   "metadata": {},
   "source": [
    "Quaterions allow us to rotate 3d points randoming with a nice uniform distribution of 3 numbers hece we use them, however it's still to be seen if are useful here"
   ]
  },
  {
   "cell_type": "code",
   "execution_count": 17,
   "metadata": {
    "ExecuteTime": {
     "end_time": "2019-08-17T05:52:36.038653Z",
     "start_time": "2019-08-17T05:52:36.000555Z"
    }
   },
   "outputs": [],
   "source": [
    "#https://github.com/facebookresearch/QuaterNet/blob/master/common/quaternion.py\n",
    "def qrot(q, v):\n",
    "    \"\"\"\n",
    "    Rotate vector(s) v about the rotation described by quaternion(s) q.\n",
    "    Expects a tensor of shape (*, 4) for q and a tensor of shape (*, 3) for v,\n",
    "    where * denotes any number of dimensions.\n",
    "    Returns a tensor of shape (*, 3).\n",
    "    \"\"\"\n",
    "    assert q.shape[-1] == 4\n",
    "    assert v.shape[-1] == 3\n",
    "    assert q.shape[:-1] == v.shape[:-1]\n",
    "    \n",
    "    original_shape = list(v.shape)\n",
    "    q = q.view(-1, 4)\n",
    "    v = v.view(-1, 3)\n",
    "    \n",
    "    qvec = q[:, 1:]\n",
    "    uv = torch.cross(qvec, v, dim=1)\n",
    "    uuv = torch.cross(qvec, uv, dim=1)\n",
    "    return (v + 2 * (q[:, :1] * uv + uuv)).view(original_shape)\n",
    "\n",
    "def random_rotation(data):\n",
    "    x_xyz = data[0].transpose(0,1)\n",
    "    r = torch.rand(3)\n",
    "    sq1_v1,sqv1,v2_2pi,v3_2pi = torch.sqrt(1-r[:1]),torch.sqrt(r[:1]),2*math.pi*r[1:2],2*math.pi*r[2:3]\n",
    "    q = torch.cat([sq1_v1*torch.sin(v2_2pi), sq1_v1*torch.cos(v2_2pi), \n",
    "                   sqv1  *torch.sin(v3_2pi), sqv1  *torch.cos(v3_2pi)], dim=0).unsqueeze(0)\n",
    "    x_xyz = qrot(q.expand(x_xyz.shape[0],-1), x_xyz).squeeze(0).transpose(0,1)\n",
    "    return (x_xyz, *data[1:])\n",
    "\n",
    "def normalize(data):\n",
    "    sq = False\n",
    "    if data[0].ndim < 3:\n",
    "        data[0].unsqueeze_(0)\n",
    "        data[4].unsqueeze_(0)\n",
    "        sq = True\n",
    "    x_xyz      = (data[0] - x_xyz_mean)          / x_xyz_std\n",
    "    x_mulliken = (data[4] - x_qm9_mulliken_mean) / x_qm9_mulliken_std\n",
    "    if sq:\n",
    "        x_xyz.squeeze_(0)\n",
    "        x_mulliken.squeeze_(0)\n",
    "    return (x_xyz, data[1],data[2],data[3],x_mulliken,data[5])\n",
    "\n",
    "def canonize(data):\n",
    "    xyz,type,ext,atom,mulliken,coulomb = data\n",
    "    mask = (atom == -1).squeeze(0)\n",
    "    mask_atoms = ~mask.unsqueeze(0)\n",
    "    n_atoms = mask_atoms.sum()\n",
    "    i = torch.nonzero(type.squeeze(0) == -1)[0] # pick first one w/o j-coupling\n",
    "    xyz[:,mask], type[:,mask],ext[:,mask],atom[:,mask],mulliken[:,mask] = \\\n",
    "        0,-1,1,-1,0\n",
    "#        xyz[:,i],type[:,i],   ext[:,i],   atom[:,i],   mulliken[:,i]\n",
    "    return (xyz,type,ext,atom,mulliken,coulomb, mask_atoms, n_atoms)\n",
    "\n",
    "def canonize2(data):\n",
    "    xyz,type,ext,atom,mulliken = data\n",
    "    mask = (atom == -1).squeeze(0)\n",
    "    i_max_atom = torch.nonzero(atom != -1).max() + 1\n",
    "    #mask_atoms = torch.ones((max_atoms,   max_atoms), dtype=torch.uint8)\n",
    "    #zeros      = torch.zeros((i_max_atom, i_max_atom), dtype=torch.uint8)\n",
    "    #mask_atoms[:zeros.shape[0],:zeros.shape[1]] = zeros\n",
    "\n",
    "    mask_atoms = torch.ones ((max_atoms, ), dtype=torch.uint8)\n",
    "    zeros      = torch.zeros((i_max_atom,), dtype=torch.uint8)\n",
    "    mask_atoms[:zeros.shape[0],] = zeros\n",
    "    #mask_atoms[(type==-1).squeeze(0),:] = 1\n",
    "    n_atoms = i_max_atom\n",
    "    xyz[:,mask], type[:,mask],ext[:,mask],atom[:,mask],mulliken[:,mask] = 0,-1,1,-1,0\n",
    "    return (xyz,type,ext,atom,mulliken, mask_atoms, n_atoms)"
   ]
  },
  {
   "cell_type": "markdown",
   "metadata": {},
   "source": [
    "Build `data` bunch etc. for fastai"
   ]
  },
  {
   "cell_type": "code",
   "execution_count": 18,
   "metadata": {
    "ExecuteTime": {
     "end_time": "2019-08-17T05:54:07.103551Z",
     "start_time": "2019-08-17T05:52:36.042537Z"
    }
   },
   "outputs": [],
   "source": [
    "data = ItemList(items=(MoleculeItem(i,*v) for i,v in \n",
    "                       enumerate(zip(x_xyz,x_type,x_ext,x_atom,x_qm9_mulliken,x_coulombmat))),\n",
    "                label_cls=ScalarCouplingItem)"
   ]
  },
  {
   "cell_type": "code",
   "execution_count": 19,
   "metadata": {
    "ExecuteTime": {
     "end_time": "2019-08-17T05:54:07.523822Z",
     "start_time": "2019-08-17T05:54:07.106365Z"
    }
   },
   "outputs": [],
   "source": [
    "from sklearn.model_selection import train_test_split\n",
    "_, idx_valid_split = train_test_split(range(m.max()+1), test_size=0.1, random_state=13)\n",
    "idx_valid_split = np.argwhere(np.isin(m, idx_valid_split)).flatten()"
   ]
  },
  {
   "cell_type": "code",
   "execution_count": 20,
   "metadata": {
    "ExecuteTime": {
     "end_time": "2019-08-17T05:54:07.649610Z",
     "start_time": "2019-08-17T05:54:07.526563Z"
    },
    "pixiedust": {
     "displayParams": {}
    }
   },
   "outputs": [],
   "source": [
    "data = data.split_by_idx(idx_valid_split)"
   ]
  },
  {
   "cell_type": "code",
   "execution_count": 21,
   "metadata": {
    "ExecuteTime": {
     "end_time": "2019-08-17T05:54:11.521171Z",
     "start_time": "2019-08-17T05:54:07.651616Z"
    }
   },
   "outputs": [],
   "source": [
    "data = data.label_from_func(\n",
    "    func=lambda o: (y_scalar[o.i], y_magnetic[o.i], y_mulliken[o.i], y_dipole[o.i], y_potential[o.i]),\n",
    "    label_cls=ScalarCouplingList)"
   ]
  },
  {
   "cell_type": "code",
   "execution_count": 22,
   "metadata": {
    "ExecuteTime": {
     "end_time": "2019-08-17T05:54:11.527998Z",
     "start_time": "2019-08-17T05:54:11.523349Z"
    }
   },
   "outputs": [],
   "source": [
    "if False:\n",
    "    try:\n",
    "        xt_coulombmat = load_fn(f'xt_coulombmat32{ext}.npy')\n",
    "    except:\n",
    "        xt_coulombmat = np.load(f'xt_coulombmat{ext}.npy', allow_pickle=True)\n",
    "        xt_coulombmat = np.array(xt_coulombmat.tolist()).astype(np.float32)\n",
    "        np.save(f'xt_coulombmat32{ext}.npy', xt_coulombmat)"
   ]
  },
  {
   "cell_type": "code",
   "execution_count": 23,
   "metadata": {
    "ExecuteTime": {
     "end_time": "2019-08-17T05:54:11.540149Z",
     "start_time": "2019-08-17T05:54:11.531385Z"
    }
   },
   "outputs": [],
   "source": [
    "tfms = [normalize, canonize]\n",
    "tta_tfms = list(tfms)\n",
    "#tta_tfms.insert(0,random_rotation)\n",
    "data = data.transform((tta_tfms, tfms))"
   ]
  },
  {
   "cell_type": "code",
   "execution_count": 24,
   "metadata": {
    "ExecuteTime": {
     "end_time": "2019-08-17T05:54:11.668094Z",
     "start_time": "2019-08-17T05:54:11.542231Z"
    }
   },
   "outputs": [],
   "source": [
    "data=data.databunch(num_workers=4)"
   ]
  },
  {
   "cell_type": "markdown",
   "metadata": {},
   "source": [
    "# Model\n",
    "Whole model here, self-contained (needs some cleanup)"
   ]
  },
  {
   "cell_type": "code",
   "execution_count": 25,
   "metadata": {
    "ExecuteTime": {
     "end_time": "2019-08-17T05:54:11.687691Z",
     "start_time": "2019-08-17T05:54:11.671401Z"
    }
   },
   "outputs": [],
   "source": [
    "class LMAEMetric(LearnerCallback):\n",
    "    _order=-20 # Needs to run before the recorder\n",
    "    def __init__(self, learn, val_only=True):\n",
    "        super().__init__(learn)\n",
    "        self.val_only=val_only\n",
    "        self.metric = LMAEMaskedLoss(return_all=True, exclude_ext=True)\n",
    "\n",
    "    def on_train_begin(self, **kwargs):\n",
    "        if not self.val_only: self.learn.recorder.add_metric_names(['tLMAE'])\n",
    "        self.learn.recorder.add_metric_names(['👉🏻LMAE👈🏻'] + [f'lmae{i}' for i in range(n_types)])\n",
    "            \n",
    "    def on_batch_end(self, train, last_output, last_target, **kwargs):\n",
    "        if self.val_only and train: return \n",
    "        preds,targs = self.preds[int(train)], self.targs[int(train)] # 0 val 1 train\n",
    "        if preds is None:\n",
    "            targs, preds = listify(last_target), listify(last_output)\n",
    "            targs,preds = [t.detach() for t in targs],[t.detach() for t in preds]\n",
    "        else:\n",
    "            for i,(o,t) in enumerate(zip(last_output, last_target)):\n",
    "                preds[i] = torch.cat([preds[i], o.detach()], dim=0)\n",
    "                targs[i] = torch.cat([targs[i], t.detach()], dim=0)\n",
    "        self.preds[int(train)], self.targs[int(train)] = preds,targs\n",
    "        \n",
    "    def on_epoch_begin(self, **kwargs):\n",
    "        self.targs, self.preds = [None, None], [None, None]\n",
    "\n",
    "    def on_epoch_end(self, last_metrics, **kwargs):\n",
    "        mets = []\n",
    "        if self.preds[1]: mets.append(self.metric.forward(self.preds[1], *self.targs[1])[0]) # just tLMAE\n",
    "        if self.preds[0]: mets.extend(self.metric.forward(self.preds[0], *self.targs[0]))\n",
    "        return add_metrics(last_metrics, mets) if mets else None"
   ]
  },
  {
   "cell_type": "code",
   "execution_count": 26,
   "metadata": {
    "ExecuteTime": {
     "end_time": "2019-08-17T05:54:11.744458Z",
     "start_time": "2019-08-17T05:54:11.690389Z"
    }
   },
   "outputs": [],
   "source": [
    "Activation = Enum('Activation', 'ReLU Swish GeLU')\n",
    "\n",
    "class PositionalEncoding(Module):\n",
    "    \"Implement the PE function.\"\n",
    "    def __init__(self, d_model, dropout, max_len=5000):\n",
    "        super(PositionalEncoding, self).__init__()\n",
    "        self.dropout = nn.Dropout(p=dropout)\n",
    "        \n",
    "        # Compute the positional encodings once in log space.\n",
    "        pe = torch.zeros(max_len, d_model)\n",
    "        \n",
    "        position = torch.arange(0., max_len).unsqueeze(1)\n",
    "        div_term = torch.exp(torch.arange(0., d_model, 2) * -(math.log(10000.0) / d_model))\n",
    "\n",
    "        pe[:, 0::2] = torch.sin(position * div_term)\n",
    "        pe[:, 1::2] = torch.cos(position * div_term)[:, :-1]\n",
    "        pe = pe.unsqueeze(0)\n",
    "        self.register_buffer('pe', pe)\n",
    "        print(pe.size())\n",
    "        \n",
    "    def forward(self, x):\n",
    "        x = x.transpose(2, 1)\n",
    "        x = x + Variable(self.pe[:, :x.size(1)], \n",
    "                         requires_grad=False)\n",
    "        return self.dropout(x).transpose(2, 1)\n",
    "    \n",
    "class GeLU(Module):\n",
    "    def forward(self, x): return 0.5 * x * (1 + torch.tanh(math.sqrt(2 / math.pi) * (x + 0.044715 * torch.pow(x, 3))))\n",
    "\n",
    "class Swish(Module):\n",
    "    def forward(self, x): return x * torch.sigmoid(x)\n",
    "\n",
    "_activ_func = {Activation.ReLU:nn.ReLU(inplace=True), Activation.GeLU:GeLU(), Activation.Swish: Swish()}\n",
    "\n",
    "def feed_forward(d_model:int, d_ff:int, ff_p:float=0., act:Activation=Activation.ReLU, double_drop:bool=True):\n",
    "    layers = [nn.Linear(d_model, d_ff), _activ_func[act]]\n",
    "    if double_drop: layers.append(nn.Dropout(ff_p))\n",
    "    return SequentialEx(*layers, nn.Linear(d_ff, d_model), nn.Dropout(ff_p), MergeLayer(), nn.LayerNorm(d_model))\n",
    "\n",
    "class MultiHeadAttention(Module):\n",
    "    \"MutiHeadAttention.\"\n",
    "    def __init__(self, n_heads:int, d_model:int, d_head:int=None, resid_p:float=0., attn_p:float=0., bias:bool=False,\n",
    "                 scale:bool=True):\n",
    "        d_head = ifnone(d_head, d_model//n_heads)\n",
    "        self.n_heads,self.d_head,self.scale = n_heads,d_head,scale\n",
    "\n",
    "        self.attention1 = nn.Linear(d_model, n_heads * d_head, bias=bias)\n",
    "        self.attention2 = nn.Linear(d_model, n_heads * d_head, bias=bias)\n",
    "        self.attention3 = nn.Linear(d_model, n_heads * d_head, bias=bias)\n",
    "        self.attention4 = nn.Linear(d_model, d_model, bias=bias)\n",
    "        self.out = nn.Linear(n_heads * d_head, d_model, bias=bias)\n",
    "        self.drop_att,self.drop_res = nn.Dropout(attn_p),nn.Dropout(resid_p)\n",
    "        self.ln = nn.LayerNorm(d_model)\n",
    "\n",
    "    def forward(self, x:Tensor, mask:Tensor=None, **kwargs):\n",
    "        return self.ln(x + self.drop_res(self.out(self._apply_attention(x, mask=mask, **kwargs))))\n",
    "\n",
    "    def _apply_attention(self, x:Tensor, mask:Tensor=None):\n",
    "        if False:\n",
    "            if mask is not None:\n",
    "                x= x.masked_fill(mask[:,:,0].squeeze(1).unsqueeze(-1).repeat(1, 1, x.size(2)),  0.)\n",
    "        bs,x_len = x.size(0),x.size(1)\n",
    "        wq,wk,wv = self.attention1(x), self.attention2(x), self.attention3(x)\n",
    "        wq,wk,wv = map(lambda x:x.view(bs, x.size(1), self.n_heads, self.d_head), (wq,wk,wv))\n",
    "        wq,wk,wv = wq.permute(0, 2, 1, 3),wk.permute(0, 2, 3, 1),wv.permute(0, 2, 1, 3)\n",
    "        attn_score = torch.matmul(wq, wk)\n",
    "        if self.scale: attn_score.div_(self.d_head ** 0.5)\n",
    "        if mask is not None:\n",
    "            attn_score = attn_score.float().masked_fill(mask,  -1.0E9).type_as(attn_score)\n",
    "        attn_prob = self.drop_att(F.softmax(attn_score, dim=-1))\n",
    "        attn_vec = torch.matmul(attn_prob, wv)\n",
    "        return self.attention4(attn_vec.permute(0, 2, 1, 3).contiguous().contiguous().view(bs, x_len, -1))\n",
    "\n",
    "    def _attention_einsum(self, x, mask=None):\n",
    "        # Permute and matmul is a little bit faster but this implementation is more readable\n",
    "        bs,x_len = x.size(0),x.size(1)\n",
    "        wq,wk,wv = torch.chunk(self.attention(x), 3, dim=-1)\n",
    "        wq,wk,wv = map(lambda x:x.view(bs, x.size(1), self.n_heads, self.d_head), (wq,wk,wv))\n",
    "        attn_score = torch.einsum('bind,bjnd->bijn', (wq, wk))\n",
    "        if self.scale: attn_score.mul_(1/(self.d_head ** 0.5))\n",
    "        if mask is not None:\n",
    "            attn_score = attn_score.float().masked_fill(mask, -float('-inf')).type_as(attn_score)\n",
    "        attn_prob = self.drop_att(F.softmax(attn_score, dim=2))\n",
    "        attn_vec = torch.einsum('bijn,bjnd->bind', (attn_prob, wv))\n",
    "        return attn_vec.contiguous().view(bs, x_len, -1)\n",
    "\n",
    "\n",
    "class DecoderLayer(Module):\n",
    "    \"Basic block of a Transformer model.\"\n",
    "    #Can't use Sequential directly cause more than one input...\n",
    "    def __init__(self, n_heads:int, d_model:int, d_head:int, d_inner:int, resid_p:float=0., attn_p:float=0., ff_p:float=0.,\n",
    "                 bias:bool=True, scale:bool=True, act:Activation=Activation.ReLU, double_drop:bool=True,\n",
    "                 attn_cls:Callable=MultiHeadAttention):\n",
    "        self.mhra = attn_cls(n_heads, d_model, d_head, resid_p=resid_p, attn_p=attn_p, bias=bias, scale=scale)\n",
    "        self.ff   = feed_forward(d_model, d_inner, ff_p=ff_p, act=act, double_drop=double_drop)\n",
    "\n",
    "    def forward(self, x:Tensor, mask:Tensor=None, **kwargs): return self.ff(self.mhra(x, mask=mask, **kwargs))\n",
    "\n",
    "class Transformer(Module):\n",
    "    \"Transformer model: https://arxiv.org/abs/1706.03762.\"\n",
    "    def __init__(self, n_layers:int, n_heads:int, d_model:int, d_head:int, d_inner:int,\n",
    "                 resid_p:float=0., attn_p:float=0., ff_p:float=0., embed_p:float=0., bias:bool=True, scale:bool=True,\n",
    "                 act:Activation=Activation.ReLU, double_drop:bool=True, attn_cls:Callable=MultiHeadAttention,\n",
    "                 learned_pos_enc:bool=True, mask:bool=True):\n",
    "        self.mask = mask\n",
    "        #self.encoder = nn.Embedding(vocab_sz, d_model)\n",
    "        #self.pos_enc = nn.Embedding(ctx_len, d_model) if learned_pos_enc else PositionalEncoding(d_model)\n",
    "        #self.pos_enc = PositionalEncoding(29, 0.1)\n",
    "        self.drop_emb = nn.Dropout(embed_p)\n",
    "        self.layers = nn.ModuleList([DecoderLayer(n_heads, d_model, d_head, d_inner, resid_p=resid_p, attn_p=attn_p,\n",
    "                      ff_p=ff_p, bias=bias, scale=scale, act=act, double_drop=double_drop,\n",
    "                      attn_cls=attn_cls) for k in range(n_layers)])\n",
    "\n",
    "    def reset(self): pass\n",
    "\n",
    "    def forward(self, x, mask):\n",
    "        #bs, x_len = x.size()\n",
    "        #pos = torch.arange(0, x_len, device=x.device, dtype=x.dtype)\n",
    "        inp = self.drop_emb(x)# + self.pos_enc(pos)[None]) #.mul_(self.d_model ** 0.5)\n",
    "        #if False:\n",
    "        #    inp += self.pos_enc(x)[None]\n",
    "        #mask = None #torch.triu(x.new_ones(x_len, x_len), diagonal=1).byte()[None,None] if self.mask else None\n",
    "        #[None,:,:None] for einsum implementation of attention\n",
    "        for layer in self.layers: inp = layer(inp, mask=mask)\n",
    "        return inp #For the LinearDecoder\n"
   ]
  },
  {
   "cell_type": "code",
   "execution_count": 27,
   "metadata": {
    "ExecuteTime": {
     "end_time": "2019-08-17T05:54:11.776429Z",
     "start_time": "2019-08-17T05:54:11.746952Z"
    }
   },
   "outputs": [],
   "source": [
    "class MultiHeadAttentionOld(Module):\n",
    "    \"MutiHeadAttention.\"\n",
    "    def __init__(self, n_heads:int, d_model:int, d_head:int=None, resid_p:float=0., attn_p:float=0., bias:bool=True,\n",
    "                 scale:bool=True):\n",
    "        d_head = ifnone(d_head, d_model//n_heads)\n",
    "        self.n_heads,self.d_head,self.scale = n_heads,d_head,scale\n",
    "        self.attention = nn.Linear(d_model, 3 * n_heads * d_head, bias=bias)\n",
    "        self.out = nn.Linear(n_heads * d_head, d_model, bias=bias)\n",
    "        self.drop_att,self.drop_res = nn.Dropout(attn_p),nn.Dropout(resid_p)\n",
    "        self.ln = nn.LayerNorm(d_model)\n",
    "\n",
    "    def forward(self, x:Tensor, mask:Tensor=None, **kwargs):\n",
    "        return self.ln(x + self.drop_res(self.out(self._apply_attention(x, mask=mask, **kwargs))))\n",
    "\n",
    "    def _apply_attention(self, x:Tensor, mask:Tensor=None):\n",
    "        bs,x_len = x.size(0),x.size(1)\n",
    "        wq,wk,wv = torch.chunk(self.attention(x), 3, dim=-1)\n",
    "        wq,wk,wv = map(lambda x:x.view(bs, x.size(1), self.n_heads, self.d_head), (wq,wk,wv))\n",
    "        wq,wk,wv = wq.permute(0, 2, 1, 3),wk.permute(0, 2, 3, 1),wv.permute(0, 2, 1, 3)\n",
    "        attn_score = torch.matmul(wq, wk)\n",
    "        if self.scale: attn_score.div_(self.d_head ** 0.5)\n",
    "        if mask is not None:\n",
    "            attn_score = attn_score.float().masked_fill(mask,  -1.0E9).type_as(attn_score)\n",
    "        attn_prob = self.drop_att(F.softmax(attn_score, dim=-1))\n",
    "        attn_vec = torch.matmul(attn_prob, wv)\n",
    "        return attn_vec.permute(0, 2, 1, 3).contiguous().contiguous().view(bs, x_len, -1)\n",
    "    \n",
    "class AtomTransformerOld(Module):\n",
    "    def __init__(self,  n_heads,d_model, d_head=None, **kwargs):\n",
    "        \n",
    "        self.d_model = d_model\n",
    "        d_head = ifnone(d_head, d_model//n_heads)\n",
    "        self.transformer = Transformer(n_heads=n_heads,d_model=d_model, d_head=d_head, **kwargs)\n",
    "        \n",
    "        #self.scalar    = nn.Conv1d(d_model+ n_types + 1, 4, 1)\n",
    "        self.scalar    = nn.Conv1d(d_model, 4, 1)\n",
    "        self.magnetic  = nn.Conv1d(d_model, 9, 1)\n",
    "        self.dipole    = nn.Linear(d_model*max_atoms, 3)\n",
    "        self.potential = nn.Linear(d_model*max_atoms, 1)\n",
    "        \n",
    "        self.n_atom_embedding = d_model//2\n",
    "        self.n_type_embedding = d_model - self.n_atom_embedding - 6\n",
    "        self.type_embedding = nn.Embedding(len(types)+1,self.n_type_embedding)\n",
    "        self.atom_embedding = nn.Embedding(len(atoms)+1,self.n_atom_embedding)\n",
    "    \n",
    "        #n_pos_encoder = d_model - n_type_embedding - n_atom_embedding\n",
    "        #self.pos_encoder = nn.Sequential(\n",
    "        #    nn.Conv1d(3+1+1,n_pos_encoder, 1), nn.ReLU(), nn.BatchNorm1d(n_pos_encoder),\n",
    "        #)\n",
    "        \n",
    "    def forward(self,xyz,type,ext,atom,mulliken,coulomb, mask_atoms, n_atoms):\n",
    "        bs, _, n_pts = xyz.shape        \n",
    "        t = self.type_embedding((type+1).squeeze(1)) #* math.sqrt(self.n_atom_embedding) #.transpose(1,2)\n",
    "        a = self.atom_embedding((atom+1).squeeze(1)) #* math.sqrt(self.n_type_embedding) #.transpose(1,2)\n",
    "        \n",
    "        x = torch.cat([xyz, mulliken, ext, mask_atoms.float()], dim=1) #* math.sqrt(self.d_model)        \n",
    "        #x = self.pos_encoder(x).transpose(1,2)\n",
    "\n",
    "        x = torch.cat([x.transpose(1,2), t, a], dim=-1) \n",
    "\n",
    "        mask = (coulomb == 0).unsqueeze(1)\n",
    "        #mask = torch.triu(x.new_ones(max_atoms, max_atoms), diagonal=1).byte()[None,:,:,None]#[None,None] \n",
    "        #print(mask.shape, mask)\n",
    "        x = self.transformer(x, mask).transpose(1,2).contiguous()\n",
    "        \n",
    "        #t_one_hot = torch.zeros(bs,n_types+1,n_pts,device=type.device,dtype=x.dtype).scatter_(1,type+1, 1.)\n",
    "        #scalar    = self.scalar(torch.cat([x, t_one_hot], dim=1))\n",
    "        scalar    = self.scalar(x)\n",
    "        \n",
    "        magnetic  = self.magnetic(x) \n",
    "        dipole    = self.dipole(x.view(bs,-1))\n",
    "        potential = self.potential(x.view(bs,-1))\n",
    "                \n",
    "        return type,ext,scalar,magnetic,dipole,potential\n",
    "    \n",
    "    def reset(self): pass\n",
    "    "
   ]
  },
  {
   "cell_type": "code",
   "execution_count": 38,
   "metadata": {
    "ExecuteTime": {
     "end_time": "2019-08-17T06:01:53.616159Z",
     "start_time": "2019-08-17T06:01:53.525462Z"
    }
   },
   "outputs": [],
   "source": [
    "class AtomTransformer(Module):\n",
    "    def __init__(self,  n_heads,d_model, d_head=None, **kwargs):\n",
    "        \n",
    "        self.d_model = d_model\n",
    "        d_head = ifnone(d_head, d_model//n_heads)\n",
    "        self.transformer = Transformer(n_heads=n_heads,d_model=d_model, d_head=d_head, **kwargs)\n",
    "        \n",
    "        self.scalar    = nn.Conv1d(d_model+ n_types + 1, 4, 1)\n",
    "        self.magnetic  = nn.Conv1d(d_model, 9, 1)\n",
    "        self.dipole    = nn.Linear(d_model*max_atoms, 3)\n",
    "        self.potential = nn.Linear(d_model*max_atoms, 1)\n",
    "        \n",
    "        self.n_atom_embedding = d_model//2\n",
    "        self.n_type_embedding = d_model - self.n_atom_embedding - 3 # -3 best model\n",
    "        self.type_embedding = nn.Embedding(len(types)+1,self.n_type_embedding)\n",
    "        self.atom_embedding = nn.Embedding(len(atoms)+1,self.n_atom_embedding)\n",
    "    \n",
    "        #n_pos_encoder = d_model - n_type_embedding - n_atom_embedding\n",
    "        #self.pos_encoder = nn.Sequential(\n",
    "        #    nn.Conv1d(3+1+1,n_pos_encoder, 1), nn.ReLU(), nn.BatchNorm1d(n_pos_encoder),\n",
    "        #)\n",
    "        \n",
    "    def forward(self,xyz,type,ext,atom,mulliken,coulomb, mask_atoms, n_atoms):\n",
    "        bs, _, n_pts = xyz.shape        \n",
    "        t = self.type_embedding((type+1).squeeze(1)) #* math.sqrt(self.n_atom_embedding) #.transpose(1,2)\n",
    "        a = self.atom_embedding((atom+1).squeeze(1)) #* math.sqrt(self.n_type_embedding) #.transpose(1,2)\n",
    "        \n",
    "        #x = torch.cat([xyz, mulliken, ext, mask_atoms.float()], dim=1) #* math.sqrt(self.d_model)               \n",
    "        #x = torch.cat([xyz, ext, mask_atoms.float()], dim=1) #* math.sqrt(self.d_model)               \n",
    "        x = xyz \n",
    "        #x = self.pos_encoder(x).transpose(1,2)\n",
    "\n",
    "        x = torch.cat([x.transpose(1,2), t, a], dim=-1) \n",
    "\n",
    "        mask = (coulomb == 0).unsqueeze(1)\n",
    "        #mask = torch.triu(x.new_ones(max_atoms, max_atoms), diagonal=1).byte()[None,:,:,None]#[None,None] \n",
    "        #print(mask.shape, mask)\n",
    "        x = self.transformer(x, mask).transpose(1,2).contiguous()\n",
    "        t_one_hot = torch.zeros(bs,n_types+1,n_pts,device=type.device,dtype=x.dtype).scatter_(1,type+1, 1.)\n",
    "        \n",
    "        scalar    = self.scalar(torch.cat([x, t_one_hot], dim=1))\n",
    "        magnetic  = self.magnetic(x) \n",
    "        dipole    = self.dipole(x.view(bs,-1))\n",
    "        potential = self.potential(x.view(bs,-1))\n",
    "                \n",
    "        return type,ext,scalar,magnetic,dipole,potential\n",
    "    \n",
    "    def reset(self): pass\n",
    "    \n",
    "    \n",
    "class AtomTransformer2(Module):\n",
    "    def __init__(self,  n_heads,d_model, d_head=None, **kwargs):\n",
    "        \n",
    "        self.d_model = d_model\n",
    "        d_head = ifnone(d_head, d_model//n_heads)\n",
    "        self.transformer = Transformer(n_heads=n_heads,d_model=d_model, d_head=d_head, **kwargs)\n",
    "        \n",
    "        self.scalar    = nn.Conv1d(d_model+ n_types + 1, 4, 1)\n",
    "        self.magnetic  = nn.Conv1d(d_model, 9, 1)\n",
    "        self.dipole    = nn.Linear(d_model*max_atoms, 3)\n",
    "        self.potential = nn.Linear(d_model*max_atoms, 1)\n",
    "        \n",
    "        self.n_atom_embedding = d_model//2\n",
    "        self.n_type_embedding = d_model - self.n_atom_embedding - 6 # -3 best model\n",
    "        self.type_embedding = nn.Embedding(len(types)+1,self.n_type_embedding)\n",
    "        self.atom_embedding = nn.Embedding(len(atoms)+1,self.n_atom_embedding)\n",
    "    \n",
    "        #n_pos_encoder = d_model - n_type_embedding - n_atom_embedding\n",
    "        #self.pos_encoder = nn.Sequential(\n",
    "        #    nn.Conv1d(3+1+1,n_pos_encoder, 1), nn.ReLU(), nn.BatchNorm1d(n_pos_encoder),\n",
    "        #)\n",
    "        \n",
    "    def forward(self,xyz,type,ext,atom,mulliken,coulomb, mask_atoms, n_atoms):\n",
    "        bs, _, n_pts = xyz.shape        \n",
    "        t = self.type_embedding((type+1).squeeze(1)) #* math.sqrt(self.n_atom_embedding) #.transpose(1,2)\n",
    "        a = self.atom_embedding((atom+1).squeeze(1)) #* math.sqrt(self.n_type_embedding) #.transpose(1,2)\n",
    "        \n",
    "        x = torch.cat([xyz, mulliken, ext, mask_atoms.float()], dim=1) #* math.sqrt(self.d_model)               \n",
    "        #x = torch.cat([xyz, ext, mask_atoms.float()], dim=1) #* math.sqrt(self.d_model)               \n",
    "        #x = xyz \n",
    "        #x = self.pos_encoder(x).transpose(1,2)\n",
    "\n",
    "        x = torch.cat([x.transpose(1,2), t, a], dim=-1) \n",
    "\n",
    "        mask = (coulomb == 0).unsqueeze(1)\n",
    "        #mask = torch.triu(x.new_ones(max_atoms, max_atoms), diagonal=1).byte()[None,:,:,None]#[None,None] \n",
    "        #print(mask.shape, mask)\n",
    "        x = self.transformer(x, mask).transpose(1,2).contiguous()\n",
    "        t_one_hot = torch.zeros(bs,n_types+1,n_pts,device=type.device,dtype=x.dtype).scatter_(1,type+1, 1.)\n",
    "        \n",
    "        scalar    = self.scalar(torch.cat([x, t_one_hot], dim=1))\n",
    "        magnetic  = self.magnetic(x) \n",
    "        dipole    = self.dipole(x.view(bs,-1))\n",
    "        potential = self.potential(x.view(bs,-1))\n",
    "                \n",
    "        return type,ext,scalar,magnetic,dipole,potential\n",
    "    \n",
    "    def reset(self): pass\n",
    "    \n",
    "\n",
    "class MultiHeadAttention3(Module):\n",
    "    \"MutiHeadAttention.\"\n",
    "    def __init__(self, n_heads:int, d_model:int, d_head:int=None, resid_p:float=0., attn_p:float=0., bias:bool=False,\n",
    "                 scale:bool=False):\n",
    "        d_head = ifnone(d_head, d_model//n_heads)\n",
    "        self.n_heads,self.d_head,self.scale = n_heads,d_head,scale\n",
    "\n",
    "        self.attention1 = nn.Linear(d_model, n_heads * d_head, bias=bias)\n",
    "        self.attention2 = nn.Linear(d_model, n_heads * d_head, bias=bias)\n",
    "        self.attention3 = nn.Linear(d_model, n_heads * d_head, bias=bias)\n",
    "        self.attention4 = nn.Linear(d_model, d_model, bias=bias)\n",
    "        self.out = nn.Linear(n_heads * d_head, d_model, bias=bias)\n",
    "        self.drop_att,self.drop_res = nn.Dropout(attn_p),nn.Dropout(resid_p)\n",
    "        self.ln = nn.LayerNorm(d_model)\n",
    "        \n",
    "        self.scale=False\n",
    "\n",
    "    def forward(self, x:Tensor, mask:Tensor=None, **kwargs):\n",
    "        return self.ln(x + self.drop_res(self.out(self._apply_attention(x, mask=mask, **kwargs))))\n",
    "\n",
    "    def _apply_attention(self, x:Tensor, mask:Tensor=None):\n",
    "        if False:\n",
    "            if mask is not None:\n",
    "                x= x.masked_fill(mask[:,:,0].squeeze(1).unsqueeze(-1).repeat(1, 1, x.size(2)),  0.)\n",
    "        bs,x_len = x.size(0),x.size(1)\n",
    "        wq,wk,wv = self.attention1(x), self.attention2(x), self.attention3(x)\n",
    "        wq,wk,wv = map(lambda x:x.view(bs, x.size(1), self.n_heads, self.d_head), (wq,wk,wv))\n",
    "        wq,wk,wv = wq.permute(0, 2, 1, 3),wk.permute(0, 2, 3, 1),wv.permute(0, 2, 1, 3)\n",
    "        attn_score = torch.matmul(wq, wk)\n",
    "        if self.scale: attn_score.div_(self.d_head ** 0.5)\n",
    "        if mask is not None:\n",
    "            attn_score = attn_score.float().masked_fill(mask,  -1.0E9).type_as(attn_score)\n",
    "        attn_prob = self.drop_att(F.softmax(attn_score, dim=-1))\n",
    "        attn_vec = torch.matmul(attn_prob, wv)\n",
    "        return self.attention4(attn_vec.permute(0, 2, 1, 3).contiguous().contiguous().view(bs, x_len, -1))\n",
    "\n",
    "    def _attention_einsum(self, x, mask=None):\n",
    "        # Permute and matmul is a little bit faster but this implementation is more readable\n",
    "        bs,x_len = x.size(0),x.size(1)\n",
    "        wq,wk,wv = torch.chunk(self.attention(x), 3, dim=-1)\n",
    "        wq,wk,wv = map(lambda x:x.view(bs, x.size(1), self.n_heads, self.d_head), (wq,wk,wv))\n",
    "        attn_score = torch.einsum('bind,bjnd->bijn', (wq, wk))\n",
    "        if self.scale: attn_score.mul_(1/(self.d_head ** 0.5))\n",
    "        if mask is not None:\n",
    "            attn_score = attn_score.float().masked_fill(mask, -float('-inf')).type_as(attn_score)\n",
    "        attn_prob = self.drop_att(F.softmax(attn_score, dim=2))\n",
    "        attn_vec = torch.einsum('bijn,bjnd->bind', (attn_prob, wv))\n",
    "        return attn_vec.contiguous().view(bs, x_len, -1)\n",
    "\n",
    "    \n",
    "class AtomTransformer3(Module):\n",
    "    def __init__(self,  n_heads,d_model, d_head=None, **kwargs):\n",
    "        \n",
    "        self.d_model = d_model\n",
    "        d_head = ifnone(d_head, d_model//n_heads)\n",
    "        self.transformer = Transformer(n_heads=n_heads,d_model=d_model, d_head=d_head, **kwargs)\n",
    "        \n",
    "        self.scalar    = nn.Conv1d(d_model+ n_types + 1, 4, 1)\n",
    "        self.magnetic  = nn.Conv1d(d_model, 9, 1)\n",
    "        self.dipole    = nn.Linear(d_model*max_atoms, 3)\n",
    "        self.potential = nn.Linear(d_model*max_atoms, 1)\n",
    "        \n",
    "        self.n_atom_embedding = d_model//2\n",
    "        self.n_type_embedding = d_model - self.n_atom_embedding - 3 # -3 best model\n",
    "        self.type_embedding = nn.Embedding(len(types)+1,self.n_type_embedding)\n",
    "        self.atom_embedding = nn.Embedding(len(atoms)+1,self.n_atom_embedding)\n",
    "    \n",
    "        #n_pos_encoder = d_model - n_type_embedding - n_atom_embedding\n",
    "        #self.pos_encoder = nn.Sequential(\n",
    "        #    nn.Conv1d(3+1+1,n_pos_encoder, 1), nn.ReLU(), nn.BatchNorm1d(n_pos_encoder),\n",
    "        #)\n",
    "        \n",
    "    def forward(self,xyz,type,ext,atom,mulliken,coulomb, mask_atoms, n_atoms):\n",
    "        bs, _, n_pts = xyz.shape        \n",
    "        t = self.type_embedding((type+1).squeeze(1)) #* math.sqrt(self.n_atom_embedding) #.transpose(1,2)\n",
    "        a = self.atom_embedding((atom+1).squeeze(1)) #* math.sqrt(self.n_type_embedding) #.transpose(1,2)\n",
    "        \n",
    "        #x = torch.cat([xyz, mulliken, ext, mask_atoms.float()], dim=1) #* math.sqrt(self.d_model)               \n",
    "        #x = torch.cat([xyz, ext, mask_atoms.float()], dim=1) #* math.sqrt(self.d_model)               \n",
    "        x = xyz \n",
    "        #x = self.pos_encoder(x).transpose(1,2)\n",
    "\n",
    "        x = torch.cat([x.transpose(1,2), t, a], dim=-1) \n",
    "\n",
    "        mask = (coulomb == 0).unsqueeze(1)\n",
    "        #mask = torch.triu(x.new_ones(max_atoms, max_atoms), diagonal=1).byte()[None,:,:,None]#[None,None] \n",
    "        #print(mask.shape, mask)\n",
    "        x = self.transformer(x, mask).transpose(1,2).contiguous()\n",
    "        t_one_hot = torch.zeros(bs,n_types+1,n_pts,device=type.device,dtype=x.dtype).scatter_(1,type+1, 1.)\n",
    "        \n",
    "        scalar    = self.scalar(torch.cat([x, t_one_hot], dim=1))\n",
    "        magnetic  = self.magnetic(x) \n",
    "        dipole    = self.dipole(x.view(bs,-1))\n",
    "        potential = self.potential(x.view(bs,-1))\n",
    "                \n",
    "        return type,ext,scalar,magnetic,dipole,potential\n",
    "    \n",
    "    def reset(self): pass\n",
    "    "
   ]
  },
  {
   "cell_type": "markdown",
   "metadata": {},
   "source": [
    "This callback allows to insert multiple stateful (not averaged) metrics in one pass. Addditionally we could add metrics for train if we want to."
   ]
  },
  {
   "cell_type": "markdown",
   "metadata": {},
   "source": [
    "Model instantiation: where's all your TPUs/GPUs when you need a decent hyperparam sweep?"
   ]
  },
  {
   "cell_type": "code",
   "execution_count": 39,
   "metadata": {
    "ExecuteTime": {
     "end_time": "2019-08-17T06:01:59.073485Z",
     "start_time": "2019-08-17T06:01:59.051837Z"
    }
   },
   "outputs": [],
   "source": [
    "from fastai.callbacks import *\n",
    "#from fastai.callbacks import SaveModelCallback\n",
    "class SaveModelCustomCallback(TrackerCallback):\n",
    "    \"A `TrackerCallback` that saves the model when monitored quantity is best.\"\n",
    "    def __init__(self, learn:Learner, monitor:str='valid_loss', mode:str='auto', every:str='improvement', name:str='bestmodel'):\n",
    "        super().__init__(learn, monitor=monitor, mode=mode)\n",
    "        self.every,self.name = every,name\n",
    "        if self.every not in ['improvement', 'epoch']:\n",
    "            warn(f'SaveModel every {self.every} is invalid, falling back to \"improvement\".')\n",
    "            self.every = 'improvement'\n",
    "                 \n",
    "    def jump_to_epoch(self, epoch:int)->None:\n",
    "        try: \n",
    "            self.learn.load(f'{self.name}_{epoch-1}', purge=False)\n",
    "            print(f\"Loaded {self.name}_{epoch-1}\")\n",
    "        except: print(f'Model {self.name}_{epoch-1} not found.')\n",
    "\n",
    "    def on_epoch_end(self, epoch:int, **kwargs:Any)->None:\n",
    "        \"Compare the value monitored to its best score and maybe save the model.\"\n",
    "        if self.every==\"epoch\": self.learn.save(f'{self.name}_{epoch}')\n",
    "        else: #every=\"improvement\"\n",
    "            current = self.get_monitor_value()\n",
    "            if current is not None and self.operator(current, self.best):\n",
    "                print(f'Better model found at epoch {epoch} with {self.monitor} value: {current}.')\n",
    "                self.best = current\n",
    "                self.learn.save(f'{self.name}_{epoch}_{self.best}')\n",
    "\n",
    "    def on_train_end(self, **kwargs):\n",
    "        \"Load the best model.\"\n",
    "        if False and self.every==\"improvement\" and (self.learn.path/f'{self.learn.model_dir}/{self.name}.pth').is_file():\n",
    "            self.learn.load(f'{self.name}', purge=False)\n",
    "            \n",
    "\n"
   ]
  },
  {
   "cell_type": "code",
   "execution_count": 40,
   "metadata": {
    "ExecuteTime": {
     "end_time": "2019-08-17T06:02:05.210478Z",
     "start_time": "2019-08-17T06:02:00.523848Z"
    }
   },
   "outputs": [
    {
     "name": "stderr",
     "output_type": "stream",
     "text": [
      "/opt/conda/lib/python3.7/site-packages/ipykernel_launcher.py:25: UserWarning: nn.init.xavier_uniform is now deprecated in favor of nn.init.xavier_uniform_.\n"
     ]
    }
   ],
   "source": [
    "net, learner = None,None\n",
    "gc.collect()\n",
    "torch.cuda.empty_cache()\n",
    "\n",
    "#net = AtomTransformer(n_layers=6, n_heads=16,d_model=1024,d_inner=4096)\n",
    "net = AtomTransformer3(n_layers=6, n_heads=16,d_model=1024,d_inner=4096, attn_cls=MultiHeadAttention3)\n",
    "#net = AtomTransformer(n_layers=6, n_heads=16,d_model=2048,d_inner=2048)\n",
    "#net = AtomTransformer(n_layers=6, n_heads=8, d_model=512,d_inner=2048)\n",
    "\n",
    "#net = AtomTransformerOld(n_layers=6, n_heads=8,d_model=512,d_inner=2048, attn_cls=MultiHeadAttentionOld)\n",
    "\n",
    "#net = AtomTransformer2(n_layers=6, n_heads=12,d_model=768,d_inner=3072)\n",
    "\n",
    "\n",
    "#net = AtomTransformer(n_layers=6, n_heads=12,d_model=768,d_inner=3072)\n",
    "\n",
    "#net = AtomTransformer(n_layers=6, n_heads=16,d_model=1024,d_inner=4096, attn_cls=MultiHeadAttentionOld)\n",
    "\n",
    "learner = Learner(data,net, loss_func=LMAEMaskedLoss(),)\n",
    "\n",
    "learner.callbacks.append(LMAEMetric(learner))\n",
    "\n",
    "for p in learner.model.parameters():\n",
    "    if p.dim() > 1:\n",
    "        nn.init.xavier_uniform(p)\n",
    "        \n",
    "\n",
    "learner.callbacks.append(SaveModelCustomCallback(learner, monitor='👉🏻LMAE👈🏻', mode='min'))"
   ]
  },
  {
   "cell_type": "code",
   "execution_count": 31,
   "metadata": {
    "ExecuteTime": {
     "end_time": "2019-08-16T17:19:43.681426Z",
     "start_time": "2019-08-16T17:19:42.254873Z"
    }
   },
   "outputs": [
    {
     "data": {
      "text/plain": [
       "AtomTransformer3\n",
       "======================================================================\n",
       "Layer (type)         Output Shape         Param #    Trainable \n",
       "======================================================================\n",
       "Dropout              [29, 1024]           0          False     \n",
       "______________________________________________________________________\n",
       "Linear               [29, 1024]           1,049,600  True      \n",
       "______________________________________________________________________\n",
       "Linear               [29, 1024]           1,049,600  True      \n",
       "______________________________________________________________________\n",
       "Linear               [29, 1024]           1,049,600  True      \n",
       "______________________________________________________________________\n",
       "Linear               [29, 1024]           1,049,600  True      \n",
       "______________________________________________________________________\n",
       "Linear               [29, 1024]           1,049,600  True      \n",
       "______________________________________________________________________\n",
       "Dropout              [16, 29, 29]         0          False     \n",
       "______________________________________________________________________\n",
       "Dropout              [29, 1024]           0          False     \n",
       "______________________________________________________________________\n",
       "LayerNorm            [29, 1024]           2,048      True      \n",
       "______________________________________________________________________\n",
       "Linear               [29, 4096]           4,198,400  True      \n",
       "______________________________________________________________________\n",
       "ReLU                 [29, 4096]           0          False     \n",
       "______________________________________________________________________\n",
       "Dropout              [29, 4096]           0          False     \n",
       "______________________________________________________________________\n",
       "Linear               [29, 1024]           4,195,328  True      \n",
       "______________________________________________________________________\n",
       "Dropout              [29, 1024]           0          False     \n",
       "______________________________________________________________________\n",
       "MergeLayer           [29, 1024]           0          False     \n",
       "______________________________________________________________________\n",
       "LayerNorm            [29, 1024]           2,048      True      \n",
       "______________________________________________________________________\n",
       "Linear               [29, 1024]           1,049,600  True      \n",
       "______________________________________________________________________\n",
       "Linear               [29, 1024]           1,049,600  True      \n",
       "______________________________________________________________________\n",
       "Linear               [29, 1024]           1,049,600  True      \n",
       "______________________________________________________________________\n",
       "Linear               [29, 1024]           1,049,600  True      \n",
       "______________________________________________________________________\n",
       "Linear               [29, 1024]           1,049,600  True      \n",
       "______________________________________________________________________\n",
       "Dropout              [16, 29, 29]         0          False     \n",
       "______________________________________________________________________\n",
       "Dropout              [29, 1024]           0          False     \n",
       "______________________________________________________________________\n",
       "LayerNorm            [29, 1024]           2,048      True      \n",
       "______________________________________________________________________\n",
       "Linear               [29, 4096]           4,198,400  True      \n",
       "______________________________________________________________________\n",
       "ReLU                 [29, 4096]           0          False     \n",
       "______________________________________________________________________\n",
       "Dropout              [29, 4096]           0          False     \n",
       "______________________________________________________________________\n",
       "Linear               [29, 1024]           4,195,328  True      \n",
       "______________________________________________________________________\n",
       "Dropout              [29, 1024]           0          False     \n",
       "______________________________________________________________________\n",
       "MergeLayer           [29, 1024]           0          False     \n",
       "______________________________________________________________________\n",
       "LayerNorm            [29, 1024]           2,048      True      \n",
       "______________________________________________________________________\n",
       "Linear               [29, 1024]           1,049,600  True      \n",
       "______________________________________________________________________\n",
       "Linear               [29, 1024]           1,049,600  True      \n",
       "______________________________________________________________________\n",
       "Linear               [29, 1024]           1,049,600  True      \n",
       "______________________________________________________________________\n",
       "Linear               [29, 1024]           1,049,600  True      \n",
       "______________________________________________________________________\n",
       "Linear               [29, 1024]           1,049,600  True      \n",
       "______________________________________________________________________\n",
       "Dropout              [16, 29, 29]         0          False     \n",
       "______________________________________________________________________\n",
       "Dropout              [29, 1024]           0          False     \n",
       "______________________________________________________________________\n",
       "LayerNorm            [29, 1024]           2,048      True      \n",
       "______________________________________________________________________\n",
       "Linear               [29, 4096]           4,198,400  True      \n",
       "______________________________________________________________________\n",
       "ReLU                 [29, 4096]           0          False     \n",
       "______________________________________________________________________\n",
       "Dropout              [29, 4096]           0          False     \n",
       "______________________________________________________________________\n",
       "Linear               [29, 1024]           4,195,328  True      \n",
       "______________________________________________________________________\n",
       "Dropout              [29, 1024]           0          False     \n",
       "______________________________________________________________________\n",
       "MergeLayer           [29, 1024]           0          False     \n",
       "______________________________________________________________________\n",
       "LayerNorm            [29, 1024]           2,048      True      \n",
       "______________________________________________________________________\n",
       "Linear               [29, 1024]           1,049,600  True      \n",
       "______________________________________________________________________\n",
       "Linear               [29, 1024]           1,049,600  True      \n",
       "______________________________________________________________________\n",
       "Linear               [29, 1024]           1,049,600  True      \n",
       "______________________________________________________________________\n",
       "Linear               [29, 1024]           1,049,600  True      \n",
       "______________________________________________________________________\n",
       "Linear               [29, 1024]           1,049,600  True      \n",
       "______________________________________________________________________\n",
       "Dropout              [16, 29, 29]         0          False     \n",
       "______________________________________________________________________\n",
       "Dropout              [29, 1024]           0          False     \n",
       "______________________________________________________________________\n",
       "LayerNorm            [29, 1024]           2,048      True      \n",
       "______________________________________________________________________\n",
       "Linear               [29, 4096]           4,198,400  True      \n",
       "______________________________________________________________________\n",
       "ReLU                 [29, 4096]           0          False     \n",
       "______________________________________________________________________\n",
       "Dropout              [29, 4096]           0          False     \n",
       "______________________________________________________________________\n",
       "Linear               [29, 1024]           4,195,328  True      \n",
       "______________________________________________________________________\n",
       "Dropout              [29, 1024]           0          False     \n",
       "______________________________________________________________________\n",
       "MergeLayer           [29, 1024]           0          False     \n",
       "______________________________________________________________________\n",
       "LayerNorm            [29, 1024]           2,048      True      \n",
       "______________________________________________________________________\n",
       "Linear               [29, 1024]           1,049,600  True      \n",
       "______________________________________________________________________\n",
       "Linear               [29, 1024]           1,049,600  True      \n",
       "______________________________________________________________________\n",
       "Linear               [29, 1024]           1,049,600  True      \n",
       "______________________________________________________________________\n",
       "Linear               [29, 1024]           1,049,600  True      \n",
       "______________________________________________________________________\n",
       "Linear               [29, 1024]           1,049,600  True      \n",
       "______________________________________________________________________\n",
       "Dropout              [16, 29, 29]         0          False     \n",
       "______________________________________________________________________\n",
       "Dropout              [29, 1024]           0          False     \n",
       "______________________________________________________________________\n",
       "LayerNorm            [29, 1024]           2,048      True      \n",
       "______________________________________________________________________\n",
       "Linear               [29, 4096]           4,198,400  True      \n",
       "______________________________________________________________________\n",
       "ReLU                 [29, 4096]           0          False     \n",
       "______________________________________________________________________\n",
       "Dropout              [29, 4096]           0          False     \n",
       "______________________________________________________________________\n",
       "Linear               [29, 1024]           4,195,328  True      \n",
       "______________________________________________________________________\n",
       "Dropout              [29, 1024]           0          False     \n",
       "______________________________________________________________________\n",
       "MergeLayer           [29, 1024]           0          False     \n",
       "______________________________________________________________________\n",
       "LayerNorm            [29, 1024]           2,048      True      \n",
       "______________________________________________________________________\n",
       "Linear               [29, 1024]           1,049,600  True      \n",
       "______________________________________________________________________\n",
       "Linear               [29, 1024]           1,049,600  True      \n",
       "______________________________________________________________________\n",
       "Linear               [29, 1024]           1,049,600  True      \n",
       "______________________________________________________________________\n",
       "Linear               [29, 1024]           1,049,600  True      \n",
       "______________________________________________________________________\n",
       "Linear               [29, 1024]           1,049,600  True      \n",
       "______________________________________________________________________\n",
       "Dropout              [16, 29, 29]         0          False     \n",
       "______________________________________________________________________\n",
       "Dropout              [29, 1024]           0          False     \n",
       "______________________________________________________________________\n",
       "LayerNorm            [29, 1024]           2,048      True      \n",
       "______________________________________________________________________\n",
       "Linear               [29, 4096]           4,198,400  True      \n",
       "______________________________________________________________________\n",
       "ReLU                 [29, 4096]           0          False     \n",
       "______________________________________________________________________\n",
       "Dropout              [29, 4096]           0          False     \n",
       "______________________________________________________________________\n",
       "Linear               [29, 1024]           4,195,328  True      \n",
       "______________________________________________________________________\n",
       "Dropout              [29, 1024]           0          False     \n",
       "______________________________________________________________________\n",
       "MergeLayer           [29, 1024]           0          False     \n",
       "______________________________________________________________________\n",
       "LayerNorm            [29, 1024]           2,048      True      \n",
       "______________________________________________________________________\n",
       "Conv1d               [4, 29]              4,136      True      \n",
       "______________________________________________________________________\n",
       "Conv1d               [9, 29]              9,225      True      \n",
       "______________________________________________________________________\n",
       "Linear               [3]                  89,091     True      \n",
       "______________________________________________________________________\n",
       "Linear               [1]                  29,697     True      \n",
       "______________________________________________________________________\n",
       "Embedding            [29, 509]            4,581      True      \n",
       "______________________________________________________________________\n",
       "Embedding            [29, 512]            3,072      True      \n",
       "______________________________________________________________________\n",
       "\n",
       "Total params: 82,014,746\n",
       "Total trainable params: 82,014,746\n",
       "Total non-trainable params: 0\n",
       "Optimized with 'torch.optim.adam.Adam', betas=(0.9, 0.99)\n",
       "Using true weight decay as discussed in https://www.fast.ai/2018/07/02/adam-weight-decay/ \n",
       "Loss function : LMAEMaskedLoss\n",
       "======================================================================\n",
       "Callbacks functions applied \n",
       "    LMAEMetric\n",
       "    SaveModelCustomCallback"
      ]
     },
     "execution_count": 31,
     "metadata": {},
     "output_type": "execute_result"
    }
   ],
   "source": [
    "learner.summary()"
   ]
  },
  {
   "cell_type": "code",
   "execution_count": 41,
   "metadata": {
    "ExecuteTime": {
     "end_time": "2019-08-17T06:02:10.176855Z",
     "start_time": "2019-08-17T06:02:10.171706Z"
    }
   },
   "outputs": [],
   "source": [
    "#sub_fname = \"loss-5.9943val-2.7766\" # uncomment or set None to skip loading trained net\n",
    "#sub_fname = \"loss-5.7552val-2.9950\"\n",
    "#sub_fname = \"loss-5.9943val-2.7766\"\n",
    "#sub_fname = \"loss-4.9516val-3.0042\"\n",
    "#sub_fname = \"loss-4.0414val-2.7287\"\n",
    "#sub_fname = \"loss-4.9044val-2.5880\"\n",
    "\n",
    "sub_fname = \"loss-5.0862val-3.0047\"\n",
    "\n",
    "#sub_fname = 'loss-4.9516val-2.8229'\n",
    "#sub_fname = 'bestmodel_3_-0.9780222773551941'"
   ]
  },
  {
   "cell_type": "code",
   "execution_count": 42,
   "metadata": {
    "ExecuteTime": {
     "end_time": "2019-08-17T06:02:22.265082Z",
     "start_time": "2019-08-17T06:02:12.567517Z"
    }
   },
   "outputs": [
    {
     "name": "stdout",
     "output_type": "stream",
     "text": [
      "Attempting to load: loss-5.0862val-3.0047... Loaded\n"
     ]
    }
   ],
   "source": [
    "try:\n",
    "    print(f\"Attempting to load: {sub_fname}... \", end=\"\")\n",
    "    learner.load(sub_fname, strict=False,with_opt=False)\n",
    "    print(\"Loaded\")\n",
    "except Exception as e:\n",
    "    print(\"NOT loaded! \", e)"
   ]
  },
  {
   "cell_type": "code",
   "execution_count": 33,
   "metadata": {
    "ExecuteTime": {
     "end_time": "2019-08-12T06:09:48.028930Z",
     "start_time": "2019-08-12T06:09:48.024624Z"
    }
   },
   "outputs": [],
   "source": [
    "if False:\n",
    "    for name, param in learner.model.named_parameters():\n",
    "\n",
    "        if 'transformer.layers.5.mhra.attention4' not in name:\n",
    "            #param.requires_grad = False\n",
    "            pass\n",
    "        else:\n",
    "            print(name)\n",
    "            try:\n",
    "                nn.init.xavier_uniform_(param)\n",
    "            except:\n",
    "                pass"
   ]
  },
  {
   "cell_type": "code",
   "execution_count": 43,
   "metadata": {
    "ExecuteTime": {
     "end_time": "2019-08-17T06:02:26.467565Z",
     "start_time": "2019-08-17T06:02:26.460381Z"
    }
   },
   "outputs": [],
   "source": [
    "learner = learner.to_parallel() #b/c it NaNs loss (probably would need to change fp16 settings)\n",
    "data.batch_size = int(4096//2)\n",
    "data.batch_size = data.batch_size // 2"
   ]
  },
  {
   "cell_type": "markdown",
   "metadata": {},
   "source": [
    "Real loss func. Need to test different auxiliary tasks weights: `magnetic_w`, `dipole_w`, `potential`, weights of indivial `lmae`s: `types_w` and maybe `input_transform_w` and `feature_transform_w`"
   ]
  },
  {
   "cell_type": "code",
   "execution_count": null,
   "metadata": {
    "ExecuteTime": {
     "end_time": "2019-08-17T06:02:27.635352Z",
     "start_time": "2019-08-17T06:02:27.626543Z"
    }
   },
   "outputs": [],
   "source": []
  },
  {
   "cell_type": "code",
   "execution_count": 45,
   "metadata": {
    "ExecuteTime": {
     "end_time": "2019-08-17T06:02:28.317505Z",
     "start_time": "2019-08-17T06:02:28.310695Z"
    }
   },
   "outputs": [],
   "source": [
    "learner.loss_func = LMAEMaskedLoss(magnetic_w=0, dipole_w=0, potential_w=0, \n",
    "                                  types_w = [1] + [1] * (n_types-1))"
   ]
  },
  {
   "cell_type": "code",
   "execution_count": 37,
   "metadata": {
    "ExecuteTime": {
     "end_time": "2019-08-16T17:21:45.698574Z",
     "start_time": "2019-08-16T17:19:53.597078Z"
    }
   },
   "outputs": [
    {
     "data": {
      "text/html": [],
      "text/plain": [
       "<IPython.core.display.HTML object>"
      ]
     },
     "metadata": {},
     "output_type": "display_data"
    },
    {
     "name": "stdout",
     "output_type": "stream",
     "text": [
      "LR Finder is complete, type {learner_name}.recorder.plot() to see the graph.\n",
      "Min numerical gradient: 4.79E-04\n",
      "Min loss divided by 10: 2.75E-03\n"
     ]
    },
    {
     "data": {
      "image/png": "[encoded data removed]",
      "text/plain": [
       "<Figure size 432x288 with 1 Axes>"
      ]
     },
     "metadata": {
      "needs_background": "light"
     },
     "output_type": "display_data"
    }
   ],
   "source": [
    "#learner.data.batch_size = 512\n",
    "#learner.opt_func = RAdam\n",
    "learner.lr_find()\n",
    "learner.recorder.plot(suggestion=True)"
   ]
  },
  {
   "cell_type": "code",
   "execution_count": 46,
   "metadata": {
    "ExecuteTime": {
     "end_time": "2019-08-17T06:02:35.907860Z",
     "start_time": "2019-08-17T06:02:35.851289Z"
    }
   },
   "outputs": [],
   "source": []
  },
  {
   "cell_type": "code",
   "execution_count": 47,
   "metadata": {
    "ExecuteTime": {
     "end_time": "2019-08-18T16:41:56.230253Z",
     "start_time": "2019-08-17T06:02:38.318525Z"
    },
    "scrolled": true
   },
   "outputs": [
    {
     "data": {
      "text/html": [
       "<table border=\"1\" class=\"dataframe\">\n",
       "  <thead>\n",
       "    <tr style=\"text-align: left;\">\n",
       "      <th>epoch</th>\n",
       "      <th>train_loss</th>\n",
       "      <th>valid_loss</th>\n",
       "      <th>👉🏻LMAE👈🏻</th>\n",
       "      <th>lmae0</th>\n",
       "      <th>lmae1</th>\n",
       "      <th>lmae2</th>\n",
       "      <th>lmae3</th>\n",
       "      <th>lmae4</th>\n",
       "      <th>lmae5</th>\n",
       "      <th>lmae6</th>\n",
       "      <th>lmae7</th>\n",
       "      <th>time</th>\n",
       "    </tr>\n",
       "  </thead>\n",
       "  <tbody>\n",
       "    <tr>\n",
       "      <td>0</td>\n",
       "      <td>-0.255322</td>\n",
       "      <td>-0.289169</td>\n",
       "      <td>-0.589025</td>\n",
       "      <td>0.583027</td>\n",
       "      <td>-0.965128</td>\n",
       "      <td>-0.041327</td>\n",
       "      <td>-1.224955</td>\n",
       "      <td>-0.454283</td>\n",
       "      <td>-0.986469</td>\n",
       "      <td>-0.278239</td>\n",
       "      <td>-1.344827</td>\n",
       "      <td>20:42</td>\n",
       "    </tr>\n",
       "    <tr>\n",
       "      <td>1</td>\n",
       "      <td>-0.878578</td>\n",
       "      <td>-0.894762</td>\n",
       "      <td>-1.121384</td>\n",
       "      <td>0.085833</td>\n",
       "      <td>-1.507713</td>\n",
       "      <td>-0.506663</td>\n",
       "      <td>-1.802046</td>\n",
       "      <td>-0.987387</td>\n",
       "      <td>-1.577078</td>\n",
       "      <td>-0.773887</td>\n",
       "      <td>-1.902127</td>\n",
       "      <td>20:42</td>\n",
       "    </tr>\n",
       "    <tr>\n",
       "      <td>2</td>\n",
       "      <td>-1.407214</td>\n",
       "      <td>-1.400462</td>\n",
       "      <td>-1.505498</td>\n",
       "      <td>-0.234968</td>\n",
       "      <td>-1.872670</td>\n",
       "      <td>-0.944474</td>\n",
       "      <td>-2.200232</td>\n",
       "      <td>-1.340207</td>\n",
       "      <td>-1.956190</td>\n",
       "      <td>-1.162581</td>\n",
       "      <td>-2.332659</td>\n",
       "      <td>20:42</td>\n",
       "    </tr>\n",
       "    <tr>\n",
       "      <td>3</td>\n",
       "      <td>-1.800678</td>\n",
       "      <td>-1.753757</td>\n",
       "      <td>-1.797060</td>\n",
       "      <td>-0.496500</td>\n",
       "      <td>-2.162736</td>\n",
       "      <td>-1.294868</td>\n",
       "      <td>-2.481270</td>\n",
       "      <td>-1.611682</td>\n",
       "      <td>-2.237206</td>\n",
       "      <td>-1.451433</td>\n",
       "      <td>-2.640780</td>\n",
       "      <td>20:45</td>\n",
       "    </tr>\n",
       "    <tr>\n",
       "      <td>4</td>\n",
       "      <td>-2.087746</td>\n",
       "      <td>-1.998295</td>\n",
       "      <td>-2.016092</td>\n",
       "      <td>-0.704173</td>\n",
       "      <td>-2.398307</td>\n",
       "      <td>-1.539691</td>\n",
       "      <td>-2.709238</td>\n",
       "      <td>-1.814073</td>\n",
       "      <td>-2.449443</td>\n",
       "      <td>-1.654810</td>\n",
       "      <td>-2.859001</td>\n",
       "      <td>20:42</td>\n",
       "    </tr>\n",
       "    <tr>\n",
       "      <td>5</td>\n",
       "      <td>-2.329905</td>\n",
       "      <td>-2.188024</td>\n",
       "      <td>-2.198242</td>\n",
       "      <td>-0.896114</td>\n",
       "      <td>-2.608977</td>\n",
       "      <td>-1.711664</td>\n",
       "      <td>-2.869940</td>\n",
       "      <td>-1.991104</td>\n",
       "      <td>-2.639809</td>\n",
       "      <td>-1.846887</td>\n",
       "      <td>-3.021443</td>\n",
       "      <td>20:42</td>\n",
       "    </tr>\n",
       "    <tr>\n",
       "      <td>6</td>\n",
       "      <td>-2.550504</td>\n",
       "      <td>-2.345162</td>\n",
       "      <td>-2.343194</td>\n",
       "      <td>-1.068975</td>\n",
       "      <td>-2.780734</td>\n",
       "      <td>-1.813482</td>\n",
       "      <td>-2.993233</td>\n",
       "      <td>-2.145710</td>\n",
       "      <td>-2.787326</td>\n",
       "      <td>-2.004220</td>\n",
       "      <td>-3.151870</td>\n",
       "      <td>20:43</td>\n",
       "    </tr>\n",
       "    <tr>\n",
       "      <td>7</td>\n",
       "      <td>-2.747753</td>\n",
       "      <td>-2.479597</td>\n",
       "      <td>-2.470591</td>\n",
       "      <td>-1.234076</td>\n",
       "      <td>-2.937472</td>\n",
       "      <td>-1.877609</td>\n",
       "      <td>-3.081592</td>\n",
       "      <td>-2.287503</td>\n",
       "      <td>-2.948276</td>\n",
       "      <td>-2.148682</td>\n",
       "      <td>-3.249521</td>\n",
       "      <td>20:46</td>\n",
       "    </tr>\n",
       "    <tr>\n",
       "      <td>8</td>\n",
       "      <td>-2.923595</td>\n",
       "      <td>-2.585202</td>\n",
       "      <td>-2.566334</td>\n",
       "      <td>-1.367402</td>\n",
       "      <td>-3.040510</td>\n",
       "      <td>-1.922224</td>\n",
       "      <td>-3.141000</td>\n",
       "      <td>-2.419408</td>\n",
       "      <td>-3.054792</td>\n",
       "      <td>-2.274520</td>\n",
       "      <td>-3.310820</td>\n",
       "      <td>20:42</td>\n",
       "    </tr>\n",
       "    <tr>\n",
       "      <td>9</td>\n",
       "      <td>-3.062145</td>\n",
       "      <td>-2.660631</td>\n",
       "      <td>-2.635145</td>\n",
       "      <td>-1.490013</td>\n",
       "      <td>-3.129613</td>\n",
       "      <td>-1.938181</td>\n",
       "      <td>-3.169203</td>\n",
       "      <td>-2.519319</td>\n",
       "      <td>-3.113827</td>\n",
       "      <td>-2.374883</td>\n",
       "      <td>-3.346119</td>\n",
       "      <td>20:43</td>\n",
       "    </tr>\n",
       "    <tr>\n",
       "      <td>10</td>\n",
       "      <td>-3.177332</td>\n",
       "      <td>-2.725047</td>\n",
       "      <td>-2.698468</td>\n",
       "      <td>-1.556894</td>\n",
       "      <td>-3.177582</td>\n",
       "      <td>-1.932965</td>\n",
       "      <td>-3.237343</td>\n",
       "      <td>-2.594910</td>\n",
       "      <td>-3.208328</td>\n",
       "      <td>-2.466250</td>\n",
       "      <td>-3.413474</td>\n",
       "      <td>20:44</td>\n",
       "    </tr>\n",
       "    <tr>\n",
       "      <td>11</td>\n",
       "      <td>-3.264649</td>\n",
       "      <td>-2.765162</td>\n",
       "      <td>-2.737128</td>\n",
       "      <td>-1.643627</td>\n",
       "      <td>-3.210934</td>\n",
       "      <td>-1.951349</td>\n",
       "      <td>-3.243236</td>\n",
       "      <td>-2.658565</td>\n",
       "      <td>-3.239540</td>\n",
       "      <td>-2.530260</td>\n",
       "      <td>-3.419511</td>\n",
       "      <td>20:45</td>\n",
       "    </tr>\n",
       "    <tr>\n",
       "      <td>12</td>\n",
       "      <td>-3.309767</td>\n",
       "      <td>-2.796035</td>\n",
       "      <td>-2.768999</td>\n",
       "      <td>-1.680756</td>\n",
       "      <td>-3.231294</td>\n",
       "      <td>-1.936635</td>\n",
       "      <td>-3.237347</td>\n",
       "      <td>-2.718589</td>\n",
       "      <td>-3.309571</td>\n",
       "      <td>-2.582807</td>\n",
       "      <td>-3.454991</td>\n",
       "      <td>20:41</td>\n",
       "    </tr>\n",
       "    <tr>\n",
       "      <td>13</td>\n",
       "      <td>-3.363735</td>\n",
       "      <td>-2.814309</td>\n",
       "      <td>-2.785649</td>\n",
       "      <td>-1.717926</td>\n",
       "      <td>-3.264280</td>\n",
       "      <td>-1.963524</td>\n",
       "      <td>-3.254259</td>\n",
       "      <td>-2.729118</td>\n",
       "      <td>-3.287090</td>\n",
       "      <td>-2.598289</td>\n",
       "      <td>-3.470706</td>\n",
       "      <td>20:41</td>\n",
       "    </tr>\n",
       "    <tr>\n",
       "      <td>14</td>\n",
       "      <td>-3.383855</td>\n",
       "      <td>-2.822570</td>\n",
       "      <td>-2.798162</td>\n",
       "      <td>-1.723951</td>\n",
       "      <td>-3.251803</td>\n",
       "      <td>-1.946816</td>\n",
       "      <td>-3.278100</td>\n",
       "      <td>-2.754982</td>\n",
       "      <td>-3.325886</td>\n",
       "      <td>-2.619617</td>\n",
       "      <td>-3.484140</td>\n",
       "      <td>20:41</td>\n",
       "    </tr>\n",
       "    <tr>\n",
       "      <td>15</td>\n",
       "      <td>-3.388785</td>\n",
       "      <td>-2.829640</td>\n",
       "      <td>-2.800153</td>\n",
       "      <td>-1.725466</td>\n",
       "      <td>-3.242658</td>\n",
       "      <td>-1.951557</td>\n",
       "      <td>-3.259220</td>\n",
       "      <td>-2.778561</td>\n",
       "      <td>-3.327945</td>\n",
       "      <td>-2.642354</td>\n",
       "      <td>-3.473464</td>\n",
       "      <td>20:44</td>\n",
       "    </tr>\n",
       "    <tr>\n",
       "      <td>16</td>\n",
       "      <td>-3.382252</td>\n",
       "      <td>-2.835392</td>\n",
       "      <td>-2.808890</td>\n",
       "      <td>-1.758854</td>\n",
       "      <td>-3.272780</td>\n",
       "      <td>-1.943817</td>\n",
       "      <td>-3.263190</td>\n",
       "      <td>-2.761915</td>\n",
       "      <td>-3.339435</td>\n",
       "      <td>-2.653959</td>\n",
       "      <td>-3.477170</td>\n",
       "      <td>20:42</td>\n",
       "    </tr>\n",
       "    <tr>\n",
       "      <td>17</td>\n",
       "      <td>-3.354282</td>\n",
       "      <td>-2.822778</td>\n",
       "      <td>-2.794531</td>\n",
       "      <td>-1.743884</td>\n",
       "      <td>-3.164792</td>\n",
       "      <td>-1.902507</td>\n",
       "      <td>-3.258099</td>\n",
       "      <td>-2.791359</td>\n",
       "      <td>-3.354210</td>\n",
       "      <td>-2.670208</td>\n",
       "      <td>-3.471185</td>\n",
       "      <td>20:42</td>\n",
       "    </tr>\n",
       "    <tr>\n",
       "      <td>18</td>\n",
       "      <td>-3.346166</td>\n",
       "      <td>-2.783096</td>\n",
       "      <td>-2.763603</td>\n",
       "      <td>-1.722350</td>\n",
       "      <td>-3.198365</td>\n",
       "      <td>-1.909687</td>\n",
       "      <td>-3.244137</td>\n",
       "      <td>-2.761928</td>\n",
       "      <td>-3.226577</td>\n",
       "      <td>-2.643731</td>\n",
       "      <td>-3.402050</td>\n",
       "      <td>20:43</td>\n",
       "    </tr>\n",
       "    <tr>\n",
       "      <td>19</td>\n",
       "      <td>-3.312167</td>\n",
       "      <td>-2.807914</td>\n",
       "      <td>-2.779929</td>\n",
       "      <td>-1.720277</td>\n",
       "      <td>-3.233097</td>\n",
       "      <td>-1.875032</td>\n",
       "      <td>-3.228863</td>\n",
       "      <td>-2.756695</td>\n",
       "      <td>-3.315118</td>\n",
       "      <td>-2.651110</td>\n",
       "      <td>-3.459242</td>\n",
       "      <td>20:45</td>\n",
       "    </tr>\n",
       "    <tr>\n",
       "      <td>20</td>\n",
       "      <td>-3.304167</td>\n",
       "      <td>-2.789510</td>\n",
       "      <td>-2.770328</td>\n",
       "      <td>-1.666153</td>\n",
       "      <td>-3.231510</td>\n",
       "      <td>-1.867651</td>\n",
       "      <td>-3.209711</td>\n",
       "      <td>-2.770886</td>\n",
       "      <td>-3.316491</td>\n",
       "      <td>-2.658376</td>\n",
       "      <td>-3.441843</td>\n",
       "      <td>20:42</td>\n",
       "    </tr>\n",
       "    <tr>\n",
       "      <td>21</td>\n",
       "      <td>-3.245920</td>\n",
       "      <td>-2.769465</td>\n",
       "      <td>-2.759212</td>\n",
       "      <td>-1.741739</td>\n",
       "      <td>-3.212551</td>\n",
       "      <td>-1.867554</td>\n",
       "      <td>-3.203526</td>\n",
       "      <td>-2.767142</td>\n",
       "      <td>-3.257160</td>\n",
       "      <td>-2.649591</td>\n",
       "      <td>-3.374431</td>\n",
       "      <td>20:44</td>\n",
       "    </tr>\n",
       "    <tr>\n",
       "      <td>22</td>\n",
       "      <td>-3.254578</td>\n",
       "      <td>-2.791543</td>\n",
       "      <td>-2.772460</td>\n",
       "      <td>-1.698035</td>\n",
       "      <td>-3.220577</td>\n",
       "      <td>-1.905503</td>\n",
       "      <td>-3.207035</td>\n",
       "      <td>-2.774027</td>\n",
       "      <td>-3.284373</td>\n",
       "      <td>-2.643660</td>\n",
       "      <td>-3.446466</td>\n",
       "      <td>20:44</td>\n",
       "    </tr>\n",
       "    <tr>\n",
       "      <td>23</td>\n",
       "      <td>-3.229455</td>\n",
       "      <td>-2.793697</td>\n",
       "      <td>-2.770963</td>\n",
       "      <td>-1.745495</td>\n",
       "      <td>-3.206074</td>\n",
       "      <td>-1.896672</td>\n",
       "      <td>-3.195219</td>\n",
       "      <td>-2.764396</td>\n",
       "      <td>-3.286065</td>\n",
       "      <td>-2.648221</td>\n",
       "      <td>-3.425560</td>\n",
       "      <td>20:45</td>\n",
       "    </tr>\n",
       "    <tr>\n",
       "      <td>24</td>\n",
       "      <td>-3.226076</td>\n",
       "      <td>-2.777379</td>\n",
       "      <td>-2.747877</td>\n",
       "      <td>-1.733810</td>\n",
       "      <td>-3.212246</td>\n",
       "      <td>-1.770148</td>\n",
       "      <td>-3.147567</td>\n",
       "      <td>-2.767686</td>\n",
       "      <td>-3.287479</td>\n",
       "      <td>-2.640701</td>\n",
       "      <td>-3.423380</td>\n",
       "      <td>20:48</td>\n",
       "    </tr>\n",
       "    <tr>\n",
       "      <td>25</td>\n",
       "      <td>-3.229484</td>\n",
       "      <td>-2.778023</td>\n",
       "      <td>-2.754765</td>\n",
       "      <td>-1.713607</td>\n",
       "      <td>-3.210390</td>\n",
       "      <td>-1.830303</td>\n",
       "      <td>-3.157467</td>\n",
       "      <td>-2.764357</td>\n",
       "      <td>-3.300344</td>\n",
       "      <td>-2.657246</td>\n",
       "      <td>-3.404405</td>\n",
       "      <td>20:45</td>\n",
       "    </tr>\n",
       "    <tr>\n",
       "      <td>26</td>\n",
       "      <td>-3.211606</td>\n",
       "      <td>-2.778533</td>\n",
       "      <td>-2.755921</td>\n",
       "      <td>-1.702868</td>\n",
       "      <td>-3.211749</td>\n",
       "      <td>-1.836499</td>\n",
       "      <td>-3.211946</td>\n",
       "      <td>-2.765785</td>\n",
       "      <td>-3.270197</td>\n",
       "      <td>-2.650271</td>\n",
       "      <td>-3.398050</td>\n",
       "      <td>20:45</td>\n",
       "    </tr>\n",
       "    <tr>\n",
       "      <td>27</td>\n",
       "      <td>-3.205950</td>\n",
       "      <td>-2.770546</td>\n",
       "      <td>-2.744912</td>\n",
       "      <td>-1.693097</td>\n",
       "      <td>-3.168236</td>\n",
       "      <td>-1.821572</td>\n",
       "      <td>-3.194470</td>\n",
       "      <td>-2.760186</td>\n",
       "      <td>-3.273785</td>\n",
       "      <td>-2.643858</td>\n",
       "      <td>-3.404094</td>\n",
       "      <td>20:45</td>\n",
       "    </tr>\n",
       "    <tr>\n",
       "      <td>28</td>\n",
       "      <td>-3.183859</td>\n",
       "      <td>-2.759457</td>\n",
       "      <td>-2.740820</td>\n",
       "      <td>-1.709215</td>\n",
       "      <td>-3.127461</td>\n",
       "      <td>-1.815768</td>\n",
       "      <td>-3.176557</td>\n",
       "      <td>-2.780248</td>\n",
       "      <td>-3.267051</td>\n",
       "      <td>-2.647055</td>\n",
       "      <td>-3.403204</td>\n",
       "      <td>20:47</td>\n",
       "    </tr>\n",
       "    <tr>\n",
       "      <td>29</td>\n",
       "      <td>-3.193264</td>\n",
       "      <td>-2.762616</td>\n",
       "      <td>-2.746853</td>\n",
       "      <td>-1.712481</td>\n",
       "      <td>-3.196012</td>\n",
       "      <td>-1.820805</td>\n",
       "      <td>-3.173847</td>\n",
       "      <td>-2.781162</td>\n",
       "      <td>-3.276066</td>\n",
       "      <td>-2.643580</td>\n",
       "      <td>-3.370869</td>\n",
       "      <td>20:49</td>\n",
       "    </tr>\n",
       "    <tr>\n",
       "      <td>30</td>\n",
       "      <td>-3.189987</td>\n",
       "      <td>-2.770580</td>\n",
       "      <td>-2.752738</td>\n",
       "      <td>-1.712464</td>\n",
       "      <td>-3.225469</td>\n",
       "      <td>-1.875777</td>\n",
       "      <td>-3.191695</td>\n",
       "      <td>-2.749611</td>\n",
       "      <td>-3.223109</td>\n",
       "      <td>-2.651743</td>\n",
       "      <td>-3.392041</td>\n",
       "      <td>20:46</td>\n",
       "    </tr>\n",
       "    <tr>\n",
       "      <td>31</td>\n",
       "      <td>-3.179130</td>\n",
       "      <td>-2.759007</td>\n",
       "      <td>-2.730940</td>\n",
       "      <td>-1.712424</td>\n",
       "      <td>-3.186346</td>\n",
       "      <td>-1.707788</td>\n",
       "      <td>-3.164532</td>\n",
       "      <td>-2.729377</td>\n",
       "      <td>-3.270891</td>\n",
       "      <td>-2.680109</td>\n",
       "      <td>-3.396056</td>\n",
       "      <td>20:47</td>\n",
       "    </tr>\n",
       "    <tr>\n",
       "      <td>32</td>\n",
       "      <td>-3.224342</td>\n",
       "      <td>-2.763228</td>\n",
       "      <td>-2.744593</td>\n",
       "      <td>-1.725480</td>\n",
       "      <td>-3.208762</td>\n",
       "      <td>-1.831182</td>\n",
       "      <td>-3.138013</td>\n",
       "      <td>-2.776169</td>\n",
       "      <td>-3.258131</td>\n",
       "      <td>-2.649462</td>\n",
       "      <td>-3.369548</td>\n",
       "      <td>20:47</td>\n",
       "    </tr>\n",
       "    <tr>\n",
       "      <td>33</td>\n",
       "      <td>-3.211626</td>\n",
       "      <td>-2.761048</td>\n",
       "      <td>-2.736115</td>\n",
       "      <td>-1.721006</td>\n",
       "      <td>-3.197719</td>\n",
       "      <td>-1.825969</td>\n",
       "      <td>-3.172401</td>\n",
       "      <td>-2.766685</td>\n",
       "      <td>-3.204883</td>\n",
       "      <td>-2.604620</td>\n",
       "      <td>-3.395636</td>\n",
       "      <td>20:48</td>\n",
       "    </tr>\n",
       "    <tr>\n",
       "      <td>34</td>\n",
       "      <td>-3.236988</td>\n",
       "      <td>-2.743269</td>\n",
       "      <td>-2.721967</td>\n",
       "      <td>-1.682819</td>\n",
       "      <td>-2.993094</td>\n",
       "      <td>-1.805087</td>\n",
       "      <td>-3.190856</td>\n",
       "      <td>-2.757181</td>\n",
       "      <td>-3.277101</td>\n",
       "      <td>-2.637056</td>\n",
       "      <td>-3.432544</td>\n",
       "      <td>20:50</td>\n",
       "    </tr>\n",
       "    <tr>\n",
       "      <td>35</td>\n",
       "      <td>-3.238415</td>\n",
       "      <td>-2.795461</td>\n",
       "      <td>-2.772780</td>\n",
       "      <td>-1.731263</td>\n",
       "      <td>-3.227607</td>\n",
       "      <td>-1.861593</td>\n",
       "      <td>-3.205846</td>\n",
       "      <td>-2.763043</td>\n",
       "      <td>-3.300375</td>\n",
       "      <td>-2.668235</td>\n",
       "      <td>-3.424273</td>\n",
       "      <td>20:52</td>\n",
       "    </tr>\n",
       "    <tr>\n",
       "      <td>36</td>\n",
       "      <td>-3.239759</td>\n",
       "      <td>-2.790301</td>\n",
       "      <td>-2.767896</td>\n",
       "      <td>-1.724634</td>\n",
       "      <td>-3.204844</td>\n",
       "      <td>-1.813294</td>\n",
       "      <td>-3.206866</td>\n",
       "      <td>-2.751245</td>\n",
       "      <td>-3.325860</td>\n",
       "      <td>-2.693310</td>\n",
       "      <td>-3.423117</td>\n",
       "      <td>20:51</td>\n",
       "    </tr>\n",
       "    <tr>\n",
       "      <td>37</td>\n",
       "      <td>-3.253102</td>\n",
       "      <td>-2.789633</td>\n",
       "      <td>-2.761014</td>\n",
       "      <td>-1.734898</td>\n",
       "      <td>-3.162632</td>\n",
       "      <td>-1.799356</td>\n",
       "      <td>-3.190433</td>\n",
       "      <td>-2.784412</td>\n",
       "      <td>-3.293540</td>\n",
       "      <td>-2.693073</td>\n",
       "      <td>-3.429763</td>\n",
       "      <td>20:51</td>\n",
       "    </tr>\n",
       "    <tr>\n",
       "      <td>38</td>\n",
       "      <td>-3.251630</td>\n",
       "      <td>-2.764269</td>\n",
       "      <td>-2.743274</td>\n",
       "      <td>-1.703240</td>\n",
       "      <td>-3.154124</td>\n",
       "      <td>-1.809787</td>\n",
       "      <td>-3.160032</td>\n",
       "      <td>-2.806453</td>\n",
       "      <td>-3.233104</td>\n",
       "      <td>-2.660570</td>\n",
       "      <td>-3.418883</td>\n",
       "      <td>20:52</td>\n",
       "    </tr>\n",
       "    <tr>\n",
       "      <td>39</td>\n",
       "      <td>-3.278052</td>\n",
       "      <td>-2.800569</td>\n",
       "      <td>-2.778734</td>\n",
       "      <td>-1.692293</td>\n",
       "      <td>-3.235339</td>\n",
       "      <td>-1.834119</td>\n",
       "      <td>-3.212144</td>\n",
       "      <td>-2.814507</td>\n",
       "      <td>-3.297616</td>\n",
       "      <td>-2.697670</td>\n",
       "      <td>-3.446181</td>\n",
       "      <td>20:55</td>\n",
       "    </tr>\n",
       "    <tr>\n",
       "      <td>40</td>\n",
       "      <td>-3.280329</td>\n",
       "      <td>-2.791088</td>\n",
       "      <td>-2.768149</td>\n",
       "      <td>-1.694430</td>\n",
       "      <td>-3.243932</td>\n",
       "      <td>-1.831459</td>\n",
       "      <td>-3.219778</td>\n",
       "      <td>-2.820521</td>\n",
       "      <td>-3.202408</td>\n",
       "      <td>-2.689774</td>\n",
       "      <td>-3.442889</td>\n",
       "      <td>20:51</td>\n",
       "    </tr>\n",
       "    <tr>\n",
       "      <td>41</td>\n",
       "      <td>-3.312741</td>\n",
       "      <td>-2.786347</td>\n",
       "      <td>-2.761308</td>\n",
       "      <td>-1.777398</td>\n",
       "      <td>-3.065010</td>\n",
       "      <td>-1.882597</td>\n",
       "      <td>-3.190166</td>\n",
       "      <td>-2.766364</td>\n",
       "      <td>-3.288052</td>\n",
       "      <td>-2.702019</td>\n",
       "      <td>-3.418860</td>\n",
       "      <td>20:48</td>\n",
       "    </tr>\n",
       "    <tr>\n",
       "      <td>42</td>\n",
       "      <td>-3.326038</td>\n",
       "      <td>-2.815687</td>\n",
       "      <td>-2.787534</td>\n",
       "      <td>-1.784027</td>\n",
       "      <td>-3.214934</td>\n",
       "      <td>-1.834226</td>\n",
       "      <td>-3.156987</td>\n",
       "      <td>-2.798748</td>\n",
       "      <td>-3.343161</td>\n",
       "      <td>-2.706622</td>\n",
       "      <td>-3.461562</td>\n",
       "      <td>20:49</td>\n",
       "    </tr>\n",
       "    <tr>\n",
       "      <td>43</td>\n",
       "      <td>-3.308012</td>\n",
       "      <td>-2.826454</td>\n",
       "      <td>-2.797984</td>\n",
       "      <td>-1.736148</td>\n",
       "      <td>-3.249192</td>\n",
       "      <td>-1.883309</td>\n",
       "      <td>-3.229209</td>\n",
       "      <td>-2.803010</td>\n",
       "      <td>-3.329955</td>\n",
       "      <td>-2.709177</td>\n",
       "      <td>-3.443872</td>\n",
       "      <td>20:49</td>\n",
       "    </tr>\n",
       "    <tr>\n",
       "      <td>44</td>\n",
       "      <td>-3.338304</td>\n",
       "      <td>-2.800384</td>\n",
       "      <td>-2.774383</td>\n",
       "      <td>-1.690434</td>\n",
       "      <td>-3.230401</td>\n",
       "      <td>-1.792001</td>\n",
       "      <td>-3.220056</td>\n",
       "      <td>-2.828869</td>\n",
       "      <td>-3.287001</td>\n",
       "      <td>-2.701639</td>\n",
       "      <td>-3.444660</td>\n",
       "      <td>20:52</td>\n",
       "    </tr>\n",
       "    <tr>\n",
       "      <td>45</td>\n",
       "      <td>-3.368162</td>\n",
       "      <td>-2.822950</td>\n",
       "      <td>-2.801220</td>\n",
       "      <td>-1.778018</td>\n",
       "      <td>-3.208375</td>\n",
       "      <td>-1.884332</td>\n",
       "      <td>-3.227917</td>\n",
       "      <td>-2.806026</td>\n",
       "      <td>-3.337228</td>\n",
       "      <td>-2.718031</td>\n",
       "      <td>-3.449834</td>\n",
       "      <td>20:48</td>\n",
       "    </tr>\n",
       "    <tr>\n",
       "      <td>46</td>\n",
       "      <td>-3.372600</td>\n",
       "      <td>-2.837726</td>\n",
       "      <td>-2.807654</td>\n",
       "      <td>-1.804603</td>\n",
       "      <td>-3.223048</td>\n",
       "      <td>-1.853201</td>\n",
       "      <td>-3.207845</td>\n",
       "      <td>-2.839925</td>\n",
       "      <td>-3.344483</td>\n",
       "      <td>-2.719625</td>\n",
       "      <td>-3.468500</td>\n",
       "      <td>20:49</td>\n",
       "    </tr>\n",
       "    <tr>\n",
       "      <td>47</td>\n",
       "      <td>-3.385566</td>\n",
       "      <td>-2.831485</td>\n",
       "      <td>-2.805472</td>\n",
       "      <td>-1.782871</td>\n",
       "      <td>-3.147825</td>\n",
       "      <td>-1.892689</td>\n",
       "      <td>-3.250898</td>\n",
       "      <td>-2.820335</td>\n",
       "      <td>-3.336730</td>\n",
       "      <td>-2.728283</td>\n",
       "      <td>-3.484142</td>\n",
       "      <td>20:48</td>\n",
       "    </tr>\n",
       "    <tr>\n",
       "      <td>48</td>\n",
       "      <td>-3.416810</td>\n",
       "      <td>-2.848233</td>\n",
       "      <td>-2.826410</td>\n",
       "      <td>-1.812488</td>\n",
       "      <td>-3.263212</td>\n",
       "      <td>-1.887046</td>\n",
       "      <td>-3.236938</td>\n",
       "      <td>-2.846950</td>\n",
       "      <td>-3.352316</td>\n",
       "      <td>-2.737637</td>\n",
       "      <td>-3.474691</td>\n",
       "      <td>20:51</td>\n",
       "    </tr>\n",
       "    <tr>\n",
       "      <td>49</td>\n",
       "      <td>-3.423171</td>\n",
       "      <td>-2.862415</td>\n",
       "      <td>-2.829974</td>\n",
       "      <td>-1.812962</td>\n",
       "      <td>-3.249602</td>\n",
       "      <td>-1.890688</td>\n",
       "      <td>-3.252496</td>\n",
       "      <td>-2.854046</td>\n",
       "      <td>-3.372182</td>\n",
       "      <td>-2.731695</td>\n",
       "      <td>-3.476124</td>\n",
       "      <td>20:48</td>\n",
       "    </tr>\n",
       "    <tr>\n",
       "      <td>50</td>\n",
       "      <td>-3.455972</td>\n",
       "      <td>-2.864273</td>\n",
       "      <td>-2.838467</td>\n",
       "      <td>-1.804617</td>\n",
       "      <td>-3.295677</td>\n",
       "      <td>-1.889519</td>\n",
       "      <td>-3.262260</td>\n",
       "      <td>-2.851956</td>\n",
       "      <td>-3.376014</td>\n",
       "      <td>-2.748130</td>\n",
       "      <td>-3.479560</td>\n",
       "      <td>20:48</td>\n",
       "    </tr>\n",
       "    <tr>\n",
       "      <td>51</td>\n",
       "      <td>-3.472704</td>\n",
       "      <td>-2.880413</td>\n",
       "      <td>-2.851026</td>\n",
       "      <td>-1.838118</td>\n",
       "      <td>-3.306586</td>\n",
       "      <td>-1.896602</td>\n",
       "      <td>-3.252577</td>\n",
       "      <td>-2.875705</td>\n",
       "      <td>-3.376999</td>\n",
       "      <td>-2.764446</td>\n",
       "      <td>-3.497174</td>\n",
       "      <td>20:49</td>\n",
       "    </tr>\n",
       "    <tr>\n",
       "      <td>52</td>\n",
       "      <td>-3.499017</td>\n",
       "      <td>-2.878472</td>\n",
       "      <td>-2.845359</td>\n",
       "      <td>-1.808013</td>\n",
       "      <td>-3.297404</td>\n",
       "      <td>-1.899137</td>\n",
       "      <td>-3.245049</td>\n",
       "      <td>-2.878132</td>\n",
       "      <td>-3.392238</td>\n",
       "      <td>-2.755669</td>\n",
       "      <td>-3.487233</td>\n",
       "      <td>20:51</td>\n",
       "    </tr>\n",
       "    <tr>\n",
       "      <td>53</td>\n",
       "      <td>-3.506906</td>\n",
       "      <td>-2.886185</td>\n",
       "      <td>-2.852278</td>\n",
       "      <td>-1.843560</td>\n",
       "      <td>-3.302446</td>\n",
       "      <td>-1.899456</td>\n",
       "      <td>-3.259260</td>\n",
       "      <td>-2.873388</td>\n",
       "      <td>-3.386171</td>\n",
       "      <td>-2.762995</td>\n",
       "      <td>-3.490944</td>\n",
       "      <td>20:47</td>\n",
       "    </tr>\n",
       "    <tr>\n",
       "      <td>54</td>\n",
       "      <td>-3.534661</td>\n",
       "      <td>-2.880925</td>\n",
       "      <td>-2.854500</td>\n",
       "      <td>-1.830605</td>\n",
       "      <td>-3.289405</td>\n",
       "      <td>-1.906325</td>\n",
       "      <td>-3.272507</td>\n",
       "      <td>-2.886226</td>\n",
       "      <td>-3.386381</td>\n",
       "      <td>-2.759517</td>\n",
       "      <td>-3.505032</td>\n",
       "      <td>20:47</td>\n",
       "    </tr>\n",
       "    <tr>\n",
       "      <td>55</td>\n",
       "      <td>-3.562267</td>\n",
       "      <td>-2.881565</td>\n",
       "      <td>-2.850279</td>\n",
       "      <td>-1.764184</td>\n",
       "      <td>-3.322242</td>\n",
       "      <td>-1.904553</td>\n",
       "      <td>-3.277834</td>\n",
       "      <td>-2.874837</td>\n",
       "      <td>-3.397397</td>\n",
       "      <td>-2.766881</td>\n",
       "      <td>-3.494302</td>\n",
       "      <td>20:48</td>\n",
       "    </tr>\n",
       "    <tr>\n",
       "      <td>56</td>\n",
       "      <td>-3.599162</td>\n",
       "      <td>-2.910833</td>\n",
       "      <td>-2.876950</td>\n",
       "      <td>-1.866310</td>\n",
       "      <td>-3.328252</td>\n",
       "      <td>-1.915456</td>\n",
       "      <td>-3.298686</td>\n",
       "      <td>-2.902742</td>\n",
       "      <td>-3.418894</td>\n",
       "      <td>-2.782739</td>\n",
       "      <td>-3.502517</td>\n",
       "      <td>20:50</td>\n",
       "    </tr>\n",
       "    <tr>\n",
       "      <td>57</td>\n",
       "      <td>-3.616257</td>\n",
       "      <td>-2.883628</td>\n",
       "      <td>-2.847487</td>\n",
       "      <td>-1.780622</td>\n",
       "      <td>-3.173519</td>\n",
       "      <td>-1.933050</td>\n",
       "      <td>-3.286456</td>\n",
       "      <td>-2.879823</td>\n",
       "      <td>-3.423120</td>\n",
       "      <td>-2.787031</td>\n",
       "      <td>-3.516273</td>\n",
       "      <td>20:47</td>\n",
       "    </tr>\n",
       "    <tr>\n",
       "      <td>58</td>\n",
       "      <td>-3.619834</td>\n",
       "      <td>-2.885957</td>\n",
       "      <td>-2.850072</td>\n",
       "      <td>-1.796302</td>\n",
       "      <td>-3.340829</td>\n",
       "      <td>-1.919458</td>\n",
       "      <td>-3.264338</td>\n",
       "      <td>-2.907076</td>\n",
       "      <td>-3.348152</td>\n",
       "      <td>-2.755870</td>\n",
       "      <td>-3.468549</td>\n",
       "      <td>20:47</td>\n",
       "    </tr>\n",
       "    <tr>\n",
       "      <td>59</td>\n",
       "      <td>-3.668293</td>\n",
       "      <td>-2.929884</td>\n",
       "      <td>-2.891909</td>\n",
       "      <td>-1.855239</td>\n",
       "      <td>-3.365590</td>\n",
       "      <td>-1.965123</td>\n",
       "      <td>-3.281681</td>\n",
       "      <td>-2.905416</td>\n",
       "      <td>-3.442122</td>\n",
       "      <td>-2.800848</td>\n",
       "      <td>-3.519256</td>\n",
       "      <td>20:47</td>\n",
       "    </tr>\n",
       "    <tr>\n",
       "      <td>60</td>\n",
       "      <td>-3.702045</td>\n",
       "      <td>-2.930995</td>\n",
       "      <td>-2.893315</td>\n",
       "      <td>-1.881892</td>\n",
       "      <td>-3.340074</td>\n",
       "      <td>-1.968664</td>\n",
       "      <td>-3.287882</td>\n",
       "      <td>-2.913836</td>\n",
       "      <td>-3.436041</td>\n",
       "      <td>-2.801198</td>\n",
       "      <td>-3.516933</td>\n",
       "      <td>20:50</td>\n",
       "    </tr>\n",
       "    <tr>\n",
       "      <td>61</td>\n",
       "      <td>-3.731842</td>\n",
       "      <td>-2.931371</td>\n",
       "      <td>-2.897051</td>\n",
       "      <td>-1.884461</td>\n",
       "      <td>-3.314682</td>\n",
       "      <td>-1.947400</td>\n",
       "      <td>-3.305370</td>\n",
       "      <td>-2.924295</td>\n",
       "      <td>-3.462878</td>\n",
       "      <td>-2.809623</td>\n",
       "      <td>-3.527701</td>\n",
       "      <td>20:47</td>\n",
       "    </tr>\n",
       "    <tr>\n",
       "      <td>62</td>\n",
       "      <td>-3.764201</td>\n",
       "      <td>-2.947316</td>\n",
       "      <td>-2.910131</td>\n",
       "      <td>-1.874852</td>\n",
       "      <td>-3.365186</td>\n",
       "      <td>-1.981098</td>\n",
       "      <td>-3.328709</td>\n",
       "      <td>-2.933700</td>\n",
       "      <td>-3.438431</td>\n",
       "      <td>-2.815322</td>\n",
       "      <td>-3.543754</td>\n",
       "      <td>20:46</td>\n",
       "    </tr>\n",
       "    <tr>\n",
       "      <td>63</td>\n",
       "      <td>-3.800310</td>\n",
       "      <td>-2.954290</td>\n",
       "      <td>-2.914722</td>\n",
       "      <td>-1.905064</td>\n",
       "      <td>-3.388351</td>\n",
       "      <td>-1.975011</td>\n",
       "      <td>-3.312659</td>\n",
       "      <td>-2.924963</td>\n",
       "      <td>-3.460291</td>\n",
       "      <td>-2.815296</td>\n",
       "      <td>-3.536144</td>\n",
       "      <td>20:47</td>\n",
       "    </tr>\n",
       "    <tr>\n",
       "      <td>64</td>\n",
       "      <td>-3.823970</td>\n",
       "      <td>-2.960999</td>\n",
       "      <td>-2.921664</td>\n",
       "      <td>-1.885802</td>\n",
       "      <td>-3.392293</td>\n",
       "      <td>-1.975244</td>\n",
       "      <td>-3.337094</td>\n",
       "      <td>-2.947775</td>\n",
       "      <td>-3.482944</td>\n",
       "      <td>-2.821057</td>\n",
       "      <td>-3.531109</td>\n",
       "      <td>20:47</td>\n",
       "    </tr>\n",
       "    <tr>\n",
       "      <td>65</td>\n",
       "      <td>-3.866236</td>\n",
       "      <td>-2.971770</td>\n",
       "      <td>-2.930578</td>\n",
       "      <td>-1.903654</td>\n",
       "      <td>-3.369302</td>\n",
       "      <td>-2.006687</td>\n",
       "      <td>-3.349184</td>\n",
       "      <td>-2.952768</td>\n",
       "      <td>-3.481987</td>\n",
       "      <td>-2.825027</td>\n",
       "      <td>-3.556013</td>\n",
       "      <td>20:50</td>\n",
       "    </tr>\n",
       "    <tr>\n",
       "      <td>66</td>\n",
       "      <td>-3.895370</td>\n",
       "      <td>-2.978971</td>\n",
       "      <td>-2.938730</td>\n",
       "      <td>-1.916110</td>\n",
       "      <td>-3.408206</td>\n",
       "      <td>-2.006523</td>\n",
       "      <td>-3.342400</td>\n",
       "      <td>-2.948410</td>\n",
       "      <td>-3.487101</td>\n",
       "      <td>-2.840919</td>\n",
       "      <td>-3.560169</td>\n",
       "      <td>20:46</td>\n",
       "    </tr>\n",
       "    <tr>\n",
       "      <td>67</td>\n",
       "      <td>-3.935386</td>\n",
       "      <td>-2.986887</td>\n",
       "      <td>-2.944316</td>\n",
       "      <td>-1.921723</td>\n",
       "      <td>-3.393538</td>\n",
       "      <td>-1.990115</td>\n",
       "      <td>-3.367417</td>\n",
       "      <td>-2.961648</td>\n",
       "      <td>-3.510798</td>\n",
       "      <td>-2.847036</td>\n",
       "      <td>-3.562253</td>\n",
       "      <td>20:46</td>\n",
       "    </tr>\n",
       "    <tr>\n",
       "      <td>68</td>\n",
       "      <td>-3.984252</td>\n",
       "      <td>-2.992333</td>\n",
       "      <td>-2.950955</td>\n",
       "      <td>-1.935921</td>\n",
       "      <td>-3.414351</td>\n",
       "      <td>-2.004379</td>\n",
       "      <td>-3.369540</td>\n",
       "      <td>-2.967403</td>\n",
       "      <td>-3.500774</td>\n",
       "      <td>-2.848872</td>\n",
       "      <td>-3.566403</td>\n",
       "      <td>20:46</td>\n",
       "    </tr>\n",
       "    <tr>\n",
       "      <td>69</td>\n",
       "      <td>-4.014056</td>\n",
       "      <td>-2.994113</td>\n",
       "      <td>-2.950778</td>\n",
       "      <td>-1.932654</td>\n",
       "      <td>-3.421172</td>\n",
       "      <td>-1.979676</td>\n",
       "      <td>-3.367144</td>\n",
       "      <td>-2.971589</td>\n",
       "      <td>-3.513694</td>\n",
       "      <td>-2.848229</td>\n",
       "      <td>-3.572068</td>\n",
       "      <td>20:49</td>\n",
       "    </tr>\n",
       "    <tr>\n",
       "      <td>70</td>\n",
       "      <td>-4.060436</td>\n",
       "      <td>-3.005008</td>\n",
       "      <td>-2.959541</td>\n",
       "      <td>-1.940412</td>\n",
       "      <td>-3.428252</td>\n",
       "      <td>-2.025311</td>\n",
       "      <td>-3.361771</td>\n",
       "      <td>-2.965375</td>\n",
       "      <td>-3.523284</td>\n",
       "      <td>-2.851126</td>\n",
       "      <td>-3.580793</td>\n",
       "      <td>20:46</td>\n",
       "    </tr>\n",
       "    <tr>\n",
       "      <td>71</td>\n",
       "      <td>-4.108313</td>\n",
       "      <td>-3.009186</td>\n",
       "      <td>-2.964120</td>\n",
       "      <td>-1.946706</td>\n",
       "      <td>-3.425398</td>\n",
       "      <td>-2.012682</td>\n",
       "      <td>-3.372653</td>\n",
       "      <td>-2.984412</td>\n",
       "      <td>-3.532271</td>\n",
       "      <td>-2.859987</td>\n",
       "      <td>-3.578849</td>\n",
       "      <td>20:46</td>\n",
       "    </tr>\n",
       "    <tr>\n",
       "      <td>72</td>\n",
       "      <td>-4.138547</td>\n",
       "      <td>-3.006456</td>\n",
       "      <td>-2.963104</td>\n",
       "      <td>-1.949265</td>\n",
       "      <td>-3.395007</td>\n",
       "      <td>-2.033642</td>\n",
       "      <td>-3.381410</td>\n",
       "      <td>-2.983789</td>\n",
       "      <td>-3.519295</td>\n",
       "      <td>-2.853051</td>\n",
       "      <td>-3.589370</td>\n",
       "      <td>20:46</td>\n",
       "    </tr>\n",
       "    <tr>\n",
       "      <td>73</td>\n",
       "      <td>-4.193099</td>\n",
       "      <td>-3.018560</td>\n",
       "      <td>-2.972612</td>\n",
       "      <td>-1.950855</td>\n",
       "      <td>-3.440278</td>\n",
       "      <td>-2.026951</td>\n",
       "      <td>-3.387121</td>\n",
       "      <td>-2.989406</td>\n",
       "      <td>-3.539396</td>\n",
       "      <td>-2.868688</td>\n",
       "      <td>-3.578198</td>\n",
       "      <td>20:47</td>\n",
       "    </tr>\n",
       "    <tr>\n",
       "      <td>74</td>\n",
       "      <td>-4.246728</td>\n",
       "      <td>-3.026044</td>\n",
       "      <td>-2.978243</td>\n",
       "      <td>-1.960990</td>\n",
       "      <td>-3.446544</td>\n",
       "      <td>-2.027497</td>\n",
       "      <td>-3.385988</td>\n",
       "      <td>-2.992745</td>\n",
       "      <td>-3.546149</td>\n",
       "      <td>-2.872948</td>\n",
       "      <td>-3.593083</td>\n",
       "      <td>20:49</td>\n",
       "    </tr>\n",
       "    <tr>\n",
       "      <td>75</td>\n",
       "      <td>-4.293308</td>\n",
       "      <td>-3.028232</td>\n",
       "      <td>-2.980809</td>\n",
       "      <td>-1.963104</td>\n",
       "      <td>-3.450682</td>\n",
       "      <td>-2.020406</td>\n",
       "      <td>-3.396388</td>\n",
       "      <td>-2.997010</td>\n",
       "      <td>-3.548336</td>\n",
       "      <td>-2.874919</td>\n",
       "      <td>-3.595631</td>\n",
       "      <td>20:47</td>\n",
       "    </tr>\n",
       "    <tr>\n",
       "      <td>76</td>\n",
       "      <td>-4.336703</td>\n",
       "      <td>-3.029195</td>\n",
       "      <td>-2.982549</td>\n",
       "      <td>-1.956406</td>\n",
       "      <td>-3.449236</td>\n",
       "      <td>-2.038664</td>\n",
       "      <td>-3.393082</td>\n",
       "      <td>-2.998374</td>\n",
       "      <td>-3.549077</td>\n",
       "      <td>-2.876433</td>\n",
       "      <td>-3.599121</td>\n",
       "      <td>20:47</td>\n",
       "    </tr>\n",
       "    <tr>\n",
       "      <td>77</td>\n",
       "      <td>-4.391284</td>\n",
       "      <td>-3.037435</td>\n",
       "      <td>-2.987921</td>\n",
       "      <td>-1.969778</td>\n",
       "      <td>-3.456371</td>\n",
       "      <td>-2.039660</td>\n",
       "      <td>-3.397782</td>\n",
       "      <td>-3.002362</td>\n",
       "      <td>-3.553732</td>\n",
       "      <td>-2.879640</td>\n",
       "      <td>-3.604042</td>\n",
       "      <td>20:47</td>\n",
       "    </tr>\n",
       "    <tr>\n",
       "      <td>78</td>\n",
       "      <td>-4.438536</td>\n",
       "      <td>-3.040278</td>\n",
       "      <td>-2.991329</td>\n",
       "      <td>-1.971870</td>\n",
       "      <td>-3.459551</td>\n",
       "      <td>-2.050372</td>\n",
       "      <td>-3.398523</td>\n",
       "      <td>-3.005087</td>\n",
       "      <td>-3.557415</td>\n",
       "      <td>-2.882850</td>\n",
       "      <td>-3.604963</td>\n",
       "      <td>20:50</td>\n",
       "    </tr>\n",
       "    <tr>\n",
       "      <td>79</td>\n",
       "      <td>-4.493357</td>\n",
       "      <td>-3.042410</td>\n",
       "      <td>-2.992308</td>\n",
       "      <td>-1.968440</td>\n",
       "      <td>-3.458701</td>\n",
       "      <td>-2.050523</td>\n",
       "      <td>-3.400623</td>\n",
       "      <td>-3.007344</td>\n",
       "      <td>-3.562859</td>\n",
       "      <td>-2.885414</td>\n",
       "      <td>-3.604561</td>\n",
       "      <td>20:47</td>\n",
       "    </tr>\n",
       "    <tr>\n",
       "      <td>80</td>\n",
       "      <td>-4.550908</td>\n",
       "      <td>-3.045394</td>\n",
       "      <td>-2.995369</td>\n",
       "      <td>-1.976753</td>\n",
       "      <td>-3.463995</td>\n",
       "      <td>-2.047191</td>\n",
       "      <td>-3.405915</td>\n",
       "      <td>-3.009965</td>\n",
       "      <td>-3.560524</td>\n",
       "      <td>-2.887298</td>\n",
       "      <td>-3.611312</td>\n",
       "      <td>20:47</td>\n",
       "    </tr>\n",
       "    <tr>\n",
       "      <td>81</td>\n",
       "      <td>-4.590341</td>\n",
       "      <td>-3.049897</td>\n",
       "      <td>-2.999424</td>\n",
       "      <td>-1.976344</td>\n",
       "      <td>-3.469304</td>\n",
       "      <td>-2.055669</td>\n",
       "      <td>-3.408487</td>\n",
       "      <td>-3.012369</td>\n",
       "      <td>-3.573188</td>\n",
       "      <td>-2.889991</td>\n",
       "      <td>-3.610041</td>\n",
       "      <td>20:46</td>\n",
       "    </tr>\n",
       "    <tr>\n",
       "      <td>82</td>\n",
       "      <td>-4.657757</td>\n",
       "      <td>-3.048876</td>\n",
       "      <td>-2.998667</td>\n",
       "      <td>-1.961911</td>\n",
       "      <td>-3.469053</td>\n",
       "      <td>-2.054928</td>\n",
       "      <td>-3.413805</td>\n",
       "      <td>-3.014946</td>\n",
       "      <td>-3.574208</td>\n",
       "      <td>-2.890091</td>\n",
       "      <td>-3.610396</td>\n",
       "      <td>20:49</td>\n",
       "    </tr>\n",
       "    <tr>\n",
       "      <td>83</td>\n",
       "      <td>-4.713465</td>\n",
       "      <td>-3.055283</td>\n",
       "      <td>-3.004347</td>\n",
       "      <td>-1.985235</td>\n",
       "      <td>-3.473750</td>\n",
       "      <td>-2.060500</td>\n",
       "      <td>-3.414159</td>\n",
       "      <td>-3.014951</td>\n",
       "      <td>-3.577124</td>\n",
       "      <td>-2.893731</td>\n",
       "      <td>-3.615328</td>\n",
       "      <td>20:46</td>\n",
       "    </tr>\n",
       "    <tr>\n",
       "      <td>84</td>\n",
       "      <td>-4.773794</td>\n",
       "      <td>-3.056370</td>\n",
       "      <td>-3.005702</td>\n",
       "      <td>-1.986768</td>\n",
       "      <td>-3.474000</td>\n",
       "      <td>-2.060617</td>\n",
       "      <td>-3.418345</td>\n",
       "      <td>-3.016386</td>\n",
       "      <td>-3.579336</td>\n",
       "      <td>-2.894846</td>\n",
       "      <td>-3.615319</td>\n",
       "      <td>20:45</td>\n",
       "    </tr>\n",
       "    <tr>\n",
       "      <td>85</td>\n",
       "      <td>-4.835917</td>\n",
       "      <td>-3.058103</td>\n",
       "      <td>-3.006751</td>\n",
       "      <td>-1.987332</td>\n",
       "      <td>-3.475894</td>\n",
       "      <td>-2.061560</td>\n",
       "      <td>-3.418640</td>\n",
       "      <td>-3.019265</td>\n",
       "      <td>-3.580793</td>\n",
       "      <td>-2.895098</td>\n",
       "      <td>-3.615423</td>\n",
       "      <td>20:47</td>\n",
       "    </tr>\n",
       "    <tr>\n",
       "      <td>86</td>\n",
       "      <td>-4.898284</td>\n",
       "      <td>-3.058910</td>\n",
       "      <td>-3.007164</td>\n",
       "      <td>-1.986818</td>\n",
       "      <td>-3.478159</td>\n",
       "      <td>-2.059907</td>\n",
       "      <td>-3.417336</td>\n",
       "      <td>-3.020315</td>\n",
       "      <td>-3.582848</td>\n",
       "      <td>-2.895612</td>\n",
       "      <td>-3.616317</td>\n",
       "      <td>20:50</td>\n",
       "    </tr>\n",
       "    <tr>\n",
       "      <td>87</td>\n",
       "      <td>-4.954158</td>\n",
       "      <td>-3.061009</td>\n",
       "      <td>-3.009054</td>\n",
       "      <td>-1.988596</td>\n",
       "      <td>-3.477887</td>\n",
       "      <td>-2.065180</td>\n",
       "      <td>-3.419671</td>\n",
       "      <td>-3.021019</td>\n",
       "      <td>-3.584295</td>\n",
       "      <td>-2.896859</td>\n",
       "      <td>-3.618927</td>\n",
       "      <td>20:45</td>\n",
       "    </tr>\n",
       "    <tr>\n",
       "      <td>88</td>\n",
       "      <td>-5.021777</td>\n",
       "      <td>-3.061684</td>\n",
       "      <td>-3.009202</td>\n",
       "      <td>-1.987239</td>\n",
       "      <td>-3.478173</td>\n",
       "      <td>-2.065056</td>\n",
       "      <td>-3.421624</td>\n",
       "      <td>-3.020766</td>\n",
       "      <td>-3.584043</td>\n",
       "      <td>-2.897398</td>\n",
       "      <td>-3.619315</td>\n",
       "      <td>20:46</td>\n",
       "    </tr>\n",
       "    <tr>\n",
       "      <td>89</td>\n",
       "      <td>-5.084659</td>\n",
       "      <td>-3.062738</td>\n",
       "      <td>-3.010730</td>\n",
       "      <td>-1.988979</td>\n",
       "      <td>-3.479098</td>\n",
       "      <td>-2.066967</td>\n",
       "      <td>-3.422380</td>\n",
       "      <td>-3.022045</td>\n",
       "      <td>-3.587452</td>\n",
       "      <td>-2.897956</td>\n",
       "      <td>-3.620964</td>\n",
       "      <td>20:46</td>\n",
       "    </tr>\n",
       "    <tr>\n",
       "      <td>90</td>\n",
       "      <td>-5.156806</td>\n",
       "      <td>-3.063864</td>\n",
       "      <td>-3.011242</td>\n",
       "      <td>-1.991234</td>\n",
       "      <td>-3.479154</td>\n",
       "      <td>-2.066693</td>\n",
       "      <td>-3.424068</td>\n",
       "      <td>-3.022048</td>\n",
       "      <td>-3.587129</td>\n",
       "      <td>-2.898609</td>\n",
       "      <td>-3.621001</td>\n",
       "      <td>20:45</td>\n",
       "    </tr>\n",
       "    <tr>\n",
       "      <td>91</td>\n",
       "      <td>-5.219419</td>\n",
       "      <td>-3.064333</td>\n",
       "      <td>-3.011644</td>\n",
       "      <td>-1.989561</td>\n",
       "      <td>-3.481092</td>\n",
       "      <td>-2.066020</td>\n",
       "      <td>-3.424336</td>\n",
       "      <td>-3.023134</td>\n",
       "      <td>-3.587457</td>\n",
       "      <td>-2.899227</td>\n",
       "      <td>-3.622328</td>\n",
       "      <td>20:49</td>\n",
       "    </tr>\n",
       "    <tr>\n",
       "      <td>92</td>\n",
       "      <td>-5.286513</td>\n",
       "      <td>-3.064947</td>\n",
       "      <td>-3.012127</td>\n",
       "      <td>-1.991666</td>\n",
       "      <td>-3.481339</td>\n",
       "      <td>-2.068036</td>\n",
       "      <td>-3.424001</td>\n",
       "      <td>-3.023249</td>\n",
       "      <td>-3.587965</td>\n",
       "      <td>-2.899747</td>\n",
       "      <td>-3.621015</td>\n",
       "      <td>20:46</td>\n",
       "    </tr>\n",
       "    <tr>\n",
       "      <td>93</td>\n",
       "      <td>-5.356356</td>\n",
       "      <td>-3.065213</td>\n",
       "      <td>-3.012347</td>\n",
       "      <td>-1.992162</td>\n",
       "      <td>-3.481493</td>\n",
       "      <td>-2.067166</td>\n",
       "      <td>-3.423636</td>\n",
       "      <td>-3.023234</td>\n",
       "      <td>-3.588869</td>\n",
       "      <td>-2.899688</td>\n",
       "      <td>-3.622529</td>\n",
       "      <td>20:46</td>\n",
       "    </tr>\n",
       "    <tr>\n",
       "      <td>94</td>\n",
       "      <td>-5.414241</td>\n",
       "      <td>-3.065572</td>\n",
       "      <td>-3.012755</td>\n",
       "      <td>-1.991901</td>\n",
       "      <td>-3.482092</td>\n",
       "      <td>-2.068139</td>\n",
       "      <td>-3.424746</td>\n",
       "      <td>-3.023418</td>\n",
       "      <td>-3.589162</td>\n",
       "      <td>-2.899784</td>\n",
       "      <td>-3.622801</td>\n",
       "      <td>20:46</td>\n",
       "    </tr>\n",
       "    <tr>\n",
       "      <td>95</td>\n",
       "      <td>-5.476556</td>\n",
       "      <td>-3.065874</td>\n",
       "      <td>-3.013021</td>\n",
       "      <td>-1.992331</td>\n",
       "      <td>-3.482184</td>\n",
       "      <td>-2.068919</td>\n",
       "      <td>-3.425518</td>\n",
       "      <td>-3.023513</td>\n",
       "      <td>-3.589520</td>\n",
       "      <td>-2.899879</td>\n",
       "      <td>-3.622305</td>\n",
       "      <td>20:51</td>\n",
       "    </tr>\n",
       "    <tr>\n",
       "      <td>96</td>\n",
       "      <td>-5.544042</td>\n",
       "      <td>-3.065724</td>\n",
       "      <td>-3.012856</td>\n",
       "      <td>-1.992106</td>\n",
       "      <td>-3.482034</td>\n",
       "      <td>-2.068153</td>\n",
       "      <td>-3.425059</td>\n",
       "      <td>-3.023502</td>\n",
       "      <td>-3.589439</td>\n",
       "      <td>-2.899958</td>\n",
       "      <td>-3.622597</td>\n",
       "      <td>20:47</td>\n",
       "    </tr>\n",
       "    <tr>\n",
       "      <td>97</td>\n",
       "      <td>-5.592432</td>\n",
       "      <td>-3.065896</td>\n",
       "      <td>-3.013034</td>\n",
       "      <td>-1.992419</td>\n",
       "      <td>-3.482226</td>\n",
       "      <td>-2.068511</td>\n",
       "      <td>-3.425353</td>\n",
       "      <td>-3.023587</td>\n",
       "      <td>-3.589571</td>\n",
       "      <td>-2.899989</td>\n",
       "      <td>-3.622612</td>\n",
       "      <td>20:47</td>\n",
       "    </tr>\n",
       "    <tr>\n",
       "      <td>98</td>\n",
       "      <td>-5.632479</td>\n",
       "      <td>-3.065915</td>\n",
       "      <td>-3.013055</td>\n",
       "      <td>-1.992376</td>\n",
       "      <td>-3.482157</td>\n",
       "      <td>-2.068639</td>\n",
       "      <td>-3.425376</td>\n",
       "      <td>-3.023652</td>\n",
       "      <td>-3.589564</td>\n",
       "      <td>-2.900025</td>\n",
       "      <td>-3.622650</td>\n",
       "      <td>20:47</td>\n",
       "    </tr>\n",
       "    <tr>\n",
       "      <td>99</td>\n",
       "      <td>-5.654036</td>\n",
       "      <td>-3.065919</td>\n",
       "      <td>-3.013061</td>\n",
       "      <td>-1.992398</td>\n",
       "      <td>-3.482203</td>\n",
       "      <td>-2.068673</td>\n",
       "      <td>-3.425309</td>\n",
       "      <td>-3.023658</td>\n",
       "      <td>-3.589561</td>\n",
       "      <td>-2.900021</td>\n",
       "      <td>-3.622662</td>\n",
       "      <td>20:47</td>\n",
       "    </tr>\n",
       "  </tbody>\n",
       "</table>"
      ],
      "text/plain": [
       "<IPython.core.display.HTML object>"
      ]
     },
     "metadata": {},
     "output_type": "display_data"
    },
    {
     "name": "stdout",
     "output_type": "stream",
     "text": [
      "Better model found at epoch 0 with 👉🏻LMAE👈🏻 value: -0.5890253186225891.\n",
      "Better model found at epoch 1 with 👉🏻LMAE👈🏻 value: -1.1213836669921875.\n",
      "Better model found at epoch 2 with 👉🏻LMAE👈🏻 value: -1.5054975748062134.\n",
      "Better model found at epoch 3 with 👉🏻LMAE👈🏻 value: -1.7970596551895142.\n",
      "Better model found at epoch 4 with 👉🏻LMAE👈🏻 value: -2.016091823577881.\n",
      "Better model found at epoch 5 with 👉🏻LMAE👈🏻 value: -2.1982421875.\n",
      "Better model found at epoch 6 with 👉🏻LMAE👈🏻 value: -2.343193531036377.\n",
      "Better model found at epoch 7 with 👉🏻LMAE👈🏻 value: -2.4705913066864014.\n",
      "Better model found at epoch 8 with 👉🏻LMAE👈🏻 value: -2.5663344860076904.\n",
      "Better model found at epoch 9 with 👉🏻LMAE👈🏻 value: -2.6351447105407715.\n",
      "Better model found at epoch 10 with 👉🏻LMAE👈🏻 value: -2.6984682083129883.\n",
      "Better model found at epoch 11 with 👉🏻LMAE👈🏻 value: -2.7371275424957275.\n",
      "Better model found at epoch 12 with 👉🏻LMAE👈🏻 value: -2.768998622894287.\n",
      "Better model found at epoch 13 with 👉🏻LMAE👈🏻 value: -2.785649299621582.\n",
      "Better model found at epoch 14 with 👉🏻LMAE👈🏻 value: -2.7981619834899902.\n",
      "Better model found at epoch 15 with 👉🏻LMAE👈🏻 value: -2.8001534938812256.\n",
      "Better model found at epoch 16 with 👉🏻LMAE👈🏻 value: -2.808889627456665.\n",
      "Better model found at epoch 48 with 👉🏻LMAE👈🏻 value: -2.8264095783233643.\n",
      "Better model found at epoch 49 with 👉🏻LMAE👈🏻 value: -2.829974412918091.\n",
      "Better model found at epoch 50 with 👉🏻LMAE👈🏻 value: -2.8384666442871094.\n",
      "Better model found at epoch 51 with 👉🏻LMAE👈🏻 value: -2.8510260581970215.\n",
      "Better model found at epoch 53 with 👉🏻LMAE👈🏻 value: -2.8522775173187256.\n",
      "Better model found at epoch 54 with 👉🏻LMAE👈🏻 value: -2.8544998168945312.\n",
      "Better model found at epoch 56 with 👉🏻LMAE👈🏻 value: -2.8769495487213135.\n",
      "Better model found at epoch 59 with 👉🏻LMAE👈🏻 value: -2.89190936088562.\n",
      "Better model found at epoch 60 with 👉🏻LMAE👈🏻 value: -2.893315315246582.\n",
      "Better model found at epoch 61 with 👉🏻LMAE👈🏻 value: -2.8970513343811035.\n",
      "Better model found at epoch 62 with 👉🏻LMAE👈🏻 value: -2.9101314544677734.\n",
      "Better model found at epoch 63 with 👉🏻LMAE👈🏻 value: -2.914722442626953.\n",
      "Better model found at epoch 64 with 👉🏻LMAE👈🏻 value: -2.9216644763946533.\n",
      "Better model found at epoch 65 with 👉🏻LMAE👈🏻 value: -2.930577516555786.\n",
      "Better model found at epoch 66 with 👉🏻LMAE👈🏻 value: -2.938730001449585.\n",
      "Better model found at epoch 67 with 👉🏻LMAE👈🏻 value: -2.9443159103393555.\n",
      "Better model found at epoch 68 with 👉🏻LMAE👈🏻 value: -2.9509551525115967.\n",
      "Better model found at epoch 70 with 👉🏻LMAE👈🏻 value: -2.959540605545044.\n",
      "Better model found at epoch 71 with 👉🏻LMAE👈🏻 value: -2.9641196727752686.\n",
      "Better model found at epoch 73 with 👉🏻LMAE👈🏻 value: -2.972611665725708.\n",
      "Better model found at epoch 74 with 👉🏻LMAE👈🏻 value: -2.978242874145508.\n",
      "Better model found at epoch 75 with 👉🏻LMAE👈🏻 value: -2.980809450149536.\n",
      "Better model found at epoch 76 with 👉🏻LMAE👈🏻 value: -2.9825491905212402.\n",
      "Better model found at epoch 77 with 👉🏻LMAE👈🏻 value: -2.9879209995269775.\n",
      "Better model found at epoch 78 with 👉🏻LMAE👈🏻 value: -2.9913289546966553.\n",
      "Better model found at epoch 79 with 👉🏻LMAE👈🏻 value: -2.9923079013824463.\n",
      "Better model found at epoch 80 with 👉🏻LMAE👈🏻 value: -2.9953691959381104.\n",
      "Better model found at epoch 81 with 👉🏻LMAE👈🏻 value: -2.9994242191314697.\n",
      "Better model found at epoch 83 with 👉🏻LMAE👈🏻 value: -3.004347085952759.\n",
      "Better model found at epoch 84 with 👉🏻LMAE👈🏻 value: -3.005702018737793.\n",
      "Better model found at epoch 85 with 👉🏻LMAE👈🏻 value: -3.0067505836486816.\n",
      "Better model found at epoch 86 with 👉🏻LMAE👈🏻 value: -3.0071640014648438.\n",
      "Better model found at epoch 87 with 👉🏻LMAE👈🏻 value: -3.00905442237854.\n",
      "Better model found at epoch 88 with 👉🏻LMAE👈🏻 value: -3.009201765060425.\n",
      "Better model found at epoch 89 with 👉🏻LMAE👈🏻 value: -3.010730266571045.\n",
      "Better model found at epoch 90 with 👉🏻LMAE👈🏻 value: -3.011241912841797.\n",
      "Better model found at epoch 91 with 👉🏻LMAE👈🏻 value: -3.0116443634033203.\n",
      "Better model found at epoch 92 with 👉🏻LMAE👈🏻 value: -3.01212739944458.\n",
      "Better model found at epoch 93 with 👉🏻LMAE👈🏻 value: -3.0123472213745117.\n",
      "Better model found at epoch 94 with 👉🏻LMAE👈🏻 value: -3.0127553939819336.\n",
      "Better model found at epoch 95 with 👉🏻LMAE👈🏻 value: -3.0130209922790527.\n",
      "Better model found at epoch 97 with 👉🏻LMAE👈🏻 value: -3.013033628463745.\n",
      "Better model found at epoch 98 with 👉🏻LMAE👈🏻 value: -3.013054847717285.\n",
      "Better model found at epoch 99 with 👉🏻LMAE👈🏻 value: -3.0130605697631836.\n"
     ]
    }
   ],
   "source": [
    "gc.collect()\n",
    "torch.cuda.empty_cache()\n",
    "#learner.data.batch_size = 512*2\n",
    "#learner.data.batch_size = 512\n",
    "#learner.opt_func = RAdam\n",
    "#learner.opt_func = partial(torch.optim.Adam, betas=(0.9,0.99), eps=1e-2)\n",
    "learner.fit_one_cycle(100, 1.0E-04)#, moms=(0.75,0.70))\n"
   ]
  },
  {
   "cell_type": "code",
   "execution_count": 48,
   "metadata": {
    "ExecuteTime": {
     "end_time": "2019-08-18T16:41:56.799353Z",
     "start_time": "2019-08-18T16:41:56.235829Z"
    }
   },
   "outputs": [
    {
     "data": {
      "image/png": "[encoded data removed]",
      "text/plain": [
       "<Figure size 864x288 with 2 Axes>"
      ]
     },
     "metadata": {
      "needs_background": "light"
     },
     "output_type": "display_data"
    }
   ],
   "source": [
    "learner.recorder.plot_lr(show_moms=True)"
   ]
  },
  {
   "cell_type": "code",
   "execution_count": 49,
   "metadata": {
    "ExecuteTime": {
     "end_time": "2019-08-18T16:41:57.993183Z",
     "start_time": "2019-08-18T16:41:56.802692Z"
    }
   },
   "outputs": [
    {
     "data": {
      "image/png": "[encoded data removed]",
      "text/plain": [
       "<Figure size 432x288 with 1 Axes>"
      ]
     },
     "metadata": {
      "needs_background": "light"
     },
     "output_type": "display_data"
    }
   ],
   "source": [
    "learner.recorder.plot_losses()"
   ]
  },
  {
   "cell_type": "code",
   "execution_count": 50,
   "metadata": {
    "ExecuteTime": {
     "end_time": "2019-08-18T16:41:59.650862Z",
     "start_time": "2019-08-18T16:41:57.996050Z"
    }
   },
   "outputs": [
    {
     "name": "stderr",
     "output_type": "stream",
     "text": [
      "/opt/conda/lib/python3.7/site-packages/matplotlib/backends/backend_agg.py:211: RuntimeWarning: Glyph 128073 missing from current font.\n",
      "  font.set_text(s, 0.0, flags=flags)\n",
      "/opt/conda/lib/python3.7/site-packages/matplotlib/backends/backend_agg.py:211: RuntimeWarning: Glyph 127995 missing from current font.\n",
      "  font.set_text(s, 0.0, flags=flags)\n",
      "/opt/conda/lib/python3.7/site-packages/matplotlib/backends/backend_agg.py:211: RuntimeWarning: Glyph 128072 missing from current font.\n",
      "  font.set_text(s, 0.0, flags=flags)\n",
      "/opt/conda/lib/python3.7/site-packages/matplotlib/backends/backend_agg.py:180: RuntimeWarning: Glyph 128073 missing from current font.\n",
      "  font.set_text(s, 0, flags=flags)\n",
      "/opt/conda/lib/python3.7/site-packages/matplotlib/backends/backend_agg.py:180: RuntimeWarning: Glyph 127995 missing from current font.\n",
      "  font.set_text(s, 0, flags=flags)\n",
      "/opt/conda/lib/python3.7/site-packages/matplotlib/backends/backend_agg.py:180: RuntimeWarning: Glyph 128072 missing from current font.\n",
      "  font.set_text(s, 0, flags=flags)\n"
     ]
    },
    {
     "data": {
      "image/png": "[encoded data removed]",
      "text/plain": [
       "<Figure size 432x2592 with 9 Axes>"
      ]
     },
     "metadata": {
      "needs_background": "light"
     },
     "output_type": "display_data"
    }
   ],
   "source": [
    "learner.recorder.plot_metrics()"
   ]
  },
  {
   "cell_type": "code",
   "execution_count": null,
   "metadata": {
    "collapsed": true
   },
   "outputs": [],
   "source": [
    "learner.fit_one_cycle(500, 2e-2)"
   ]
  },
  {
   "cell_type": "code",
   "execution_count": null,
   "metadata": {
    "ExecuteTime": {
     "end_time": "2019-08-15T11:15:02.866857Z",
     "start_time": "2019-08-15T11:15:02.810887Z"
    }
   },
   "outputs": [],
   "source": [
    "learner.recorder"
   ]
  },
  {
   "cell_type": "markdown",
   "metadata": {},
   "source": [
    "## Optional Fine tune regular fit "
   ]
  },
  {
   "cell_type": "code",
   "execution_count": 37,
   "metadata": {
    "ExecuteTime": {
     "end_time": "2019-08-16T17:08:02.605822Z",
     "start_time": "2019-08-16T17:08:02.599039Z"
    }
   },
   "outputs": [],
   "source": [
    "learner.callbacks.append(\n",
    "    ReduceLROnPlateauCallback(learner, monitor='train_loss', mode='min', factor=0.2, patience=0))"
   ]
  },
  {
   "cell_type": "code",
   "execution_count": null,
   "metadata": {
    "ExecuteTime": {
     "end_time": "2019-08-16T17:09:10.028643Z",
     "start_time": "2019-08-16T17:08:03.852876Z"
    },
    "scrolled": true
   },
   "outputs": [],
   "source": [
    "#learner.opt_func = RAdam\n",
    "learner.fit(100, 1.0E-06)# , moms=(0.75,0.70))"
   ]
  },
  {
   "cell_type": "code",
   "execution_count": null,
   "metadata": {
    "collapsed": true
   },
   "outputs": [],
   "source": [
    "learner.fit_one_cycle(300, 5e-4)#, moms=(0.75,0.70))"
   ]
  },
  {
   "cell_type": "code",
   "execution_count": null,
   "metadata": {
    "ExecuteTime": {
     "end_time": "2019-08-10T11:24:45.530739Z",
     "start_time": "2019-08-10T11:24:44.737186Z"
    }
   },
   "outputs": [],
   "source": [
    "learner.recorder.plot_lr(show_moms=True)"
   ]
  },
  {
   "cell_type": "code",
   "execution_count": null,
   "metadata": {
    "ExecuteTime": {
     "end_time": "2019-08-16T16:57:30.084191Z",
     "start_time": "2019-08-16T16:57:29.686756Z"
    }
   },
   "outputs": [],
   "source": [
    "learner.recorder.plot_losses()"
   ]
  },
  {
   "cell_type": "code",
   "execution_count": null,
   "metadata": {
    "ExecuteTime": {
     "end_time": "2019-08-16T16:57:43.396559Z",
     "start_time": "2019-08-16T16:57:41.386234Z"
    }
   },
   "outputs": [],
   "source": [
    "learner.recorder.plot_metrics()"
   ]
  },
  {
   "cell_type": "code",
   "execution_count": null,
   "metadata": {
    "collapsed": true
   },
   "outputs": [],
   "source": [
    "learner.fit(10,1e-4)"
   ]
  },
  {
   "cell_type": "markdown",
   "metadata": {},
   "source": [
    "# Validate"
   ]
  },
  {
   "cell_type": "code",
   "execution_count": 51,
   "metadata": {
    "ExecuteTime": {
     "end_time": "2019-08-18T16:43:43.240771Z",
     "start_time": "2019-08-18T16:41:59.652721Z"
    }
   },
   "outputs": [
    {
     "name": "stdout",
     "output_type": "stream",
     "text": [
      "[-3.0659196, tensor(-3.0131, device='cuda:0'), tensor(-1.9924, device='cuda:0'), tensor(-3.4822, device='cuda:0'), tensor(-2.0687, device='cuda:0'), tensor(-3.4253, device='cuda:0'), tensor(-3.0237, device='cuda:0'), tensor(-3.5896, device='cuda:0'), tensor(-2.9000, device='cuda:0'), tensor(-3.6227, device='cuda:0')]\n"
     ]
    }
   ],
   "source": [
    "learner.to_fp32()\n",
    "\n",
    "val = learner.validate()\n",
    "print(val)\n",
    "val = val[1]"
   ]
  },
  {
   "cell_type": "code",
   "execution_count": 52,
   "metadata": {
    "ExecuteTime": {
     "end_time": "2019-08-18T16:43:43.775843Z",
     "start_time": "2019-08-18T16:43:43.243286Z"
    }
   },
   "outputs": [
    {
     "name": "stdout",
     "output_type": "stream",
     "text": [
      "loss-5.6540val-3.0131\n"
     ]
    }
   ],
   "source": [
    "try:\n",
    "    sub_fname = f'loss{learner.recorder.losses[-1]:.04f}val{val:.04f}'\n",
    "except:\n",
    "    sub_fname = f'val{val:.04f}'\n",
    "learner.save(sub_fname)\n",
    "print(sub_fname)"
   ]
  },
  {
   "cell_type": "code",
   "execution_count": 42,
   "metadata": {
    "ExecuteTime": {
     "end_time": "2019-08-15T11:17:05.906378Z",
     "start_time": "2019-08-15T11:17:04.743742Z"
    }
   },
   "outputs": [],
   "source": []
  },
  {
   "cell_type": "code",
   "execution_count": 53,
   "metadata": {
    "ExecuteTime": {
     "end_time": "2019-08-18T16:44:39.746236Z",
     "start_time": "2019-08-18T16:44:36.327556Z"
    }
   },
   "outputs": [
    {
     "data": {
      "text/plain": [
       "28430"
      ]
     },
     "execution_count": 53,
     "metadata": {},
     "output_type": "execute_result"
    }
   ],
   "source": [
    "import gc\n",
    "gc.collect()"
   ]
  },
  {
   "cell_type": "markdown",
   "metadata": {},
   "source": [
    "# Inference\n",
    "\n",
    "Make sure `tranforms` are activated to test set otherwise TTA > 1 will be as TTA =1"
   ]
  },
  {
   "cell_type": "code",
   "execution_count": 54,
   "metadata": {
    "ExecuteTime": {
     "end_time": "2019-08-18T16:44:46.914776Z",
     "start_time": "2019-08-18T16:44:44.704127Z"
    }
   },
   "outputs": [],
   "source": [
    "test_fname = Path('test.npz')\n",
    "try:\n",
    "    npzfile  = np.load(fname_ext(test_fname, ext))\n",
    "    xt_xyz   = npzfile['x_xyz']\n",
    "    xt_type  = npzfile['x_type']\n",
    "    xt_ext   = npzfile['x_ext']\n",
    "    xt_atom  = npzfile['x_atom']\n",
    "    mt = npzfile['m']\n",
    "    xt_ids = npzfile['x_ids']\n",
    "except:\n",
    "    xt_xyz,xt_type,xt_ext,xt_atom,mt,xt_ids = \\\n",
    "        preprocess(test_fname.with_suffix('.csv'), type_index=types,ext=ext)\n",
    "    np.savez(fname_ext('_'+test_fname, ext), \n",
    "             x_xyz  = xt_xyz,\n",
    "             x_type = xt_type,\n",
    "             x_ext  = xt_ext,\n",
    "             x_atom = xt_atom,\n",
    "             m=mt,\n",
    "             x_ids=xt_ids)"
   ]
  },
  {
   "cell_type": "code",
   "execution_count": 55,
   "metadata": {
    "ExecuteTime": {
     "end_time": "2019-08-18T16:44:48.610768Z",
     "start_time": "2019-08-18T16:44:48.600417Z"
    }
   },
   "outputs": [],
   "source": [
    "if True:\n",
    "    try:\n",
    "        xt_coulombmat = load_fn(f'xt_coulombmat32{ext}.npy')\n",
    "    except:\n",
    "        xt_coulombmat = np.load(f'xt_coulombmat{ext}.npy', allow_pickle=True)\n",
    "        xt_coulombmat = np.array(xt_coulombmat.tolist()).astype(np.float32)\n",
    "        np.save(f'xt_coulombmat32{ext}.npy', xt_coulombmat)"
   ]
  },
  {
   "cell_type": "code",
   "execution_count": 56,
   "metadata": {
    "ExecuteTime": {
     "end_time": "2019-08-18T16:44:50.485672Z",
     "start_time": "2019-08-18T16:44:50.479567Z"
    }
   },
   "outputs": [],
   "source": [
    "xt_qm9_mulliken = load_fn(f'xt_qm9_mulliken{ext}.npy')"
   ]
  },
  {
   "cell_type": "code",
   "execution_count": 57,
   "metadata": {
    "ExecuteTime": {
     "end_time": "2019-08-18T16:44:51.136154Z",
     "start_time": "2019-08-18T16:44:51.129119Z"
    }
   },
   "outputs": [
    {
     "data": {
      "text/plain": [
       "'xt_qm9_mulliken_ext.npy'"
      ]
     },
     "execution_count": 57,
     "metadata": {},
     "output_type": "execute_result"
    }
   ],
   "source": [
    "f'xt_qm9_mulliken{ext}.npy'"
   ]
  },
  {
   "cell_type": "code",
   "execution_count": 58,
   "metadata": {
    "ExecuteTime": {
     "end_time": "2019-08-18T16:44:52.515431Z",
     "start_time": "2019-08-18T16:44:52.505054Z"
    }
   },
   "outputs": [
    {
     "data": {
      "text/plain": [
       "[(756113, 3, 29),\n",
       " (756113, 1, 29),\n",
       " (756113, 1, 29),\n",
       " (756113, 1, 29),\n",
       " (756113, 1, 29),\n",
       " (756113, 29),\n",
       " (756113,)]"
      ]
     },
     "execution_count": 58,
     "metadata": {},
     "output_type": "execute_result"
    }
   ],
   "source": [
    "[v.shape for v in [xt_xyz,xt_type,xt_ext,xt_atom, xt_qm9_mulliken,xt_ids, mt]]"
   ]
  },
  {
   "cell_type": "code",
   "execution_count": 59,
   "metadata": {
    "ExecuteTime": {
     "end_time": "2019-08-18T16:45:40.110789Z",
     "start_time": "2019-08-18T16:44:55.485888Z"
    }
   },
   "outputs": [],
   "source": [
    "TTA_N = 1\n",
    "\n",
    "learner.data.add_test(ItemList(items=(MoleculeItem(i,*v) for i,v in \n",
    "                              enumerate(zip(xt_xyz,xt_type,xt_ext,xt_atom,xt_qm9_mulliken,xt_coulombmat)))))\n",
    "learner.data.test_ds.tfms = tta_tfms if TTA_N > 1 else tfms"
   ]
  },
  {
   "cell_type": "code",
   "execution_count": null,
   "metadata": {
    "ExecuteTime": {
     "end_time": "2019-07-18T06:25:49.739617Z",
     "start_time": "2019-07-18T06:25:49.719930Z"
    }
   },
   "outputs": [],
   "source": [
    "import gc\n",
    "del xt_xyz,xt_type,xt_ext,xt_atom, xt_qm9_mulliken, mt\n",
    "gc.collect()"
   ]
  },
  {
   "cell_type": "code",
   "execution_count": 48,
   "metadata": {
    "ExecuteTime": {
     "end_time": "2019-07-16T06:05:22.050993Z",
     "start_time": "2019-07-16T06:05:22.048033Z"
    }
   },
   "outputs": [],
   "source": [
    "learner.model = nn.DataParallel(learner.model)\n",
    "#data.batch_size = int(4096*2)"
   ]
  },
  {
   "cell_type": "code",
   "execution_count": 60,
   "metadata": {
    "ExecuteTime": {
     "end_time": "2019-08-18T16:55:21.153214Z",
     "start_time": "2019-08-18T16:45:40.113130Z"
    }
   },
   "outputs": [
    {
     "data": {
      "text/html": [],
      "text/plain": [
       "<IPython.core.display.HTML object>"
      ]
     },
     "metadata": {},
     "output_type": "display_data"
    },
    {
     "data": {
      "text/html": [
       "<div>\n",
       "<style scoped>\n",
       "    .dataframe tbody tr th:only-of-type {\n",
       "        vertical-align: middle;\n",
       "    }\n",
       "\n",
       "    .dataframe tbody tr th {\n",
       "        vertical-align: top;\n",
       "    }\n",
       "\n",
       "    .dataframe thead th {\n",
       "        text-align: right;\n",
       "    }\n",
       "</style>\n",
       "<table border=\"1\" class=\"dataframe\">\n",
       "  <thead>\n",
       "    <tr style=\"text-align: right;\">\n",
       "      <th></th>\n",
       "      <th>id</th>\n",
       "      <th>scalar_coupling_constant</th>\n",
       "    </tr>\n",
       "  </thead>\n",
       "  <tbody>\n",
       "    <tr>\n",
       "      <th>0</th>\n",
       "      <td>4658147</td>\n",
       "      <td>15.390451</td>\n",
       "    </tr>\n",
       "    <tr>\n",
       "      <th>1</th>\n",
       "      <td>4658148</td>\n",
       "      <td>191.664368</td>\n",
       "    </tr>\n",
       "    <tr>\n",
       "      <th>2</th>\n",
       "      <td>4658149</td>\n",
       "      <td>6.141023</td>\n",
       "    </tr>\n",
       "    <tr>\n",
       "      <th>3</th>\n",
       "      <td>4658150</td>\n",
       "      <td>191.680237</td>\n",
       "    </tr>\n",
       "    <tr>\n",
       "      <th>4</th>\n",
       "      <td>4658151</td>\n",
       "      <td>15.159359</td>\n",
       "    </tr>\n",
       "  </tbody>\n",
       "</table>\n",
       "</div>"
      ],
      "text/plain": [
       "        id  scalar_coupling_constant\n",
       "0  4658147                 15.390451\n",
       "1  4658148                191.664368\n",
       "2  4658149                  6.141023\n",
       "3  4658150                191.680237\n",
       "4  4658151                 15.159359"
      ]
     },
     "execution_count": 60,
     "metadata": {},
     "output_type": "execute_result"
    }
   ],
   "source": [
    "sub = defaultdict(int)\n",
    "xt_ids_not_extended = (xt_ids!=0) & (xt_ids<=7163688) # TODO\n",
    "ids = xt_ids[xt_ids_not_extended]\n",
    "\n",
    "mb = master_bar(range(TTA_N))\n",
    "for tta in mb:\n",
    "    test_preds = np.zeros((0, 29), dtype=np.float32)\n",
    "\n",
    "    for batch_idx, batch in progress_bar(\n",
    "        enumerate(learner.dl(DatasetType.Test)), total=len(learner.dl(DatasetType.Test)), parent=mb):\n",
    "        _, _, preds_,_,_,_ = learner.pred_batch(ds_type=DatasetType.Test, batch=batch)\n",
    "        preds_ = preds_.sum(dim=1)\n",
    "        test_preds = np.concatenate([test_preds, preds_.data.cpu().numpy()], axis = 0)\n",
    "\n",
    "    preds = test_preds[xt_ids_not_extended]\n",
    "    for k in range(len(ids)):\n",
    "        sub[int(ids[k])] += preds[k]\n",
    "    \n",
    "for k in range(len(ids)):\n",
    "    sub[int(ids[k])] = sub[int(ids[k])]/TTA_N\n",
    "\n",
    "sub_df = pd.DataFrame(sub.items(), columns=['id', 'scalar_coupling_constant'])\n",
    "sub_df.head()"
   ]
  },
  {
   "cell_type": "markdown",
   "metadata": {},
   "source": [
    "# Submit to Kaggle"
   ]
  },
  {
   "cell_type": "code",
   "execution_count": 61,
   "metadata": {
    "ExecuteTime": {
     "end_time": "2019-08-18T16:55:48.780360Z",
     "start_time": "2019-08-18T16:55:48.773334Z"
    }
   },
   "outputs": [
    {
     "data": {
      "text/plain": [
       "'loss-5.6540val-3.0131'"
      ]
     },
     "execution_count": 61,
     "metadata": {},
     "output_type": "execute_result"
    }
   ],
   "source": [
    "#sub_fname = 'loss-4.9044val-2.5880'\n",
    "#sub_fname='loss-4.9516val-2.8229'\n",
    "sub_fname"
   ]
  },
  {
   "cell_type": "code",
   "execution_count": 62,
   "metadata": {
    "ExecuteTime": {
     "end_time": "2019-08-18T16:56:08.494082Z",
     "start_time": "2019-08-18T16:55:56.201231Z"
    }
   },
   "outputs": [],
   "source": [
    "sub_df.to_csv(sub_fname, index=False)"
   ]
  },
  {
   "cell_type": "code",
   "execution_count": 63,
   "metadata": {
    "ExecuteTime": {
     "end_time": "2019-08-18T16:56:08.499398Z",
     "start_time": "2019-08-18T16:56:08.496396Z"
    }
   },
   "outputs": [],
   "source": [
    "comp = 'champs-scalar-coupling'"
   ]
  },
  {
   "cell_type": "code",
   "execution_count": 64,
   "metadata": {
    "ExecuteTime": {
     "end_time": "2019-08-18T16:56:08.510324Z",
     "start_time": "2019-08-18T16:56:08.501658Z"
    },
    "scrolled": true
   },
   "outputs": [
    {
     "data": {
      "text/html": [
       "<div>\n",
       "<style scoped>\n",
       "    .dataframe tbody tr th:only-of-type {\n",
       "        vertical-align: middle;\n",
       "    }\n",
       "\n",
       "    .dataframe tbody tr th {\n",
       "        vertical-align: top;\n",
       "    }\n",
       "\n",
       "    .dataframe thead th {\n",
       "        text-align: right;\n",
       "    }\n",
       "</style>\n",
       "<table border=\"1\" class=\"dataframe\">\n",
       "  <thead>\n",
       "    <tr style=\"text-align: right;\">\n",
       "      <th></th>\n",
       "      <th>id</th>\n",
       "      <th>scalar_coupling_constant</th>\n",
       "    </tr>\n",
       "  </thead>\n",
       "  <tbody>\n",
       "    <tr>\n",
       "      <th>2505537</th>\n",
       "      <td>7163684</td>\n",
       "      <td>0.743826</td>\n",
       "    </tr>\n",
       "    <tr>\n",
       "      <th>2505538</th>\n",
       "      <td>7163685</td>\n",
       "      <td>4.246649</td>\n",
       "    </tr>\n",
       "    <tr>\n",
       "      <th>2505539</th>\n",
       "      <td>7163686</td>\n",
       "      <td>2.065111</td>\n",
       "    </tr>\n",
       "    <tr>\n",
       "      <th>2505540</th>\n",
       "      <td>7163687</td>\n",
       "      <td>4.068077</td>\n",
       "    </tr>\n",
       "    <tr>\n",
       "      <th>2505541</th>\n",
       "      <td>7163688</td>\n",
       "      <td>120.238037</td>\n",
       "    </tr>\n",
       "  </tbody>\n",
       "</table>\n",
       "</div>"
      ],
      "text/plain": [
       "              id  scalar_coupling_constant\n",
       "2505537  7163684                  0.743826\n",
       "2505538  7163685                  4.246649\n",
       "2505539  7163686                  2.065111\n",
       "2505540  7163687                  4.068077\n",
       "2505541  7163688                120.238037"
      ]
     },
     "execution_count": 64,
     "metadata": {},
     "output_type": "execute_result"
    }
   ],
   "source": [
    "sub_df.tail()"
   ]
  },
  {
   "cell_type": "code",
   "execution_count": 65,
   "metadata": {
    "ExecuteTime": {
     "end_time": "2019-08-18T16:56:21.649250Z",
     "start_time": "2019-08-18T16:56:21.644771Z"
    }
   },
   "outputs": [],
   "source": [
    "TTA_N=1\n",
    "ext='_ext'"
   ]
  },
  {
   "cell_type": "code",
   "execution_count": 66,
   "metadata": {
    "ExecuteTime": {
     "end_time": "2019-08-18T16:56:59.018265Z",
     "start_time": "2019-08-18T16:56:52.912458Z"
    }
   },
   "outputs": [
    {
     "name": "stdout",
     "output_type": "stream",
     "text": [
      "100%|██████████████████████████████████████| 64.0M/64.0M [00:03<00:00, 20.1MB/s]\n",
      "Successfully submitted to Predicting Molecular Properties"
     ]
    }
   ],
   "source": [
    "!kaggle competitions submit -c {comp} -f {sub_fname} -m 'no QM9 no ext no max_atoms tta {TTA_N} {ext} transformer + attn no scale + 1024'"
   ]
  },
  {
   "cell_type": "code",
   "execution_count": 67,
   "metadata": {
    "ExecuteTime": {
     "end_time": "2019-08-18T16:58:04.104524Z",
     "start_time": "2019-08-18T16:57:02.449569Z"
    }
   },
   "outputs": [],
   "source": [
    "import time\n",
    "time.sleep(60)\n",
    "!kaggle competitions submissions -c {comp} -v > submissions-{comp}.csv"
   ]
  },
  {
   "cell_type": "code",
   "execution_count": 68,
   "metadata": {
    "ExecuteTime": {
     "end_time": "2019-08-18T16:58:04.130367Z",
     "start_time": "2019-08-18T16:58:04.110942Z"
    }
   },
   "outputs": [
    {
     "data": {
      "text/plain": [
       "-3.023"
      ]
     },
     "execution_count": 68,
     "metadata": {},
     "output_type": "execute_result"
    }
   ],
   "source": [
    "submissions = pd.read_csv(f'submissions-{comp}.csv')\n",
    "submissions.iloc[0].publicScore"
   ]
  },
  {
   "cell_type": "markdown",
   "metadata": {},
   "source": [
    "# L2 data"
   ]
  },
  {
   "cell_type": "code",
   "execution_count": 69,
   "metadata": {
    "ExecuteTime": {
     "end_time": "2019-08-18T17:00:25.938128Z",
     "start_time": "2019-08-18T16:58:37.305464Z"
    }
   },
   "outputs": [
    {
     "data": {
      "text/html": [],
      "text/plain": [
       "<IPython.core.display.HTML object>"
      ]
     },
     "metadata": {},
     "output_type": "display_data"
    },
    {
     "data": {
      "text/html": [
       "<div>\n",
       "<style scoped>\n",
       "    .dataframe tbody tr th:only-of-type {\n",
       "        vertical-align: middle;\n",
       "    }\n",
       "\n",
       "    .dataframe tbody tr th {\n",
       "        vertical-align: top;\n",
       "    }\n",
       "\n",
       "    .dataframe thead th {\n",
       "        text-align: right;\n",
       "    }\n",
       "</style>\n",
       "<table border=\"1\" class=\"dataframe\">\n",
       "  <thead>\n",
       "    <tr style=\"text-align: right;\">\n",
       "      <th></th>\n",
       "      <th>id</th>\n",
       "      <th>scalar_coupling_constant</th>\n",
       "    </tr>\n",
       "  </thead>\n",
       "  <tbody>\n",
       "    <tr>\n",
       "      <th>0</th>\n",
       "      <td>0</td>\n",
       "      <td>83.482079</td>\n",
       "    </tr>\n",
       "    <tr>\n",
       "      <th>1</th>\n",
       "      <td>1</td>\n",
       "      <td>-2.221239</td>\n",
       "    </tr>\n",
       "    <tr>\n",
       "      <th>2</th>\n",
       "      <td>2</td>\n",
       "      <td>-11.558853</td>\n",
       "    </tr>\n",
       "    <tr>\n",
       "      <th>3</th>\n",
       "      <td>3</td>\n",
       "      <td>-11.560163</td>\n",
       "    </tr>\n",
       "    <tr>\n",
       "      <th>4</th>\n",
       "      <td>4</td>\n",
       "      <td>3.263389</td>\n",
       "    </tr>\n",
       "  </tbody>\n",
       "</table>\n",
       "</div>"
      ],
      "text/plain": [
       "   id  scalar_coupling_constant\n",
       "0   0                 83.482079\n",
       "1   1                 -2.221239\n",
       "2   2                -11.558853\n",
       "3   3                -11.560163\n",
       "4   4                  3.263389"
      ]
     },
     "execution_count": 69,
     "metadata": {},
     "output_type": "execute_result"
    }
   ],
   "source": [
    "learner.data.valid_dl = data.valid_dl.new(shuffle=False)\n",
    "TTA_N =1                                          \n",
    "sub = defaultdict(int)\n",
    "targets = defaultdict(int)\n",
    "targets_types = defaultdict(int)\n",
    "\n",
    "mb = master_bar(range(TTA_N))\n",
    "for tta in mb:\n",
    "    test_preds = np.zeros((0, 29), dtype=np.float32)\n",
    "    test_exts = np.zeros((0, 29), dtype=np.float32)\n",
    "    test_types = np.zeros((0, 29), dtype=np.float32)\n",
    "    test_targets = np.zeros((0, 29), dtype=np.float32)\n",
    "\n",
    "    for batch_idx, batch in progress_bar(\n",
    "        enumerate(learner.dl(DatasetType.Valid)), total=len(learner.dl(DatasetType.Valid)), parent=mb):\n",
    "\n",
    "        types_, ext_, preds_,_,_,_ = learner.pred_batch(ds_type=DatasetType.Valid, batch=batch)\n",
    "        preds_ = preds_.sum(dim=1)\n",
    "        test_preds = np.concatenate([test_preds, preds_.data.cpu().numpy()], axis = 0)\n",
    "\n",
    "        targets_ = batch[1][0].sum(dim=1)\n",
    "        test_targets = np.concatenate([test_targets, targets_.data.cpu().numpy()], axis = 0)\n",
    "        \n",
    "        test_types = np.concatenate([test_types, types_.data.cpu().numpy().squeeze(1)], axis = 0)\n",
    "        test_exts = np.concatenate([test_exts, ext_.data.cpu().numpy().squeeze(1)], axis = 0)\n",
    "    \n",
    "    test_preds = test_preds.flatten()\n",
    "    test_types = test_types.flatten()\n",
    "    test_targets = test_targets.flatten()\n",
    "    test_exts = test_exts.flatten()\n",
    "    \n",
    "    mask = (test_types != -1) & (test_exts == 0) #.squeeze(1)\n",
    "    preds = test_preds[mask]\n",
    "    test_targets = test_targets[mask]\n",
    "    test_types = test_types[mask]\n",
    "    for k in range(len(preds)):\n",
    "        sub[k] += preds[k]\n",
    "        targets[k] = test_targets[k]\n",
    "        targets_types[k] = test_types[k]\n",
    "    \n",
    "for k in range(len(sub.keys())):\n",
    "    sub[k] = sub[k]/TTA_N\n",
    "\n",
    "sub_df = pd.DataFrame(sub.items(), columns=['id', 'scalar_coupling_constant'])\n",
    "sub_df.head()"
   ]
  },
  {
   "cell_type": "code",
   "execution_count": 70,
   "metadata": {
    "ExecuteTime": {
     "end_time": "2019-08-18T17:00:33.134127Z",
     "start_time": "2019-08-18T17:00:32.747669Z"
    }
   },
   "outputs": [
    {
     "data": {
      "text/html": [
       "<div>\n",
       "<style scoped>\n",
       "    .dataframe tbody tr th:only-of-type {\n",
       "        vertical-align: middle;\n",
       "    }\n",
       "\n",
       "    .dataframe tbody tr th {\n",
       "        vertical-align: top;\n",
       "    }\n",
       "\n",
       "    .dataframe thead th {\n",
       "        text-align: right;\n",
       "    }\n",
       "</style>\n",
       "<table border=\"1\" class=\"dataframe\">\n",
       "  <thead>\n",
       "    <tr style=\"text-align: right;\">\n",
       "      <th></th>\n",
       "      <th>id</th>\n",
       "      <th>scalar_coupling_constant</th>\n",
       "    </tr>\n",
       "  </thead>\n",
       "  <tbody>\n",
       "    <tr>\n",
       "      <th>0</th>\n",
       "      <td>0</td>\n",
       "      <td>83.542984</td>\n",
       "    </tr>\n",
       "    <tr>\n",
       "      <th>1</th>\n",
       "      <td>1</td>\n",
       "      <td>-2.378307</td>\n",
       "    </tr>\n",
       "    <tr>\n",
       "      <th>2</th>\n",
       "      <td>2</td>\n",
       "      <td>-11.700430</td>\n",
       "    </tr>\n",
       "    <tr>\n",
       "      <th>3</th>\n",
       "      <td>3</td>\n",
       "      <td>-11.697890</td>\n",
       "    </tr>\n",
       "    <tr>\n",
       "      <th>4</th>\n",
       "      <td>4</td>\n",
       "      <td>3.252806</td>\n",
       "    </tr>\n",
       "  </tbody>\n",
       "</table>\n",
       "</div>"
      ],
      "text/plain": [
       "   id  scalar_coupling_constant\n",
       "0   0                 83.542984\n",
       "1   1                 -2.378307\n",
       "2   2                -11.700430\n",
       "3   3                -11.697890\n",
       "4   4                  3.252806"
      ]
     },
     "execution_count": 70,
     "metadata": {},
     "output_type": "execute_result"
    }
   ],
   "source": [
    "sub_targets = pd.DataFrame(targets.items(), columns=['id', 'scalar_coupling_constant'])\n",
    "sub_targets.head()"
   ]
  },
  {
   "cell_type": "code",
   "execution_count": 71,
   "metadata": {
    "ExecuteTime": {
     "end_time": "2019-08-18T17:00:34.482872Z",
     "start_time": "2019-08-18T17:00:34.131926Z"
    }
   },
   "outputs": [
    {
     "data": {
      "text/html": [
       "<div>\n",
       "<style scoped>\n",
       "    .dataframe tbody tr th:only-of-type {\n",
       "        vertical-align: middle;\n",
       "    }\n",
       "\n",
       "    .dataframe tbody tr th {\n",
       "        vertical-align: top;\n",
       "    }\n",
       "\n",
       "    .dataframe thead th {\n",
       "        text-align: right;\n",
       "    }\n",
       "</style>\n",
       "<table border=\"1\" class=\"dataframe\">\n",
       "  <thead>\n",
       "    <tr style=\"text-align: right;\">\n",
       "      <th></th>\n",
       "      <th>id</th>\n",
       "      <th>scalar_coupling_constant</th>\n",
       "    </tr>\n",
       "  </thead>\n",
       "  <tbody>\n",
       "    <tr>\n",
       "      <th>0</th>\n",
       "      <td>0</td>\n",
       "      <td>83.542984</td>\n",
       "    </tr>\n",
       "    <tr>\n",
       "      <th>1</th>\n",
       "      <td>1</td>\n",
       "      <td>-2.378307</td>\n",
       "    </tr>\n",
       "    <tr>\n",
       "      <th>2</th>\n",
       "      <td>2</td>\n",
       "      <td>-11.700430</td>\n",
       "    </tr>\n",
       "    <tr>\n",
       "      <th>3</th>\n",
       "      <td>3</td>\n",
       "      <td>-11.697890</td>\n",
       "    </tr>\n",
       "    <tr>\n",
       "      <th>4</th>\n",
       "      <td>4</td>\n",
       "      <td>3.252806</td>\n",
       "    </tr>\n",
       "  </tbody>\n",
       "</table>\n",
       "</div>"
      ],
      "text/plain": [
       "   id  scalar_coupling_constant\n",
       "0   0                 83.542984\n",
       "1   1                 -2.378307\n",
       "2   2                -11.700430\n",
       "3   3                -11.697890\n",
       "4   4                  3.252806"
      ]
     },
     "execution_count": 71,
     "metadata": {},
     "output_type": "execute_result"
    }
   ],
   "source": [
    "sub_targets = pd.DataFrame(targets.items(), columns=['id', 'scalar_coupling_constant'])\n",
    "sub_targets.head()"
   ]
  },
  {
   "cell_type": "code",
   "execution_count": 72,
   "metadata": {
    "ExecuteTime": {
     "end_time": "2019-08-18T17:00:38.891905Z",
     "start_time": "2019-08-18T17:00:38.518924Z"
    }
   },
   "outputs": [
    {
     "data": {
      "text/html": [
       "<div>\n",
       "<style scoped>\n",
       "    .dataframe tbody tr th:only-of-type {\n",
       "        vertical-align: middle;\n",
       "    }\n",
       "\n",
       "    .dataframe tbody tr th {\n",
       "        vertical-align: top;\n",
       "    }\n",
       "\n",
       "    .dataframe thead th {\n",
       "        text-align: right;\n",
       "    }\n",
       "</style>\n",
       "<table border=\"1\" class=\"dataframe\">\n",
       "  <thead>\n",
       "    <tr style=\"text-align: right;\">\n",
       "      <th></th>\n",
       "      <th>id</th>\n",
       "      <th>type</th>\n",
       "    </tr>\n",
       "  </thead>\n",
       "  <tbody>\n",
       "    <tr>\n",
       "      <th>0</th>\n",
       "      <td>0</td>\n",
       "      <td>0.0</td>\n",
       "    </tr>\n",
       "    <tr>\n",
       "      <th>1</th>\n",
       "      <td>1</td>\n",
       "      <td>4.0</td>\n",
       "    </tr>\n",
       "    <tr>\n",
       "      <th>2</th>\n",
       "      <td>2</td>\n",
       "      <td>1.0</td>\n",
       "    </tr>\n",
       "    <tr>\n",
       "      <th>3</th>\n",
       "      <td>3</td>\n",
       "      <td>1.0</td>\n",
       "    </tr>\n",
       "    <tr>\n",
       "      <th>4</th>\n",
       "      <td>4</td>\n",
       "      <td>5.0</td>\n",
       "    </tr>\n",
       "  </tbody>\n",
       "</table>\n",
       "</div>"
      ],
      "text/plain": [
       "   id  type\n",
       "0   0   0.0\n",
       "1   1   4.0\n",
       "2   2   1.0\n",
       "3   3   1.0\n",
       "4   4   5.0"
      ]
     },
     "execution_count": 72,
     "metadata": {},
     "output_type": "execute_result"
    }
   ],
   "source": [
    "sub_targets_types = pd.DataFrame(targets_types.items(), columns=['id', 'type'])\n",
    "sub_targets_types.head()\n"
   ]
  },
  {
   "cell_type": "code",
   "execution_count": 39,
   "metadata": {
    "ExecuteTime": {
     "end_time": "2019-08-05T21:42:00.805651Z",
     "start_time": "2019-08-05T21:41:59.063328Z"
    }
   },
   "outputs": [],
   "source": [
    "sub_targets_types.to_csv('validation_types', index=False)"
   ]
  },
  {
   "cell_type": "code",
   "execution_count": 37,
   "metadata": {
    "ExecuteTime": {
     "end_time": "2019-08-06T09:42:10.914144Z",
     "start_time": "2019-08-06T09:42:10.906324Z"
    }
   },
   "outputs": [
    {
     "data": {
      "text/html": [
       "<div>\n",
       "<style scoped>\n",
       "    .dataframe tbody tr th:only-of-type {\n",
       "        vertical-align: middle;\n",
       "    }\n",
       "\n",
       "    .dataframe tbody tr th {\n",
       "        vertical-align: top;\n",
       "    }\n",
       "\n",
       "    .dataframe thead th {\n",
       "        text-align: right;\n",
       "    }\n",
       "</style>\n",
       "<table border=\"1\" class=\"dataframe\">\n",
       "  <thead>\n",
       "    <tr style=\"text-align: right;\">\n",
       "      <th></th>\n",
       "      <th>id</th>\n",
       "      <th>scalar_coupling_constant</th>\n",
       "    </tr>\n",
       "  </thead>\n",
       "  <tbody>\n",
       "    <tr>\n",
       "      <th>463719</th>\n",
       "      <td>463719</td>\n",
       "      <td>8.044444</td>\n",
       "    </tr>\n",
       "    <tr>\n",
       "      <th>463720</th>\n",
       "      <td>463720</td>\n",
       "      <td>1.448611</td>\n",
       "    </tr>\n",
       "    <tr>\n",
       "      <th>463721</th>\n",
       "      <td>463721</td>\n",
       "      <td>5.468248</td>\n",
       "    </tr>\n",
       "    <tr>\n",
       "      <th>463722</th>\n",
       "      <td>463722</td>\n",
       "      <td>94.391937</td>\n",
       "    </tr>\n",
       "    <tr>\n",
       "      <th>463723</th>\n",
       "      <td>463723</td>\n",
       "      <td>-0.944915</td>\n",
       "    </tr>\n",
       "  </tbody>\n",
       "</table>\n",
       "</div>"
      ],
      "text/plain": [
       "            id  scalar_coupling_constant\n",
       "463719  463719                  8.044444\n",
       "463720  463720                  1.448611\n",
       "463721  463721                  5.468248\n",
       "463722  463722                 94.391937\n",
       "463723  463723                 -0.944915"
      ]
     },
     "execution_count": 37,
     "metadata": {},
     "output_type": "execute_result"
    }
   ],
   "source": [
    "sub_df.tail()"
   ]
  },
  {
   "cell_type": "code",
   "execution_count": 64,
   "metadata": {
    "ExecuteTime": {
     "end_time": "2019-08-03T20:05:13.496190Z",
     "start_time": "2019-08-03T20:05:13.486112Z"
    }
   },
   "outputs": [
    {
     "data": {
      "text/html": [
       "<div>\n",
       "<style scoped>\n",
       "    .dataframe tbody tr th:only-of-type {\n",
       "        vertical-align: middle;\n",
       "    }\n",
       "\n",
       "    .dataframe tbody tr th {\n",
       "        vertical-align: top;\n",
       "    }\n",
       "\n",
       "    .dataframe thead th {\n",
       "        text-align: right;\n",
       "    }\n",
       "</style>\n",
       "<table border=\"1\" class=\"dataframe\">\n",
       "  <thead>\n",
       "    <tr style=\"text-align: right;\">\n",
       "      <th></th>\n",
       "      <th>id</th>\n",
       "      <th>scalar_coupling_constant</th>\n",
       "    </tr>\n",
       "  </thead>\n",
       "  <tbody>\n",
       "    <tr>\n",
       "      <th>463719</th>\n",
       "      <td>463719</td>\n",
       "      <td>8.634667</td>\n",
       "    </tr>\n",
       "    <tr>\n",
       "      <th>463720</th>\n",
       "      <td>463720</td>\n",
       "      <td>1.114525</td>\n",
       "    </tr>\n",
       "    <tr>\n",
       "      <th>463721</th>\n",
       "      <td>463721</td>\n",
       "      <td>4.725365</td>\n",
       "    </tr>\n",
       "    <tr>\n",
       "      <th>463722</th>\n",
       "      <td>463722</td>\n",
       "      <td>96.633057</td>\n",
       "    </tr>\n",
       "    <tr>\n",
       "      <th>463723</th>\n",
       "      <td>463723</td>\n",
       "      <td>-1.441309</td>\n",
       "    </tr>\n",
       "  </tbody>\n",
       "</table>\n",
       "</div>"
      ],
      "text/plain": [
       "            id  scalar_coupling_constant\n",
       "463719  463719                  8.634667\n",
       "463720  463720                  1.114525\n",
       "463721  463721                  4.725365\n",
       "463722  463722                 96.633057\n",
       "463723  463723                 -1.441309"
      ]
     },
     "execution_count": 64,
     "metadata": {},
     "output_type": "execute_result"
    }
   ],
   "source": [
    "sub_targets.tail()"
   ]
  },
  {
   "cell_type": "code",
   "execution_count": 68,
   "metadata": {
    "ExecuteTime": {
     "end_time": "2019-08-03T20:07:20.048256Z",
     "start_time": "2019-08-03T20:07:20.041023Z"
    }
   },
   "outputs": [
    {
     "data": {
      "text/plain": [
       "(4064785,)"
      ]
     },
     "execution_count": 68,
     "metadata": {},
     "output_type": "execute_result"
    }
   ],
   "source": [
    "mask"
   ]
  },
  {
   "cell_type": "code",
   "execution_count": 70,
   "metadata": {
    "ExecuteTime": {
     "end_time": "2019-08-03T20:09:32.533038Z",
     "start_time": "2019-08-03T20:09:30.294063Z"
    }
   },
   "outputs": [],
   "source": [
    "sub_targets.to_csv('validation_targets', index=False)"
   ]
  },
  {
   "cell_type": "code",
   "execution_count": 73,
   "metadata": {
    "ExecuteTime": {
     "end_time": "2019-08-18T17:00:48.596014Z",
     "start_time": "2019-08-18T17:00:46.319673Z"
    }
   },
   "outputs": [],
   "source": [
    "sub_df.to_csv(sub_fname + '_val', index=False)"
   ]
  },
  {
   "cell_type": "code",
   "execution_count": 74,
   "metadata": {
    "ExecuteTime": {
     "end_time": "2019-08-18T17:00:48.602593Z",
     "start_time": "2019-08-18T17:00:48.598465Z"
    }
   },
   "outputs": [
    {
     "data": {
      "text/plain": [
       "'loss-5.6540val-3.0131_val'"
      ]
     },
     "execution_count": 74,
     "metadata": {},
     "output_type": "execute_result"
    }
   ],
   "source": [
    "sub_fname + '_val'"
   ]
  },
  {
   "cell_type": "code",
   "execution_count": 67,
   "metadata": {
    "ExecuteTime": {
     "end_time": "2019-08-05T21:00:08.361139Z",
     "start_time": "2019-08-05T21:00:07.258433Z"
    }
   },
   "outputs": [
    {
     "name": "stdout",
     "output_type": "stream",
     "text": [
      "id,scalar_coupling_constant\r\n",
      "0,83.58354949951172\r\n",
      "1,-2.2362117767333984\r\n",
      "2,-11.562994956970215\r\n",
      "3,-11.564420700073242\r\n",
      "4,3.2957756519317627\r\n",
      "5,12.598225593566895\r\n",
      "6,3.288543462753296\r\n",
      "7,83.56932067871094\r\n",
      "8,-2.2371442317962646\r\n"
     ]
    }
   ],
   "source": [
    "!head loss-4.9516val-3.0042_val"
   ]
  },
  {
   "cell_type": "code",
   "execution_count": 74,
   "metadata": {
    "ExecuteTime": {
     "end_time": "2019-08-03T20:11:05.245077Z",
     "start_time": "2019-08-03T20:11:04.340447Z"
    }
   },
   "outputs": [
    {
     "name": "stdout",
     "output_type": "stream",
     "text": [
      "id,scalar_coupling_constant\r\n",
      "0,83.50312805175781\r\n",
      "1,-2.245182991027832\r\n",
      "2,-11.567841529846191\r\n",
      "3,-11.566396713256836\r\n",
      "4,3.245485305786133\r\n",
      "5,12.714962005615234\r\n",
      "6,3.298550844192505\r\n",
      "7,83.466064453125\r\n",
      "8,-2.2379026412963867\r\n"
     ]
    }
   ],
   "source": [
    "!head loss-5.7552val-2.9950_val"
   ]
  },
  {
   "cell_type": "code",
   "execution_count": 75,
   "metadata": {
    "ExecuteTime": {
     "end_time": "2019-08-03T20:11:18.206277Z",
     "start_time": "2019-08-03T20:11:17.307404Z"
    }
   },
   "outputs": [
    {
     "name": "stdout",
     "output_type": "stream",
     "text": [
      "id,scalar_coupling_constant\r\n",
      "0,83.54298400878906\r\n",
      "1,-2.3783071041107178\r\n",
      "2,-11.700429916381836\r\n",
      "3,-11.697890281677246\r\n",
      "4,3.2528059482574463\r\n",
      "5,13.691265106201172\r\n",
      "6,3.25205397605896\r\n",
      "7,83.54167938232422\r\n",
      "8,-2.378622055053711\r\n"
     ]
    }
   ],
   "source": [
    "!head validation_targets"
   ]
  },
  {
   "cell_type": "code",
   "execution_count": null,
   "metadata": {},
   "outputs": [],
   "source": []
  }
 ],
 "metadata": {
  "kernelspec": {
   "display_name": "Python 3",
   "language": "python",
   "name": "python3"
  },
  "language_info": {
   "codemirror_mode": {
    "name": "ipython",
    "version": 3
   },
   "file_extension": ".py",
   "mimetype": "text/x-python",
   "name": "python",
   "nbconvert_exporter": "python",
   "pygments_lexer": "ipython3",
   "version": "3.7.1"
  }
 },
 "nbformat": 4,
 "nbformat_minor": 2
}
