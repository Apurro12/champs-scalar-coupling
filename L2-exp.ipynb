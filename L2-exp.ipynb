{
 "cells": [
  {
   "cell_type": "code",
   "execution_count": 22,
   "metadata": {
    "ExecuteTime": {
     "end_time": "2019-08-23T07:57:43.123506Z",
     "start_time": "2019-08-23T07:57:43.117465Z"
    }
   },
   "outputs": [],
   "source": [
    "import numpy as np\n",
    "import pandas as pd\n",
    "#from catboost import CatBoostRegressor, Pool\n",
    "from sklearn.model_selection import train_test_split\n",
    "from sklearn.model_selection import KFold"
   ]
  },
  {
   "cell_type": "code",
   "execution_count": 23,
   "metadata": {
    "ExecuteTime": {
     "end_time": "2019-08-23T07:57:43.629360Z",
     "start_time": "2019-08-23T07:57:43.623133Z"
    }
   },
   "outputs": [],
   "source": [
    "# Set up folds\n",
    "K = 10\n",
    "kf = KFold(n_splits = K, random_state = 1, shuffle = True)"
   ]
  },
  {
   "cell_type": "code",
   "execution_count": 24,
   "metadata": {
    "ExecuteTime": {
     "end_time": "2019-08-23T07:57:44.296298Z",
     "start_time": "2019-08-23T07:57:44.148904Z"
    }
   },
   "outputs": [
    {
     "name": "stdout",
     "output_type": "stream",
     "text": [
      "id,scalar_coupling_constant\r\n",
      "0,83.50312805175781\r\n",
      "1,-2.245182991027832\r\n",
      "2,-11.567841529846191\r\n",
      "3,-11.566396713256836\r\n",
      "4,3.245485305786133\r\n",
      "5,12.714962005615234\r\n",
      "6,3.298550844192505\r\n",
      "7,83.466064453125\r\n",
      "8,-2.2379026412963867\r\n"
     ]
    }
   ],
   "source": [
    "!head loss-5.7552val-2.9950_val"
   ]
  },
  {
   "cell_type": "code",
   "execution_count": 25,
   "metadata": {
    "ExecuteTime": {
     "end_time": "2019-08-23T07:57:44.860337Z",
     "start_time": "2019-08-23T07:57:44.853854Z"
    }
   },
   "outputs": [],
   "source": [
    "subs = [\n",
    "    'loss-5.7552val-2.9950', 'loss-4.9516val-3.0042', 'loss-5.9943val-2.7766',\n",
    "    'loss-4.0414val-2.7287', 'loss-4.9044val-2.5880', 'loss-4.9516val-2.8229',\n",
    "    'loss-5.6540val-3.0131', 'loss-5.1336val-3.0759', 'loss-5.5435val-3.0776',\n",
    "    'loss-3.5933val-3.0637'\n",
    "]\n",
    "#subs = ['loss-5.7552val-2.9950', 'loss-5.9943val-2.7766', 'loss-4.0414val-2.7287', 'loss-4.9044val-2.5880', 'loss-4.9516val-2.8229', 'loss-5.6540val-3.0131']"
   ]
  },
  {
   "cell_type": "code",
   "execution_count": 26,
   "metadata": {
    "ExecuteTime": {
     "end_time": "2019-08-23T07:57:48.179104Z",
     "start_time": "2019-08-23T07:57:45.950298Z"
    }
   },
   "outputs": [
    {
     "data": {
      "text/html": [
       "<div>\n",
       "<style scoped>\n",
       "    .dataframe tbody tr th:only-of-type {\n",
       "        vertical-align: middle;\n",
       "    }\n",
       "\n",
       "    .dataframe tbody tr th {\n",
       "        vertical-align: top;\n",
       "    }\n",
       "\n",
       "    .dataframe thead th {\n",
       "        text-align: right;\n",
       "    }\n",
       "</style>\n",
       "<table border=\"1\" class=\"dataframe\">\n",
       "  <thead>\n",
       "    <tr style=\"text-align: right;\">\n",
       "      <th></th>\n",
       "      <th>scalar_coupling_constant_loss-5.7552val-2.9950</th>\n",
       "      <th>scalar_coupling_constant_loss-4.9516val-3.0042</th>\n",
       "      <th>scalar_coupling_constant_loss-5.9943val-2.7766</th>\n",
       "      <th>scalar_coupling_constant_loss-4.0414val-2.7287</th>\n",
       "      <th>scalar_coupling_constant_loss-4.9044val-2.5880</th>\n",
       "      <th>scalar_coupling_constant_loss-4.9516val-2.8229</th>\n",
       "      <th>scalar_coupling_constant_loss-5.6540val-3.0131</th>\n",
       "      <th>scalar_coupling_constant_loss-5.1336val-3.0759</th>\n",
       "      <th>scalar_coupling_constant_loss-5.5435val-3.0776</th>\n",
       "      <th>scalar_coupling_constant_loss-3.5933val-3.0637</th>\n",
       "    </tr>\n",
       "  </thead>\n",
       "  <tbody>\n",
       "    <tr>\n",
       "      <th>0</th>\n",
       "      <td>83.503128</td>\n",
       "      <td>83.583549</td>\n",
       "      <td>83.352898</td>\n",
       "      <td>83.300529</td>\n",
       "      <td>83.732101</td>\n",
       "      <td>83.407120</td>\n",
       "      <td>83.482079</td>\n",
       "      <td>83.496063</td>\n",
       "      <td>83.465378</td>\n",
       "      <td>83.403992</td>\n",
       "    </tr>\n",
       "    <tr>\n",
       "      <th>1</th>\n",
       "      <td>-2.245183</td>\n",
       "      <td>-2.236212</td>\n",
       "      <td>-2.195633</td>\n",
       "      <td>-2.275180</td>\n",
       "      <td>-2.266361</td>\n",
       "      <td>-1.826861</td>\n",
       "      <td>-2.221239</td>\n",
       "      <td>-2.180604</td>\n",
       "      <td>-2.165577</td>\n",
       "      <td>-2.258729</td>\n",
       "    </tr>\n",
       "    <tr>\n",
       "      <th>2</th>\n",
       "      <td>-11.567842</td>\n",
       "      <td>-11.562995</td>\n",
       "      <td>-11.576006</td>\n",
       "      <td>-11.587559</td>\n",
       "      <td>-11.505278</td>\n",
       "      <td>-11.596402</td>\n",
       "      <td>-11.558853</td>\n",
       "      <td>-11.559732</td>\n",
       "      <td>-11.567150</td>\n",
       "      <td>-11.585417</td>\n",
       "    </tr>\n",
       "    <tr>\n",
       "      <th>3</th>\n",
       "      <td>-11.566397</td>\n",
       "      <td>-11.564421</td>\n",
       "      <td>-11.565042</td>\n",
       "      <td>-11.591578</td>\n",
       "      <td>-11.523771</td>\n",
       "      <td>-11.590795</td>\n",
       "      <td>-11.560163</td>\n",
       "      <td>-11.568606</td>\n",
       "      <td>-11.573649</td>\n",
       "      <td>-11.589661</td>\n",
       "    </tr>\n",
       "    <tr>\n",
       "      <th>4</th>\n",
       "      <td>3.245485</td>\n",
       "      <td>3.295776</td>\n",
       "      <td>3.181636</td>\n",
       "      <td>3.254843</td>\n",
       "      <td>3.320662</td>\n",
       "      <td>3.289506</td>\n",
       "      <td>3.263389</td>\n",
       "      <td>3.243291</td>\n",
       "      <td>3.244716</td>\n",
       "      <td>3.258291</td>\n",
       "    </tr>\n",
       "  </tbody>\n",
       "</table>\n",
       "</div>"
      ],
      "text/plain": [
       "   scalar_coupling_constant_loss-5.7552val-2.9950  \\\n",
       "0                                       83.503128   \n",
       "1                                       -2.245183   \n",
       "2                                      -11.567842   \n",
       "3                                      -11.566397   \n",
       "4                                        3.245485   \n",
       "\n",
       "   scalar_coupling_constant_loss-4.9516val-3.0042  \\\n",
       "0                                       83.583549   \n",
       "1                                       -2.236212   \n",
       "2                                      -11.562995   \n",
       "3                                      -11.564421   \n",
       "4                                        3.295776   \n",
       "\n",
       "   scalar_coupling_constant_loss-5.9943val-2.7766  \\\n",
       "0                                       83.352898   \n",
       "1                                       -2.195633   \n",
       "2                                      -11.576006   \n",
       "3                                      -11.565042   \n",
       "4                                        3.181636   \n",
       "\n",
       "   scalar_coupling_constant_loss-4.0414val-2.7287  \\\n",
       "0                                       83.300529   \n",
       "1                                       -2.275180   \n",
       "2                                      -11.587559   \n",
       "3                                      -11.591578   \n",
       "4                                        3.254843   \n",
       "\n",
       "   scalar_coupling_constant_loss-4.9044val-2.5880  \\\n",
       "0                                       83.732101   \n",
       "1                                       -2.266361   \n",
       "2                                      -11.505278   \n",
       "3                                      -11.523771   \n",
       "4                                        3.320662   \n",
       "\n",
       "   scalar_coupling_constant_loss-4.9516val-2.8229  \\\n",
       "0                                       83.407120   \n",
       "1                                       -1.826861   \n",
       "2                                      -11.596402   \n",
       "3                                      -11.590795   \n",
       "4                                        3.289506   \n",
       "\n",
       "   scalar_coupling_constant_loss-5.6540val-3.0131  \\\n",
       "0                                       83.482079   \n",
       "1                                       -2.221239   \n",
       "2                                      -11.558853   \n",
       "3                                      -11.560163   \n",
       "4                                        3.263389   \n",
       "\n",
       "   scalar_coupling_constant_loss-5.1336val-3.0759  \\\n",
       "0                                       83.496063   \n",
       "1                                       -2.180604   \n",
       "2                                      -11.559732   \n",
       "3                                      -11.568606   \n",
       "4                                        3.243291   \n",
       "\n",
       "   scalar_coupling_constant_loss-5.5435val-3.0776  \\\n",
       "0                                       83.465378   \n",
       "1                                       -2.165577   \n",
       "2                                      -11.567150   \n",
       "3                                      -11.573649   \n",
       "4                                        3.244716   \n",
       "\n",
       "   scalar_coupling_constant_loss-3.5933val-3.0637  \n",
       "0                                       83.403992  \n",
       "1                                       -2.258729  \n",
       "2                                      -11.585417  \n",
       "3                                      -11.589661  \n",
       "4                                        3.258291  "
      ]
     },
     "execution_count": 26,
     "metadata": {},
     "output_type": "execute_result"
    }
   ],
   "source": [
    "train_x = None\n",
    "for sub in subs:\n",
    "    df = pd.read_csv('%s_val' % sub)\n",
    "    df = df.drop(['id'], axis=1)\n",
    "    if train_x is None:\n",
    "        train_x = df\n",
    "        train_x['scalar_coupling_constant_%s' % sub] = df['scalar_coupling_constant']\n",
    "    else:\n",
    "        train_x['scalar_coupling_constant_%s' % sub] = df['scalar_coupling_constant']\n",
    "train_x = train_x.drop(['scalar_coupling_constant'], axis=1)\n",
    "#df = pd.read_csv('validation_types')\n",
    "#df = df.drop(['id'], axis=1)\n",
    "#train_x['type'] = df['type']\n",
    "train_x.head()"
   ]
  },
  {
   "cell_type": "code",
   "execution_count": 27,
   "metadata": {
    "ExecuteTime": {
     "end_time": "2019-08-23T07:58:00.417908Z",
     "start_time": "2019-08-23T07:57:48.182971Z"
    }
   },
   "outputs": [
    {
     "data": {
      "text/html": [
       "<div>\n",
       "<style scoped>\n",
       "    .dataframe tbody tr th:only-of-type {\n",
       "        vertical-align: middle;\n",
       "    }\n",
       "\n",
       "    .dataframe tbody tr th {\n",
       "        vertical-align: top;\n",
       "    }\n",
       "\n",
       "    .dataframe thead th {\n",
       "        text-align: right;\n",
       "    }\n",
       "</style>\n",
       "<table border=\"1\" class=\"dataframe\">\n",
       "  <thead>\n",
       "    <tr style=\"text-align: right;\">\n",
       "      <th></th>\n",
       "      <th>scalar_coupling_constant_loss-5.7552val-2.9950</th>\n",
       "      <th>scalar_coupling_constant_loss-4.9516val-3.0042</th>\n",
       "      <th>scalar_coupling_constant_loss-5.9943val-2.7766</th>\n",
       "      <th>scalar_coupling_constant_loss-4.0414val-2.7287</th>\n",
       "      <th>scalar_coupling_constant_loss-4.9044val-2.5880</th>\n",
       "      <th>scalar_coupling_constant_loss-4.9516val-2.8229</th>\n",
       "      <th>scalar_coupling_constant_loss-5.6540val-3.0131</th>\n",
       "      <th>scalar_coupling_constant_loss-5.1336val-3.0759</th>\n",
       "      <th>scalar_coupling_constant_loss-5.5435val-3.0776</th>\n",
       "      <th>scalar_coupling_constant_loss-3.5933val-3.0637</th>\n",
       "    </tr>\n",
       "  </thead>\n",
       "  <tbody>\n",
       "    <tr>\n",
       "      <th>0</th>\n",
       "      <td>15.684770</td>\n",
       "      <td>15.999567</td>\n",
       "      <td>8.700197</td>\n",
       "      <td>14.389465</td>\n",
       "      <td>13.015743</td>\n",
       "      <td>15.555782</td>\n",
       "      <td>15.390451</td>\n",
       "      <td>16.029009</td>\n",
       "      <td>20.745644</td>\n",
       "      <td>17.874069</td>\n",
       "    </tr>\n",
       "    <tr>\n",
       "      <th>1</th>\n",
       "      <td>188.352219</td>\n",
       "      <td>193.554047</td>\n",
       "      <td>187.950882</td>\n",
       "      <td>154.279251</td>\n",
       "      <td>185.739548</td>\n",
       "      <td>192.626099</td>\n",
       "      <td>191.664368</td>\n",
       "      <td>193.443756</td>\n",
       "      <td>195.215378</td>\n",
       "      <td>199.125443</td>\n",
       "    </tr>\n",
       "    <tr>\n",
       "      <th>2</th>\n",
       "      <td>6.846854</td>\n",
       "      <td>7.092568</td>\n",
       "      <td>5.505550</td>\n",
       "      <td>5.256055</td>\n",
       "      <td>3.423435</td>\n",
       "      <td>6.581933</td>\n",
       "      <td>6.141023</td>\n",
       "      <td>5.023911</td>\n",
       "      <td>4.923062</td>\n",
       "      <td>3.728927</td>\n",
       "    </tr>\n",
       "    <tr>\n",
       "      <th>3</th>\n",
       "      <td>188.521500</td>\n",
       "      <td>193.675003</td>\n",
       "      <td>187.018097</td>\n",
       "      <td>161.308258</td>\n",
       "      <td>188.194336</td>\n",
       "      <td>193.716049</td>\n",
       "      <td>191.680237</td>\n",
       "      <td>193.489624</td>\n",
       "      <td>195.263107</td>\n",
       "      <td>199.084839</td>\n",
       "    </tr>\n",
       "    <tr>\n",
       "      <th>4</th>\n",
       "      <td>15.910284</td>\n",
       "      <td>16.058594</td>\n",
       "      <td>8.810644</td>\n",
       "      <td>17.046246</td>\n",
       "      <td>13.113968</td>\n",
       "      <td>15.665305</td>\n",
       "      <td>15.159359</td>\n",
       "      <td>15.948315</td>\n",
       "      <td>19.442461</td>\n",
       "      <td>17.889143</td>\n",
       "    </tr>\n",
       "  </tbody>\n",
       "</table>\n",
       "</div>"
      ],
      "text/plain": [
       "   scalar_coupling_constant_loss-5.7552val-2.9950  \\\n",
       "0                                       15.684770   \n",
       "1                                      188.352219   \n",
       "2                                        6.846854   \n",
       "3                                      188.521500   \n",
       "4                                       15.910284   \n",
       "\n",
       "   scalar_coupling_constant_loss-4.9516val-3.0042  \\\n",
       "0                                       15.999567   \n",
       "1                                      193.554047   \n",
       "2                                        7.092568   \n",
       "3                                      193.675003   \n",
       "4                                       16.058594   \n",
       "\n",
       "   scalar_coupling_constant_loss-5.9943val-2.7766  \\\n",
       "0                                        8.700197   \n",
       "1                                      187.950882   \n",
       "2                                        5.505550   \n",
       "3                                      187.018097   \n",
       "4                                        8.810644   \n",
       "\n",
       "   scalar_coupling_constant_loss-4.0414val-2.7287  \\\n",
       "0                                       14.389465   \n",
       "1                                      154.279251   \n",
       "2                                        5.256055   \n",
       "3                                      161.308258   \n",
       "4                                       17.046246   \n",
       "\n",
       "   scalar_coupling_constant_loss-4.9044val-2.5880  \\\n",
       "0                                       13.015743   \n",
       "1                                      185.739548   \n",
       "2                                        3.423435   \n",
       "3                                      188.194336   \n",
       "4                                       13.113968   \n",
       "\n",
       "   scalar_coupling_constant_loss-4.9516val-2.8229  \\\n",
       "0                                       15.555782   \n",
       "1                                      192.626099   \n",
       "2                                        6.581933   \n",
       "3                                      193.716049   \n",
       "4                                       15.665305   \n",
       "\n",
       "   scalar_coupling_constant_loss-5.6540val-3.0131  \\\n",
       "0                                       15.390451   \n",
       "1                                      191.664368   \n",
       "2                                        6.141023   \n",
       "3                                      191.680237   \n",
       "4                                       15.159359   \n",
       "\n",
       "   scalar_coupling_constant_loss-5.1336val-3.0759  \\\n",
       "0                                       16.029009   \n",
       "1                                      193.443756   \n",
       "2                                        5.023911   \n",
       "3                                      193.489624   \n",
       "4                                       15.948315   \n",
       "\n",
       "   scalar_coupling_constant_loss-5.5435val-3.0776  \\\n",
       "0                                       20.745644   \n",
       "1                                      195.215378   \n",
       "2                                        4.923062   \n",
       "3                                      195.263107   \n",
       "4                                       19.442461   \n",
       "\n",
       "   scalar_coupling_constant_loss-3.5933val-3.0637  \n",
       "0                                       17.874069  \n",
       "1                                      199.125443  \n",
       "2                                        3.728927  \n",
       "3                                      199.084839  \n",
       "4                                       17.889143  "
      ]
     },
     "execution_count": 27,
     "metadata": {},
     "output_type": "execute_result"
    }
   ],
   "source": [
    "test_x = None\n",
    "for sub in subs:\n",
    "    df = pd.read_csv('%s' % sub)\n",
    "    df = df.drop(['id'], axis=1)\n",
    "    if test_x is None:\n",
    "        test_x = df\n",
    "        test_x['scalar_coupling_constant_%s' % sub] = df['scalar_coupling_constant']\n",
    "    else:\n",
    "        test_x['scalar_coupling_constant_%s' % sub] = df['scalar_coupling_constant']\n",
    "test_x = test_x.drop(['scalar_coupling_constant'], axis=1)\n",
    "#df = pd.read_csv('validation_types')\n",
    "#df = df.drop(['id'], axis=1)\n",
    "#train_x['type'] = df['type']\n",
    "test_x.head()"
   ]
  },
  {
   "cell_type": "code",
   "execution_count": 28,
   "metadata": {
    "ExecuteTime": {
     "end_time": "2019-08-23T07:58:00.635096Z",
     "start_time": "2019-08-23T07:58:00.420789Z"
    }
   },
   "outputs": [
    {
     "data": {
      "text/plain": [
       "0         83.542984\n",
       "1         -2.378307\n",
       "2        -11.700430\n",
       "3        -11.697890\n",
       "4          3.252806\n",
       "5         13.691265\n",
       "6          3.252054\n",
       "7         83.541679\n",
       "8         -2.378622\n",
       "9        -11.699591\n",
       "10        13.692376\n",
       "11         3.252531\n",
       "12         3.252724\n",
       "13        83.548409\n",
       "14        -2.377157\n",
       "15         3.252426\n",
       "16         3.252421\n",
       "17        13.692103\n",
       "18        -2.378762\n",
       "19        83.541763\n",
       "20       -11.700430\n",
       "21       -11.699314\n",
       "22        -2.378518\n",
       "23        83.542969\n",
       "24       -11.697617\n",
       "25        -2.377235\n",
       "26        83.548599\n",
       "27        55.525219\n",
       "28        -4.061727\n",
       "29         5.328185\n",
       "            ...    \n",
       "463694     4.651087\n",
       "463695     2.200768\n",
       "463696    89.291336\n",
       "463697     2.200768\n",
       "463698     4.651087\n",
       "463699    10.657756\n",
       "463700     0.081280\n",
       "463701     3.564758\n",
       "463702     4.914779\n",
       "463703     4.021182\n",
       "463704     5.211150\n",
       "463705    83.776955\n",
       "463706    -1.201683\n",
       "463707     6.123803\n",
       "463708   -10.538275\n",
       "463709     0.778395\n",
       "463710     5.399363\n",
       "463711     5.566216\n",
       "463712    -1.475149\n",
       "463713    84.141243\n",
       "463714    -1.593896\n",
       "463715     0.388263\n",
       "463716     7.003869\n",
       "463717     8.770353\n",
       "463718     0.196589\n",
       "463719     8.634667\n",
       "463720     1.114525\n",
       "463721     4.725365\n",
       "463722    96.633057\n",
       "463723    -1.441309\n",
       "Name: scalar_coupling_constant, Length: 463724, dtype: float64"
      ]
     },
     "execution_count": 28,
     "metadata": {},
     "output_type": "execute_result"
    }
   ],
   "source": [
    "train_y = pd.read_csv('validation_targets')\n",
    "train_y = train_y.drop(['id'], axis=1)['scalar_coupling_constant']\n",
    "train_y"
   ]
  },
  {
   "cell_type": "code",
   "execution_count": 29,
   "metadata": {
    "ExecuteTime": {
     "end_time": "2019-08-23T07:58:00.788163Z",
     "start_time": "2019-08-23T07:58:00.637467Z"
    }
   },
   "outputs": [
    {
     "name": "stdout",
     "output_type": "stream",
     "text": [
      "id,type\r\n",
      "0,0.0\r\n",
      "1,4.0\r\n",
      "2,1.0\r\n",
      "3,1.0\r\n",
      "4,5.0\r\n",
      "5,5.0\r\n",
      "6,5.0\r\n",
      "7,0.0\r\n",
      "8,4.0\r\n"
     ]
    }
   ],
   "source": [
    "!head validation_types"
   ]
  },
  {
   "cell_type": "code",
   "execution_count": 30,
   "metadata": {
    "ExecuteTime": {
     "end_time": "2019-08-23T07:58:00.926366Z",
     "start_time": "2019-08-23T07:58:00.791792Z"
    }
   },
   "outputs": [
    {
     "data": {
      "text/plain": [
       "0         0.0\n",
       "1         4.0\n",
       "2         1.0\n",
       "3         1.0\n",
       "4         5.0\n",
       "5         5.0\n",
       "6         5.0\n",
       "7         0.0\n",
       "8         4.0\n",
       "9         1.0\n",
       "10        5.0\n",
       "11        5.0\n",
       "12        5.0\n",
       "13        0.0\n",
       "14        4.0\n",
       "15        5.0\n",
       "16        5.0\n",
       "17        5.0\n",
       "18        4.0\n",
       "19        0.0\n",
       "20        1.0\n",
       "21        1.0\n",
       "22        4.0\n",
       "23        0.0\n",
       "24        1.0\n",
       "25        4.0\n",
       "26        0.0\n",
       "27        2.0\n",
       "28        4.0\n",
       "29        1.0\n",
       "         ... \n",
       "463694    6.0\n",
       "463695    4.0\n",
       "463696    0.0\n",
       "463697    4.0\n",
       "463698    6.0\n",
       "463699    6.0\n",
       "463700    5.0\n",
       "463701    5.0\n",
       "463702    6.0\n",
       "463703    6.0\n",
       "463704    4.0\n",
       "463705    0.0\n",
       "463706    4.0\n",
       "463707    6.0\n",
       "463708    1.0\n",
       "463709    5.0\n",
       "463710    6.0\n",
       "463711    6.0\n",
       "463712    4.0\n",
       "463713    0.0\n",
       "463714    4.0\n",
       "463715    6.0\n",
       "463716    5.0\n",
       "463717    6.0\n",
       "463718    4.0\n",
       "463719    6.0\n",
       "463720    6.0\n",
       "463721    4.0\n",
       "463722    0.0\n",
       "463723    4.0\n",
       "Name: type, Length: 463724, dtype: float64"
      ]
     },
     "execution_count": 30,
     "metadata": {},
     "output_type": "execute_result"
    }
   ],
   "source": [
    "types = pd.read_csv('validation_types')\n",
    "types = types.drop(['id'], axis=1)['type']\n",
    "types"
   ]
  },
  {
   "cell_type": "code",
   "execution_count": 50,
   "metadata": {
    "ExecuteTime": {
     "end_time": "2019-08-22T05:29:27.964937Z",
     "start_time": "2019-08-22T05:29:27.962301Z"
    }
   },
   "outputs": [],
   "source": [
    "#MAX_ROUNDS = 650\n",
    "#model = CatBoostRegressor(\n",
    "#    n_estimators=20000,\n",
    "#    loss_function='MAE',\n",
    "#    eval_metric='RMSE',\n",
    "#    #iterations = MAX_ROUNDS,\n",
    "#    cat_features=None,\n",
    "#    devices='0-3', task_type='GPU')"
   ]
  },
  {
   "cell_type": "code",
   "execution_count": 31,
   "metadata": {
    "ExecuteTime": {
     "end_time": "2019-08-23T07:58:00.934474Z",
     "start_time": "2019-08-23T07:58:00.929860Z"
    }
   },
   "outputs": [],
   "source": [
    "from sklearn.linear_model import LinearRegression, RANSACRegressor, TheilSenRegressor, ARDRegression\n",
    "#model = LinearRegression(fit_intercept=False)\n",
    "#model = RANSACRegressor()\n",
    "model = TheilSenRegressor()\n",
    "#model = ARDRegression()"
   ]
  },
  {
   "cell_type": "code",
   "execution_count": 10,
   "metadata": {
    "ExecuteTime": {
     "end_time": "2019-08-21T06:20:35.940784Z",
     "start_time": "2019-08-21T06:20:35.881755Z"
    }
   },
   "outputs": [],
   "source": [
    "from sklearn.ensemble import RandomForestRegressor\n",
    "model = RandomForestRegressor()"
   ]
  },
  {
   "cell_type": "code",
   "execution_count": 11,
   "metadata": {
    "ExecuteTime": {
     "end_time": "2019-08-21T06:20:36.388321Z",
     "start_time": "2019-08-21T06:20:36.382462Z"
    }
   },
   "outputs": [],
   "source": [
    "from sklearn.linear_model import SGDRegressor\n",
    "model = SGDRegressor(max_iter=1000, tol=1e-3)"
   ]
  },
  {
   "cell_type": "code",
   "execution_count": 12,
   "metadata": {
    "ExecuteTime": {
     "end_time": "2019-08-21T06:20:36.859449Z",
     "start_time": "2019-08-21T06:20:36.855452Z"
    }
   },
   "outputs": [],
   "source": [
    "from sklearn.neighbors import KNeighborsRegressor, RadiusNeighborsRegressor\n",
    "#model = KNeighborsRegressor(n_neighbors=20, weights='uniform', p=1)\n",
    "model = RadiusNeighborsRegressor(radius=2.0)"
   ]
  },
  {
   "cell_type": "code",
   "execution_count": 13,
   "metadata": {
    "ExecuteTime": {
     "end_time": "2019-08-21T06:20:37.371504Z",
     "start_time": "2019-08-21T06:20:37.366243Z"
    }
   },
   "outputs": [],
   "source": [
    "from sklearn.linear_model import  Lasso\n",
    "model = Lasso()"
   ]
  },
  {
   "cell_type": "code",
   "execution_count": 14,
   "metadata": {
    "ExecuteTime": {
     "end_time": "2019-08-21T06:20:38.145875Z",
     "start_time": "2019-08-21T06:20:38.140391Z"
    }
   },
   "outputs": [],
   "source": [
    "from sklearn.svm import SVR\n",
    "model = SVR()"
   ]
  },
  {
   "cell_type": "code",
   "execution_count": 32,
   "metadata": {
    "ExecuteTime": {
     "end_time": "2019-08-19T07:38:35.586331Z",
     "start_time": "2019-08-19T07:38:35.581016Z"
    }
   },
   "outputs": [],
   "source": [
    "from sklearn.ensemble import RandomForestRegressor\n",
    "model = RandomForestRegressor(n_estimators=200)"
   ]
  },
  {
   "cell_type": "code",
   "execution_count": 38,
   "metadata": {
    "ExecuteTime": {
     "end_time": "2019-08-19T07:44:08.157573Z",
     "start_time": "2019-08-19T07:44:08.153205Z"
    }
   },
   "outputs": [],
   "source": [
    "from sklearn.ensemble import ExtraTreesRegressor\n",
    "model = ExtraTreesRegressor(n_estimators=2000)"
   ]
  },
  {
   "cell_type": "code",
   "execution_count": 32,
   "metadata": {
    "ExecuteTime": {
     "end_time": "2019-08-23T07:58:00.945080Z",
     "start_time": "2019-08-23T07:58:00.937658Z"
    }
   },
   "outputs": [],
   "source": [
    "from sklearn.ensemble import VotingRegressor\n",
    "from sklearn.linear_model import LinearRegression\n",
    "from sklearn.neighbors import KNeighborsRegressor\n",
    "reg1 = KNeighborsRegressor(n_neighbors=20)\n",
    "reg2 = LinearRegression()\n",
    "reg3 = LinearRegression(fit_intercept=False)\n",
    "reg4 = RANSACRegressor()\n",
    "reg5 = TheilSenRegressor()\n",
    "\n",
    "#model = VotingRegressor(estimators=[('knr', reg1), ('lr', reg2), ('lr2', reg3), ('ransac', reg4), ('th', reg5)])\n",
    "model = VotingRegressor(estimators=[('knr', reg1), ('lr2', reg2), ('ransac', reg4), ('th', reg5)])\n",
    "\n"
   ]
  },
  {
   "cell_type": "code",
   "execution_count": 33,
   "metadata": {
    "ExecuteTime": {
     "end_time": "2019-08-23T07:58:00.951384Z",
     "start_time": "2019-08-23T07:58:00.948609Z"
    }
   },
   "outputs": [],
   "source": [
    "y = train_y\n",
    "X = train_x"
   ]
  },
  {
   "cell_type": "code",
   "execution_count": 34,
   "metadata": {
    "ExecuteTime": {
     "end_time": "2019-08-23T07:58:00.972980Z",
     "start_time": "2019-08-23T07:58:00.953434Z"
    }
   },
   "outputs": [
    {
     "data": {
      "text/plain": [
       "array([0., 1., 2., 3., 4., 5., 6., 7.])"
      ]
     },
     "execution_count": 34,
     "metadata": {},
     "output_type": "execute_result"
    }
   ],
   "source": [
    "np.unique(types.values)"
   ]
  },
  {
   "cell_type": "code",
   "execution_count": 35,
   "metadata": {
    "ExecuteTime": {
     "end_time": "2019-08-23T07:58:00.981346Z",
     "start_time": "2019-08-23T07:58:00.974976Z"
    }
   },
   "outputs": [],
   "source": [
    "def eval_lmae(gt, pred, types):\n",
    "    types = types.values.astype(np.int)\n",
    "    gt = np.asarray(gt)\n",
    "    pred = np.asarray(pred)    \n",
    "    loss = 0.\n",
    "    for type in np.unique(types):\n",
    "        mask = types == type\n",
    "        loss += np.log(np.mean(np.abs(gt[mask]-pred[mask])))\n",
    "    loss = loss / len(np.unique(types))\n",
    "    return loss\n"
   ]
  },
  {
   "cell_type": "code",
   "execution_count": 36,
   "metadata": {
    "ExecuteTime": {
     "end_time": "2019-08-23T08:06:13.137293Z",
     "start_time": "2019-08-23T07:58:00.984194Z"
    }
   },
   "outputs": [
    {
     "name": "stdout",
     "output_type": "stream",
     "text": [
      "\n",
      "Type 0\n",
      "\n",
      "Fold  0\n",
      "  LMAE =  -2.1737125171997267\n",
      "\n",
      "Type 1\n",
      "\n",
      "Fold  0\n",
      "  LMAE =  -3.6515177275890003\n",
      "\n",
      "Type 2\n",
      "\n",
      "Fold  0\n",
      "  LMAE =  -2.3224063050391117\n",
      "\n",
      "Type 3\n",
      "\n",
      "Fold  0\n",
      "  LMAE =  -3.563470468726458\n",
      "\n",
      "Type 4\n",
      "\n",
      "Fold  0\n",
      "  LMAE =  -3.2050831067843326\n",
      "\n",
      "Type 5\n",
      "\n",
      "Fold  0\n",
      "  LMAE =  -3.7464756165507342\n",
      "\n",
      "Type 6\n",
      "\n",
      "Fold  0\n",
      "  LMAE =  -3.0935200405893077\n",
      "\n",
      "Type 7\n",
      "\n",
      "Fold  0\n",
      "  LMAE =  -3.7439433619687503\n",
      "Final LMAE: -3.1875161430559276\n"
     ]
    }
   ],
   "source": [
    "# Run CV\n",
    "# https://www.kaggle.com/aharless/simple-catboost-cv-lb-281\n",
    "OPTIMIZE_ROUNDS = False\n",
    "y_test_pred = None\n",
    "y_test_pred = [None, None, None, None, None, None, None, None]\n",
    "\n",
    "K = 1\n",
    "loss = 0.\n",
    "for type in range(8):\n",
    "    print('\\nType', type)\n",
    "    #for i, (train_index, test_index) in enumerate(kf.split(train_x)):\n",
    "    for i, (train_index, test_index) in enumerate([(range(len(X)), range(len(y)))]):\n",
    "\n",
    "        # Create data for this fold\n",
    "        y_train, y_valid = y.iloc[train_index], y.iloc[test_index]\n",
    "        X_train, X_valid = X.iloc[train_index, :], X.iloc[test_index, :]\n",
    "        type_train, type_valid = types.iloc[train_index], types.iloc[\n",
    "            test_index]\n",
    "\n",
    "        y_train, y_valid, X_train, X_valid, type_train, type_valid = y_train[\n",
    "            type_train == type], y_valid[type_valid == type], X_train[\n",
    "                type_train == type], X_valid[type_valid == type], type_train[\n",
    "                    type_train == type], type_valid[type_valid == type]\n",
    "        print(\"\\nFold \", i)\n",
    "\n",
    "        # Run model for this fold\n",
    "        if OPTIMIZE_ROUNDS:\n",
    "            fit_model = model.fit(X_train,\n",
    "                                  y_train,\n",
    "                                  eval_set=(X_valid, y_valid),\n",
    "                                  use_best_model=True,\n",
    "                                  plot=True,\n",
    "                                  silent=True)\n",
    "            print(\"  N trees = \", model.tree_count_)\n",
    "        else:\n",
    "            fit_model = model.fit(X_train, y_train)\n",
    "\n",
    "        # Generate validation predictions for this fold\n",
    "        pred = fit_model.predict(X_valid)\n",
    "        #print(pred, y_valid)\n",
    "        loss += eval_lmae(y_valid, pred, type_valid)\n",
    "        print(\"  LMAE = \", eval_lmae(y_valid, pred, type_valid))\n",
    "        #break\n",
    "\n",
    "        #assert False\n",
    "        #print( \"  Gini = \", eval_gini(y_valid, pred) )\n",
    "        #y_valid_pred.iloc[test_index] = pred\n",
    "\n",
    "        # Accumulate test set predictions\n",
    "        if True:\n",
    "            if y_test_pred[type] is None:\n",
    "                y_test_pred[type] = fit_model.predict(test_x)\n",
    "            else:\n",
    "                y_test_pred[type] += fit_model.predict(test_x)\n",
    "\n",
    "    if True:\n",
    "        y_test_pred[type] /= K  # Average test set predictions\n",
    "    \n",
    "loss /= K\n",
    "loss /= 8\n",
    "print('Final LMAE:', loss)"
   ]
  },
  {
   "cell_type": "code",
   "execution_count": 20,
   "metadata": {
    "ExecuteTime": {
     "end_time": "2019-08-21T06:27:22.178078Z",
     "start_time": "2019-08-21T06:27:22.174020Z"
    }
   },
   "outputs": [],
   "source": [
    "#t  = pd.read_csv('train.csv')\n",
    "#type_index = pd.factorize(t['type'])[1]"
   ]
  },
  {
   "cell_type": "code",
   "execution_count": 37,
   "metadata": {
    "ExecuteTime": {
     "end_time": "2019-08-23T08:06:27.824288Z",
     "start_time": "2019-08-23T08:06:25.261687Z"
    }
   },
   "outputs": [
    {
     "data": {
      "text/plain": [
       "array([4, 0, 5, ..., 6, 4, 0])"
      ]
     },
     "execution_count": 37,
     "metadata": {},
     "output_type": "execute_result"
    }
   ],
   "source": [
    "type_index = {\n",
    "    '1JHC': 0,\n",
    "    '2JHH': 1,\n",
    "    '1JHN': 2,\n",
    "    '2JHN': 3,\n",
    "    '2JHC': 4,\n",
    "    '3JHH': 5,\n",
    "    '3JHC': 6,\n",
    "    '3JHN': 7\n",
    "}\n",
    "test_types = pd.read_csv('test.csv')['type']\n",
    "test_types_idx = []\n",
    "for value in test_types.values:\n",
    "    test_types_idx.append(type_index[value])\n",
    "test_types_idx = np.array(test_types_idx)\n",
    "test_types_idx"
   ]
  },
  {
   "cell_type": "code",
   "execution_count": 38,
   "metadata": {
    "ExecuteTime": {
     "end_time": "2019-08-23T08:06:30.196690Z",
     "start_time": "2019-08-23T08:06:27.826561Z"
    }
   },
   "outputs": [],
   "source": [
    "y_test_pred_list = y_test_pred\n",
    "y_test_pred = []\n",
    "\n",
    "for idx, type_idx in enumerate(test_types_idx):\n",
    "    y_test_pred.append(y_test_pred_list[type_idx][idx])\n",
    "y_test_pred = np.array(y_test_pred)\n"
   ]
  },
  {
   "cell_type": "code",
   "execution_count": 39,
   "metadata": {
    "ExecuteTime": {
     "end_time": "2019-08-23T08:06:30.203813Z",
     "start_time": "2019-08-23T08:06:30.199446Z"
    }
   },
   "outputs": [
    {
     "data": {
      "text/plain": [
       "array([ 16.72706506, 191.17759916,   5.13810026, ...,   1.91040599,\n",
       "         4.06977207, 120.04438985])"
      ]
     },
     "execution_count": 39,
     "metadata": {},
     "output_type": "execute_result"
    }
   ],
   "source": [
    "y_test_pred"
   ]
  },
  {
   "cell_type": "code",
   "execution_count": 40,
   "metadata": {
    "ExecuteTime": {
     "end_time": "2019-08-23T08:06:31.200560Z",
     "start_time": "2019-08-23T08:06:30.205787Z"
    }
   },
   "outputs": [
    {
     "data": {
      "text/html": [
       "<div>\n",
       "<style scoped>\n",
       "    .dataframe tbody tr th:only-of-type {\n",
       "        vertical-align: middle;\n",
       "    }\n",
       "\n",
       "    .dataframe tbody tr th {\n",
       "        vertical-align: top;\n",
       "    }\n",
       "\n",
       "    .dataframe thead th {\n",
       "        text-align: right;\n",
       "    }\n",
       "</style>\n",
       "<table border=\"1\" class=\"dataframe\">\n",
       "  <thead>\n",
       "    <tr style=\"text-align: right;\">\n",
       "      <th></th>\n",
       "      <th>id</th>\n",
       "      <th>scalar_coupling_constant</th>\n",
       "    </tr>\n",
       "  </thead>\n",
       "  <tbody>\n",
       "    <tr>\n",
       "      <th>0</th>\n",
       "      <td>4658147</td>\n",
       "      <td>15.684770</td>\n",
       "    </tr>\n",
       "    <tr>\n",
       "      <th>1</th>\n",
       "      <td>4658148</td>\n",
       "      <td>188.352219</td>\n",
       "    </tr>\n",
       "    <tr>\n",
       "      <th>2</th>\n",
       "      <td>4658149</td>\n",
       "      <td>6.846854</td>\n",
       "    </tr>\n",
       "    <tr>\n",
       "      <th>3</th>\n",
       "      <td>4658150</td>\n",
       "      <td>188.521500</td>\n",
       "    </tr>\n",
       "    <tr>\n",
       "      <th>4</th>\n",
       "      <td>4658151</td>\n",
       "      <td>15.910284</td>\n",
       "    </tr>\n",
       "  </tbody>\n",
       "</table>\n",
       "</div>"
      ],
      "text/plain": [
       "        id  scalar_coupling_constant\n",
       "0  4658147                 15.684770\n",
       "1  4658148                188.352219\n",
       "2  4658149                  6.846854\n",
       "3  4658150                188.521500\n",
       "4  4658151                 15.910284"
      ]
     },
     "execution_count": 40,
     "metadata": {},
     "output_type": "execute_result"
    }
   ],
   "source": [
    "df = pd.read_csv('%s' % subs[0])\n",
    "df.head()"
   ]
  },
  {
   "cell_type": "code",
   "execution_count": 41,
   "metadata": {
    "ExecuteTime": {
     "end_time": "2019-08-23T08:06:31.214779Z",
     "start_time": "2019-08-23T08:06:31.202484Z"
    }
   },
   "outputs": [],
   "source": [
    "df['scalar_coupling_constant'] = y_test_pred"
   ]
  },
  {
   "cell_type": "code",
   "execution_count": 42,
   "metadata": {
    "ExecuteTime": {
     "end_time": "2019-08-23T08:06:31.224926Z",
     "start_time": "2019-08-23T08:06:31.217408Z"
    }
   },
   "outputs": [
    {
     "data": {
      "text/html": [
       "<div>\n",
       "<style scoped>\n",
       "    .dataframe tbody tr th:only-of-type {\n",
       "        vertical-align: middle;\n",
       "    }\n",
       "\n",
       "    .dataframe tbody tr th {\n",
       "        vertical-align: top;\n",
       "    }\n",
       "\n",
       "    .dataframe thead th {\n",
       "        text-align: right;\n",
       "    }\n",
       "</style>\n",
       "<table border=\"1\" class=\"dataframe\">\n",
       "  <thead>\n",
       "    <tr style=\"text-align: right;\">\n",
       "      <th></th>\n",
       "      <th>id</th>\n",
       "      <th>scalar_coupling_constant</th>\n",
       "    </tr>\n",
       "  </thead>\n",
       "  <tbody>\n",
       "    <tr>\n",
       "      <th>0</th>\n",
       "      <td>4658147</td>\n",
       "      <td>16.727065</td>\n",
       "    </tr>\n",
       "    <tr>\n",
       "      <th>1</th>\n",
       "      <td>4658148</td>\n",
       "      <td>191.177599</td>\n",
       "    </tr>\n",
       "    <tr>\n",
       "      <th>2</th>\n",
       "      <td>4658149</td>\n",
       "      <td>5.138100</td>\n",
       "    </tr>\n",
       "    <tr>\n",
       "      <th>3</th>\n",
       "      <td>4658150</td>\n",
       "      <td>191.594165</td>\n",
       "    </tr>\n",
       "    <tr>\n",
       "      <th>4</th>\n",
       "      <td>4658151</td>\n",
       "      <td>16.542762</td>\n",
       "    </tr>\n",
       "  </tbody>\n",
       "</table>\n",
       "</div>"
      ],
      "text/plain": [
       "        id  scalar_coupling_constant\n",
       "0  4658147                 16.727065\n",
       "1  4658148                191.177599\n",
       "2  4658149                  5.138100\n",
       "3  4658150                191.594165\n",
       "4  4658151                 16.542762"
      ]
     },
     "execution_count": 42,
     "metadata": {},
     "output_type": "execute_result"
    }
   ],
   "source": [
    "df.head()"
   ]
  },
  {
   "cell_type": "code",
   "execution_count": 43,
   "metadata": {
    "ExecuteTime": {
     "end_time": "2019-08-23T08:06:36.006326Z",
     "start_time": "2019-08-23T08:06:35.990905Z"
    }
   },
   "outputs": [
    {
     "data": {
      "text/html": [
       "<div>\n",
       "<style scoped>\n",
       "    .dataframe tbody tr th:only-of-type {\n",
       "        vertical-align: middle;\n",
       "    }\n",
       "\n",
       "    .dataframe tbody tr th {\n",
       "        vertical-align: top;\n",
       "    }\n",
       "\n",
       "    .dataframe thead th {\n",
       "        text-align: right;\n",
       "    }\n",
       "</style>\n",
       "<table border=\"1\" class=\"dataframe\">\n",
       "  <thead>\n",
       "    <tr style=\"text-align: right;\">\n",
       "      <th></th>\n",
       "      <th>id</th>\n",
       "      <th>scalar_coupling_constant</th>\n",
       "    </tr>\n",
       "  </thead>\n",
       "  <tbody>\n",
       "    <tr>\n",
       "      <th>0</th>\n",
       "      <td>4658147</td>\n",
       "      <td>16.727065</td>\n",
       "    </tr>\n",
       "    <tr>\n",
       "      <th>1</th>\n",
       "      <td>4658148</td>\n",
       "      <td>191.177599</td>\n",
       "    </tr>\n",
       "    <tr>\n",
       "      <th>2</th>\n",
       "      <td>4658149</td>\n",
       "      <td>5.138100</td>\n",
       "    </tr>\n",
       "    <tr>\n",
       "      <th>3</th>\n",
       "      <td>4658150</td>\n",
       "      <td>191.594165</td>\n",
       "    </tr>\n",
       "    <tr>\n",
       "      <th>4</th>\n",
       "      <td>4658151</td>\n",
       "      <td>16.542762</td>\n",
       "    </tr>\n",
       "  </tbody>\n",
       "</table>\n",
       "</div>"
      ],
      "text/plain": [
       "        id  scalar_coupling_constant\n",
       "0  4658147                 16.727065\n",
       "1  4658148                191.177599\n",
       "2  4658149                  5.138100\n",
       "3  4658150                191.594165\n",
       "4  4658151                 16.542762"
      ]
     },
     "execution_count": 43,
     "metadata": {},
     "output_type": "execute_result"
    }
   ],
   "source": [
    "df.head()"
   ]
  },
  {
   "cell_type": "code",
   "execution_count": 48,
   "metadata": {
    "ExecuteTime": {
     "end_time": "2019-08-23T08:07:24.673068Z",
     "start_time": "2019-08-23T08:07:24.665263Z"
    }
   },
   "outputs": [
    {
     "data": {
      "text/plain": [
       "'LMAE_-3.1875161430559276-LinearRegressionByType-1fold'"
      ]
     },
     "execution_count": 48,
     "metadata": {},
     "output_type": "execute_result"
    }
   ],
   "source": [
    "sub_fname = 'LMAE_' + str(loss) + '-LinearRegressionByType-1fold'\n",
    "sub_fname"
   ]
  },
  {
   "cell_type": "code",
   "execution_count": 49,
   "metadata": {
    "ExecuteTime": {
     "end_time": "2019-08-23T08:07:41.392154Z",
     "start_time": "2019-08-23T08:07:29.108664Z"
    }
   },
   "outputs": [],
   "source": [
    "df.to_csv(sub_fname, index=False)"
   ]
  },
  {
   "cell_type": "code",
   "execution_count": 50,
   "metadata": {
    "ExecuteTime": {
     "end_time": "2019-08-23T08:07:54.601288Z",
     "start_time": "2019-08-23T08:07:54.593396Z"
    }
   },
   "outputs": [
    {
     "data": {
      "text/plain": [
       "'loss-5.7552val-2.9950 loss-4.9516val-3.0042 loss-5.9943val-2.7766 loss-4.0414val-2.7287 loss-4.9044val-2.5880 loss-4.9516val-2.8229 loss-5.6540val-3.0131 loss-5.1336val-3.0759 loss-5.5435val-3.0776 loss-3.5933val-3.0637'"
      ]
     },
     "execution_count": 50,
     "metadata": {},
     "output_type": "execute_result"
    }
   ],
   "source": [
    "comp = 'champs-scalar-coupling'\n",
    "m = ' '.join(subs)\n",
    "m"
   ]
  },
  {
   "cell_type": "code",
   "execution_count": 51,
   "metadata": {
    "ExecuteTime": {
     "end_time": "2019-08-23T08:08:09.278559Z",
     "start_time": "2019-08-23T08:08:03.356723Z"
    }
   },
   "outputs": [
    {
     "name": "stdout",
     "output_type": "stream",
     "text": [
      "100%|██████████████████████████████████████| 64.1M/64.1M [00:03<00:00, 20.2MB/s]\n",
      "Successfully submitted to Predicting Molecular Properties"
     ]
    }
   ],
   "source": [
    "!kaggle competitions submit -c {comp} -f {sub_fname} -m '{m}'"
   ]
  },
  {
   "cell_type": "code",
   "execution_count": 52,
   "metadata": {
    "ExecuteTime": {
     "end_time": "2019-08-23T08:09:12.271724Z",
     "start_time": "2019-08-23T08:08:11.482797Z"
    }
   },
   "outputs": [],
   "source": [
    "import time\n",
    "time.sleep(60)\n",
    "!kaggle competitions submissions -c {comp} -v > submissions-{comp}.csv"
   ]
  },
  {
   "cell_type": "code",
   "execution_count": 53,
   "metadata": {
    "ExecuteTime": {
     "end_time": "2019-08-23T08:09:12.292451Z",
     "start_time": "2019-08-23T08:09:12.277197Z"
    }
   },
   "outputs": [
    {
     "data": {
      "text/plain": [
       "-3.1860000000000004"
      ]
     },
     "execution_count": 53,
     "metadata": {},
     "output_type": "execute_result"
    }
   ],
   "source": [
    "submissions = pd.read_csv(f'submissions-{comp}.csv')\n",
    "submissions.iloc[0].publicScore"
   ]
  },
  {
   "cell_type": "code",
   "execution_count": null,
   "metadata": {},
   "outputs": [],
   "source": []
  }
 ],
 "metadata": {
  "kernelspec": {
   "display_name": "Python 3",
   "language": "python",
   "name": "python3"
  },
  "language_info": {
   "codemirror_mode": {
    "name": "ipython",
    "version": 3
   },
   "file_extension": ".py",
   "mimetype": "text/x-python",
   "name": "python",
   "nbconvert_exporter": "python",
   "pygments_lexer": "ipython3",
   "version": "3.7.1"
  }
 },
 "nbformat": 4,
 "nbformat_minor": 2
}
