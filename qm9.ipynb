{
 "cells": [
  {
   "cell_type": "code",
   "execution_count": 1,
   "metadata": {},
   "outputs": [],
   "source": [
    "import numpy as np\n",
    "from pathlib import Path\n",
    "import pandas as pd\n",
    "from tqdm import tqdm\n",
    "tqdm.pandas()"
   ]
  },
  {
   "cell_type": "code",
   "execution_count": null,
   "metadata": {
    "ExecuteTime": {
     "end_time": "2019-06-28T09:21:00.065664Z",
     "start_time": "2019-06-28T09:20:33.526Z"
    }
   },
   "outputs": [],
   "source": [
    "#wget https://springernature.figshare.com/ndownloader/files/3195389 -O dsgdb9nsd.xyz.tar.bz2\n",
    "#!ls dsgdb9nsd.xyz/ | while read i; do sed -i 's/*^/E/g' dsgdb9nsd.xyz/$i; done"
   ]
  },
  {
   "cell_type": "code",
   "execution_count": 2,
   "metadata": {},
   "outputs": [],
   "source": [
    "train_fname = Path('train.npz')\n",
    "try:\n",
    "    npzfile = np.load(train_fname)\n",
    "    m = npzfile['m']\n",
    "except:\n",
    "    assert False"
   ]
  },
  {
   "cell_type": "code",
   "execution_count": 3,
   "metadata": {},
   "outputs": [],
   "source": [
    "t = pd.read_csv('train.csv')"
   ]
  },
  {
   "cell_type": "code",
   "execution_count": 4,
   "metadata": {},
   "outputs": [],
   "source": [
    "m_map = pd.factorize(t['molecule_name'])[1]"
   ]
  },
  {
   "cell_type": "code",
   "execution_count": 5,
   "metadata": {},
   "outputs": [],
   "source": [
    "df = pd.DataFrame({'m': m_map[m]})"
   ]
  },
  {
   "cell_type": "code",
   "execution_count": 6,
   "metadata": {},
   "outputs": [
    {
     "data": {
      "text/html": [
       "<div>\n",
       "<style scoped>\n",
       "    .dataframe tbody tr th:only-of-type {\n",
       "        vertical-align: middle;\n",
       "    }\n",
       "\n",
       "    .dataframe tbody tr th {\n",
       "        vertical-align: top;\n",
       "    }\n",
       "\n",
       "    .dataframe thead th {\n",
       "        text-align: right;\n",
       "    }\n",
       "</style>\n",
       "<table border=\"1\" class=\"dataframe\">\n",
       "  <thead>\n",
       "    <tr style=\"text-align: right;\">\n",
       "      <th></th>\n",
       "      <th>m</th>\n",
       "    </tr>\n",
       "  </thead>\n",
       "  <tbody>\n",
       "    <tr>\n",
       "      <th>0</th>\n",
       "      <td>dsgdb9nsd_000001</td>\n",
       "    </tr>\n",
       "    <tr>\n",
       "      <th>1</th>\n",
       "      <td>dsgdb9nsd_000001</td>\n",
       "    </tr>\n",
       "    <tr>\n",
       "      <th>2</th>\n",
       "      <td>dsgdb9nsd_000001</td>\n",
       "    </tr>\n",
       "    <tr>\n",
       "      <th>3</th>\n",
       "      <td>dsgdb9nsd_000001</td>\n",
       "    </tr>\n",
       "    <tr>\n",
       "      <th>4</th>\n",
       "      <td>dsgdb9nsd_000002</td>\n",
       "    </tr>\n",
       "  </tbody>\n",
       "</table>\n",
       "</div>"
      ],
      "text/plain": [
       "                  m\n",
       "0  dsgdb9nsd_000001\n",
       "1  dsgdb9nsd_000001\n",
       "2  dsgdb9nsd_000001\n",
       "3  dsgdb9nsd_000001\n",
       "4  dsgdb9nsd_000002"
      ]
     },
     "execution_count": 6,
     "metadata": {},
     "output_type": "execute_result"
    }
   ],
   "source": [
    "#df = df[:100]\n",
    "df.head()"
   ]
  },
  {
   "cell_type": "code",
   "execution_count": 7,
   "metadata": {},
   "outputs": [
    {
     "name": "stderr",
     "output_type": "stream",
     "text": [
      "100%|██████████| 785836/785836 [42:46<00:00, 306.21it/s] \n"
     ]
    }
   ],
   "source": [
    "def apply(row):\n",
    "    fname = 'dsgdb9nsd.xyz/%s.xyz' % row['m']\n",
    "    zeros = np.zeros((1, 29), dtype=np.float32)\n",
    "    qm = pd.read_csv(fname,\n",
    "                     skiprows=2,\n",
    "                     nrows=int(open(fname).readline().rstrip()),\n",
    "                     sep='\\t',\n",
    "                     header=None)[[4]].values.T\n",
    "    zeros[:, :qm.shape[1]] = qm\n",
    "    return zeros\n",
    "\n",
    "\n",
    "df['x_qm9_mulliken'] = df.progress_apply(apply, axis=1)"
   ]
  },
  {
   "cell_type": "code",
   "execution_count": 8,
   "metadata": {},
   "outputs": [
    {
     "data": {
      "text/html": [
       "<div>\n",
       "<style scoped>\n",
       "    .dataframe tbody tr th:only-of-type {\n",
       "        vertical-align: middle;\n",
       "    }\n",
       "\n",
       "    .dataframe tbody tr th {\n",
       "        vertical-align: top;\n",
       "    }\n",
       "\n",
       "    .dataframe thead th {\n",
       "        text-align: right;\n",
       "    }\n",
       "</style>\n",
       "<table border=\"1\" class=\"dataframe\">\n",
       "  <thead>\n",
       "    <tr style=\"text-align: right;\">\n",
       "      <th></th>\n",
       "      <th>m</th>\n",
       "      <th>x_qm9_mulliken</th>\n",
       "    </tr>\n",
       "  </thead>\n",
       "  <tbody>\n",
       "    <tr>\n",
       "      <th>0</th>\n",
       "      <td>dsgdb9nsd_000001</td>\n",
       "      <td>[[-0.535689, 0.133921, 0.133922, 0.133923, 0.1...</td>\n",
       "    </tr>\n",
       "    <tr>\n",
       "      <th>1</th>\n",
       "      <td>dsgdb9nsd_000001</td>\n",
       "      <td>[[-0.535689, 0.133921, 0.133922, 0.133923, 0.1...</td>\n",
       "    </tr>\n",
       "    <tr>\n",
       "      <th>2</th>\n",
       "      <td>dsgdb9nsd_000001</td>\n",
       "      <td>[[-0.535689, 0.133921, 0.133922, 0.133923, 0.1...</td>\n",
       "    </tr>\n",
       "    <tr>\n",
       "      <th>3</th>\n",
       "      <td>dsgdb9nsd_000001</td>\n",
       "      <td>[[-0.535689, 0.133921, 0.133922, 0.133923, 0.1...</td>\n",
       "    </tr>\n",
       "    <tr>\n",
       "      <th>4</th>\n",
       "      <td>dsgdb9nsd_000002</td>\n",
       "      <td>[[-0.707143, 0.235712, 0.235712, 0.23572, 0.0,...</td>\n",
       "    </tr>\n",
       "  </tbody>\n",
       "</table>\n",
       "</div>"
      ],
      "text/plain": [
       "                  m                                     x_qm9_mulliken\n",
       "0  dsgdb9nsd_000001  [[-0.535689, 0.133921, 0.133922, 0.133923, 0.1...\n",
       "1  dsgdb9nsd_000001  [[-0.535689, 0.133921, 0.133922, 0.133923, 0.1...\n",
       "2  dsgdb9nsd_000001  [[-0.535689, 0.133921, 0.133922, 0.133923, 0.1...\n",
       "3  dsgdb9nsd_000001  [[-0.535689, 0.133921, 0.133922, 0.133923, 0.1...\n",
       "4  dsgdb9nsd_000002  [[-0.707143, 0.235712, 0.235712, 0.23572, 0.0,..."
      ]
     },
     "execution_count": 8,
     "metadata": {},
     "output_type": "execute_result"
    }
   ],
   "source": [
    "df.head()"
   ]
  },
  {
   "cell_type": "code",
   "execution_count": 9,
   "metadata": {},
   "outputs": [],
   "source": [
    "x_qm9_mulliken = df['x_qm9_mulliken'].values"
   ]
  },
  {
   "cell_type": "code",
   "execution_count": 10,
   "metadata": {},
   "outputs": [],
   "source": [
    "x_qm9_mulliken = np.array(x_qm9_mulliken.tolist()).astype(np.float32)\n",
    "np.save('x_qm9_mulliken.npy', x_qm9_mulliken)"
   ]
  },
  {
   "cell_type": "code",
   "execution_count": 13,
   "metadata": {},
   "outputs": [
    {
     "data": {
      "text/plain": [
       "(785836, 1, 29)"
      ]
     },
     "execution_count": 13,
     "metadata": {},
     "output_type": "execute_result"
    }
   ],
   "source": [
    "from functools import partial\n",
    "use_memmap = True\n",
    "load_fn = np.load if not use_memmap else partial(np.lib.format.open_memmap,\n",
    "                                                 mode='r')\n",
    "x_qm9_mulliken = load_fn('x_qm9_mulliken.npy')\n",
    "x_qm9_mulliken.shape"
   ]
  },
  {
   "cell_type": "code",
   "execution_count": 15,
   "metadata": {},
   "outputs": [
    {
     "name": "stdout",
     "output_type": "stream",
     "text": [
      "-rw-rw-r-- 1 ubuntu ubuntu 87M Jun 28 08:43 x_qm9_mulliken.npy\r\n"
     ]
    }
   ],
   "source": [
    "!ls -altrh x_qm9_mulliken.npy"
   ]
  },
  {
   "cell_type": "code",
   "execution_count": 19,
   "metadata": {},
   "outputs": [],
   "source": [
    "test_fname = Path('test.npz')\n",
    "try:\n",
    "    npzfile_test = np.load(test_fname)\n",
    "    m_test = npzfile_test['m']\n",
    "except:\n",
    "    assert False\n",
    "test = pd.read_csv('test.csv')\n",
    "m_map_test = pd.factorize(test['molecule_name'])[1]\n",
    "m_map_test\n",
    "df_test = pd.DataFrame({'m': m_map_test[m_test - 4658147]})"
   ]
  },
  {
   "cell_type": "code",
   "execution_count": 20,
   "metadata": {},
   "outputs": [
    {
     "data": {
      "text/html": [
       "<div>\n",
       "<style scoped>\n",
       "    .dataframe tbody tr th:only-of-type {\n",
       "        vertical-align: middle;\n",
       "    }\n",
       "\n",
       "    .dataframe tbody tr th {\n",
       "        vertical-align: top;\n",
       "    }\n",
       "\n",
       "    .dataframe thead th {\n",
       "        text-align: right;\n",
       "    }\n",
       "</style>\n",
       "<table border=\"1\" class=\"dataframe\">\n",
       "  <thead>\n",
       "    <tr style=\"text-align: right;\">\n",
       "      <th></th>\n",
       "      <th>m</th>\n",
       "    </tr>\n",
       "  </thead>\n",
       "  <tbody>\n",
       "    <tr>\n",
       "      <th>0</th>\n",
       "      <td>dsgdb9nsd_000004</td>\n",
       "    </tr>\n",
       "    <tr>\n",
       "      <th>1</th>\n",
       "      <td>dsgdb9nsd_000004</td>\n",
       "    </tr>\n",
       "    <tr>\n",
       "      <th>2</th>\n",
       "      <td>dsgdb9nsd_000015</td>\n",
       "    </tr>\n",
       "    <tr>\n",
       "      <th>3</th>\n",
       "      <td>dsgdb9nsd_000015</td>\n",
       "    </tr>\n",
       "    <tr>\n",
       "      <th>4</th>\n",
       "      <td>dsgdb9nsd_000015</td>\n",
       "    </tr>\n",
       "  </tbody>\n",
       "</table>\n",
       "</div>"
      ],
      "text/plain": [
       "                  m\n",
       "0  dsgdb9nsd_000004\n",
       "1  dsgdb9nsd_000004\n",
       "2  dsgdb9nsd_000015\n",
       "3  dsgdb9nsd_000015\n",
       "4  dsgdb9nsd_000015"
      ]
     },
     "execution_count": 20,
     "metadata": {},
     "output_type": "execute_result"
    }
   ],
   "source": [
    "df_test.head()"
   ]
  },
  {
   "cell_type": "code",
   "execution_count": 21,
   "metadata": {},
   "outputs": [
    {
     "name": "stderr",
     "output_type": "stream",
     "text": [
      "100%|██████████| 422550/422550 [23:08<00:00, 304.42it/s]\n"
     ]
    }
   ],
   "source": [
    "df_test['x_qm9_mulliken']=df_test.progress_apply(apply, axis=1)"
   ]
  },
  {
   "cell_type": "code",
   "execution_count": 22,
   "metadata": {},
   "outputs": [],
   "source": [
    "xt_qm9_mulliken = df_test['x_qm9_mulliken'].values"
   ]
  },
  {
   "cell_type": "code",
   "execution_count": 23,
   "metadata": {},
   "outputs": [],
   "source": [
    "xt_qm9_mulliken = np.array(xt_qm9_mulliken.tolist()).astype(np.float32)\n",
    "np.save('xt_qm9_mulliken.npy', xt_qm9_mulliken)"
   ]
  },
  {
   "cell_type": "code",
   "execution_count": 24,
   "metadata": {},
   "outputs": [
    {
     "data": {
      "text/plain": [
       "(422550, 1, 29)"
      ]
     },
     "execution_count": 24,
     "metadata": {},
     "output_type": "execute_result"
    }
   ],
   "source": [
    "from functools import partial\n",
    "use_memmap = True\n",
    "load_fn = np.load if not use_memmap else partial(np.lib.format.open_memmap, mode='r')\n",
    "xt_qm9_mulliken = load_fn('xt_qm9_mulliken.npy')\n",
    "xt_qm9_mulliken.shape"
   ]
  },
  {
   "cell_type": "code",
   "execution_count": 26,
   "metadata": {},
   "outputs": [
    {
     "name": "stdout",
     "output_type": "stream",
     "text": [
      "-rw-rw-r-- 1 ubuntu ubuntu 47M Jun 28 09:15 xt_qm9_mulliken.npy\r\n"
     ]
    }
   ],
   "source": [
    "!ls -altrh xt_qm9_mulliken.npy"
   ]
  },
  {
   "cell_type": "code",
   "execution_count": 27,
   "metadata": {},
   "outputs": [
    {
     "name": "stdout",
     "output_type": "stream",
     "text": [
      "https://s3-us-west-2.amazonaws.com/fyusion/temp//xt_qm9_mulliken.npy\r\n"
     ]
    }
   ],
   "source": [
    "!a3 xt_qm9_mulliken.npy"
   ]
  },
  {
   "cell_type": "code",
   "execution_count": 28,
   "metadata": {},
   "outputs": [
    {
     "name": "stdout",
     "output_type": "stream",
     "text": [
      "https://s3-us-west-2.amazonaws.com/fyusion/temp//x_qm9_mulliken.npy\r\n"
     ]
    }
   ],
   "source": [
    "!a3 x_qm9_mulliken.npy"
   ]
  },
  {
   "cell_type": "code",
   "execution_count": null,
   "metadata": {},
   "outputs": [],
   "source": []
  }
 ],
 "metadata": {
  "kernelspec": {
   "display_name": "Python 3",
   "language": "python",
   "name": "python3"
  }
 },
 "nbformat": 4,
 "nbformat_minor": 2
}
