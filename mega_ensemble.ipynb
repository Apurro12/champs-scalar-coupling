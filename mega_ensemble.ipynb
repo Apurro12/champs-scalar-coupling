{
 "cells": [
  {
   "cell_type": "code",
   "execution_count": 6,
   "metadata": {
    "ExecuteTime": {
     "end_time": "2019-08-22T10:57:14.387545Z",
     "start_time": "2019-08-22T10:57:13.886482Z"
    }
   },
   "outputs": [],
   "source": [
    "import pandas as pd"
   ]
  },
  {
   "cell_type": "code",
   "execution_count": 3,
   "metadata": {
    "ExecuteTime": {
     "end_time": "2019-08-22T10:56:41.448822Z",
     "start_time": "2019-08-22T10:56:41.444482Z"
    }
   },
   "outputs": [],
   "source": [
    "comp = 'champs-scalar-coupling'"
   ]
  },
  {
   "cell_type": "code",
   "execution_count": 4,
   "metadata": {
    "ExecuteTime": {
     "end_time": "2019-08-22T10:56:42.807854Z",
     "start_time": "2019-08-22T10:56:42.107042Z"
    }
   },
   "outputs": [],
   "source": [
    "import time\n",
    "!kaggle competitions submissions -c {comp} -v > submissions-{comp}.csv"
   ]
  },
  {
   "cell_type": "code",
   "execution_count": 10,
   "metadata": {
    "ExecuteTime": {
     "end_time": "2019-08-22T10:57:58.398942Z",
     "start_time": "2019-08-22T10:57:58.372009Z"
    }
   },
   "outputs": [
    {
     "data": {
      "text/html": [
       "<div>\n",
       "<style scoped>\n",
       "    .dataframe tbody tr th:only-of-type {\n",
       "        vertical-align: middle;\n",
       "    }\n",
       "\n",
       "    .dataframe tbody tr th {\n",
       "        vertical-align: top;\n",
       "    }\n",
       "\n",
       "    .dataframe thead th {\n",
       "        text-align: right;\n",
       "    }\n",
       "</style>\n",
       "<table border=\"1\" class=\"dataframe\">\n",
       "  <thead>\n",
       "    <tr style=\"text-align: right;\">\n",
       "      <th></th>\n",
       "      <th>fileName</th>\n",
       "      <th>date</th>\n",
       "      <th>description</th>\n",
       "      <th>status</th>\n",
       "      <th>publicScore</th>\n",
       "      <th>privateScore</th>\n",
       "    </tr>\n",
       "  </thead>\n",
       "  <tbody>\n",
       "    <tr>\n",
       "      <th>0</th>\n",
       "      <td>LMAE_-3.1736482840776974-LinearRegressionByTyp...</td>\n",
       "      <td>2019-08-22 05:36:33</td>\n",
       "      <td>None</td>\n",
       "      <td>complete</td>\n",
       "      <td>-3.173</td>\n",
       "      <td>None</td>\n",
       "    </tr>\n",
       "    <tr>\n",
       "      <th>1</th>\n",
       "      <td>loss-5.5435val-3.0776</td>\n",
       "      <td>2019-08-22 04:15:35</td>\n",
       "      <td>no QM9 no ext no max_atoms tta 1 _ext transfor...</td>\n",
       "      <td>complete</td>\n",
       "      <td>-3.090</td>\n",
       "      <td>None</td>\n",
       "    </tr>\n",
       "    <tr>\n",
       "      <th>2</th>\n",
       "      <td>2.730.LB_2.737.LB_2.742.LB_2.754.LB_2.788.LB_2...</td>\n",
       "      <td>2019-08-21 06:52:24</td>\n",
       "      <td>weighted based on score (score -2.7)</td>\n",
       "      <td>complete</td>\n",
       "      <td>-3.132</td>\n",
       "      <td>None</td>\n",
       "    </tr>\n",
       "    <tr>\n",
       "      <th>3</th>\n",
       "      <td>LMAE_-3.1653812481696733-LinearRegressionByTyp...</td>\n",
       "      <td>2019-08-21 06:28:03</td>\n",
       "      <td>None</td>\n",
       "      <td>complete</td>\n",
       "      <td>-3.164</td>\n",
       "      <td>None</td>\n",
       "    </tr>\n",
       "    <tr>\n",
       "      <th>4</th>\n",
       "      <td>loss-5.1336val-3.0759</td>\n",
       "      <td>2019-08-21 03:20:27</td>\n",
       "      <td>no QM9 no ext no max_atoms tta 1 _ext transfor...</td>\n",
       "      <td>complete</td>\n",
       "      <td>-3.087</td>\n",
       "      <td>None</td>\n",
       "    </tr>\n",
       "    <tr>\n",
       "      <th>5</th>\n",
       "      <td>LMAE_-3.1362145938719888-StackingRegressor-1fo...</td>\n",
       "      <td>2019-08-19 17:05:40</td>\n",
       "      <td>None</td>\n",
       "      <td>complete</td>\n",
       "      <td>-3.101</td>\n",
       "      <td>None</td>\n",
       "    </tr>\n",
       "    <tr>\n",
       "      <th>6</th>\n",
       "      <td>LMAE_-3.1334477918901715-LinearRegressionByTyp...</td>\n",
       "      <td>2019-08-19 11:33:11</td>\n",
       "      <td>None</td>\n",
       "      <td>complete</td>\n",
       "      <td>-3.105</td>\n",
       "      <td>None</td>\n",
       "    </tr>\n",
       "    <tr>\n",
       "      <th>7</th>\n",
       "      <td>L3-ens</td>\n",
       "      <td>2019-08-19 10:56:19</td>\n",
       "      <td>None</td>\n",
       "      <td>complete</td>\n",
       "      <td>-3.130</td>\n",
       "      <td>None</td>\n",
       "    </tr>\n",
       "    <tr>\n",
       "      <th>8</th>\n",
       "      <td>LMAE_-3.1328115396465868-LinearRegressionByTyp...</td>\n",
       "      <td>2019-08-19 10:07:14</td>\n",
       "      <td>None</td>\n",
       "      <td>complete</td>\n",
       "      <td>-3.127</td>\n",
       "      <td>None</td>\n",
       "    </tr>\n",
       "    <tr>\n",
       "      <th>9</th>\n",
       "      <td>LMAE_-3.1310856692519007-LinearRegressionByTyp...</td>\n",
       "      <td>2019-08-19 08:01:18</td>\n",
       "      <td>None</td>\n",
       "      <td>complete</td>\n",
       "      <td>-3.131</td>\n",
       "      <td>None</td>\n",
       "    </tr>\n",
       "    <tr>\n",
       "      <th>10</th>\n",
       "      <td>2.730.LB_2.737.LB_2.742.LB_2.754.LB_2.788.LB_2...</td>\n",
       "      <td>2019-08-18 17:11:46</td>\n",
       "      <td>weighted based on score (score -2.7)</td>\n",
       "      <td>complete</td>\n",
       "      <td>-3.111</td>\n",
       "      <td>None</td>\n",
       "    </tr>\n",
       "    <tr>\n",
       "      <th>11</th>\n",
       "      <td>LMAE_-3.1253554463035638-LinearRegressionByTyp...</td>\n",
       "      <td>2019-08-18 17:10:15</td>\n",
       "      <td>None</td>\n",
       "      <td>complete</td>\n",
       "      <td>-3.128</td>\n",
       "      <td>None</td>\n",
       "    </tr>\n",
       "    <tr>\n",
       "      <th>12</th>\n",
       "      <td>loss-5.6540val-3.0131</td>\n",
       "      <td>2019-08-18 16:56:57</td>\n",
       "      <td>no QM9 no ext no max_atoms tta 1 _ext transfor...</td>\n",
       "      <td>complete</td>\n",
       "      <td>-3.023</td>\n",
       "      <td>None</td>\n",
       "    </tr>\n",
       "    <tr>\n",
       "      <th>13</th>\n",
       "      <td>LMAE_-3.121969233506317-LinearRegressionByType...</td>\n",
       "      <td>2019-08-15 11:30:41</td>\n",
       "      <td>None</td>\n",
       "      <td>complete</td>\n",
       "      <td>-3.125</td>\n",
       "      <td>None</td>\n",
       "    </tr>\n",
       "    <tr>\n",
       "      <th>14</th>\n",
       "      <td>LMAE_-3.1194852796689956-LinearRegressionByTyp...</td>\n",
       "      <td>2019-08-14 14:58:14</td>\n",
       "      <td>None</td>\n",
       "      <td>complete</td>\n",
       "      <td>-3.116</td>\n",
       "      <td>None</td>\n",
       "    </tr>\n",
       "    <tr>\n",
       "      <th>15</th>\n",
       "      <td>LMAE_-3.1002547522051036-LinearRegressionByTyp...</td>\n",
       "      <td>2019-08-14 14:46:29</td>\n",
       "      <td>None</td>\n",
       "      <td>complete</td>\n",
       "      <td>-3.115</td>\n",
       "      <td>None</td>\n",
       "    </tr>\n",
       "    <tr>\n",
       "      <th>16</th>\n",
       "      <td>LMAE_-3.0959219850845607-LinearRegressionByTyp...</td>\n",
       "      <td>2019-08-14 12:51:46</td>\n",
       "      <td>None</td>\n",
       "      <td>complete</td>\n",
       "      <td>-3.110</td>\n",
       "      <td>None</td>\n",
       "    </tr>\n",
       "    <tr>\n",
       "      <th>17</th>\n",
       "      <td>2.730.LB_2.737.LB_2.742.LB_2.754.LB_2.788.LB_2...</td>\n",
       "      <td>2019-08-10 18:49:01</td>\n",
       "      <td>weighted based on score (score -2.7)</td>\n",
       "      <td>complete</td>\n",
       "      <td>-3.110</td>\n",
       "      <td>None</td>\n",
       "    </tr>\n",
       "    <tr>\n",
       "      <th>18</th>\n",
       "      <td>LMAE_-3.08930222716758-LinearRegressionByType-...</td>\n",
       "      <td>2019-08-10 14:17:44</td>\n",
       "      <td>None</td>\n",
       "      <td>complete</td>\n",
       "      <td>-3.108</td>\n",
       "      <td>None</td>\n",
       "    </tr>\n",
       "  </tbody>\n",
       "</table>\n",
       "</div>"
      ],
      "text/plain": [
       "                                             fileName                 date  \\\n",
       "0   LMAE_-3.1736482840776974-LinearRegressionByTyp...  2019-08-22 05:36:33   \n",
       "1                               loss-5.5435val-3.0776  2019-08-22 04:15:35   \n",
       "2   2.730.LB_2.737.LB_2.742.LB_2.754.LB_2.788.LB_2...  2019-08-21 06:52:24   \n",
       "3   LMAE_-3.1653812481696733-LinearRegressionByTyp...  2019-08-21 06:28:03   \n",
       "4                               loss-5.1336val-3.0759  2019-08-21 03:20:27   \n",
       "5   LMAE_-3.1362145938719888-StackingRegressor-1fo...  2019-08-19 17:05:40   \n",
       "6   LMAE_-3.1334477918901715-LinearRegressionByTyp...  2019-08-19 11:33:11   \n",
       "7                                              L3-ens  2019-08-19 10:56:19   \n",
       "8   LMAE_-3.1328115396465868-LinearRegressionByTyp...  2019-08-19 10:07:14   \n",
       "9   LMAE_-3.1310856692519007-LinearRegressionByTyp...  2019-08-19 08:01:18   \n",
       "10  2.730.LB_2.737.LB_2.742.LB_2.754.LB_2.788.LB_2...  2019-08-18 17:11:46   \n",
       "11  LMAE_-3.1253554463035638-LinearRegressionByTyp...  2019-08-18 17:10:15   \n",
       "12                              loss-5.6540val-3.0131  2019-08-18 16:56:57   \n",
       "13  LMAE_-3.121969233506317-LinearRegressionByType...  2019-08-15 11:30:41   \n",
       "14  LMAE_-3.1194852796689956-LinearRegressionByTyp...  2019-08-14 14:58:14   \n",
       "15  LMAE_-3.1002547522051036-LinearRegressionByTyp...  2019-08-14 14:46:29   \n",
       "16  LMAE_-3.0959219850845607-LinearRegressionByTyp...  2019-08-14 12:51:46   \n",
       "17  2.730.LB_2.737.LB_2.742.LB_2.754.LB_2.788.LB_2...  2019-08-10 18:49:01   \n",
       "18  LMAE_-3.08930222716758-LinearRegressionByType-...  2019-08-10 14:17:44   \n",
       "\n",
       "                                          description    status  publicScore  \\\n",
       "0                                                None  complete       -3.173   \n",
       "1   no QM9 no ext no max_atoms tta 1 _ext transfor...  complete       -3.090   \n",
       "2                weighted based on score (score -2.7)  complete       -3.132   \n",
       "3                                                None  complete       -3.164   \n",
       "4   no QM9 no ext no max_atoms tta 1 _ext transfor...  complete       -3.087   \n",
       "5                                                None  complete       -3.101   \n",
       "6                                                None  complete       -3.105   \n",
       "7                                                None  complete       -3.130   \n",
       "8                                                None  complete       -3.127   \n",
       "9                                                None  complete       -3.131   \n",
       "10               weighted based on score (score -2.7)  complete       -3.111   \n",
       "11                                               None  complete       -3.128   \n",
       "12  no QM9 no ext no max_atoms tta 1 _ext transfor...  complete       -3.023   \n",
       "13                                               None  complete       -3.125   \n",
       "14                                               None  complete       -3.116   \n",
       "15                                               None  complete       -3.115   \n",
       "16                                               None  complete       -3.110   \n",
       "17               weighted based on score (score -2.7)  complete       -3.110   \n",
       "18                                               None  complete       -3.108   \n",
       "\n",
       "   privateScore  \n",
       "0          None  \n",
       "1          None  \n",
       "2          None  \n",
       "3          None  \n",
       "4          None  \n",
       "5          None  \n",
       "6          None  \n",
       "7          None  \n",
       "8          None  \n",
       "9          None  \n",
       "10         None  \n",
       "11         None  \n",
       "12         None  \n",
       "13         None  \n",
       "14         None  \n",
       "15         None  \n",
       "16         None  \n",
       "17         None  \n",
       "18         None  "
      ]
     },
     "execution_count": 10,
     "metadata": {},
     "output_type": "execute_result"
    }
   ],
   "source": [
    "submissions = pd.read_csv(f'submissions-{comp}.csv')\n",
    "submissions.loc[submissions.publicScore<-3]"
   ]
  },
  {
   "cell_type": "code",
   "execution_count": 11,
   "metadata": {
    "ExecuteTime": {
     "end_time": "2019-08-22T11:00:47.349579Z",
     "start_time": "2019-08-22T11:00:46.668547Z"
    }
   },
   "outputs": [
    {
     "name": "stdout",
     "output_type": "stream",
     "text": [
      "  % Total    % Received % Xferd  Average Speed   Time    Time     Time  Current\n",
      "                                 Dload  Upload   Total   Spent    Left  Speed\n",
      "100  1511    0  1511    0     0   4259      0 --:--:-- --:--:-- --:--:--  4256\n"
     ]
    }
   ],
   "source": [
    "!curl 'https://www.kaggle.com/c/14313/submissions.json?sortBy=date&group=successful&page=1&pageSize=20' -H 'accept-encoding: gzip, deflate, br' -H 'accept-language: en-GB,en;q=0.9,en-US;q=0.8,ru;q=0.7,be;q=0.6' -H 'user-agent: Mozilla/5.0 (X11; Linux x86_64) AppleWebKit/537.36 (KHTML, like Gecko) Chrome/75.0.3770.142 Safari/537.36' -H 'accept: */*' -H 'referer: https://www.kaggle.com/c/champs-scalar-coupling/submissions' -H 'authority: www.kaggle.com' -H 'cookie: _ga=GA1.2.1447921769.1550235093; _fbp=fb.1.1555087926667.744955018; intercom-id-koj6gxx6=39d8f002-c484-4380-9582-74318de3757c; CSRF-TOKEN=CfDJ8LdUzqlsSWBPr4Ce3rb9VL8kezePLmSU17wNafw3OzNn5W5ikRyApPBF1F6Z7CGuC9_q1MjhEVNIrwxQWjrv2YHE5kcO2_QcixEFXrd-XTn15Eozo0YbDQkFMFToiawp8IXr_p6AZEDPM9SdGi-BQ4s; GCLB=CLKUhvT2tpvotgE; _gaexp=GAX1.2.UBHXFASnTVOKSguMuh4U-A.18160.0; .ASPXAUTH=6BDDEA2349FDD00F4BFD7D62D716668B95BA0CDE96117B3870610EB87C7DF70052C0E3015DEAAC9E7399392D84F082FE49E88A0D28FC7E3C9CE14D06C55DE885B9D2EDF0BB1920275CA5E640B6B4A549149A384F; ka_sessionid=ba1957c4158d7bdc5ebf9ac7a8d1a782655ee5d5; _gid=GA1.2.1708174021.1566115470; intercom-session-koj6gxx6=RHB1THdUT01JNmhpb1JmeWphOUE2elhGYng5Qm53TmdMZWY4YyttTlEwbzlLUmIwUjI2ZFJjVzhNZDA2d3Avdy0tZjVPQUcxM1BTbFcrb1Z6aUIwN1prQT09--1aa89f47bf85224fe9cb868988b510b137a27b85; XSRF-TOKEN=CfDJ8LdUzqlsSWBPr4Ce3rb9VL8tWjrQ9hlHqPJTIp_2kjGZtsy2KfYJ0VL9fhJRiWx4UoT-xheqaaPOM8j61blCIi9YNT7EeGPSHcKtSFsIlO78ERbBYWBVDjQVpWLQXap4XmpQ8KoegtG1GrKY7rSE55jpqqEXzEruNfXwT0Gm8nW5Z_Takq0su4DNkpHMCfpx_Q' --compressed -o subs.json"
   ]
  },
  {
   "cell_type": "code",
   "execution_count": 12,
   "metadata": {
    "ExecuteTime": {
     "end_time": "2019-08-22T11:00:56.346295Z",
     "start_time": "2019-08-22T11:00:56.226999Z"
    }
   },
   "outputs": [
    {
     "name": "stdout",
     "output_type": "stream",
     "text": [
      "[{\"id\":12217237,\"name\":\"LMAE_-3.1736482840776974-LinearRegressionByType-1foldloss-5.7552val-2.9950loss-4.9516val-3.0042loss-5.9943val-2.7766loss-4.0414val-2.7287loss-4.9044val-2.5880loss-4.9516val-2.8229loss-5.6540val-3.0131loss-5.1336val-3.0759loss-5.5435val-3.0776\",\"contentLength\":67166169,\"details\":null,\"url\":\"/submissions/12217237/12217237.raw\",\"teamName\":\"🤖 Quantum Uncertainty 🤖\",\"date\":\"2019-08-22T05:36:33.137Z\",\"privateScore\":null,\"publicScore\":\"-3.173\",\"isSelected\":false,\"status\":\"complete\",\"version\":null,\"latestVersion\":null,\"errorDetails\":null,\"submittedByUrl\":\"/pavelgonchar\",\"submittedBy\":\"Pavel Hanchar\",\"type\":\"standard\",\"isAfterDeadline\":false,\"syncRerunState\":null},{\"id\":12215911,\"name\":\"loss-5.5435val-3.0776\",\"contentLength\":67122269,\"details\":\"no QM9 no ext no max_atoms tta 1 _ext transformer + attn no scale + 1024\",\"url\":\"/submissions/12215911/12215911.raw\",\"teamName\":\"🤖 Quantum Uncertainty 🤖\",\"date\":\"2019-08-22T04:15:35.153Z\",\"privateScore\":null,\"publicScore\":\"-3.090\",\"isSelected\":false,\"status\":\"complete\",\"version\":null,\"latestVersion\":null,\"errorDetails\":null,\"submittedByUrl\":\"/pavelgonchar\",\"submittedBy\":\"Pavel Hanchar\",\"type\":\"standard\",\"isAfterDeadline\":false,\"syncRerunState\":null},{\"id\":12204013,\"name\":\"2.730.LB_2.737.LB_2.742.LB_2.754.LB_2.788.LB_2.840.LB_3.014.LB_3.023.LB_3.087.LB\",\"contentLength\":67165443,\"details\":\"weighted based on score (score -2.7)\",\"url\":\"/submissions/12204013/12204013.raw\",\"teamName\":\"🤖 Quantum Uncertainty 🤖\",\"date\":\"2019-08-21T06:52:24.84Z\",\"privateScore\":null,\"publicScore\":\"-3.132\",\"isSelected\":false,\"status\":\"complete\",\"version\":null,\"latestVersion\":null,\"errorDetails\":null,\"submittedByUrl\":\"/pavelgonchar\",\"submittedBy\":\"Pavel Hanchar\",\"type\":\"standard\",\"isAfterDeadline\":false,\"syncRerunState\":null},{\"id\":12203752,\"name\":\"LMAE_-3.1653812481696733-LinearRegressionByType-1foldloss-5.7552val-2.9950loss-4.9516val-3.0042loss-5.9943val-2.7766loss-4.0414val-2.7287loss-4.9044val-2.5880loss-4.9516val-2.8229loss-5.6540val-3.0131loss-5.1336val-3.0759\",\"contentLength\":67166433,\"details\":null,\"url\":\"/submissions/12203752/12203752.raw\",\"teamName\":\"🤖 Quantum Uncertainty 🤖\",\"date\":\"2019-08-21T06:28:03.967Z\",\"privateScore\":null,\"publicScore\":\"-3.164\",\"isSelected\":false,\"status\":\"complete\",\"version\":null,\"latestVersion\":null,\"errorDetails\":null,\"submittedByUrl\":\"/pavelgonchar\",\"submittedBy\":\"Pavel Hanchar\",\"type\":\"standard\",\"isAfterDeadline\":false,\"syncRerunState\":null},{\"id\":12202147,\"name\":\"loss-5.1336val-3.0759\",\"contentLength\":67120469,\"details\":\"no QM9 no ext no max_atoms tta 1 _ext transformer + attn no scale + 1024 swish\",\"url\":\"/submissions/12202147/12202147.raw\",\"teamName\":\"🤖 Quantum Uncertainty 🤖\",\"date\":\"2019-08-21T03:20:27.31Z\",\"privateScore\":null,\"publicScore\":\"-3.087\",\"isSelected\":false,\"status\":\"complete\",\"version\":null,\"latestVersion\":null,\"errorDetails\":null,\"submittedByUrl\":\"/pavelgonchar\",\"submittedBy\":\"Pavel Hanchar\",\"type\":\"standard\",\"isAfterDeadline\":false,\"syncRerunState\":null},{\"id\":12185917,\"name\":\"LMAE_-3.1362145938719888-StackingRegressor-1foldloss-5.7552val-2.9950loss-4.9516val-3.0042loss-5.9943val-2.7766loss-4.0414val-2.7287loss-4.9044val-2.5880loss-4.9516val-2.8229loss-5.6540val-3.0131\",\"contentLength\":67167913,\"details\":null,\"url\":\"/submissions/12185917/12185917.raw\",\"teamName\":\"🤖 Quantum Uncertainty 🤖\",\"date\":\"2019-08-19T17:05:40.983Z\",\"privateScore\":null,\"publicScore\":\"-3.101\",\"isSelected\":false,\"status\":\"complete\",\"version\":null,\"latestVersion\":null,\"errorDetails\":null,\"submittedByUrl\":\"/pavelgonchar\",\"submittedBy\":\"Pavel Hanchar\",\"type\":\"standard\",\"isAfterDeadline\":false,\"syncRerunState\":null},{\"id\":12182683,\"name\":\"LMAE_-3.1334477918901715-LinearRegressionByType-1foldloss-5.7552val-2.9950loss-4.9516val-3.0042loss-5.9943val-2.7766loss-4.0414val-2.7287loss-4.9044val-2.5880loss-4.9516val-2.8229loss-5.6540val-3.0131\",\"contentLength\":67164650,\"details\":null,\"url\":\"/submissions/12182683/12182683.raw\",\"teamName\":\"🤖 Quantum Uncertainty 🤖\",\"date\":\"2019-08-19T11:33:11.17Z\",\"privateScore\":null,\"publicScore\":\"-3.105\",\"isSelected\":false,\"status\":\"complete\",\"version\":null,\"latestVersion\":null,\"errorDetails\":null,\"submittedByUrl\":\"/pavelgonchar\",\"submittedBy\":\"Pavel Hanchar\",\"type\":\"standard\",\"isAfterDeadline\":false,\"syncRerunState\":null},{\"id\":12182365,\"name\":\"L3-ens\",\"contentLength\":67165378,\"details\":null,\"url\":\"/submissions/12182365/12182365.raw\",\"teamName\":\"🤖 Quantum Uncertainty 🤖\",\"date\":\"2019-08-19T10:56:19.37Z\",\"privateScore\":null,\"publicScore\":\"-3.130\",\"isSelected\":false,\"status\":\"complete\",\"version\":null,\"latestVersion\":null,\"errorDetails\":null,\"submittedByUrl\":\"/pavelgonchar\",\"submittedBy\":\"Pavel Hanchar\",\"type\":\"standard\",\"isAfterDeadline\":false,\"syncRerunState\":null},{\"id\":12181936,\"name\":\"LMAE_-3.1328115396465868-LinearRegressionByType-1foldloss-5.7552val-2.9950loss-4.9516val-3.0042loss-5.9943val-2.7766loss-4.0414val-2.7287loss-4.9044val-2.5880loss-4.9516val-2.8229loss-5.6540val-3.0131\",\"contentLength\":67164912,\"details\":null,\"url\":\"/submissions/12181936/12181936.raw\",\"teamName\":\"🤖 Quantum Uncertainty 🤖\",\"date\":\"2019-08-19T10:07:14.53Z\",\"privateScore\":null,\"publicScore\":\"-3.127\",\"isSelected\":false,\"status\":\"complete\",\"version\":null,\"latestVersion\":null,\"errorDetails\":null,\"submittedByUrl\":\"/pavelgonchar\",\"submittedBy\":\"Pavel Hanchar\",\"type\":\"standard\",\"isAfterDeadline\":false,\"syncRerunState\":null},{\"id\":12180749,\"name\":\"LMAE_-3.1310856692519007-LinearRegressionByType-1foldloss-5.7552val-2.9950loss-4.9516val-3.0042loss-5.9943val-2.7766loss-4.0414val-2.7287loss-4.9044val-2.5880loss-4.9516val-2.8229loss-5.6540val-3.0131\",\"contentLength\":67166374,\"details\":null,\"url\":\"/submissions/12180749/12180749.raw\",\"teamName\":\"🤖 Quantum Uncertainty 🤖\",\"date\":\"2019-08-19T08:01:18.81Z\",\"privateScore\":null,\"publicScore\":\"-3.131\",\"isSelected\":false,\"status\":\"complete\",\"version\":null,\"latestVersion\":null,\"errorDetails\":null,\"submittedByUrl\":\"/pavelgonchar\",\"submittedBy\":\"Pavel Hanchar\",\"type\":\"standard\",\"isAfterDeadline\":false,\"syncRerunState\":null},{\"id\":12174255,\"name\":\"2.730.LB_2.737.LB_2.742.LB_2.754.LB_2.788.LB_2.840.LB_3.014.LB_3.023.LB\",\"contentLength\":67164796,\"details\":\"weighted based on score (score -2.7)\",\"url\":\"/submissions/12174255/12174255.raw\",\"teamName\":\"🤖 Quantum Uncertainty 🤖\",\"date\":\"2019-08-18T17:11:46.967Z\",\"privateScore\":null,\"publicScore\":\"-3.111\",\"isSelected\":false,\"status\":\"complete\",\"version\":null,\"latestVersion\":null,\"errorDetails\":null,\"submittedByUrl\":\"/pavelgonchar\",\"submittedBy\":\"Pavel Hanchar\",\"type\":\"standard\",\"isAfterDeadline\":false,\"syncRerunState\":null},{\"id\":12174243,\"name\":\"LMAE_-3.1253554463035638-LinearRegressionByType-1foldloss-5.7552val-2.9950loss-4.9516val-3.0042loss-5.9943val-2.7766loss-4.0414val-2.7287loss-4.9044val-2.5880loss-4.9516val-2.8229loss-5.6540val-3.0131\",\"contentLength\":67166646,\"details\":null,\"url\":\"/submissions/12174243/12174243.raw\",\"teamName\":\"🤖 Quantum Uncertainty 🤖\",\"date\":\"2019-08-18T17:10:15.903Z\",\"privateScore\":null,\"publicScore\":\"-3.128\",\"isSelected\":false,\"status\":\"complete\",\"version\":null,\"latestVersion\":null,\"errorDetails\":null,\"submittedByUrl\":\"/pavelgonchar\",\"submittedBy\":\"Pavel Hanchar\",\"type\":\"standard\",\"isAfterDeadline\":false,\"syncRerunState\":null},{\"id\":12174149,\"name\":\"loss-5.6540val-3.0131\",\"contentLength\":67122016,\"details\":\"no QM9 no ext no max_atoms tta 1 _ext transformer + attn no scale + 1024\",\"url\":\"/submissions/12174149/12174149.raw\",\"teamName\":\"🤖 Quantum Uncertainty 🤖\",\"date\":\"2019-08-18T16:56:57.933Z\",\"privateScore\":null,\"publicScore\":\"-3.023\",\"isSelected\":false,\"status\":\"complete\",\"version\":null,\"latestVersion\":null,\"errorDetails\":null,\"submittedByUrl\":\"/pavelgonchar\",\"submittedBy\":\"Pavel Hanchar\",\"type\":\"standard\",\"isAfterDeadline\":false,\"syncRerunState\":null},{\"id\":12138010,\"name\":\"LMAE_-3.121969233506317-LinearRegressionByType-1foldloss-5.7552val-2.9950loss-4.9516val-3.0042loss-5.9943val-2.7766loss-4.0414val-2.7287loss-4.9044val-2.5880loss-4.9516val-2.8229\",\"contentLength\":67166271,\"details\":null,\"url\":\"/submissions/12138010/12138010.raw\",\"teamName\":\"🤖 Quantum Uncertainty 🤖\",\"date\":\"2019-08-15T11:30:41.39Z\",\"privateScore\":null,\"publicScore\":\"-3.125\",\"isSelected\":false,\"status\":\"complete\",\"version\":null,\"latestVersion\":null,\"errorDetails\":null,\"submittedByUrl\":\"/pavelgonchar\",\"submittedBy\":\"Pavel Hanchar\",\"type\":\"standard\",\"isAfterDeadline\":false,\"syncRerunState\":null},{\"id\":12127933,\"name\":\"LMAE_-3.1194852796689956-LinearRegressionByType-1foldloss-5.7552val-2.9950loss-4.9516val-3.0042loss-5.9943val-2.7766loss-4.0414val-2.7287loss-4.9044val-2.5880loss-4.9516val-2.8229\",\"contentLength\":67166779,\"details\":null,\"url\":\"/submissions/12127933/12127933.raw\",\"teamName\":\"🤖 Quantum Uncertainty 🤖\",\"date\":\"2019-08-14T14:58:14.86Z\",\"privateScore\":null,\"publicScore\":\"-3.116\",\"isSelected\":false,\"status\":\"complete\",\"version\":null,\"latestVersion\":null,\"errorDetails\":null,\"submittedByUrl\":\"/pavelgonchar\",\"submittedBy\":\"Pavel Hanchar\",\"type\":\"standard\",\"isAfterDeadline\":false,\"syncRerunState\":null},{\"id\":12127807,\"name\":\"LMAE_-3.1002547522051036-LinearRegressionByType-10foldsloss-5.7552val-2.9950loss-4.9516val-3.0042loss-5.9943val-2.7766loss-4.0414val-2.7287loss-4.9044val-2.5880loss-4.9516val-2.8229\",\"contentLength\":67167889,\"details\":null,\"url\":\"/submissions/12127807/12127807.raw\",\"teamName\":\"🤖 Quantum Uncertainty 🤖\",\"date\":\"2019-08-14T14:46:29.907Z\",\"privateScore\":null,\"publicScore\":\"-3.115\",\"isSelected\":false,\"status\":\"complete\",\"version\":null,\"latestVersion\":null,\"errorDetails\":null,\"submittedByUrl\":\"/pavelgonchar\",\"submittedBy\":\"Pavel Hanchar\",\"type\":\"standard\",\"isAfterDeadline\":false,\"syncRerunState\":null},{\"id\":12126628,\"name\":\"LMAE_-3.0959219850845607-LinearRegressionByType-10foldsloss-5.7552val-2.9950loss-4.9516val-3.0042loss-5.9943val-2.7766loss-4.0414val-2.7287loss-4.9044val-2.5880loss-4.9516val-2.8229\",\"contentLength\":67167676,\"details\":null,\"url\":\"/submissions/12126628/12126628.raw\",\"teamName\":\"🤖 Quantum Uncertainty 🤖\",\"date\":\"2019-08-14T12:51:46.483Z\",\"privateScore\":null,\"publicScore\":\"-3.110\",\"isSelected\":false,\"status\":\"complete\",\"version\":null,\"latestVersion\":null,\"errorDetails\":null,\"submittedByUrl\":\"/pavelgonchar\",\"submittedBy\":\"Pavel Hanchar\",\"type\":\"standard\",\"isAfterDeadline\":false,\"syncRerunState\":null},{\"id\":12087919,\"name\":\"2.730.LB_2.737.LB_2.742.LB_2.754.LB_2.788.LB_2.840.LB_3.014.LB\",\"contentLength\":67166401,\"details\":\"weighted based on score (score -2.7)\",\"url\":\"/submissions/12087919/12087919.raw\",\"teamName\":\"🤖 Quantum Uncertainty 🤖\",\"date\":\"2019-08-10T18:49:01.39Z\",\"privateScore\":null,\"publicScore\":\"-3.110\",\"isSelected\":false,\"status\":\"complete\",\"version\":null,\"latestVersion\":null,\"errorDetails\":null,\"submittedByUrl\":\"/pavelgonchar\",\"submittedBy\":\"Pavel Hanchar\",\"type\":\"standard\",\"isAfterDeadline\":false,\"syncRerunState\":null},{\"id\":12086312,\"name\":\"LMAE_-3.08930222716758-LinearRegressionByType-20foldsloss-5.7552val-2.9950loss-4.9516val-3.0042loss-5.9943val-2.7766loss-4.0414val-2.7287loss-4.9044val-2.5880loss-4.9516val-2.8229\",\"contentLength\":67167272,\"details\":null,\"url\":\"/submissions/12086312/12086312.raw\",\"teamName\":\"🤖 Quantum Uncertainty 🤖\",\"date\":\"2019-08-10T14:17:44.92Z\",\"privateScore\":null,\"publicScore\":\"-3.108\",\"isSelected\":false,\"status\":\"complete\",\"version\":null,\"latestVersion\":null,\"errorDetails\":null,\"submittedByUrl\":\"/pavelgonchar\",\"submittedBy\":\"Pavel Hanchar\",\"type\":\"standard\",\"isAfterDeadline\":false,\"syncRerunState\":null},{\"id\":12086291,\"name\":\"loss-4.9516val-2.8229\",\"contentLength\":67122215,\"details\":\"no QM9 no ext no max_atoms tta 1 _ext transformer + OLD attn + 1024\",\"url\":\"/submissions/12086291/12086291.raw\",\"teamName\":\"🤖 Quantum Uncertainty 🤖\",\"date\":\"2019-08-10T14:14:36.983Z\",\"privateScore\":null,\"publicScore\":\"-2.840\",\"isSelected\":false,\"status\":\"complete\",\"version\":null,\"latestVersion\":null,\"errorDetails\":null,\"submittedByUrl\":\"/pavelgonchar\",\"submittedBy\":\"Pavel Hanchar\",\"type\":\"standard\",\"isAfterDeadline\":false,\"syncRerunState\":null}]"
     ]
    }
   ],
   "source": [
    "!cat subs.json"
   ]
  },
  {
   "cell_type": "code",
   "execution_count": 14,
   "metadata": {
    "ExecuteTime": {
     "end_time": "2019-08-22T11:02:41.098604Z",
     "start_time": "2019-08-22T11:02:41.082339Z"
    }
   },
   "outputs": [
    {
     "name": "stdout",
     "output_type": "stream",
     "text": [
      "-3.173 /submissions/12217237/12217237.raw\n",
      "-3.090 /submissions/12215911/12215911.raw\n",
      "-3.132 /submissions/12204013/12204013.raw\n",
      "-3.164 /submissions/12203752/12203752.raw\n",
      "-3.087 /submissions/12202147/12202147.raw\n",
      "-3.101 /submissions/12185917/12185917.raw\n",
      "-3.105 /submissions/12182683/12182683.raw\n",
      "-3.130 /submissions/12182365/12182365.raw\n",
      "-3.127 /submissions/12181936/12181936.raw\n",
      "-3.131 /submissions/12180749/12180749.raw\n",
      "-3.111 /submissions/12174255/12174255.raw\n",
      "-3.128 /submissions/12174243/12174243.raw\n",
      "-3.023 /submissions/12174149/12174149.raw\n",
      "-3.125 /submissions/12138010/12138010.raw\n",
      "-3.116 /submissions/12127933/12127933.raw\n",
      "-3.115 /submissions/12127807/12127807.raw\n",
      "-3.110 /submissions/12126628/12126628.raw\n",
      "-3.110 /submissions/12087919/12087919.raw\n",
      "-3.108 /submissions/12086312/12086312.raw\n"
     ]
    }
   ],
   "source": [
    "import json\n",
    "subs = json.load(open('subs.json', 'r'))\n",
    "for sub in subs:\n",
    "    if float(sub['publicScore']) < -3:\n",
    "        print(sub['publicScore'], sub['url'])"
   ]
  },
  {
   "cell_type": "code",
   "execution_count": 17,
   "metadata": {
    "ExecuteTime": {
     "end_time": "2019-08-22T11:04:53.060802Z",
     "start_time": "2019-08-22T11:04:51.361552Z"
    }
   },
   "outputs": [
    {
     "name": "stdout",
     "output_type": "stream",
     "text": [
      "  % Total    % Received % Xferd  Average Speed   Time    Time     Time  Current\n",
      "                                 Dload  Upload   Total   Spent    Left  Speed\n",
      "  0     0    0     0    0     0      0      0 --:--:-- --:--:-- --:--:--     0\n",
      "100 64.0M  100 64.0M    0     0  43.9M      0  0:00:01  0:00:01 --:--:-- 74.3M\n"
     ]
    }
   ],
   "source": [
    "!curl -L 'https://www.kaggle.com/submissions/12217237/12217237.raw' -H 'authority: www.kaggle.com' -H 'upgrade-insecure-requests: 1' -H 'user-agent: Mozilla/5.0 (X11; Linux x86_64) AppleWebKit/537.36 (KHTML, like Gecko) Chrome/75.0.3770.142 Safari/537.36' -H 'accept: text/html,application/xhtml+xml,application/xml;q=0.9,image/webp,image/apng,*/*;q=0.8,application/signed-exchange;v=b3' -H 'referer: https://www.kaggle.com/c/champs-scalar-coupling/submissions?sortBy=date&group=successful&page=1&pageSize=20' -H 'accept-encoding: gzip, deflate, br' -H 'accept-language: en-GB,en;q=0.9,en-US;q=0.8,ru;q=0.7,be;q=0.6' -H 'cookie: _ga=GA1.2.1447921769.1550235093; _fbp=fb.1.1555087926667.744955018; intercom-id-koj6gxx6=39d8f002-c484-4380-9582-74318de3757c; CSRF-TOKEN=CfDJ8LdUzqlsSWBPr4Ce3rb9VL8kezePLmSU17wNafw3OzNn5W5ikRyApPBF1F6Z7CGuC9_q1MjhEVNIrwxQWjrv2YHE5kcO2_QcixEFXrd-XTn15Eozo0YbDQkFMFToiawp8IXr_p6AZEDPM9SdGi-BQ4s; GCLB=CLKUhvT2tpvotgE; _gaexp=GAX1.2.UBHXFASnTVOKSguMuh4U-A.18160.0; .ASPXAUTH=6BDDEA2349FDD00F4BFD7D62D716668B95BA0CDE96117B3870610EB87C7DF70052C0E3015DEAAC9E7399392D84F082FE49E88A0D28FC7E3C9CE14D06C55DE885B9D2EDF0BB1920275CA5E640B6B4A549149A384F; ka_sessionid=ba1957c4158d7bdc5ebf9ac7a8d1a782655ee5d5; _gid=GA1.2.1708174021.1566115470; intercom-session-koj6gxx6=RHB1THdUT01JNmhpb1JmeWphOUE2elhGYng5Qm53TmdMZWY4YyttTlEwbzlLUmIwUjI2ZFJjVzhNZDA2d3Avdy0tZjVPQUcxM1BTbFcrb1Z6aUIwN1prQT09--1aa89f47bf85224fe9cb868988b510b137a27b85; XSRF-TOKEN=CfDJ8LdUzqlsSWBPr4Ce3rb9VL8tWjrQ9hlHqPJTIp_2kjGZtsy2KfYJ0VL9fhJRiWx4UoT-xheqaaPOM8j61blCIi9YNT7EeGPSHcKtSFsIlO78ERbBYWBVDjQVpWLQXap4XmpQ8KoegtG1GrKY7rSE55jpqqEXzEruNfXwT0Gm8nW5Z_Takq0su4DNkpHMCfpx_Q' --compressed -o temp.csv"
   ]
  },
  {
   "cell_type": "code",
   "execution_count": 19,
   "metadata": {
    "ExecuteTime": {
     "end_time": "2019-08-22T11:05:43.198212Z",
     "start_time": "2019-08-22T11:05:43.079195Z"
    }
   },
   "outputs": [
    {
     "name": "stdout",
     "output_type": "stream",
     "text": [
      "id,scalar_coupling_constant\r\n",
      "4658147,16.169836747045636\r\n",
      "4658148,189.35275451334167\r\n",
      "4658149,5.510486121575681\r\n",
      "4658150,189.9049344974552\r\n",
      "4658151,15.996416160435285\r\n",
      "4658152,90.86040678424298\r\n",
      "4658153,2.4031983354204516\r\n",
      "4658154,-7.5031211674502245\r\n",
      "4658155,-9.720635136768198\r\n"
     ]
    }
   ],
   "source": [
    "!head temp.csv"
   ]
  },
  {
   "cell_type": "code",
   "execution_count": 22,
   "metadata": {
    "ExecuteTime": {
     "end_time": "2019-08-22T11:08:48.524110Z",
     "start_time": "2019-08-22T11:08:19.361358Z"
    }
   },
   "outputs": [
    {
     "name": "stdout",
     "output_type": "stream",
     "text": [
      "-3.173 /submissions/12217237/12217237.raw\n",
      "  % Total    % Received % Xferd  Average Speed   Time    Time     Time  Current\n",
      "                                 Dload  Upload   Total   Spent    Left  Speed\n",
      "  0     0    0     0    0     0      0      0 --:--:-- --:--:-- --:--:--     0\n",
      "100 64.0M  100 64.0M    0     0  57.6M      0  0:00:01  0:00:01 --:--:--  114M\n",
      "-3.090 /submissions/12215911/12215911.raw\n",
      "  % Total    % Received % Xferd  Average Speed   Time    Time     Time  Current\n",
      "                                 Dload  Upload   Total   Spent    Left  Speed\n",
      "  0     0    0     0    0     0      0      0 --:--:-- --:--:-- --:--:--     0\n",
      "100 64.0M  100 64.0M    0     0  62.2M      0  0:00:01  0:00:01 --:--:--  100M\n",
      "-3.132 /submissions/12204013/12204013.raw\n",
      "  % Total    % Received % Xferd  Average Speed   Time    Time     Time  Current\n",
      "                                 Dload  Upload   Total   Spent    Left  Speed\n",
      "  0     0    0     0    0     0      0      0 --:--:-- --:--:-- --:--:--     0\n",
      "100 64.0M  100 64.0M    0     0  47.2M      0  0:00:01  0:00:01 --:--:--  113M\n",
      "-3.164 /submissions/12203752/12203752.raw\n",
      "  % Total    % Received % Xferd  Average Speed   Time    Time     Time  Current\n",
      "                                 Dload  Upload   Total   Spent    Left  Speed\n",
      "  0     0    0     0    0     0      0      0 --:--:-- --:--:-- --:--:--     0\n",
      "100 64.0M  100 64.0M    0     0  43.3M      0  0:00:01  0:00:01 --:--:-- 74.8M\n",
      "-3.087 /submissions/12202147/12202147.raw\n",
      "  % Total    % Received % Xferd  Average Speed   Time    Time     Time  Current\n",
      "                                 Dload  Upload   Total   Spent    Left  Speed\n",
      "  0     0    0     0    0     0      0      0 --:--:-- --:--:-- --:--:--     0\n",
      "100 64.0M  100 64.0M    0     0  48.5M      0  0:00:01  0:00:01 --:--:--  107M\n",
      "-3.101 /submissions/12185917/12185917.raw\n",
      "  % Total    % Received % Xferd  Average Speed   Time    Time     Time  Current\n",
      "                                 Dload  Upload   Total   Spent    Left  Speed\n",
      "  0     0    0     0    0     0      0      0 --:--:-- --:--:-- --:--:--     0\n",
      "100 64.0M  100 64.0M    0     0  47.7M      0  0:00:01  0:00:01 --:--:-- 61.9M\n",
      "-3.105 /submissions/12182683/12182683.raw\n",
      "  % Total    % Received % Xferd  Average Speed   Time    Time     Time  Current\n",
      "                                 Dload  Upload   Total   Spent    Left  Speed\n",
      "  0     0    0     0    0     0      0      0 --:--:-- --:--:-- --:--:--     0\n",
      "100 64.0M  100 64.0M    0     0  50.0M      0  0:00:01  0:00:01 --:--:--  108M\n",
      "-3.130 /submissions/12182365/12182365.raw\n",
      "  % Total    % Received % Xferd  Average Speed   Time    Time     Time  Current\n",
      "                                 Dload  Upload   Total   Spent    Left  Speed\n",
      "  0     0    0     0    0     0      0      0 --:--:-- --:--:-- --:--:--     0\n",
      "100 64.0M  100 64.0M    0     0  42.4M      0  0:00:01  0:00:01 --:--:-- 92.1M\n",
      "-3.127 /submissions/12181936/12181936.raw\n",
      "  % Total    % Received % Xferd  Average Speed   Time    Time     Time  Current\n",
      "                                 Dload  Upload   Total   Spent    Left  Speed\n",
      "  0     0    0     0    0     0      0      0 --:--:-- --:--:-- --:--:--     0\n",
      "100 64.0M  100 64.0M    0     0  45.8M      0  0:00:01  0:00:01 --:--:-- 88.5M\n",
      "-3.131 /submissions/12180749/12180749.raw\n",
      "  % Total    % Received % Xferd  Average Speed   Time    Time     Time  Current\n",
      "                                 Dload  Upload   Total   Spent    Left  Speed\n",
      "  0     0    0     0    0     0      0      0 --:--:-- --:--:-- --:--:--     0\n",
      "100 64.0M  100 64.0M    0     0  53.8M      0  0:00:01  0:00:01 --:--:--  114M\n",
      "-3.111 /submissions/12174255/12174255.raw\n",
      "  % Total    % Received % Xferd  Average Speed   Time    Time     Time  Current\n",
      "                                 Dload  Upload   Total   Spent    Left  Speed\n",
      "  0     0    0     0    0     0      0      0 --:--:-- --:--:-- --:--:--     0\n",
      "100 64.0M  100 64.0M    0     0  46.3M      0  0:00:01  0:00:01 --:--:-- 79.1M\n",
      "-3.128 /submissions/12174243/12174243.raw\n",
      "  % Total    % Received % Xferd  Average Speed   Time    Time     Time  Current\n",
      "                                 Dload  Upload   Total   Spent    Left  Speed\n",
      "  0     0    0     0    0     0      0      0 --:--:-- --:--:-- --:--:--     0\n",
      "100 64.0M  100 64.0M    0     0  48.9M      0  0:00:01  0:00:01 --:--:--  103M\n",
      "-3.023 /submissions/12174149/12174149.raw\n",
      "  % Total    % Received % Xferd  Average Speed   Time    Time     Time  Current\n",
      "                                 Dload  Upload   Total   Spent    Left  Speed\n",
      "  0     0    0     0    0     0      0      0 --:--:-- --:--:-- --:--:--     0\n",
      "100 64.0M  100 64.0M    0     0  52.3M      0  0:00:01  0:00:01 --:--:-- 75.1M\n",
      "-3.125 /submissions/12138010/12138010.raw\n",
      "  % Total    % Received % Xferd  Average Speed   Time    Time     Time  Current\n",
      "                                 Dload  Upload   Total   Spent    Left  Speed\n",
      "  0     0    0     0    0     0      0      0 --:--:-- --:--:-- --:--:--     0\n",
      "100 64.0M  100 64.0M    0     0  46.8M      0  0:00:01  0:00:01 --:--:--  112M\n",
      "-3.116 /submissions/12127933/12127933.raw\n",
      "  % Total    % Received % Xferd  Average Speed   Time    Time     Time  Current\n",
      "                                 Dload  Upload   Total   Spent    Left  Speed\n",
      "  0     0    0     0    0     0      0      0 --:--:-- --:--:-- --:--:--     0\n",
      "100 64.0M  100 64.0M    0     0  43.8M      0  0:00:01  0:00:01 --:--:--  118M\n",
      "-3.115 /submissions/12127807/12127807.raw\n",
      "  % Total    % Received % Xferd  Average Speed   Time    Time     Time  Current\n",
      "                                 Dload  Upload   Total   Spent    Left  Speed\n",
      "  0     0    0     0    0     0      0      0 --:--:-- --:--:-- --:--:--     0\n",
      "100 64.0M  100 64.0M    0     0  48.3M      0  0:00:01  0:00:01 --:--:-- 89.0M\n",
      "-3.110 /submissions/12126628/12126628.raw\n",
      "  % Total    % Received % Xferd  Average Speed   Time    Time     Time  Current\n",
      "                                 Dload  Upload   Total   Spent    Left  Speed\n",
      "  0     0    0     0    0     0      0      0 --:--:-- --:--:-- --:--:--     0\n",
      "100 64.0M  100 64.0M    0     0  47.8M      0  0:00:01  0:00:01 --:--:--  114M\n",
      "-3.110 /submissions/12087919/12087919.raw\n",
      "  % Total    % Received % Xferd  Average Speed   Time    Time     Time  Current\n",
      "                                 Dload  Upload   Total   Spent    Left  Speed\n",
      "  0     0    0     0    0     0      0      0 --:--:-- --:--:-- --:--:--     0\n",
      "100 64.0M  100 64.0M    0     0  54.7M      0  0:00:01  0:00:01 --:--:--  110M\n",
      "-3.108 /submissions/12086312/12086312.raw\n",
      "  % Total    % Received % Xferd  Average Speed   Time    Time     Time  Current\n",
      "                                 Dload  Upload   Total   Spent    Left  Speed\n",
      "  0     0    0     0    0     0      0      0 --:--:-- --:--:-- --:--:--     0\n",
      "100 64.0M  100 64.0M    0     0  43.2M      0  0:00:01  0:00:01 --:--:-- 52.9M\n"
     ]
    }
   ],
   "source": [
    "subs = json.load(open('subs.json', 'r'))\n",
    "for sub in subs:\n",
    "    if float(sub['publicScore']) < -3:\n",
    "        print(sub['publicScore'], sub['url'])\n",
    "        url = sub['url']\n",
    "        score = sub['publicScore']\n",
    "        !curl -L 'https://www.kaggle.com{url}' -H 'authority: www.kaggle.com' -H 'upgrade-insecure-requests: 1' -H 'user-agent: Mozilla/5.0 (X11; Linux x86_64) AppleWebKit/537.36 (KHTML, like Gecko) Chrome/75.0.3770.142 Safari/537.36' -H 'accept: text/html,application/xhtml+xml,application/xml;q=0.9,image/webp,image/apng,*/*;q=0.8,application/signed-exchange;v=b3' -H 'referer: https://www.kaggle.com/c/champs-scalar-coupling/submissions?sortBy=date&group=successful&page=1&pageSize=20' -H 'accept-encoding: gzip, deflate, br' -H 'accept-language: en-GB,en;q=0.9,en-US;q=0.8,ru;q=0.7,be;q=0.6' -H 'cookie: _ga=GA1.2.1447921769.1550235093; _fbp=fb.1.1555087926667.744955018; intercom-id-koj6gxx6=39d8f002-c484-4380-9582-74318de3757c; CSRF-TOKEN=CfDJ8LdUzqlsSWBPr4Ce3rb9VL8kezePLmSU17wNafw3OzNn5W5ikRyApPBF1F6Z7CGuC9_q1MjhEVNIrwxQWjrv2YHE5kcO2_QcixEFXrd-XTn15Eozo0YbDQkFMFToiawp8IXr_p6AZEDPM9SdGi-BQ4s; GCLB=CLKUhvT2tpvotgE; _gaexp=GAX1.2.UBHXFASnTVOKSguMuh4U-A.18160.0; .ASPXAUTH=6BDDEA2349FDD00F4BFD7D62D716668B95BA0CDE96117B3870610EB87C7DF70052C0E3015DEAAC9E7399392D84F082FE49E88A0D28FC7E3C9CE14D06C55DE885B9D2EDF0BB1920275CA5E640B6B4A549149A384F; ka_sessionid=ba1957c4158d7bdc5ebf9ac7a8d1a782655ee5d5; _gid=GA1.2.1708174021.1566115470; intercom-session-koj6gxx6=RHB1THdUT01JNmhpb1JmeWphOUE2elhGYng5Qm53TmdMZWY4YyttTlEwbzlLUmIwUjI2ZFJjVzhNZDA2d3Avdy0tZjVPQUcxM1BTbFcrb1Z6aUIwN1prQT09--1aa89f47bf85224fe9cb868988b510b137a27b85; XSRF-TOKEN=CfDJ8LdUzqlsSWBPr4Ce3rb9VL8tWjrQ9hlHqPJTIp_2kjGZtsy2KfYJ0VL9fhJRiWx4UoT-xheqaaPOM8j61blCIi9YNT7EeGPSHcKtSFsIlO78ERbBYWBVDjQVpWLQXap4XmpQ8KoegtG1GrKY7rSE55jpqqEXzEruNfXwT0Gm8nW5Z_Takq0su4DNkpHMCfpx_Q' --compressed -o temp_{score}.csv"
   ]
  },
  {
   "cell_type": "code",
   "execution_count": 23,
   "metadata": {
    "ExecuteTime": {
     "end_time": "2019-08-22T11:09:00.763081Z",
     "start_time": "2019-08-22T11:09:00.642363Z"
    }
   },
   "outputs": [
    {
     "name": "stdout",
     "output_type": "stream",
     "text": [
      "-rw-r--r-- 1 root root 67166169 Aug 22 11:08 temp_-3.173.csv\r\n",
      "-rw-r--r-- 1 root root 67122269 Aug 22 11:08 temp_-3.090.csv\r\n",
      "-rw-r--r-- 1 root root 67165443 Aug 22 11:08 temp_-3.132.csv\r\n",
      "-rw-r--r-- 1 root root 67166433 Aug 22 11:08 temp_-3.164.csv\r\n",
      "-rw-r--r-- 1 root root 67120469 Aug 22 11:08 temp_-3.087.csv\r\n",
      "-rw-r--r-- 1 root root 67167913 Aug 22 11:08 temp_-3.101.csv\r\n",
      "-rw-r--r-- 1 root root 67164650 Aug 22 11:08 temp_-3.105.csv\r\n",
      "-rw-r--r-- 1 root root 67165378 Aug 22 11:08 temp_-3.130.csv\r\n",
      "-rw-r--r-- 1 root root 67164912 Aug 22 11:08 temp_-3.127.csv\r\n",
      "-rw-r--r-- 1 root root 67166374 Aug 22 11:08 temp_-3.131.csv\r\n",
      "-rw-r--r-- 1 root root 67164796 Aug 22 11:08 temp_-3.111.csv\r\n",
      "-rw-r--r-- 1 root root 67166646 Aug 22 11:08 temp_-3.128.csv\r\n",
      "-rw-r--r-- 1 root root 67122016 Aug 22 11:08 temp_-3.023.csv\r\n",
      "-rw-r--r-- 1 root root 67166271 Aug 22 11:08 temp_-3.125.csv\r\n",
      "-rw-r--r-- 1 root root 67166779 Aug 22 11:08 temp_-3.116.csv\r\n",
      "-rw-r--r-- 1 root root 67167889 Aug 22 11:08 temp_-3.115.csv\r\n",
      "-rw-r--r-- 1 root root 67166401 Aug 22 11:08 temp_-3.110.csv\r\n",
      "-rw-r--r-- 1 root root 67167272 Aug 22 11:08 temp_-3.108.csv\r\n"
     ]
    }
   ],
   "source": [
    "!ls -altr temp_* "
   ]
  },
  {
   "cell_type": "code",
   "execution_count": 26,
   "metadata": {
    "ExecuteTime": {
     "end_time": "2019-08-22T11:12:53.619025Z",
     "start_time": "2019-08-22T11:12:33.091268Z"
    }
   },
   "outputs": [
    {
     "name": "stdout",
     "output_type": "stream",
     "text": [
      "temp_-3.173.csv\n",
      "temp_-3.090.csv\n",
      "temp_-3.132.csv\n",
      "temp_-3.164.csv\n",
      "temp_-3.087.csv\n",
      "temp_-3.101.csv\n",
      "temp_-3.105.csv\n",
      "temp_-3.130.csv\n",
      "temp_-3.127.csv\n",
      "temp_-3.131.csv\n",
      "temp_-3.111.csv\n",
      "temp_-3.128.csv\n",
      "temp_-3.023.csv\n",
      "temp_-3.125.csv\n",
      "temp_-3.116.csv\n",
      "temp_-3.115.csv\n",
      "temp_-3.110.csv\n",
      "temp_-3.108.csv\n"
     ]
    },
    {
     "data": {
      "text/html": [
       "<div>\n",
       "<style scoped>\n",
       "    .dataframe tbody tr th:only-of-type {\n",
       "        vertical-align: middle;\n",
       "    }\n",
       "\n",
       "    .dataframe tbody tr th {\n",
       "        vertical-align: top;\n",
       "    }\n",
       "\n",
       "    .dataframe thead th {\n",
       "        text-align: right;\n",
       "    }\n",
       "</style>\n",
       "<table border=\"1\" class=\"dataframe\">\n",
       "  <thead>\n",
       "    <tr style=\"text-align: right;\">\n",
       "      <th></th>\n",
       "      <th>id</th>\n",
       "      <th>scalar_coupling_constant</th>\n",
       "    </tr>\n",
       "  </thead>\n",
       "  <tbody>\n",
       "    <tr>\n",
       "      <th>0</th>\n",
       "      <td>4658147</td>\n",
       "      <td>14.776639</td>\n",
       "    </tr>\n",
       "    <tr>\n",
       "      <th>1</th>\n",
       "      <td>4658148</td>\n",
       "      <td>189.530355</td>\n",
       "    </tr>\n",
       "    <tr>\n",
       "      <th>2</th>\n",
       "      <td>4658149</td>\n",
       "      <td>6.055971</td>\n",
       "    </tr>\n",
       "    <tr>\n",
       "      <th>3</th>\n",
       "      <td>4658150</td>\n",
       "      <td>189.938517</td>\n",
       "    </tr>\n",
       "    <tr>\n",
       "      <th>4</th>\n",
       "      <td>4658151</td>\n",
       "      <td>14.887723</td>\n",
       "    </tr>\n",
       "  </tbody>\n",
       "</table>\n",
       "</div>"
      ],
      "text/plain": [
       "        id  scalar_coupling_constant\n",
       "0  4658147                 14.776639\n",
       "1  4658148                189.530355\n",
       "2  4658149                  6.055971\n",
       "3  4658150                189.938517\n",
       "4  4658151                 14.887723"
      ]
     },
     "execution_count": 26,
     "metadata": {},
     "output_type": "execute_result"
    }
   ],
   "source": [
    "import glob\n",
    "subs = glob.glob('temp_*')\n",
    "ens = None\n",
    "for sub in subs:\n",
    "    print(sub)\n",
    "    df = pd.read_csv(sub)\n",
    "    if ens is None:\n",
    "        ens = df\n",
    "    else:\n",
    "        ens['scalar_coupling_constant'] += df['scalar_coupling_constant']\n",
    "ens['scalar_coupling_constant'] /= len(subs)\n",
    "ens.head()"
   ]
  },
  {
   "cell_type": "code",
   "execution_count": 27,
   "metadata": {
    "ExecuteTime": {
     "end_time": "2019-08-22T11:13:13.047202Z",
     "start_time": "2019-08-22T11:13:13.031356Z"
    }
   },
   "outputs": [
    {
     "data": {
      "text/html": [
       "<div>\n",
       "<style scoped>\n",
       "    .dataframe tbody tr th:only-of-type {\n",
       "        vertical-align: middle;\n",
       "    }\n",
       "\n",
       "    .dataframe tbody tr th {\n",
       "        vertical-align: top;\n",
       "    }\n",
       "\n",
       "    .dataframe thead th {\n",
       "        text-align: right;\n",
       "    }\n",
       "</style>\n",
       "<table border=\"1\" class=\"dataframe\">\n",
       "  <thead>\n",
       "    <tr style=\"text-align: right;\">\n",
       "      <th></th>\n",
       "      <th>id</th>\n",
       "      <th>scalar_coupling_constant</th>\n",
       "    </tr>\n",
       "  </thead>\n",
       "  <tbody>\n",
       "    <tr>\n",
       "      <th>2505537</th>\n",
       "      <td>7163684</td>\n",
       "      <td>0.747677</td>\n",
       "    </tr>\n",
       "    <tr>\n",
       "      <th>2505538</th>\n",
       "      <td>7163685</td>\n",
       "      <td>4.251452</td>\n",
       "    </tr>\n",
       "    <tr>\n",
       "      <th>2505539</th>\n",
       "      <td>7163686</td>\n",
       "      <td>1.985722</td>\n",
       "    </tr>\n",
       "    <tr>\n",
       "      <th>2505540</th>\n",
       "      <td>7163687</td>\n",
       "      <td>4.119162</td>\n",
       "    </tr>\n",
       "    <tr>\n",
       "      <th>2505541</th>\n",
       "      <td>7163688</td>\n",
       "      <td>119.943474</td>\n",
       "    </tr>\n",
       "  </tbody>\n",
       "</table>\n",
       "</div>"
      ],
      "text/plain": [
       "              id  scalar_coupling_constant\n",
       "2505537  7163684                  0.747677\n",
       "2505538  7163685                  4.251452\n",
       "2505539  7163686                  1.985722\n",
       "2505540  7163687                  4.119162\n",
       "2505541  7163688                119.943474"
      ]
     },
     "execution_count": 27,
     "metadata": {},
     "output_type": "execute_result"
    }
   ],
   "source": [
    "ens.tail()"
   ]
  },
  {
   "cell_type": "code",
   "execution_count": 28,
   "metadata": {
    "ExecuteTime": {
     "end_time": "2019-08-22T11:13:54.918300Z",
     "start_time": "2019-08-22T11:13:54.915518Z"
    }
   },
   "outputs": [],
   "source": [
    "sub_fname = 'mega_ensemble'"
   ]
  },
  {
   "cell_type": "code",
   "execution_count": 29,
   "metadata": {
    "ExecuteTime": {
     "end_time": "2019-08-22T11:14:10.779980Z",
     "start_time": "2019-08-22T11:13:56.363374Z"
    }
   },
   "outputs": [],
   "source": [
    "df.to_csv(sub_fname, index=False)"
   ]
  },
  {
   "cell_type": "code",
   "execution_count": 31,
   "metadata": {
    "ExecuteTime": {
     "end_time": "2019-08-22T11:14:56.605651Z",
     "start_time": "2019-08-22T11:14:56.600377Z"
    }
   },
   "outputs": [
    {
     "data": {
      "text/plain": [
       "'temp_-3.173.csv temp_-3.090.csv temp_-3.132.csv temp_-3.164.csv temp_-3.087.csv temp_-3.101.csv temp_-3.105.csv temp_-3.130.csv temp_-3.127.csv temp_-3.131.csv temp_-3.111.csv temp_-3.128.csv temp_-3.023.csv temp_-3.125.csv temp_-3.116.csv temp_-3.115.csv temp_-3.110.csv temp_-3.108.csv'"
      ]
     },
     "execution_count": 31,
     "metadata": {},
     "output_type": "execute_result"
    }
   ],
   "source": [
    "message = ' '.join(subs)\n",
    "message"
   ]
  },
  {
   "cell_type": "code",
   "execution_count": 32,
   "metadata": {
    "ExecuteTime": {
     "end_time": "2019-08-22T11:15:25.286571Z",
     "start_time": "2019-08-22T11:15:19.997201Z"
    }
   },
   "outputs": [
    {
     "name": "stdout",
     "output_type": "stream",
     "text": [
      "100%|██████████████████████████████████████| 64.1M/64.1M [00:02<00:00, 22.6MB/s]\n",
      "Successfully submitted to Predicting Molecular Properties"
     ]
    }
   ],
   "source": [
    "!kaggle competitions submit -c {comp} -f {sub_fname} -m '{message}'"
   ]
  },
  {
   "cell_type": "code",
   "execution_count": null,
   "metadata": {
    "ExecuteTime": {
     "start_time": "2019-08-22T11:15:38.991Z"
    }
   },
   "outputs": [],
   "source": [
    "import time\n",
    "time.sleep(60)\n",
    "!kaggle competitions submissions -c {comp} -v > submissions-{comp}.csv"
   ]
  },
  {
   "cell_type": "code",
   "execution_count": null,
   "metadata": {},
   "outputs": [],
   "source": [
    "submissions = pd.read_csv(f'submissions-{comp}.csv')\n",
    "submissions.iloc[0].publicScore"
   ]
  }
 ],
 "metadata": {
  "kernelspec": {
   "display_name": "Python 3",
   "language": "python",
   "name": "python3"
  },
  "language_info": {
   "codemirror_mode": {
    "name": "ipython",
    "version": 3
   },
   "file_extension": ".py",
   "mimetype": "text/x-python",
   "name": "python",
   "nbconvert_exporter": "python",
   "pygments_lexer": "ipython3",
   "version": "3.7.1"
  }
 },
 "nbformat": 4,
 "nbformat_minor": 2
}
