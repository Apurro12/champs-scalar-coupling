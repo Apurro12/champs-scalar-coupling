{
 "cells": [
  {
   "cell_type": "code",
   "execution_count": 1,
   "metadata": {
    "ExecuteTime": {
     "end_time": "2019-08-18T17:10:32.696974Z",
     "start_time": "2019-08-18T17:10:32.279931Z"
    }
   },
   "outputs": [],
   "source": [
    "import pandas as pd"
   ]
  },
  {
   "cell_type": "code",
   "execution_count": 2,
   "metadata": {
    "ExecuteTime": {
     "end_time": "2019-08-18T17:10:32.894611Z",
     "start_time": "2019-08-18T17:10:32.876484Z"
    }
   },
   "outputs": [],
   "source": [
    "subs=!ls | grep -E '\\.LB' | grep -v '_' | grep -v '2.850.LB' | grep -v '2.903.LB' | grep -v '2.964.LB' | grep -v '3.006.LB'\n",
    "#subs=!ls | grep -E '\\.LB' | grep -v '_' | grep -v '2.850.LB' | grep -v '2.903.LB' "
   ]
  },
  {
   "cell_type": "code",
   "execution_count": 3,
   "metadata": {
    "ExecuteTime": {
     "end_time": "2019-08-18T17:10:33.469906Z",
     "start_time": "2019-08-18T17:10:33.450317Z"
    }
   },
   "outputs": [
    {
     "data": {
      "text/plain": [
       "['-1.987.LB',\n",
       " '-1.994.LB',\n",
       " '-2.020.LB',\n",
       " '-2.033.LB',\n",
       " '-2.039.LB',\n",
       " '-2.040.LB',\n",
       " '-2.052.LB',\n",
       " '-2.057.LB',\n",
       " '-2.059.LB',\n",
       " '-2.063.LB',\n",
       " '-2.088.LB',\n",
       " '-2.110.LB',\n",
       " '-2.461.LB',\n",
       " '-2.603.LB',\n",
       " '-2.619.LB',\n",
       " '-2.730.LB',\n",
       " '-2.737.LB',\n",
       " '-2.742.LB',\n",
       " '-2.754.LB',\n",
       " '-2.788.LB',\n",
       " '-2.840.LB',\n",
       " '-3.014.LB',\n",
       " '-3.023.LB']"
      ]
     },
     "execution_count": 3,
     "metadata": {},
     "output_type": "execute_result"
    }
   ],
   "source": [
    "#subs=subs[-2:]\n",
    "#subs = ['2.088.LB_2.110.LB', '-2.461.LB', '-2.461.LB']\n",
    "#subs = subs[-2:]\n",
    "#subs = subs[-4:]\n",
    "#subs=subs[:-2]\n",
    "subs"
   ]
  },
  {
   "cell_type": "code",
   "execution_count": 4,
   "metadata": {
    "ExecuteTime": {
     "end_time": "2019-08-18T17:11:04.275711Z",
     "start_time": "2019-08-18T17:10:41.173355Z"
    }
   },
   "outputs": [
    {
     "name": "stdout",
     "output_type": "stream",
     "text": [
      "0.029999999999999805\n",
      "0.03699999999999992\n",
      "0.041999999999999815\n",
      "0.053999999999999826\n",
      "0.08799999999999963\n",
      "0.13999999999999968\n",
      "0.3139999999999996\n",
      "0.32299999999999995\n",
      "        id  scalar_coupling_constant\n",
      "0  4658147                 15.055158\n",
      "1  4658148                194.907723\n",
      "2  4658149                  6.472311\n",
      "3  4658150                195.410556\n",
      "4  4658151                 15.042577\n",
      "1.0279999999999982\n"
     ]
    }
   ],
   "source": [
    "sub_ens = None\n",
    "sum_of_scores = 0\n",
    "for s in subs:\n",
    "    sub = pd.read_csv(s)\n",
    "    score = float(s.replace('-', '').replace('.LB', '')) -2.7\n",
    "    if score < 0:\n",
    "        continue    \n",
    "    print(score)\n",
    "    sum_of_scores += score\n",
    "    \n",
    "    if sub_ens is None:\n",
    "        sub_ens = sub\n",
    "        sub_ens['scalar_coupling_constant'] = sub_ens['scalar_coupling_constant'] * score\n",
    "    else:\n",
    "        sub_ens['scalar_coupling_constant'] = sub_ens[\n",
    "            'scalar_coupling_constant'] + sub[\n",
    "                'scalar_coupling_constant'] * score\n",
    "print(sub_ens.head())\n",
    "print(sum_of_scores)"
   ]
  },
  {
   "cell_type": "code",
   "execution_count": 5,
   "metadata": {
    "ExecuteTime": {
     "end_time": "2019-08-18T17:11:04.284433Z",
     "start_time": "2019-08-18T17:11:04.278978Z"
    }
   },
   "outputs": [
    {
     "data": {
      "text/plain": [
       "23"
      ]
     },
     "execution_count": 5,
     "metadata": {},
     "output_type": "execute_result"
    }
   ],
   "source": [
    "len(subs)"
   ]
  },
  {
   "cell_type": "code",
   "execution_count": 6,
   "metadata": {
    "ExecuteTime": {
     "end_time": "2019-08-18T17:11:04.300147Z",
     "start_time": "2019-08-18T17:11:04.288049Z"
    }
   },
   "outputs": [],
   "source": [
    "#sub_ens['scalar_coupling_constant'] = sub_ens['scalar_coupling_constant']/len(subs)\n",
    "sub_ens['scalar_coupling_constant'] = sub_ens['scalar_coupling_constant']/sum_of_scores"
   ]
  },
  {
   "cell_type": "code",
   "execution_count": 7,
   "metadata": {
    "ExecuteTime": {
     "end_time": "2019-08-18T17:11:04.311904Z",
     "start_time": "2019-08-18T17:11:04.302518Z"
    }
   },
   "outputs": [
    {
     "data": {
      "text/html": [
       "<div>\n",
       "<style scoped>\n",
       "    .dataframe tbody tr th:only-of-type {\n",
       "        vertical-align: middle;\n",
       "    }\n",
       "\n",
       "    .dataframe tbody tr th {\n",
       "        vertical-align: top;\n",
       "    }\n",
       "\n",
       "    .dataframe thead th {\n",
       "        text-align: right;\n",
       "    }\n",
       "</style>\n",
       "<table border=\"1\" class=\"dataframe\">\n",
       "  <thead>\n",
       "    <tr style=\"text-align: right;\">\n",
       "      <th></th>\n",
       "      <th>id</th>\n",
       "      <th>scalar_coupling_constant</th>\n",
       "    </tr>\n",
       "  </thead>\n",
       "  <tbody>\n",
       "    <tr>\n",
       "      <th>0</th>\n",
       "      <td>4658147</td>\n",
       "      <td>14.645095</td>\n",
       "    </tr>\n",
       "    <tr>\n",
       "      <th>1</th>\n",
       "      <td>4658148</td>\n",
       "      <td>189.598952</td>\n",
       "    </tr>\n",
       "    <tr>\n",
       "      <th>2</th>\n",
       "      <td>4658149</td>\n",
       "      <td>6.296022</td>\n",
       "    </tr>\n",
       "    <tr>\n",
       "      <th>3</th>\n",
       "      <td>4658150</td>\n",
       "      <td>190.088089</td>\n",
       "    </tr>\n",
       "    <tr>\n",
       "      <th>4</th>\n",
       "      <td>4658151</td>\n",
       "      <td>14.632857</td>\n",
       "    </tr>\n",
       "  </tbody>\n",
       "</table>\n",
       "</div>"
      ],
      "text/plain": [
       "        id  scalar_coupling_constant\n",
       "0  4658147                 14.645095\n",
       "1  4658148                189.598952\n",
       "2  4658149                  6.296022\n",
       "3  4658150                190.088089\n",
       "4  4658151                 14.632857"
      ]
     },
     "execution_count": 7,
     "metadata": {},
     "output_type": "execute_result"
    }
   ],
   "source": [
    "sub_ens.head()"
   ]
  },
  {
   "cell_type": "code",
   "execution_count": 9,
   "metadata": {
    "ExecuteTime": {
     "end_time": "2019-08-18T17:11:24.748374Z",
     "start_time": "2019-08-18T17:11:24.739490Z"
    }
   },
   "outputs": [
    {
     "data": {
      "text/plain": [
       "'2.730.LB_2.737.LB_2.742.LB_2.754.LB_2.788.LB_2.840.LB_3.014.LB_3.023.LB'"
      ]
     },
     "execution_count": 9,
     "metadata": {},
     "output_type": "execute_result"
    }
   ],
   "source": [
    "sub_fname = '_'.join(subs)\n",
    "sub_fname=sub_fname.replace('-','')\n",
    "sub_fname='2.730.LB_2.737.LB_2.742.LB_2.754.LB_2.788.LB_2.840.LB_3.014.LB_3.023.LB'\n",
    "sub_fname"
   ]
  },
  {
   "cell_type": "code",
   "execution_count": 10,
   "metadata": {
    "ExecuteTime": {
     "end_time": "2019-08-18T17:11:38.388609Z",
     "start_time": "2019-08-18T17:11:26.243866Z"
    }
   },
   "outputs": [],
   "source": [
    "sub_ens.to_csv(sub_fname, index=False)"
   ]
  },
  {
   "cell_type": "code",
   "execution_count": 11,
   "metadata": {
    "ExecuteTime": {
     "end_time": "2019-08-18T17:11:38.394072Z",
     "start_time": "2019-08-18T17:11:38.390932Z"
    }
   },
   "outputs": [],
   "source": [
    "comp = 'champs-scalar-coupling'"
   ]
  },
  {
   "cell_type": "code",
   "execution_count": 12,
   "metadata": {
    "ExecuteTime": {
     "end_time": "2019-08-18T17:11:38.521139Z",
     "start_time": "2019-08-18T17:11:38.396614Z"
    }
   },
   "outputs": [
    {
     "name": "stdout",
     "output_type": "stream",
     "text": [
      "2.730.LB_2.737.LB_2.742.LB_2.754.LB_2.788.LB_2.840.LB_3.014.LB_3.023.LB\r\n"
     ]
    }
   ],
   "source": [
    "!ls {sub_fname}"
   ]
  },
  {
   "cell_type": "code",
   "execution_count": 13,
   "metadata": {
    "ExecuteTime": {
     "end_time": "2019-08-18T17:11:48.020088Z",
     "start_time": "2019-08-18T17:11:43.379265Z"
    }
   },
   "outputs": [
    {
     "name": "stdout",
     "output_type": "stream",
     "text": [
      "100%|██████████████████████████████████████| 64.1M/64.1M [00:02<00:00, 23.2MB/s]\n",
      "Successfully submitted to Predicting Molecular Properties"
     ]
    }
   ],
   "source": [
    "!kaggle competitions submit -c {comp} -f {sub_fname} -m 'weighted based on score (score -2.7)'"
   ]
  },
  {
   "cell_type": "code",
   "execution_count": 14,
   "metadata": {
    "ExecuteTime": {
     "end_time": "2019-08-18T17:12:48.813205Z",
     "start_time": "2019-08-18T17:11:48.025179Z"
    }
   },
   "outputs": [],
   "source": [
    "import time\n",
    "time.sleep(60)\n",
    "!kaggle competitions submissions -c {comp} -v > submissions-{comp}.csv"
   ]
  },
  {
   "cell_type": "code",
   "execution_count": 15,
   "metadata": {
    "ExecuteTime": {
     "end_time": "2019-08-18T17:12:48.833215Z",
     "start_time": "2019-08-18T17:12:48.818771Z"
    }
   },
   "outputs": [
    {
     "data": {
      "text/plain": [
       "-3.111"
      ]
     },
     "execution_count": 15,
     "metadata": {},
     "output_type": "execute_result"
    }
   ],
   "source": [
    "submissions = pd.read_csv(f'submissions-{comp}.csv')\n",
    "submissions.iloc[0].publicScore"
   ]
  },
  {
   "cell_type": "code",
   "execution_count": 49,
   "metadata": {
    "ExecuteTime": {
     "end_time": "2019-07-10T18:07:03.298287Z",
     "start_time": "2019-07-10T18:07:03.165640Z"
    }
   },
   "outputs": [
    {
     "name": "stdout",
     "output_type": "stream",
     "text": [
      "401 - Unauthorized\r\n"
     ]
    }
   ],
   "source": [
    "!cat submissions-{comp}.csv"
   ]
  },
  {
   "cell_type": "code",
   "execution_count": 16,
   "metadata": {
    "ExecuteTime": {
     "end_time": "2019-07-23T11:30:13.224049Z",
     "start_time": "2019-07-23T11:30:13.211312Z"
    }
   },
   "outputs": [
    {
     "data": {
      "text/html": [
       "<div>\n",
       "<style scoped>\n",
       "    .dataframe tbody tr th:only-of-type {\n",
       "        vertical-align: middle;\n",
       "    }\n",
       "\n",
       "    .dataframe tbody tr th {\n",
       "        vertical-align: top;\n",
       "    }\n",
       "\n",
       "    .dataframe thead th {\n",
       "        text-align: right;\n",
       "    }\n",
       "</style>\n",
       "<table border=\"1\" class=\"dataframe\">\n",
       "  <thead>\n",
       "    <tr style=\"text-align: right;\">\n",
       "      <th></th>\n",
       "      <th>id</th>\n",
       "      <th>scalar_coupling_constant</th>\n",
       "    </tr>\n",
       "  </thead>\n",
       "  <tbody>\n",
       "    <tr>\n",
       "      <th>2505537</th>\n",
       "      <td>19556857.32</td>\n",
       "      <td>0.772159</td>\n",
       "    </tr>\n",
       "    <tr>\n",
       "      <th>2505538</th>\n",
       "      <td>19556860.05</td>\n",
       "      <td>4.181407</td>\n",
       "    </tr>\n",
       "    <tr>\n",
       "      <th>2505539</th>\n",
       "      <td>19556862.78</td>\n",
       "      <td>1.886939</td>\n",
       "    </tr>\n",
       "    <tr>\n",
       "      <th>2505540</th>\n",
       "      <td>19556865.51</td>\n",
       "      <td>4.190686</td>\n",
       "    </tr>\n",
       "    <tr>\n",
       "      <th>2505541</th>\n",
       "      <td>19556868.24</td>\n",
       "      <td>119.916791</td>\n",
       "    </tr>\n",
       "  </tbody>\n",
       "</table>\n",
       "</div>"
      ],
      "text/plain": [
       "                  id  scalar_coupling_constant\n",
       "2505537  19556857.32                  0.772159\n",
       "2505538  19556860.05                  4.181407\n",
       "2505539  19556862.78                  1.886939\n",
       "2505540  19556865.51                  4.190686\n",
       "2505541  19556868.24                119.916791"
      ]
     },
     "execution_count": 16,
     "metadata": {},
     "output_type": "execute_result"
    }
   ],
   "source": [
    "sub_ens.tail()"
   ]
  },
  {
   "cell_type": "markdown",
   "metadata": {},
   "source": [
    "Pseudo-labels"
   ]
  },
  {
   "cell_type": "code",
   "execution_count": 80,
   "metadata": {
    "ExecuteTime": {
     "end_time": "2019-07-11T20:03:54.253564Z",
     "start_time": "2019-07-11T20:03:54.238542Z"
    }
   },
   "outputs": [
    {
     "data": {
      "text/html": [
       "<div>\n",
       "<style scoped>\n",
       "    .dataframe tbody tr th:only-of-type {\n",
       "        vertical-align: middle;\n",
       "    }\n",
       "\n",
       "    .dataframe tbody tr th {\n",
       "        vertical-align: top;\n",
       "    }\n",
       "\n",
       "    .dataframe thead th {\n",
       "        text-align: right;\n",
       "    }\n",
       "</style>\n",
       "<table border=\"1\" class=\"dataframe\">\n",
       "  <thead>\n",
       "    <tr style=\"text-align: right;\">\n",
       "      <th></th>\n",
       "      <th>id</th>\n",
       "      <th>scalar_coupling_constant</th>\n",
       "    </tr>\n",
       "  </thead>\n",
       "  <tbody>\n",
       "    <tr>\n",
       "      <th>0</th>\n",
       "      <td>4658147</td>\n",
       "      <td>17.039404</td>\n",
       "    </tr>\n",
       "    <tr>\n",
       "      <th>1</th>\n",
       "      <td>4658148</td>\n",
       "      <td>185.457992</td>\n",
       "    </tr>\n",
       "    <tr>\n",
       "      <th>2</th>\n",
       "      <td>4658149</td>\n",
       "      <td>7.506137</td>\n",
       "    </tr>\n",
       "    <tr>\n",
       "      <th>3</th>\n",
       "      <td>4658150</td>\n",
       "      <td>185.469830</td>\n",
       "    </tr>\n",
       "    <tr>\n",
       "      <th>4</th>\n",
       "      <td>4658151</td>\n",
       "      <td>16.971405</td>\n",
       "    </tr>\n",
       "  </tbody>\n",
       "</table>\n",
       "</div>"
      ],
      "text/plain": [
       "        id  scalar_coupling_constant\n",
       "0  4658147                 17.039404\n",
       "1  4658148                185.457992\n",
       "2  4658149                  7.506137\n",
       "3  4658150                185.469830\n",
       "4  4658151                 16.971405"
      ]
     },
     "execution_count": 80,
     "metadata": {},
     "output_type": "execute_result"
    }
   ],
   "source": [
    "sub_ens.head()"
   ]
  },
  {
   "cell_type": "code",
   "execution_count": 86,
   "metadata": {
    "ExecuteTime": {
     "end_time": "2019-07-11T20:05:32.567926Z",
     "start_time": "2019-07-11T20:05:32.438389Z"
    }
   },
   "outputs": [
    {
     "name": "stdout",
     "output_type": "stream",
     "text": [
      "/bin/sh: 1: Syntax error: Unterminated quoted string\r\n"
     ]
    }
   ],
   "source": []
  },
  {
   "cell_type": "code",
   "execution_count": 89,
   "metadata": {
    "ExecuteTime": {
     "end_time": "2019-07-11T20:08:10.761413Z",
     "start_time": "2019-07-11T20:08:09.786819Z"
    }
   },
   "outputs": [
    {
     "data": {
      "text/html": [
       "<div>\n",
       "<style scoped>\n",
       "    .dataframe tbody tr th:only-of-type {\n",
       "        vertical-align: middle;\n",
       "    }\n",
       "\n",
       "    .dataframe tbody tr th {\n",
       "        vertical-align: top;\n",
       "    }\n",
       "\n",
       "    .dataframe thead th {\n",
       "        text-align: right;\n",
       "    }\n",
       "</style>\n",
       "<table border=\"1\" class=\"dataframe\">\n",
       "  <thead>\n",
       "    <tr style=\"text-align: right;\">\n",
       "      <th></th>\n",
       "      <th>id</th>\n",
       "      <th>scalar_coupling_constant</th>\n",
       "    </tr>\n",
       "  </thead>\n",
       "  <tbody>\n",
       "    <tr>\n",
       "      <th>2505537</th>\n",
       "      <td>7163684</td>\n",
       "      <td>0.294448</td>\n",
       "    </tr>\n",
       "    <tr>\n",
       "      <th>2505538</th>\n",
       "      <td>7163685</td>\n",
       "      <td>2.926138</td>\n",
       "    </tr>\n",
       "    <tr>\n",
       "      <th>2505539</th>\n",
       "      <td>7163686</td>\n",
       "      <td>2.356122</td>\n",
       "    </tr>\n",
       "    <tr>\n",
       "      <th>2505540</th>\n",
       "      <td>7163687</td>\n",
       "      <td>4.114532</td>\n",
       "    </tr>\n",
       "    <tr>\n",
       "      <th>2505541</th>\n",
       "      <td>7163688</td>\n",
       "      <td>119.490150</td>\n",
       "    </tr>\n",
       "  </tbody>\n",
       "</table>\n",
       "</div>"
      ],
      "text/plain": [
       "              id  scalar_coupling_constant\n",
       "2505537  7163684                  0.294448\n",
       "2505538  7163685                  2.926138\n",
       "2505539  7163686                  2.356122\n",
       "2505540  7163687                  4.114532\n",
       "2505541  7163688                119.490150"
      ]
     },
     "execution_count": 89,
     "metadata": {},
     "output_type": "execute_result"
    }
   ],
   "source": [
    "sub = pd.read_csv('-2.088.LB')\n",
    "sub.tail()"
   ]
  },
  {
   "cell_type": "code",
   "execution_count": 90,
   "metadata": {
    "ExecuteTime": {
     "end_time": "2019-07-11T20:08:12.717702Z",
     "start_time": "2019-07-11T20:08:11.727797Z"
    }
   },
   "outputs": [
    {
     "data": {
      "text/html": [
       "<div>\n",
       "<style scoped>\n",
       "    .dataframe tbody tr th:only-of-type {\n",
       "        vertical-align: middle;\n",
       "    }\n",
       "\n",
       "    .dataframe tbody tr th {\n",
       "        vertical-align: top;\n",
       "    }\n",
       "\n",
       "    .dataframe thead th {\n",
       "        text-align: right;\n",
       "    }\n",
       "</style>\n",
       "<table border=\"1\" class=\"dataframe\">\n",
       "  <thead>\n",
       "    <tr style=\"text-align: right;\">\n",
       "      <th></th>\n",
       "      <th>id</th>\n",
       "      <th>scalar_coupling_constant</th>\n",
       "    </tr>\n",
       "  </thead>\n",
       "  <tbody>\n",
       "    <tr>\n",
       "      <th>2505537</th>\n",
       "      <td>7163684</td>\n",
       "      <td>0.675668</td>\n",
       "    </tr>\n",
       "    <tr>\n",
       "      <th>2505538</th>\n",
       "      <td>7163685</td>\n",
       "      <td>3.711402</td>\n",
       "    </tr>\n",
       "    <tr>\n",
       "      <th>2505539</th>\n",
       "      <td>7163686</td>\n",
       "      <td>2.560080</td>\n",
       "    </tr>\n",
       "    <tr>\n",
       "      <th>2505540</th>\n",
       "      <td>7163687</td>\n",
       "      <td>4.861174</td>\n",
       "    </tr>\n",
       "    <tr>\n",
       "      <th>2505541</th>\n",
       "      <td>7163688</td>\n",
       "      <td>121.040276</td>\n",
       "    </tr>\n",
       "  </tbody>\n",
       "</table>\n",
       "</div>"
      ],
      "text/plain": [
       "              id  scalar_coupling_constant\n",
       "2505537  7163684                  0.675668\n",
       "2505538  7163685                  3.711402\n",
       "2505539  7163686                  2.560080\n",
       "2505540  7163687                  4.861174\n",
       "2505541  7163688                121.040276"
      ]
     },
     "execution_count": 90,
     "metadata": {},
     "output_type": "execute_result"
    }
   ],
   "source": [
    "sub = pd.read_csv('-2.110.LB')\n",
    "sub.tail()"
   ]
  },
  {
   "cell_type": "code",
   "execution_count": 91,
   "metadata": {
    "ExecuteTime": {
     "end_time": "2019-07-11T20:09:07.365774Z",
     "start_time": "2019-07-11T20:09:06.303161Z"
    }
   },
   "outputs": [
    {
     "data": {
      "text/html": [
       "<div>\n",
       "<style scoped>\n",
       "    .dataframe tbody tr th:only-of-type {\n",
       "        vertical-align: middle;\n",
       "    }\n",
       "\n",
       "    .dataframe tbody tr th {\n",
       "        vertical-align: top;\n",
       "    }\n",
       "\n",
       "    .dataframe thead th {\n",
       "        text-align: right;\n",
       "    }\n",
       "</style>\n",
       "<table border=\"1\" class=\"dataframe\">\n",
       "  <thead>\n",
       "    <tr style=\"text-align: right;\">\n",
       "      <th></th>\n",
       "      <th>id</th>\n",
       "      <th>scalar_coupling_constant</th>\n",
       "    </tr>\n",
       "  </thead>\n",
       "  <tbody>\n",
       "    <tr>\n",
       "      <th>2505537</th>\n",
       "      <td>7163684</td>\n",
       "      <td>0.891090</td>\n",
       "    </tr>\n",
       "    <tr>\n",
       "      <th>2505538</th>\n",
       "      <td>7163685</td>\n",
       "      <td>2.908127</td>\n",
       "    </tr>\n",
       "    <tr>\n",
       "      <th>2505539</th>\n",
       "      <td>7163686</td>\n",
       "      <td>2.307839</td>\n",
       "    </tr>\n",
       "    <tr>\n",
       "      <th>2505540</th>\n",
       "      <td>7163687</td>\n",
       "      <td>4.985399</td>\n",
       "    </tr>\n",
       "    <tr>\n",
       "      <th>2505541</th>\n",
       "      <td>7163688</td>\n",
       "      <td>119.766115</td>\n",
       "    </tr>\n",
       "  </tbody>\n",
       "</table>\n",
       "</div>"
      ],
      "text/plain": [
       "              id  scalar_coupling_constant\n",
       "2505537  7163684                  0.891090\n",
       "2505538  7163685                  2.908127\n",
       "2505539  7163686                  2.307839\n",
       "2505540  7163687                  4.985399\n",
       "2505541  7163688                119.766115"
      ]
     },
     "execution_count": 91,
     "metadata": {},
     "output_type": "execute_result"
    }
   ],
   "source": [
    "sub = pd.read_csv('1.987.LB_1.994.LB_2.020.LB_2.033.LB_2.039.LB_2.040.LB_2.052.LB_2.057.LB_2.059.LB_2.063.LB_2.088.LB')\n",
    "sub.tail()"
   ]
  },
  {
   "cell_type": "code",
   "execution_count": 94,
   "metadata": {
    "ExecuteTime": {
     "end_time": "2019-07-11T20:13:06.850186Z",
     "start_time": "2019-07-11T20:13:06.707879Z"
    }
   },
   "outputs": [
    {
     "name": "stdout",
     "output_type": "stream",
     "text": [
      "dsgdb9nsd_133885,6,C,-0.0573999238,0.6112101834,0.5411015062\r\n",
      "dsgdb9nsd_133885,7,C,-0.0959285633,0.3804239493,-0.9720975179\r\n",
      "dsgdb9nsd_133885,8,C,0.8166944813,-0.8130667666,-1.022359648\r\n",
      "dsgdb9nsd_133885,9,H,-2.090436078,1.327066088,1.263660758\r\n",
      "dsgdb9nsd_133885,10,H,-1.44004201,2.287217978,-0.1275429128\r\n",
      "dsgdb9nsd_133885,11,H,-1.454004495,-0.9673087774,1.459246448\r\n",
      "dsgdb9nsd_133885,12,H,0.2777789004,-2.697872397,0.1957699995\r\n",
      "dsgdb9nsd_133885,13,H,2.515854061,-1.151783773,0.5273692559\r\n",
      "dsgdb9nsd_133885,14,H,0.0136988019,1.19943057,-1.680192303\r\n",
      "dsgdb9nsd_133885,15,H,1.260745327,-1.246753647,-1.906767156\r\n"
     ]
    }
   ],
   "source": [
    "!tail structures.csv"
   ]
  },
  {
   "cell_type": "code",
   "execution_count": 53,
   "metadata": {
    "ExecuteTime": {
     "end_time": "2019-07-23T07:05:25.264535Z",
     "start_time": "2019-07-23T07:05:25.256836Z"
    }
   },
   "outputs": [
    {
     "data": {
      "text/plain": [
       "-5.9182140853683896"
      ]
     },
     "execution_count": 53,
     "metadata": {},
     "output_type": "execute_result"
    }
   ],
   "source": [
    "import math\n",
    "math.log(0.00269)"
   ]
  },
  {
   "cell_type": "code",
   "execution_count": null,
   "metadata": {},
   "outputs": [],
   "source": []
  }
 ],
 "metadata": {
  "kernelspec": {
   "display_name": "Python 3",
   "language": "python",
   "name": "python3"
  },
  "language_info": {
   "codemirror_mode": {
    "name": "ipython",
    "version": 3
   },
   "file_extension": ".py",
   "mimetype": "text/x-python",
   "name": "python",
   "nbconvert_exporter": "python",
   "pygments_lexer": "ipython3",
   "version": "3.7.1"
  }
 },
 "nbformat": 4,
 "nbformat_minor": 2
}
