{
 "cells": [
  {
   "cell_type": "code",
   "execution_count": 67,
   "metadata": {
    "ExecuteTime": {
     "end_time": "2019-08-06T09:42:36.128729Z",
     "start_time": "2019-08-06T09:42:36.121898Z"
    }
   },
   "outputs": [],
   "source": [
    "import numpy as np\n",
    "import pandas as pd\n",
    "from catboost import CatBoostRegressor, Pool\n",
    "from sklearn.model_selection import train_test_split\n",
    "from sklearn.model_selection import KFold"
   ]
  },
  {
   "cell_type": "code",
   "execution_count": 68,
   "metadata": {
    "ExecuteTime": {
     "end_time": "2019-08-06T09:42:36.673209Z",
     "start_time": "2019-08-06T09:42:36.667391Z"
    }
   },
   "outputs": [],
   "source": [
    "# Set up folds\n",
    "K = 20\n",
    "kf = KFold(n_splits = K, random_state = 1, shuffle = True)"
   ]
  },
  {
   "cell_type": "code",
   "execution_count": 69,
   "metadata": {
    "ExecuteTime": {
     "end_time": "2019-08-06T09:42:37.567516Z",
     "start_time": "2019-08-06T09:42:37.390392Z"
    }
   },
   "outputs": [
    {
     "name": "stdout",
     "output_type": "stream",
     "text": [
      "id,scalar_coupling_constant\r\n",
      "0,83.50312805175781\r\n",
      "1,-2.245182991027832\r\n",
      "2,-11.567841529846191\r\n",
      "3,-11.566396713256836\r\n",
      "4,3.245485305786133\r\n",
      "5,12.714962005615234\r\n",
      "6,3.298550844192505\r\n",
      "7,83.466064453125\r\n",
      "8,-2.2379026412963867\r\n"
     ]
    }
   ],
   "source": [
    "!head loss-5.7552val-2.9950_val"
   ]
  },
  {
   "cell_type": "code",
   "execution_count": 70,
   "metadata": {
    "ExecuteTime": {
     "end_time": "2019-08-06T09:42:37.979104Z",
     "start_time": "2019-08-06T09:42:37.973136Z"
    }
   },
   "outputs": [],
   "source": [
    "subs = ['loss-5.7552val-2.9950', 'loss-4.9516val-3.0042', 'loss-5.9943val-2.7766', 'loss-4.0414val-2.7287', 'loss-4.9044val-2.5880']"
   ]
  },
  {
   "cell_type": "code",
   "execution_count": 71,
   "metadata": {
    "ExecuteTime": {
     "end_time": "2019-08-06T09:42:40.189183Z",
     "start_time": "2019-08-06T09:42:39.207358Z"
    }
   },
   "outputs": [
    {
     "data": {
      "text/html": [
       "<div>\n",
       "<style scoped>\n",
       "    .dataframe tbody tr th:only-of-type {\n",
       "        vertical-align: middle;\n",
       "    }\n",
       "\n",
       "    .dataframe tbody tr th {\n",
       "        vertical-align: top;\n",
       "    }\n",
       "\n",
       "    .dataframe thead th {\n",
       "        text-align: right;\n",
       "    }\n",
       "</style>\n",
       "<table border=\"1\" class=\"dataframe\">\n",
       "  <thead>\n",
       "    <tr style=\"text-align: right;\">\n",
       "      <th></th>\n",
       "      <th>scalar_coupling_constant_loss-5.7552val-2.9950</th>\n",
       "      <th>scalar_coupling_constant_loss-4.9516val-3.0042</th>\n",
       "      <th>scalar_coupling_constant_loss-5.9943val-2.7766</th>\n",
       "      <th>scalar_coupling_constant_loss-4.0414val-2.7287</th>\n",
       "      <th>scalar_coupling_constant_loss-4.9044val-2.5880</th>\n",
       "    </tr>\n",
       "  </thead>\n",
       "  <tbody>\n",
       "    <tr>\n",
       "      <th>0</th>\n",
       "      <td>83.503128</td>\n",
       "      <td>83.583549</td>\n",
       "      <td>83.352898</td>\n",
       "      <td>83.300529</td>\n",
       "      <td>83.732101</td>\n",
       "    </tr>\n",
       "    <tr>\n",
       "      <th>1</th>\n",
       "      <td>-2.245183</td>\n",
       "      <td>-2.236212</td>\n",
       "      <td>-2.195633</td>\n",
       "      <td>-2.275180</td>\n",
       "      <td>-2.266361</td>\n",
       "    </tr>\n",
       "    <tr>\n",
       "      <th>2</th>\n",
       "      <td>-11.567842</td>\n",
       "      <td>-11.562995</td>\n",
       "      <td>-11.576006</td>\n",
       "      <td>-11.587559</td>\n",
       "      <td>-11.505278</td>\n",
       "    </tr>\n",
       "    <tr>\n",
       "      <th>3</th>\n",
       "      <td>-11.566397</td>\n",
       "      <td>-11.564421</td>\n",
       "      <td>-11.565042</td>\n",
       "      <td>-11.591578</td>\n",
       "      <td>-11.523771</td>\n",
       "    </tr>\n",
       "    <tr>\n",
       "      <th>4</th>\n",
       "      <td>3.245485</td>\n",
       "      <td>3.295776</td>\n",
       "      <td>3.181636</td>\n",
       "      <td>3.254843</td>\n",
       "      <td>3.320662</td>\n",
       "    </tr>\n",
       "  </tbody>\n",
       "</table>\n",
       "</div>"
      ],
      "text/plain": [
       "   scalar_coupling_constant_loss-5.7552val-2.9950  \\\n",
       "0                                       83.503128   \n",
       "1                                       -2.245183   \n",
       "2                                      -11.567842   \n",
       "3                                      -11.566397   \n",
       "4                                        3.245485   \n",
       "\n",
       "   scalar_coupling_constant_loss-4.9516val-3.0042  \\\n",
       "0                                       83.583549   \n",
       "1                                       -2.236212   \n",
       "2                                      -11.562995   \n",
       "3                                      -11.564421   \n",
       "4                                        3.295776   \n",
       "\n",
       "   scalar_coupling_constant_loss-5.9943val-2.7766  \\\n",
       "0                                       83.352898   \n",
       "1                                       -2.195633   \n",
       "2                                      -11.576006   \n",
       "3                                      -11.565042   \n",
       "4                                        3.181636   \n",
       "\n",
       "   scalar_coupling_constant_loss-4.0414val-2.7287  \\\n",
       "0                                       83.300529   \n",
       "1                                       -2.275180   \n",
       "2                                      -11.587559   \n",
       "3                                      -11.591578   \n",
       "4                                        3.254843   \n",
       "\n",
       "   scalar_coupling_constant_loss-4.9044val-2.5880  \n",
       "0                                       83.732101  \n",
       "1                                       -2.266361  \n",
       "2                                      -11.505278  \n",
       "3                                      -11.523771  \n",
       "4                                        3.320662  "
      ]
     },
     "execution_count": 71,
     "metadata": {},
     "output_type": "execute_result"
    }
   ],
   "source": [
    "train_x = None\n",
    "for sub in subs:\n",
    "    df = pd.read_csv('%s_val' % sub)\n",
    "    df = df.drop(['id'], axis=1)\n",
    "    if train_x is None:\n",
    "        train_x = df\n",
    "        train_x['scalar_coupling_constant_%s' % sub] = df['scalar_coupling_constant']\n",
    "    else:\n",
    "        train_x['scalar_coupling_constant_%s' % sub] = df['scalar_coupling_constant']\n",
    "train_x = train_x.drop(['scalar_coupling_constant'], axis=1)\n",
    "#df = pd.read_csv('validation_types')\n",
    "#df = df.drop(['id'], axis=1)\n",
    "#train_x['type'] = df['type']\n",
    "train_x.head()"
   ]
  },
  {
   "cell_type": "code",
   "execution_count": 72,
   "metadata": {
    "ExecuteTime": {
     "end_time": "2019-08-06T09:42:45.275653Z",
     "start_time": "2019-08-06T09:42:40.191288Z"
    }
   },
   "outputs": [
    {
     "data": {
      "text/html": [
       "<div>\n",
       "<style scoped>\n",
       "    .dataframe tbody tr th:only-of-type {\n",
       "        vertical-align: middle;\n",
       "    }\n",
       "\n",
       "    .dataframe tbody tr th {\n",
       "        vertical-align: top;\n",
       "    }\n",
       "\n",
       "    .dataframe thead th {\n",
       "        text-align: right;\n",
       "    }\n",
       "</style>\n",
       "<table border=\"1\" class=\"dataframe\">\n",
       "  <thead>\n",
       "    <tr style=\"text-align: right;\">\n",
       "      <th></th>\n",
       "      <th>scalar_coupling_constant_loss-5.7552val-2.9950</th>\n",
       "      <th>scalar_coupling_constant_loss-4.9516val-3.0042</th>\n",
       "      <th>scalar_coupling_constant_loss-5.9943val-2.7766</th>\n",
       "      <th>scalar_coupling_constant_loss-4.0414val-2.7287</th>\n",
       "      <th>scalar_coupling_constant_loss-4.9044val-2.5880</th>\n",
       "    </tr>\n",
       "  </thead>\n",
       "  <tbody>\n",
       "    <tr>\n",
       "      <th>0</th>\n",
       "      <td>15.684770</td>\n",
       "      <td>15.999567</td>\n",
       "      <td>8.700197</td>\n",
       "      <td>14.389465</td>\n",
       "      <td>13.015743</td>\n",
       "    </tr>\n",
       "    <tr>\n",
       "      <th>1</th>\n",
       "      <td>188.352219</td>\n",
       "      <td>193.554047</td>\n",
       "      <td>187.950882</td>\n",
       "      <td>154.279251</td>\n",
       "      <td>185.739548</td>\n",
       "    </tr>\n",
       "    <tr>\n",
       "      <th>2</th>\n",
       "      <td>6.846854</td>\n",
       "      <td>7.092568</td>\n",
       "      <td>5.505550</td>\n",
       "      <td>5.256055</td>\n",
       "      <td>3.423435</td>\n",
       "    </tr>\n",
       "    <tr>\n",
       "      <th>3</th>\n",
       "      <td>188.521500</td>\n",
       "      <td>193.675003</td>\n",
       "      <td>187.018097</td>\n",
       "      <td>161.308258</td>\n",
       "      <td>188.194336</td>\n",
       "    </tr>\n",
       "    <tr>\n",
       "      <th>4</th>\n",
       "      <td>15.910284</td>\n",
       "      <td>16.058594</td>\n",
       "      <td>8.810644</td>\n",
       "      <td>17.046246</td>\n",
       "      <td>13.113968</td>\n",
       "    </tr>\n",
       "  </tbody>\n",
       "</table>\n",
       "</div>"
      ],
      "text/plain": [
       "   scalar_coupling_constant_loss-5.7552val-2.9950  \\\n",
       "0                                       15.684770   \n",
       "1                                      188.352219   \n",
       "2                                        6.846854   \n",
       "3                                      188.521500   \n",
       "4                                       15.910284   \n",
       "\n",
       "   scalar_coupling_constant_loss-4.9516val-3.0042  \\\n",
       "0                                       15.999567   \n",
       "1                                      193.554047   \n",
       "2                                        7.092568   \n",
       "3                                      193.675003   \n",
       "4                                       16.058594   \n",
       "\n",
       "   scalar_coupling_constant_loss-5.9943val-2.7766  \\\n",
       "0                                        8.700197   \n",
       "1                                      187.950882   \n",
       "2                                        5.505550   \n",
       "3                                      187.018097   \n",
       "4                                        8.810644   \n",
       "\n",
       "   scalar_coupling_constant_loss-4.0414val-2.7287  \\\n",
       "0                                       14.389465   \n",
       "1                                      154.279251   \n",
       "2                                        5.256055   \n",
       "3                                      161.308258   \n",
       "4                                       17.046246   \n",
       "\n",
       "   scalar_coupling_constant_loss-4.9044val-2.5880  \n",
       "0                                       13.015743  \n",
       "1                                      185.739548  \n",
       "2                                        3.423435  \n",
       "3                                      188.194336  \n",
       "4                                       13.113968  "
      ]
     },
     "execution_count": 72,
     "metadata": {},
     "output_type": "execute_result"
    }
   ],
   "source": [
    "test_x = None\n",
    "for sub in subs:\n",
    "    df = pd.read_csv('%s' % sub)\n",
    "    df = df.drop(['id'], axis=1)\n",
    "    if test_x is None:\n",
    "        test_x = df\n",
    "        test_x['scalar_coupling_constant_%s' % sub] = df['scalar_coupling_constant']\n",
    "    else:\n",
    "        test_x['scalar_coupling_constant_%s' % sub] = df['scalar_coupling_constant']\n",
    "test_x = test_x.drop(['scalar_coupling_constant'], axis=1)\n",
    "#df = pd.read_csv('validation_types')\n",
    "#df = df.drop(['id'], axis=1)\n",
    "#train_x['type'] = df['type']\n",
    "test_x.head()"
   ]
  },
  {
   "cell_type": "code",
   "execution_count": 73,
   "metadata": {
    "ExecuteTime": {
     "end_time": "2019-08-06T09:42:45.460735Z",
     "start_time": "2019-08-06T09:42:45.278087Z"
    }
   },
   "outputs": [
    {
     "data": {
      "text/plain": [
       "0         83.542984\n",
       "1         -2.378307\n",
       "2        -11.700430\n",
       "3        -11.697890\n",
       "4          3.252806\n",
       "5         13.691265\n",
       "6          3.252054\n",
       "7         83.541679\n",
       "8         -2.378622\n",
       "9        -11.699591\n",
       "10        13.692376\n",
       "11         3.252531\n",
       "12         3.252724\n",
       "13        83.548409\n",
       "14        -2.377157\n",
       "15         3.252426\n",
       "16         3.252421\n",
       "17        13.692103\n",
       "18        -2.378762\n",
       "19        83.541763\n",
       "20       -11.700430\n",
       "21       -11.699314\n",
       "22        -2.378518\n",
       "23        83.542969\n",
       "24       -11.697617\n",
       "25        -2.377235\n",
       "26        83.548599\n",
       "27        55.525219\n",
       "28        -4.061727\n",
       "29         5.328185\n",
       "            ...    \n",
       "463694     4.651087\n",
       "463695     2.200768\n",
       "463696    89.291336\n",
       "463697     2.200768\n",
       "463698     4.651087\n",
       "463699    10.657756\n",
       "463700     0.081280\n",
       "463701     3.564758\n",
       "463702     4.914779\n",
       "463703     4.021182\n",
       "463704     5.211150\n",
       "463705    83.776955\n",
       "463706    -1.201683\n",
       "463707     6.123803\n",
       "463708   -10.538275\n",
       "463709     0.778395\n",
       "463710     5.399363\n",
       "463711     5.566216\n",
       "463712    -1.475149\n",
       "463713    84.141243\n",
       "463714    -1.593896\n",
       "463715     0.388263\n",
       "463716     7.003869\n",
       "463717     8.770353\n",
       "463718     0.196589\n",
       "463719     8.634667\n",
       "463720     1.114525\n",
       "463721     4.725365\n",
       "463722    96.633057\n",
       "463723    -1.441309\n",
       "Name: scalar_coupling_constant, Length: 463724, dtype: float64"
      ]
     },
     "execution_count": 73,
     "metadata": {},
     "output_type": "execute_result"
    }
   ],
   "source": [
    "train_y = pd.read_csv('validation_targets')\n",
    "train_y = train_y.drop(['id'], axis=1)['scalar_coupling_constant']\n",
    "train_y"
   ]
  },
  {
   "cell_type": "code",
   "execution_count": 74,
   "metadata": {
    "ExecuteTime": {
     "end_time": "2019-08-06T09:42:45.627541Z",
     "start_time": "2019-08-06T09:42:45.462747Z"
    }
   },
   "outputs": [
    {
     "name": "stdout",
     "output_type": "stream",
     "text": [
      "id,type\r\n",
      "0,0.0\r\n",
      "1,4.0\r\n",
      "2,1.0\r\n",
      "3,1.0\r\n",
      "4,5.0\r\n",
      "5,5.0\r\n",
      "6,5.0\r\n",
      "7,0.0\r\n",
      "8,4.0\r\n"
     ]
    }
   ],
   "source": [
    "!head validation_types"
   ]
  },
  {
   "cell_type": "code",
   "execution_count": 75,
   "metadata": {
    "ExecuteTime": {
     "end_time": "2019-08-06T09:42:45.744104Z",
     "start_time": "2019-08-06T09:42:45.631746Z"
    }
   },
   "outputs": [
    {
     "data": {
      "text/plain": [
       "0         0.0\n",
       "1         4.0\n",
       "2         1.0\n",
       "3         1.0\n",
       "4         5.0\n",
       "5         5.0\n",
       "6         5.0\n",
       "7         0.0\n",
       "8         4.0\n",
       "9         1.0\n",
       "10        5.0\n",
       "11        5.0\n",
       "12        5.0\n",
       "13        0.0\n",
       "14        4.0\n",
       "15        5.0\n",
       "16        5.0\n",
       "17        5.0\n",
       "18        4.0\n",
       "19        0.0\n",
       "20        1.0\n",
       "21        1.0\n",
       "22        4.0\n",
       "23        0.0\n",
       "24        1.0\n",
       "25        4.0\n",
       "26        0.0\n",
       "27        2.0\n",
       "28        4.0\n",
       "29        1.0\n",
       "         ... \n",
       "463694    6.0\n",
       "463695    4.0\n",
       "463696    0.0\n",
       "463697    4.0\n",
       "463698    6.0\n",
       "463699    6.0\n",
       "463700    5.0\n",
       "463701    5.0\n",
       "463702    6.0\n",
       "463703    6.0\n",
       "463704    4.0\n",
       "463705    0.0\n",
       "463706    4.0\n",
       "463707    6.0\n",
       "463708    1.0\n",
       "463709    5.0\n",
       "463710    6.0\n",
       "463711    6.0\n",
       "463712    4.0\n",
       "463713    0.0\n",
       "463714    4.0\n",
       "463715    6.0\n",
       "463716    5.0\n",
       "463717    6.0\n",
       "463718    4.0\n",
       "463719    6.0\n",
       "463720    6.0\n",
       "463721    4.0\n",
       "463722    0.0\n",
       "463723    4.0\n",
       "Name: type, Length: 463724, dtype: float64"
      ]
     },
     "execution_count": 75,
     "metadata": {},
     "output_type": "execute_result"
    }
   ],
   "source": [
    "types = pd.read_csv('validation_types')\n",
    "types = types.drop(['id'], axis=1)['type']\n",
    "types"
   ]
  },
  {
   "cell_type": "code",
   "execution_count": 51,
   "metadata": {
    "ExecuteTime": {
     "end_time": "2019-08-06T09:32:51.804698Z",
     "start_time": "2019-08-06T09:32:51.797328Z"
    }
   },
   "outputs": [],
   "source": [
    "MAX_ROUNDS = 650\n",
    "model = CatBoostRegressor(\n",
    "    n_estimators=20000,\n",
    "    loss_function='MAE',\n",
    "    eval_metric='RMSE',\n",
    "    #iterations = MAX_ROUNDS,\n",
    "    cat_features=None,\n",
    "    devices='0-3', task_type='GPU')"
   ]
  },
  {
   "cell_type": "code",
   "execution_count": 76,
   "metadata": {
    "ExecuteTime": {
     "end_time": "2019-08-06T09:42:50.114193Z",
     "start_time": "2019-08-06T09:42:50.108653Z"
    }
   },
   "outputs": [],
   "source": [
    "from sklearn.linear_model import LinearRegression\n",
    "model = LinearRegression()"
   ]
  },
  {
   "cell_type": "code",
   "execution_count": 33,
   "metadata": {
    "ExecuteTime": {
     "end_time": "2019-08-06T07:52:08.609281Z",
     "start_time": "2019-08-06T07:52:08.546983Z"
    }
   },
   "outputs": [],
   "source": [
    "from sklearn.ensemble import RandomForestRegressor\n",
    "model = RandomForestRegressor()"
   ]
  },
  {
   "cell_type": "code",
   "execution_count": 35,
   "metadata": {
    "ExecuteTime": {
     "end_time": "2019-08-06T07:54:25.193063Z",
     "start_time": "2019-08-06T07:54:25.187425Z"
    }
   },
   "outputs": [],
   "source": [
    "from sklearn.linear_model import SGDRegressor\n",
    "model = SGDRegressor(max_iter=1000, tol=1e-3)"
   ]
  },
  {
   "cell_type": "code",
   "execution_count": 77,
   "metadata": {
    "ExecuteTime": {
     "end_time": "2019-08-06T09:42:52.943740Z",
     "start_time": "2019-08-06T09:42:52.938902Z"
    }
   },
   "outputs": [],
   "source": [
    "y = train_y\n",
    "X = train_x"
   ]
  },
  {
   "cell_type": "code",
   "execution_count": 78,
   "metadata": {
    "ExecuteTime": {
     "end_time": "2019-08-06T09:42:53.469094Z",
     "start_time": "2019-08-06T09:42:53.441425Z"
    }
   },
   "outputs": [
    {
     "data": {
      "text/plain": [
       "array([0., 1., 2., 3., 4., 5., 6., 7.])"
      ]
     },
     "execution_count": 78,
     "metadata": {},
     "output_type": "execute_result"
    }
   ],
   "source": [
    "np.unique(types.values)"
   ]
  },
  {
   "cell_type": "code",
   "execution_count": 79,
   "metadata": {
    "ExecuteTime": {
     "end_time": "2019-08-06T09:42:54.063846Z",
     "start_time": "2019-08-06T09:42:54.052176Z"
    }
   },
   "outputs": [],
   "source": [
    "def eval_lmae(gt, pred, types):\n",
    "    types = types.values.astype(np.int)\n",
    "    gt = np.asarray(gt)\n",
    "    pred = np.asarray(pred)    \n",
    "    loss = 0.\n",
    "    for type in np.unique(types):\n",
    "        mask = types == type\n",
    "        loss += np.log(np.mean(np.abs(gt[mask]-pred[mask])))\n",
    "    loss = loss / len(np.unique(types))\n",
    "    return loss\n"
   ]
  },
  {
   "cell_type": "code",
   "execution_count": 80,
   "metadata": {
    "ExecuteTime": {
     "end_time": "2019-08-06T09:43:09.651111Z",
     "start_time": "2019-08-06T09:42:54.892433Z"
    }
   },
   "outputs": [
    {
     "name": "stdout",
     "output_type": "stream",
     "text": [
      "\n",
      "Type 0\n",
      "\n",
      "Fold  0\n",
      "  LMAE =  -2.1068831217856294\n",
      "\n",
      "Fold  1\n",
      "  LMAE =  -2.1300112873020582\n",
      "\n",
      "Fold  2\n",
      "  LMAE =  -2.0502791220853136\n",
      "\n",
      "Fold  3\n",
      "  LMAE =  -2.0704416365040514\n",
      "\n",
      "Fold  4\n",
      "  LMAE =  -2.059573063310219\n",
      "\n",
      "Fold  5\n",
      "  LMAE =  -2.0560317194679887\n",
      "\n",
      "Fold  6\n",
      "  LMAE =  -2.044447854226361\n",
      "\n",
      "Fold  7\n",
      "  LMAE =  -2.098691956544707\n",
      "\n",
      "Fold  8\n",
      "  LMAE =  -2.100270304078462\n",
      "\n",
      "Fold  9\n",
      "  LMAE =  -2.0929145691783995\n",
      "\n",
      "Fold  10\n",
      "  LMAE =  -2.094973535149344\n",
      "\n",
      "Fold  11\n",
      "  LMAE =  -2.071891696229807\n",
      "\n",
      "Fold  12\n",
      "  LMAE =  -2.1453318661331617\n",
      "\n",
      "Fold  13\n",
      "  LMAE =  -2.0794201013219373\n",
      "\n",
      "Fold  14\n",
      "  LMAE =  -2.0345188688424645\n",
      "\n",
      "Fold  15\n",
      "  LMAE =  -2.1263387311074067\n",
      "\n",
      "Fold  16\n",
      "  LMAE =  -2.083393217120013\n",
      "\n",
      "Fold  17\n",
      "  LMAE =  -2.0994849460422835\n",
      "\n",
      "Fold  18\n",
      "  LMAE =  -2.0882020034277584\n",
      "\n",
      "Fold  19\n",
      "  LMAE =  -2.05777685333544\n",
      "\n",
      "Type 1\n",
      "\n",
      "Fold  0\n",
      "  LMAE =  -3.5893349755176507\n",
      "\n",
      "Fold  1\n",
      "  LMAE =  -3.510837247945505\n",
      "\n",
      "Fold  2\n",
      "  LMAE =  -3.5097260429719177\n",
      "\n",
      "Fold  3\n",
      "  LMAE =  -3.5125537044094837\n",
      "\n",
      "Fold  4\n",
      "  LMAE =  -3.434371835629487\n",
      "\n",
      "Fold  5\n",
      "  LMAE =  -3.524175987976398\n",
      "\n",
      "Fold  6\n",
      "  LMAE =  -3.555973167268789\n",
      "\n",
      "Fold  7\n",
      "  LMAE =  -3.530275391101599\n",
      "\n",
      "Fold  8\n",
      "  LMAE =  -3.5844463575571535\n",
      "\n",
      "Fold  9\n",
      "  LMAE =  -3.6010387255356\n",
      "\n",
      "Fold  10\n",
      "  LMAE =  -3.448036823796673\n",
      "\n",
      "Fold  11\n",
      "  LMAE =  -3.5481793972432936\n",
      "\n",
      "Fold  12\n",
      "  LMAE =  -3.516690623339478\n",
      "\n",
      "Fold  13\n",
      "  LMAE =  -3.6221537424204513\n",
      "\n",
      "Fold  14\n",
      "  LMAE =  -3.525787962457043\n",
      "\n",
      "Fold  15\n",
      "  LMAE =  -3.5242083159029174\n",
      "\n",
      "Fold  16\n",
      "  LMAE =  -3.432865774696416\n",
      "\n",
      "Fold  17\n",
      "  LMAE =  -3.560763758597164\n",
      "\n",
      "Fold  18\n",
      "  LMAE =  -3.6138461417499\n",
      "\n",
      "Fold  19\n",
      "  LMAE =  -3.5006315488966537\n",
      "\n",
      "Type 2\n",
      "\n",
      "Fold  0\n",
      "  LMAE =  -2.2371226947956906\n",
      "\n",
      "Fold  1\n",
      "  LMAE =  -2.2088084019797884\n",
      "\n",
      "Fold  2\n",
      "  LMAE =  -2.4014356771513516\n",
      "\n",
      "Fold  3\n",
      "  LMAE =  -2.3720663215530466\n",
      "\n",
      "Fold  4\n",
      "  LMAE =  -1.9017552231815926\n",
      "\n",
      "Fold  5\n",
      "  LMAE =  -1.8268213063046252\n",
      "\n",
      "Fold  6\n",
      "  LMAE =  -2.1960152003600535\n",
      "\n",
      "Fold  7\n",
      "  LMAE =  -2.283834475672145\n",
      "\n",
      "Fold  8\n",
      "  LMAE =  -2.002378464047228\n",
      "\n",
      "Fold  9\n",
      "  LMAE =  -2.3997847550661167\n",
      "\n",
      "Fold  10\n",
      "  LMAE =  -2.3737768339213696\n",
      "\n",
      "Fold  11\n",
      "  LMAE =  -2.431846994602113\n",
      "\n",
      "Fold  12\n",
      "  LMAE =  -2.248714172352073\n",
      "\n",
      "Fold  13\n",
      "  LMAE =  -2.200376745785926\n",
      "\n",
      "Fold  14\n",
      "  LMAE =  -2.3490130518066397\n",
      "\n",
      "Fold  15\n",
      "  LMAE =  -2.251825727644777\n",
      "\n",
      "Fold  16\n",
      "  LMAE =  -2.052596048624139\n",
      "\n",
      "Fold  17\n",
      "  LMAE =  -2.073092504576249\n",
      "\n",
      "Fold  18\n",
      "  LMAE =  -2.3515568949526853\n",
      "\n",
      "Fold  19\n",
      "  LMAE =  -2.2235569032810933\n",
      "\n",
      "Type 3\n",
      "\n",
      "Fold  0\n",
      "  LMAE =  -3.3726242025777546\n",
      "\n",
      "Fold  1\n",
      "  LMAE =  -3.385395414092413\n",
      "\n",
      "Fold  2\n",
      "  LMAE =  -3.3147000428395064\n",
      "\n",
      "Fold  3\n",
      "  LMAE =  -3.499907630338259\n",
      "\n",
      "Fold  4\n",
      "  LMAE =  -3.582162390697549\n",
      "\n",
      "Fold  5\n",
      "  LMAE =  -3.4871736584268374\n",
      "\n",
      "Fold  6\n",
      "  LMAE =  -3.4325237165898956\n",
      "\n",
      "Fold  7\n",
      "  LMAE =  -3.2209337407106298\n",
      "\n",
      "Fold  8\n",
      "  LMAE =  -3.5045127208311118\n",
      "\n",
      "Fold  9\n",
      "  LMAE =  -3.3990826852847773\n",
      "\n",
      "Fold  10\n",
      "  LMAE =  -3.3717997518394673\n",
      "\n",
      "Fold  11\n",
      "  LMAE =  -3.3963420940107825\n",
      "\n",
      "Fold  12\n",
      "  LMAE =  -3.2871032843179266\n",
      "\n",
      "Fold  13\n",
      "  LMAE =  -3.494106961701771\n",
      "\n",
      "Fold  14\n",
      "  LMAE =  -3.451648723125729\n",
      "\n",
      "Fold  15\n",
      "  LMAE =  -3.4637681742718414\n",
      "\n",
      "Fold  16\n",
      "  LMAE =  -3.4704116941314833\n",
      "\n",
      "Fold  17\n",
      "  LMAE =  -3.4850439593373226\n",
      "\n",
      "Fold  18\n",
      "  LMAE =  -3.5406017694306455\n",
      "\n",
      "Fold  19\n",
      "  LMAE =  -3.5036516310875183\n",
      "\n",
      "Type 4\n",
      "\n",
      "Fold  0\n",
      "  LMAE =  -3.0710993922392897\n",
      "\n",
      "Fold  1\n",
      "  LMAE =  -3.092588274002151\n",
      "\n",
      "Fold  2\n",
      "  LMAE =  -3.0507644043015607\n",
      "\n",
      "Fold  3\n",
      "  LMAE =  -3.099933743407499\n",
      "\n",
      "Fold  4\n",
      "  LMAE =  -3.055806175047126\n",
      "\n",
      "Fold  5\n",
      "  LMAE =  -3.0738475353975514\n",
      "\n",
      "Fold  6\n",
      "  LMAE =  -3.109623651770287\n",
      "\n",
      "Fold  7\n",
      "  LMAE =  -3.060278737180907\n",
      "\n",
      "Fold  8\n",
      "  LMAE =  -3.0943975489367954\n",
      "\n",
      "Fold  9\n",
      "  LMAE =  -3.0900709588635586\n",
      "\n",
      "Fold  10\n",
      "  LMAE =  -3.0667476184672244\n",
      "\n",
      "Fold  11\n",
      "  LMAE =  -3.0663572783170006\n",
      "\n",
      "Fold  12\n",
      "  LMAE =  -3.081833118243964\n",
      "\n",
      "Fold  13\n",
      "  LMAE =  -3.0621671957662984\n",
      "\n",
      "Fold  14\n",
      "  LMAE =  -3.0457372101771316\n",
      "\n",
      "Fold  15\n",
      "  LMAE =  -3.0644037901015952\n",
      "\n",
      "Fold  16\n",
      "  LMAE =  -3.0480281554262967\n",
      "\n",
      "Fold  17\n",
      "  LMAE =  -3.083845802446057\n",
      "\n",
      "Fold  18\n",
      "  LMAE =  -3.1110130890929786\n",
      "\n",
      "Fold  19\n",
      "  LMAE =  -3.0840824937429048\n",
      "\n",
      "Type 5\n",
      "\n",
      "Fold  0\n",
      "  LMAE =  -3.645024335324997\n",
      "\n",
      "Fold  1\n",
      "  LMAE =  -3.667498606437731\n",
      "\n",
      "Fold  2\n",
      "  LMAE =  -3.5587309020185307\n",
      "\n",
      "Fold  3\n",
      "  LMAE =  -3.623454733845185\n",
      "\n",
      "Fold  4\n",
      "  LMAE =  -3.6582124460477066\n",
      "\n",
      "Fold  5\n",
      "  LMAE =  -3.6402683399097464\n",
      "\n",
      "Fold  6\n",
      "  LMAE =  -3.632741488368773\n",
      "\n",
      "Fold  7\n",
      "  LMAE =  -3.6150447889324995\n",
      "\n",
      "Fold  8\n",
      "  LMAE =  -3.644434337838767\n",
      "\n",
      "Fold  9\n",
      "  LMAE =  -3.6085798246903824\n",
      "\n",
      "Fold  10\n",
      "  LMAE =  -3.6022728981567096\n",
      "\n",
      "Fold  11\n",
      "  LMAE =  -3.63987950787281\n",
      "\n",
      "Fold  12\n",
      "  LMAE =  -3.6435357662778864\n",
      "\n",
      "Fold  13\n",
      "  LMAE =  -3.648589605335295\n",
      "\n",
      "Fold  14\n",
      "  LMAE =  -3.678513305310678\n",
      "\n",
      "Fold  15\n",
      "  LMAE =  -3.589435532670265\n",
      "\n",
      "Fold  16\n",
      "  LMAE =  -3.625368728748469\n",
      "\n",
      "Fold  17\n",
      "  LMAE =  -3.662239944529101\n",
      "\n",
      "Fold  18\n",
      "  LMAE =  -3.65890918459166\n",
      "\n",
      "Fold  19\n",
      "  LMAE =  -3.6082671707589147\n",
      "\n",
      "Type 6\n",
      "\n",
      "Fold  0\n",
      "  LMAE =  -2.9483549673406952\n",
      "\n",
      "Fold  1\n",
      "  LMAE =  -3.002325587850035\n",
      "\n",
      "Fold  2\n",
      "  LMAE =  -2.994250319810634\n",
      "\n",
      "Fold  3\n",
      "  LMAE =  -2.947134045361762\n",
      "\n",
      "Fold  4\n",
      "  LMAE =  -3.0141897110007023\n",
      "\n",
      "Fold  5\n",
      "  LMAE =  -2.9941414286111976\n",
      "\n",
      "Fold  6\n",
      "  LMAE =  -2.983347922090045\n",
      "\n",
      "Fold  7\n",
      "  LMAE =  -3.01062801809578\n",
      "\n",
      "Fold  8\n",
      "  LMAE =  -2.984255895634336\n",
      "\n",
      "Fold  9\n",
      "  LMAE =  -2.9796667753132824\n",
      "\n",
      "Fold  10\n",
      "  LMAE =  -2.978568886094606\n",
      "\n",
      "Fold  11\n",
      "  LMAE =  -2.9704168128520814\n",
      "\n",
      "Fold  12\n",
      "  LMAE =  -2.9806487770939087\n",
      "\n",
      "Fold  13\n",
      "  LMAE =  -2.9808400252820166\n",
      "\n",
      "Fold  14\n",
      "  LMAE =  -2.9901734704905607\n",
      "\n",
      "Fold  15\n",
      "  LMAE =  -2.958435729218165\n",
      "\n",
      "Fold  16\n",
      "  LMAE =  -2.942948329216364\n",
      "\n",
      "Fold  17\n",
      "  LMAE =  -2.9822738257305237\n",
      "\n",
      "Fold  18\n",
      "  LMAE =  -2.982920830597918\n",
      "\n",
      "Fold  19\n",
      "  LMAE =  -2.9460737907630716\n",
      "\n",
      "Type 7\n",
      "\n",
      "Fold  0\n",
      "  LMAE =  -3.6721800408202205\n",
      "\n",
      "Fold  1\n",
      "  LMAE =  -3.626952999038728\n",
      "\n",
      "Fold  2\n",
      "  LMAE =  -3.7647523838340855\n",
      "\n",
      "Fold  3\n",
      "  LMAE =  -3.7033274271282512\n",
      "\n",
      "Fold  4\n",
      "  LMAE =  -3.7430880837457394\n",
      "\n",
      "Fold  5\n",
      "  LMAE =  -3.570234128620995\n",
      "\n",
      "Fold  6\n",
      "  LMAE =  -3.56462166866431\n",
      "\n",
      "Fold  7\n",
      "  LMAE =  -3.7030028770270396\n",
      "\n",
      "Fold  8\n",
      "  LMAE =  -3.6720554577443756\n",
      "\n",
      "Fold  9\n",
      "  LMAE =  -3.6002565622725435\n",
      "\n",
      "Fold  10\n",
      "  LMAE =  -3.645265406784069\n",
      "\n",
      "Fold  11\n",
      "  LMAE =  -3.6821675763903015\n",
      "\n",
      "Fold  12\n",
      "  LMAE =  -3.530241203998822\n",
      "\n",
      "Fold  13\n",
      "  LMAE =  -3.575611261402891\n",
      "\n",
      "Fold  14\n",
      "  LMAE =  -3.6769178953856927\n",
      "\n",
      "Fold  15\n",
      "  LMAE =  -3.5353294868510967\n",
      "\n",
      "Fold  16\n",
      "  LMAE =  -3.671912324412851\n",
      "\n",
      "Fold  17\n",
      "  LMAE =  -3.614969511764667\n",
      "\n",
      "Fold  18\n",
      "  LMAE =  -3.63222438211423\n",
      "\n",
      "Fold  19\n",
      "  LMAE =  -3.54235721418159\n",
      "Final LMAE: -3.07405835801708\n"
     ]
    }
   ],
   "source": [
    "# Run CV\n",
    "# https://www.kaggle.com/aharless/simple-catboost-cv-lb-281\n",
    "OPTIMIZE_ROUNDS = False\n",
    "y_test_pred = None\n",
    "y_test_pred = [None, None, None, None, None, None, None, None]\n",
    "\n",
    "loss = 0.\n",
    "for type in range(8):\n",
    "    print('\\nType', type)\n",
    "    for i, (train_index, test_index) in enumerate(kf.split(train_x)):\n",
    "\n",
    "        # Create data for this fold\n",
    "        y_train, y_valid = y.iloc[train_index], y.iloc[test_index]\n",
    "        X_train, X_valid = X.iloc[train_index, :], X.iloc[test_index, :]\n",
    "        type_train, type_valid = types.iloc[train_index], types.iloc[\n",
    "            test_index]\n",
    "\n",
    "        y_train, y_valid, X_train, X_valid, type_train, type_valid = y_train[\n",
    "            type_train == type], y_valid[type_valid == type], X_train[\n",
    "                type_train == type], X_valid[type_valid == type], type_train[\n",
    "                    type_train == type], type_valid[type_valid == type]\n",
    "        print(\"\\nFold \", i)\n",
    "\n",
    "        # Run model for this fold\n",
    "        if OPTIMIZE_ROUNDS:\n",
    "            fit_model = model.fit(X_train,\n",
    "                                  y_train,\n",
    "                                  eval_set=(X_valid, y_valid),\n",
    "                                  use_best_model=True,\n",
    "                                  plot=True,\n",
    "                                  silent=True)\n",
    "            print(\"  N trees = \", model.tree_count_)\n",
    "        else:\n",
    "            fit_model = model.fit(X_train, y_train)\n",
    "\n",
    "        # Generate validation predictions for this fold\n",
    "        pred = fit_model.predict(X_valid)\n",
    "        #print(pred, y_valid)\n",
    "        loss += eval_lmae(y_valid, pred, type_valid)\n",
    "        print(\"  LMAE = \", eval_lmae(y_valid, pred, type_valid))\n",
    "        #break\n",
    "\n",
    "        #print( \"  Gini = \", eval_gini(y_valid, pred) )\n",
    "        #y_valid_pred.iloc[test_index] = pred\n",
    "\n",
    "        # Accumulate test set predictions\n",
    "        if y_test_pred[type] is None:\n",
    "            y_test_pred[type] = fit_model.predict(test_x)\n",
    "        else:\n",
    "            y_test_pred[type] += fit_model.predict(test_x)\n",
    "\n",
    "    y_test_pred[type] /= K  # Average test set predictions\n",
    "    \n",
    "loss /= K\n",
    "loss /= 8\n",
    "print('Final LMAE:', loss)"
   ]
  },
  {
   "cell_type": "code",
   "execution_count": 52,
   "metadata": {
    "ExecuteTime": {
     "end_time": "2019-08-06T08:17:59.533621Z",
     "start_time": "2019-08-06T08:17:55.399506Z"
    }
   },
   "outputs": [],
   "source": [
    "#t  = pd.read_csv('train.csv')\n",
    "#type_index = pd.factorize(t['type'])[1]"
   ]
  },
  {
   "cell_type": "code",
   "execution_count": 81,
   "metadata": {
    "ExecuteTime": {
     "end_time": "2019-08-06T09:43:17.470954Z",
     "start_time": "2019-08-06T09:43:14.826323Z"
    }
   },
   "outputs": [
    {
     "data": {
      "text/plain": [
       "array([4, 0, 5, ..., 6, 4, 0])"
      ]
     },
     "execution_count": 81,
     "metadata": {},
     "output_type": "execute_result"
    }
   ],
   "source": [
    "type_index = {\n",
    "    '1JHC': 0,\n",
    "    '2JHH': 1,\n",
    "    '1JHN': 2,\n",
    "    '2JHN': 3,\n",
    "    '2JHC': 4,\n",
    "    '3JHH': 5,\n",
    "    '3JHC': 6,\n",
    "    '3JHN': 7\n",
    "}\n",
    "test_types = pd.read_csv('test.csv')['type']\n",
    "test_types_idx = []\n",
    "for value in test_types.values:\n",
    "    test_types_idx.append(type_index[value])\n",
    "test_types_idx = np.array(test_types_idx)\n",
    "test_types_idx"
   ]
  },
  {
   "cell_type": "code",
   "execution_count": 82,
   "metadata": {
    "ExecuteTime": {
     "end_time": "2019-08-06T09:43:19.817032Z",
     "start_time": "2019-08-06T09:43:17.473211Z"
    }
   },
   "outputs": [],
   "source": [
    "y_test_pred_list = y_test_pred\n",
    "y_test_pred = []\n",
    "\n",
    "for idx, type_idx in enumerate(test_types_idx):\n",
    "    y_test_pred.append(y_test_pred_list[type_idx][idx])\n",
    "y_test_pred = np.array(y_test_pred)\n"
   ]
  },
  {
   "cell_type": "code",
   "execution_count": 83,
   "metadata": {
    "ExecuteTime": {
     "end_time": "2019-08-06T09:43:19.823782Z",
     "start_time": "2019-08-06T09:43:19.819462Z"
    }
   },
   "outputs": [
    {
     "data": {
      "text/plain": [
       "array([ 13.41156694, 185.23524604,   6.55331773, ...,   1.99671396,\n",
       "         4.18273982, 119.79473777])"
      ]
     },
     "execution_count": 83,
     "metadata": {},
     "output_type": "execute_result"
    }
   ],
   "source": [
    "y_test_pred"
   ]
  },
  {
   "cell_type": "code",
   "execution_count": 60,
   "metadata": {
    "ExecuteTime": {
     "end_time": "2019-08-06T09:33:48.636706Z",
     "start_time": "2019-08-06T09:33:47.623173Z"
    }
   },
   "outputs": [
    {
     "data": {
      "text/html": [
       "<div>\n",
       "<style scoped>\n",
       "    .dataframe tbody tr th:only-of-type {\n",
       "        vertical-align: middle;\n",
       "    }\n",
       "\n",
       "    .dataframe tbody tr th {\n",
       "        vertical-align: top;\n",
       "    }\n",
       "\n",
       "    .dataframe thead th {\n",
       "        text-align: right;\n",
       "    }\n",
       "</style>\n",
       "<table border=\"1\" class=\"dataframe\">\n",
       "  <thead>\n",
       "    <tr style=\"text-align: right;\">\n",
       "      <th></th>\n",
       "      <th>id</th>\n",
       "      <th>scalar_coupling_constant</th>\n",
       "    </tr>\n",
       "  </thead>\n",
       "  <tbody>\n",
       "    <tr>\n",
       "      <th>0</th>\n",
       "      <td>4658147</td>\n",
       "      <td>15.684770</td>\n",
       "    </tr>\n",
       "    <tr>\n",
       "      <th>1</th>\n",
       "      <td>4658148</td>\n",
       "      <td>188.352219</td>\n",
       "    </tr>\n",
       "    <tr>\n",
       "      <th>2</th>\n",
       "      <td>4658149</td>\n",
       "      <td>6.846854</td>\n",
       "    </tr>\n",
       "    <tr>\n",
       "      <th>3</th>\n",
       "      <td>4658150</td>\n",
       "      <td>188.521500</td>\n",
       "    </tr>\n",
       "    <tr>\n",
       "      <th>4</th>\n",
       "      <td>4658151</td>\n",
       "      <td>15.910284</td>\n",
       "    </tr>\n",
       "  </tbody>\n",
       "</table>\n",
       "</div>"
      ],
      "text/plain": [
       "        id  scalar_coupling_constant\n",
       "0  4658147                 15.684770\n",
       "1  4658148                188.352219\n",
       "2  4658149                  6.846854\n",
       "3  4658150                188.521500\n",
       "4  4658151                 15.910284"
      ]
     },
     "execution_count": 60,
     "metadata": {},
     "output_type": "execute_result"
    }
   ],
   "source": [
    "df = pd.read_csv('%s' % subs[0])\n",
    "df.head()"
   ]
  },
  {
   "cell_type": "code",
   "execution_count": 61,
   "metadata": {
    "ExecuteTime": {
     "end_time": "2019-08-06T09:33:48.648533Z",
     "start_time": "2019-08-06T09:33:48.638997Z"
    }
   },
   "outputs": [],
   "source": [
    "df['scalar_coupling_constant'] = y_test_pred"
   ]
  },
  {
   "cell_type": "code",
   "execution_count": 62,
   "metadata": {
    "ExecuteTime": {
     "end_time": "2019-08-06T09:33:49.056251Z",
     "start_time": "2019-08-06T09:33:49.040112Z"
    }
   },
   "outputs": [
    {
     "data": {
      "text/html": [
       "<div>\n",
       "<style scoped>\n",
       "    .dataframe tbody tr th:only-of-type {\n",
       "        vertical-align: middle;\n",
       "    }\n",
       "\n",
       "    .dataframe tbody tr th {\n",
       "        vertical-align: top;\n",
       "    }\n",
       "\n",
       "    .dataframe thead th {\n",
       "        text-align: right;\n",
       "    }\n",
       "</style>\n",
       "<table border=\"1\" class=\"dataframe\">\n",
       "  <thead>\n",
       "    <tr style=\"text-align: right;\">\n",
       "      <th></th>\n",
       "      <th>id</th>\n",
       "      <th>scalar_coupling_constant</th>\n",
       "    </tr>\n",
       "  </thead>\n",
       "  <tbody>\n",
       "    <tr>\n",
       "      <th>0</th>\n",
       "      <td>4658147</td>\n",
       "      <td>13.408709</td>\n",
       "    </tr>\n",
       "    <tr>\n",
       "      <th>1</th>\n",
       "      <td>4658148</td>\n",
       "      <td>184.875808</td>\n",
       "    </tr>\n",
       "    <tr>\n",
       "      <th>2</th>\n",
       "      <td>4658149</td>\n",
       "      <td>6.587025</td>\n",
       "    </tr>\n",
       "    <tr>\n",
       "      <th>3</th>\n",
       "      <td>4658150</td>\n",
       "      <td>185.771865</td>\n",
       "    </tr>\n",
       "    <tr>\n",
       "      <th>4</th>\n",
       "      <td>4658151</td>\n",
       "      <td>13.991321</td>\n",
       "    </tr>\n",
       "  </tbody>\n",
       "</table>\n",
       "</div>"
      ],
      "text/plain": [
       "        id  scalar_coupling_constant\n",
       "0  4658147                 13.408709\n",
       "1  4658148                184.875808\n",
       "2  4658149                  6.587025\n",
       "3  4658150                185.771865\n",
       "4  4658151                 13.991321"
      ]
     },
     "execution_count": 62,
     "metadata": {},
     "output_type": "execute_result"
    }
   ],
   "source": [
    "df.head()"
   ]
  },
  {
   "cell_type": "code",
   "execution_count": 63,
   "metadata": {
    "ExecuteTime": {
     "end_time": "2019-08-06T09:33:50.793710Z",
     "start_time": "2019-08-06T09:33:50.779298Z"
    }
   },
   "outputs": [
    {
     "data": {
      "text/html": [
       "<div>\n",
       "<style scoped>\n",
       "    .dataframe tbody tr th:only-of-type {\n",
       "        vertical-align: middle;\n",
       "    }\n",
       "\n",
       "    .dataframe tbody tr th {\n",
       "        vertical-align: top;\n",
       "    }\n",
       "\n",
       "    .dataframe thead th {\n",
       "        text-align: right;\n",
       "    }\n",
       "</style>\n",
       "<table border=\"1\" class=\"dataframe\">\n",
       "  <thead>\n",
       "    <tr style=\"text-align: right;\">\n",
       "      <th></th>\n",
       "      <th>id</th>\n",
       "      <th>scalar_coupling_constant</th>\n",
       "    </tr>\n",
       "  </thead>\n",
       "  <tbody>\n",
       "    <tr>\n",
       "      <th>0</th>\n",
       "      <td>4658147</td>\n",
       "      <td>13.408709</td>\n",
       "    </tr>\n",
       "    <tr>\n",
       "      <th>1</th>\n",
       "      <td>4658148</td>\n",
       "      <td>184.875808</td>\n",
       "    </tr>\n",
       "    <tr>\n",
       "      <th>2</th>\n",
       "      <td>4658149</td>\n",
       "      <td>6.587025</td>\n",
       "    </tr>\n",
       "    <tr>\n",
       "      <th>3</th>\n",
       "      <td>4658150</td>\n",
       "      <td>185.771865</td>\n",
       "    </tr>\n",
       "    <tr>\n",
       "      <th>4</th>\n",
       "      <td>4658151</td>\n",
       "      <td>13.991321</td>\n",
       "    </tr>\n",
       "  </tbody>\n",
       "</table>\n",
       "</div>"
      ],
      "text/plain": [
       "        id  scalar_coupling_constant\n",
       "0  4658147                 13.408709\n",
       "1  4658148                184.875808\n",
       "2  4658149                  6.587025\n",
       "3  4658150                185.771865\n",
       "4  4658151                 13.991321"
      ]
     },
     "execution_count": 63,
     "metadata": {},
     "output_type": "execute_result"
    }
   ],
   "source": [
    "df.head()"
   ]
  },
  {
   "cell_type": "code",
   "execution_count": 84,
   "metadata": {
    "ExecuteTime": {
     "end_time": "2019-08-06T09:43:22.873128Z",
     "start_time": "2019-08-06T09:43:22.865121Z"
    }
   },
   "outputs": [
    {
     "data": {
      "text/plain": [
       "'LMAE_-3.07405835801708-LinearRegressionByType-20folds%loss-5.7552val-2.9950%loss-4.9516val-3.0042%loss-5.9943val-2.7766%loss-4.0414val-2.7287%loss-4.9044val-2.5880'"
      ]
     },
     "execution_count": 84,
     "metadata": {},
     "output_type": "execute_result"
    }
   ],
   "source": [
    "sub_fname = 'LMAE_' + str(loss) + '-LinearRegressionByType-20folds%' + '%'.join(subs)\n",
    "sub_fname"
   ]
  },
  {
   "cell_type": "code",
   "execution_count": 85,
   "metadata": {
    "ExecuteTime": {
     "end_time": "2019-08-06T09:43:32.657567Z",
     "start_time": "2019-08-06T09:43:24.437070Z"
    }
   },
   "outputs": [],
   "source": [
    "df.to_csv(sub_fname, index=False)"
   ]
  },
  {
   "cell_type": "code",
   "execution_count": 66,
   "metadata": {
    "ExecuteTime": {
     "end_time": "2019-08-06T09:34:28.605455Z",
     "start_time": "2019-08-06T09:34:28.601191Z"
    }
   },
   "outputs": [],
   "source": [
    "comp = 'champs-scalar-coupling'"
   ]
  },
  {
   "cell_type": "code",
   "execution_count": 24,
   "metadata": {
    "ExecuteTime": {
     "end_time": "2019-08-06T08:45:05.332362Z",
     "start_time": "2019-08-06T08:44:59.187663Z"
    }
   },
   "outputs": [
    {
     "name": "stdout",
     "output_type": "stream",
     "text": [
      "100%|██████████████████████████████████████| 64.1M/64.1M [00:04<00:00, 14.9MB/s]\n",
      "Successfully submitted to Predicting Molecular Properties"
     ]
    }
   ],
   "source": [
    "!kaggle competitions submit -c {comp} -f {sub_fname} -m ''"
   ]
  },
  {
   "cell_type": "code",
   "execution_count": 25,
   "metadata": {
    "ExecuteTime": {
     "end_time": "2019-08-06T08:46:06.206375Z",
     "start_time": "2019-08-06T08:45:05.337352Z"
    }
   },
   "outputs": [],
   "source": [
    "import time\n",
    "time.sleep(60)\n",
    "!kaggle competitions submissions -c {comp} -v > submissions-{comp}.csv"
   ]
  },
  {
   "cell_type": "code",
   "execution_count": 26,
   "metadata": {
    "ExecuteTime": {
     "end_time": "2019-08-06T08:46:06.226959Z",
     "start_time": "2019-08-06T08:46:06.211429Z"
    }
   },
   "outputs": [
    {
     "data": {
      "text/plain": [
       "-3.0589999999999997"
      ]
     },
     "execution_count": 26,
     "metadata": {},
     "output_type": "execute_result"
    }
   ],
   "source": [
    "submissions = pd.read_csv(f'submissions-{comp}.csv')\n",
    "submissions.iloc[0].publicScore"
   ]
  },
  {
   "cell_type": "code",
   "execution_count": null,
   "metadata": {},
   "outputs": [],
   "source": []
  }
 ],
 "metadata": {
  "kernelspec": {
   "display_name": "Python 3",
   "language": "python",
   "name": "python3"
  },
  "language_info": {
   "codemirror_mode": {
    "name": "ipython",
    "version": 3
   },
   "file_extension": ".py",
   "mimetype": "text/x-python",
   "name": "python",
   "nbconvert_exporter": "python",
   "pygments_lexer": "ipython3",
   "version": "3.7.1"
  }
 },
 "nbformat": 4,
 "nbformat_minor": 2
}
